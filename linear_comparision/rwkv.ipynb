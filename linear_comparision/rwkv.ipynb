{
 "cells": [
  {
   "cell_type": "code",
   "execution_count": 1,
   "id": "18d9eeaa",
   "metadata": {},
   "outputs": [],
   "source": [
    "import sys\n",
    "\n",
    "sys.path.append(\"/home/jovyan/sivtsov/armt/associative-recurrent-memory-transformer\")"
   ]
  },
  {
   "cell_type": "code",
   "execution_count": 2,
   "id": "2b181ebd",
   "metadata": {},
   "outputs": [
    {
     "name": "stdout",
     "output_type": "stream",
     "text": [
      "*** Setting default RWKV_MY_TESTING = x060 ***\n"
     ]
    },
    {
     "name": "stdout",
     "output_type": "stream",
     "text": [
      "[2025-08-30 13:49:33,621] [INFO] [real_accelerator.py:254:get_accelerator] Setting ds_accelerator to cuda (auto detect)\n",
      "Warning: The cache directory for DeepSpeed Triton autotune, /home/jovyan/.triton/autotune, appears to be on an NFS system. While this is generally acceptable, if you experience slowdowns or hanging when DeepSpeed exits, it is recommended to set the TRITON_CACHE_DIR environment variable to a non-NFS path.\n"
     ]
    },
    {
     "name": "stderr",
     "output_type": "stream",
     "text": [
      "/home/jovyan/.mlspace/envs/armt/bin/../lib/gcc/x86_64-conda-linux-gnu/13.3.0/../../../../x86_64-conda-linux-gnu/bin/ld: cannot find -laio: No such file or directory\n",
      "collect2: error: ld returned 1 exit status\n",
      "/home/jovyan/.mlspace/envs/armt/bin/../lib/gcc/x86_64-conda-linux-gnu/13.3.0/../../../../x86_64-conda-linux-gnu/bin/ld: cannot find -laio: No such file or directory\n",
      "collect2: error: ld returned 1 exit status\n"
     ]
    },
    {
     "name": "stdout",
     "output_type": "stream",
     "text": [
      "[2025-08-30 13:49:37,359] [INFO] [logging.py:107:log_dist] [Rank -1] [TorchCheckpointEngine] Initialized with serialization = False\n",
      "[RWKV.model] Running RWKV infctx using 'torch-jit' with torch '2.5.1+cu124'\n",
      "[RWKV.model] Running RWKV infctx using 'torch-jit' with torch '2.5.1+cu124'\n"
     ]
    },
    {
     "name": "stderr",
     "output_type": "stream",
     "text": [
      "Current Triton version 3.1.0 is below the recommended 3.2.0 version. Errors may occur and these issues will not be fixed. Please consider upgrading Triton.\n",
      "Current Python version 3.9 is below the recommended 3.11 version. It is recommended to upgrade to Python 3.11 or higher for the best experience.\n"
     ]
    },
    {
     "ename": "TypeError",
     "evalue": "unsupported operand type(s) for |: 'torch._C._TensorMeta' and 'NoneType'",
     "output_type": "error",
     "traceback": [
      "\u001b[0;31m---------------------------------------------------------------------------\u001b[0m",
      "\u001b[0;31mTypeError\u001b[0m                                 Traceback (most recent call last)",
      "Cell \u001b[0;32mIn[2], line 1\u001b[0m\n\u001b[0;32m----> 1\u001b[0m \u001b[38;5;28;01mfrom\u001b[39;00m\u001b[38;5;250m \u001b[39m\u001b[38;5;21;01mbaselines\u001b[39;00m\u001b[38;5;21;01m.\u001b[39;00m\u001b[38;5;21;01mrwkv\u001b[39;00m\u001b[38;5;21;01m.\u001b[39;00m\u001b[38;5;21;01mlanguage_modeling\u001b[39;00m\u001b[38;5;250m \u001b[39m\u001b[38;5;28;01mimport\u001b[39;00m RWKV_v6\n",
      "File \u001b[0;32m~/sivtsov/armt/associative-recurrent-memory-transformer/baselines/rwkv/language_modeling.py:16\u001b[0m\n\u001b[1;32m     14\u001b[0m \u001b[38;5;28;01mfrom\u001b[39;00m\u001b[38;5;250m \u001b[39m\u001b[38;5;21;01mbaselines\u001b[39;00m\u001b[38;5;21;01m.\u001b[39;00m\u001b[38;5;21;01mrwkv\u001b[39;00m\u001b[38;5;21;01m.\u001b[39;00m\u001b[38;5;21;01mRWKV_v5\u001b[39;00m\u001b[38;5;21;01m.\u001b[39;00m\u001b[38;5;21;01msrc\u001b[39;00m\u001b[38;5;21;01m.\u001b[39;00m\u001b[38;5;21;01mmodel\u001b[39;00m\u001b[38;5;250m \u001b[39m\u001b[38;5;28;01mimport\u001b[39;00m RWKV \u001b[38;5;28;01mas\u001b[39;00m RWKV5\n\u001b[1;32m     15\u001b[0m \u001b[38;5;28;01mfrom\u001b[39;00m\u001b[38;5;250m \u001b[39m\u001b[38;5;21;01mbaselines\u001b[39;00m\u001b[38;5;21;01m.\u001b[39;00m\u001b[38;5;21;01mrwkv\u001b[39;00m\u001b[38;5;21;01m.\u001b[39;00m\u001b[38;5;21;01mRWKV_v6\u001b[39;00m\u001b[38;5;21;01m.\u001b[39;00m\u001b[38;5;21;01msrc\u001b[39;00m\u001b[38;5;21;01m.\u001b[39;00m\u001b[38;5;21;01mmodel\u001b[39;00m\u001b[38;5;250m \u001b[39m\u001b[38;5;28;01mimport\u001b[39;00m RWKV \u001b[38;5;28;01mas\u001b[39;00m RWKV6\n\u001b[0;32m---> 16\u001b[0m \u001b[38;5;28;01mfrom\u001b[39;00m\u001b[38;5;250m \u001b[39m\u001b[38;5;21;01mbaselines\u001b[39;00m\u001b[38;5;21;01m.\u001b[39;00m\u001b[38;5;21;01mrwkv\u001b[39;00m\u001b[38;5;21;01m.\u001b[39;00m\u001b[38;5;21;01mrwkvt\u001b[39;00m\u001b[38;5;21;01m.\u001b[39;00m\u001b[38;5;21;01mrwkv7\u001b[39;00m\u001b[38;5;21;01m.\u001b[39;00m\u001b[38;5;21;01mmodel\u001b[39;00m\u001b[38;5;250m \u001b[39m\u001b[38;5;28;01mimport\u001b[39;00m RWKV7\n\u001b[1;32m     17\u001b[0m \u001b[38;5;28;01mfrom\u001b[39;00m\u001b[38;5;250m \u001b[39m\u001b[38;5;21;01mbaselines\u001b[39;00m\u001b[38;5;21;01m.\u001b[39;00m\u001b[38;5;21;01mrwkv\u001b[39;00m\u001b[38;5;21;01m.\u001b[39;00m\u001b[38;5;21;01mrwkvt\u001b[39;00m\u001b[38;5;21;01m.\u001b[39;00m\u001b[38;5;21;01minfctx_module\u001b[39;00m\u001b[38;5;250m \u001b[39m\u001b[38;5;28;01mimport\u001b[39;00m BlockStateList\n\u001b[1;32m     19\u001b[0m \u001b[38;5;28;01mfrom\u001b[39;00m\u001b[38;5;250m \u001b[39m\u001b[38;5;21;01mmunch\u001b[39;00m\u001b[38;5;250m \u001b[39m\u001b[38;5;28;01mimport\u001b[39;00m Munch\n",
      "File \u001b[0;32m~/sivtsov/armt/associative-recurrent-memory-transformer/baselines/rwkv/rwkvt/rwkv7/model.py:11\u001b[0m\n\u001b[1;32m      9\u001b[0m \u001b[38;5;28;01mimport\u001b[39;00m\u001b[38;5;250m \u001b[39m\u001b[38;5;21;01mdeepspeed\u001b[39;00m\n\u001b[1;32m     10\u001b[0m \u001b[38;5;28;01mfrom\u001b[39;00m\u001b[38;5;250m \u001b[39m\u001b[38;5;21;01m.\u001b[39;00m\u001b[38;5;21;01m.\u001b[39;00m\u001b[38;5;21;01m.\u001b[39;00m\u001b[38;5;21;01mrwkvt\u001b[39;00m\u001b[38;5;21;01m.\u001b[39;00m\u001b[38;5;21;01minfctx_module\u001b[39;00m\u001b[38;5;250m \u001b[39m\u001b[38;5;28;01mimport\u001b[39;00m BlockStateList\n\u001b[0;32m---> 11\u001b[0m \u001b[38;5;28;01mfrom\u001b[39;00m\u001b[38;5;250m \u001b[39m\u001b[38;5;21;01m.\u001b[39;00m\u001b[38;5;21;01mblock\u001b[39;00m\u001b[38;5;250m \u001b[39m\u001b[38;5;28;01mimport\u001b[39;00m Block\n\u001b[1;32m     13\u001b[0m \u001b[38;5;28;01mclass\u001b[39;00m\u001b[38;5;250m \u001b[39m\u001b[38;5;21;01mRWKV7\u001b[39;00m(nn\u001b[38;5;241m.\u001b[39mModule):\n\u001b[1;32m     14\u001b[0m     \u001b[38;5;28;01mdef\u001b[39;00m\u001b[38;5;250m \u001b[39m\u001b[38;5;21m__init__\u001b[39m(\u001b[38;5;28mself\u001b[39m, args):\n",
      "File \u001b[0;32m~/sivtsov/armt/associative-recurrent-memory-transformer/baselines/rwkv/rwkvt/rwkv7/block.py:4\u001b[0m\n\u001b[1;32m      2\u001b[0m \u001b[38;5;28;01mimport\u001b[39;00m\u001b[38;5;250m \u001b[39m\u001b[38;5;21;01mtorch\u001b[39;00m\u001b[38;5;21;01m.\u001b[39;00m\u001b[38;5;21;01mnn\u001b[39;00m\u001b[38;5;250m \u001b[39m\u001b[38;5;28;01mas\u001b[39;00m\u001b[38;5;250m \u001b[39m\u001b[38;5;21;01mnn\u001b[39;00m\n\u001b[1;32m      3\u001b[0m \u001b[38;5;28;01mfrom\u001b[39;00m\u001b[38;5;250m \u001b[39m\u001b[38;5;21;01m.\u001b[39;00m\u001b[38;5;21;01mffn\u001b[39;00m\u001b[38;5;250m \u001b[39m\u001b[38;5;28;01mimport\u001b[39;00m RWKV_Cmix_v7\n\u001b[0;32m----> 4\u001b[0m \u001b[38;5;28;01mfrom\u001b[39;00m\u001b[38;5;250m \u001b[39m\u001b[38;5;21;01m.\u001b[39;00m\u001b[38;5;21;01matt\u001b[39;00m\u001b[38;5;250m \u001b[39m\u001b[38;5;28;01mimport\u001b[39;00m RWKV_Tmix_v7\n\u001b[1;32m      5\u001b[0m \u001b[38;5;28;01mfrom\u001b[39;00m\u001b[38;5;250m \u001b[39m\u001b[38;5;21;01m.\u001b[39;00m\u001b[38;5;21;01m.\u001b[39;00m\u001b[38;5;21;01m.\u001b[39;00m\u001b[38;5;21;01mrwkvt\u001b[39;00m\u001b[38;5;21;01m.\u001b[39;00m\u001b[38;5;21;01minfctx_module\u001b[39;00m\u001b[38;5;250m \u001b[39m\u001b[38;5;28;01mimport\u001b[39;00m BlockState\n\u001b[1;32m      6\u001b[0m \u001b[38;5;28;01mclass\u001b[39;00m\u001b[38;5;250m \u001b[39m\u001b[38;5;21;01mBlock\u001b[39;00m(nn\u001b[38;5;241m.\u001b[39mModule):\n",
      "File \u001b[0;32m~/sivtsov/armt/associative-recurrent-memory-transformer/baselines/rwkv/rwkvt/rwkv7/att.py:9\u001b[0m\n\u001b[1;32m      6\u001b[0m \u001b[38;5;28;01mfrom\u001b[39;00m\u001b[38;5;250m \u001b[39m\u001b[38;5;21;01m.\u001b[39;00m\u001b[38;5;21;01m.\u001b[39;00m\u001b[38;5;21;01m.\u001b[39;00m\u001b[38;5;21;01mrwkvt\u001b[39;00m\u001b[38;5;21;01m.\u001b[39;00m\u001b[38;5;21;01minfctx_module\u001b[39;00m\u001b[38;5;250m \u001b[39m\u001b[38;5;28;01mimport\u001b[39;00m \u001b[38;5;241m*\u001b[39m\n\u001b[1;32m      8\u001b[0m \u001b[38;5;28;01mfrom\u001b[39;00m\u001b[38;5;250m \u001b[39m\u001b[38;5;21;01m.\u001b[39;00m\u001b[38;5;21;01m.\u001b[39;00m\u001b[38;5;21;01m.\u001b[39;00m\u001b[38;5;21;01mrwkvt\u001b[39;00m\u001b[38;5;21;01m.\u001b[39;00m\u001b[38;5;21;01mpeft\u001b[39;00m\u001b[38;5;21;01m.\u001b[39;00m\u001b[38;5;21;01mrwkvLinear\u001b[39;00m\u001b[38;5;250m \u001b[39m\u001b[38;5;28;01mimport\u001b[39;00m make_linear_att\n\u001b[0;32m----> 9\u001b[0m \u001b[38;5;28;01mfrom\u001b[39;00m\u001b[38;5;250m \u001b[39m\u001b[38;5;21;01m.\u001b[39;00m\u001b[38;5;21;01m.\u001b[39;00m\u001b[38;5;21;01m.\u001b[39;00m\u001b[38;5;21;01mrwkvt\u001b[39;00m\u001b[38;5;21;01m.\u001b[39;00m\u001b[38;5;21;01moperator\u001b[39;00m\u001b[38;5;21;01m.\u001b[39;00m\u001b[38;5;21;01mrwkvop\u001b[39;00m\u001b[38;5;250m \u001b[39m\u001b[38;5;28;01mimport\u001b[39;00m RUN_CUDA_RWKV7g, RUN_RWKV7_STATE, RUN_RWKV7_INFCTX\n\u001b[1;32m     10\u001b[0m \u001b[38;5;28;01mfrom\u001b[39;00m\u001b[38;5;250m \u001b[39m\u001b[38;5;21;01mtorch\u001b[39;00m\u001b[38;5;21;01m.\u001b[39;00m\u001b[38;5;21;01mnn\u001b[39;00m\u001b[38;5;250m \u001b[39m\u001b[38;5;28;01mimport\u001b[39;00m functional \u001b[38;5;28;01mas\u001b[39;00m F\n\u001b[1;32m     12\u001b[0m \u001b[38;5;28;01mdef\u001b[39;00m\u001b[38;5;250m \u001b[39m\u001b[38;5;21mRWKV_Tmix_v7\u001b[39m(\u001b[38;5;241m*\u001b[39margs, \u001b[38;5;241m*\u001b[39m\u001b[38;5;241m*\u001b[39mkwargs):\n",
      "File \u001b[0;32m~/sivtsov/armt/associative-recurrent-memory-transformer/baselines/rwkv/rwkvt/operator/rwkvop.py:60\u001b[0m\n\u001b[1;32m     58\u001b[0m             \u001b[38;5;28;01mreturn\u001b[39;00m o\n\u001b[1;32m     59\u001b[0m \u001b[38;5;28;01mif\u001b[39;00m \u001b[38;5;124m'\u001b[39m\u001b[38;5;124mx060\u001b[39m\u001b[38;5;124m'\u001b[39m \u001b[38;5;129;01min\u001b[39;00m os\u001b[38;5;241m.\u001b[39menviron[\u001b[38;5;124m\"\u001b[39m\u001b[38;5;124mRWKV_MY_TESTING\u001b[39m\u001b[38;5;124m\"\u001b[39m]:\n\u001b[0;32m---> 60\u001b[0m     \u001b[38;5;28;01mfrom\u001b[39;00m\u001b[38;5;250m \u001b[39m\u001b[38;5;21;01mfla\u001b[39;00m\u001b[38;5;21;01m.\u001b[39;00m\u001b[38;5;21;01mops\u001b[39;00m\u001b[38;5;21;01m.\u001b[39;00m\u001b[38;5;21;01mrwkv6\u001b[39;00m\u001b[38;5;250m \u001b[39m\u001b[38;5;28;01mimport\u001b[39;00m chunk_rwkv6\n\u001b[1;32m     62\u001b[0m     \u001b[38;5;28;01mif\u001b[39;00m os\u001b[38;5;241m.\u001b[39menviron[\u001b[38;5;124m\"\u001b[39m\u001b[38;5;124mRWKV_TRAIN_TYPE\u001b[39m\u001b[38;5;124m\"\u001b[39m] \u001b[38;5;241m==\u001b[39m \u001b[38;5;124m'\u001b[39m\u001b[38;5;124minfctx\u001b[39m\u001b[38;5;124m'\u001b[39m:\n\u001b[1;32m     63\u001b[0m         \u001b[38;5;28;01mdef\u001b[39;00m\u001b[38;5;250m \u001b[39m\u001b[38;5;21mRUN_CUDA_RWKV6_STATE\u001b[39m(B, T, C, H, r, k, v, w, u, s):\n",
      "File \u001b[0;32m~/.mlspace/envs/armt/lib/python3.9/site-packages/fla/__init__.py:3\u001b[0m\n\u001b[1;32m      1\u001b[0m \u001b[38;5;66;03m# -*- coding: utf-8 -*-\u001b[39;00m\n\u001b[0;32m----> 3\u001b[0m \u001b[38;5;28;01mfrom\u001b[39;00m\u001b[38;5;250m \u001b[39m\u001b[38;5;21;01mfla\u001b[39;00m\u001b[38;5;21;01m.\u001b[39;00m\u001b[38;5;21;01mlayers\u001b[39;00m\u001b[38;5;250m \u001b[39m\u001b[38;5;28;01mimport\u001b[39;00m (\n\u001b[1;32m      4\u001b[0m     ABCAttention,\n\u001b[1;32m      5\u001b[0m     Attention,\n\u001b[1;32m      6\u001b[0m     BasedLinearAttention,\n\u001b[1;32m      7\u001b[0m     BitAttention,\n\u001b[1;32m      8\u001b[0m     Comba,\n\u001b[1;32m      9\u001b[0m     DeltaNet,\n\u001b[1;32m     10\u001b[0m     GatedDeltaNet,\n\u001b[1;32m     11\u001b[0m     GatedDeltaProduct,\n\u001b[1;32m     12\u001b[0m     GatedLinearAttention,\n\u001b[1;32m     13\u001b[0m     GatedSlotAttention,\n\u001b[1;32m     14\u001b[0m     HGRN2Attention,\n\u001b[1;32m     15\u001b[0m     HGRNAttention,\n\u001b[1;32m     16\u001b[0m     LightNetAttention,\n\u001b[1;32m     17\u001b[0m     LinearAttention,\n\u001b[1;32m     18\u001b[0m     MesaNet,\n\u001b[1;32m     19\u001b[0m     MultiheadLatentAttention,\n\u001b[1;32m     20\u001b[0m     MultiScaleRetention,\n\u001b[1;32m     21\u001b[0m     NativeSparseAttention,\n\u001b[1;32m     22\u001b[0m     PaTHAttention,\n\u001b[1;32m     23\u001b[0m     ReBasedLinearAttention,\n\u001b[1;32m     24\u001b[0m     RodimusAttention,\n\u001b[1;32m     25\u001b[0m     RWKV6Attention,\n\u001b[1;32m     26\u001b[0m     RWKV7Attention\n\u001b[1;32m     27\u001b[0m )\n\u001b[1;32m     28\u001b[0m \u001b[38;5;28;01mfrom\u001b[39;00m\u001b[38;5;250m \u001b[39m\u001b[38;5;21;01mfla\u001b[39;00m\u001b[38;5;21;01m.\u001b[39;00m\u001b[38;5;21;01mmodels\u001b[39;00m\u001b[38;5;250m \u001b[39m\u001b[38;5;28;01mimport\u001b[39;00m (\n\u001b[1;32m     29\u001b[0m     ABCForCausalLM,\n\u001b[1;32m     30\u001b[0m     ABCModel,\n\u001b[0;32m   (...)\u001b[0m\n\u001b[1;32m     70\u001b[0m     TransformerModel\n\u001b[1;32m     71\u001b[0m )\n\u001b[1;32m     73\u001b[0m __all__ \u001b[38;5;241m=\u001b[39m [\n\u001b[1;32m     74\u001b[0m     \u001b[38;5;124m'\u001b[39m\u001b[38;5;124mABCAttention\u001b[39m\u001b[38;5;124m'\u001b[39m, \u001b[38;5;124m'\u001b[39m\u001b[38;5;124mABCForCausalLM\u001b[39m\u001b[38;5;124m'\u001b[39m, \u001b[38;5;124m'\u001b[39m\u001b[38;5;124mABCModel\u001b[39m\u001b[38;5;124m'\u001b[39m,\n\u001b[1;32m     75\u001b[0m     \u001b[38;5;124m'\u001b[39m\u001b[38;5;124mAttention\u001b[39m\u001b[38;5;124m'\u001b[39m, \u001b[38;5;124m'\u001b[39m\u001b[38;5;124mTransformerForCausalLM\u001b[39m\u001b[38;5;124m'\u001b[39m, \u001b[38;5;124m'\u001b[39m\u001b[38;5;124mTransformerModel\u001b[39m\u001b[38;5;124m'\u001b[39m,\n\u001b[0;32m   (...)\u001b[0m\n\u001b[1;32m     96\u001b[0m     \u001b[38;5;124m'\u001b[39m\u001b[38;5;124mRWKV7Attention\u001b[39m\u001b[38;5;124m'\u001b[39m, \u001b[38;5;124m'\u001b[39m\u001b[38;5;124mRWKV7ForCausalLM\u001b[39m\u001b[38;5;124m'\u001b[39m, \u001b[38;5;124m'\u001b[39m\u001b[38;5;124mRWKV7Model\u001b[39m\u001b[38;5;124m'\u001b[39m,\n\u001b[1;32m     97\u001b[0m ]\n",
      "File \u001b[0;32m~/.mlspace/envs/armt/lib/python3.9/site-packages/fla/layers/__init__.py:4\u001b[0m\n\u001b[1;32m      1\u001b[0m \u001b[38;5;66;03m# -*- coding: utf-8 -*-\u001b[39;00m\n\u001b[1;32m      2\u001b[0m \u001b[38;5;66;03m# Copyright (c) 2023-2025, Songlin Yang, Yu Zhang\u001b[39;00m\n\u001b[0;32m----> 4\u001b[0m \u001b[38;5;28;01mfrom\u001b[39;00m\u001b[38;5;250m \u001b[39m\u001b[38;5;21;01m.\u001b[39;00m\u001b[38;5;21;01mabc\u001b[39;00m\u001b[38;5;250m \u001b[39m\u001b[38;5;28;01mimport\u001b[39;00m ABCAttention\n\u001b[1;32m      5\u001b[0m \u001b[38;5;28;01mfrom\u001b[39;00m\u001b[38;5;250m \u001b[39m\u001b[38;5;21;01m.\u001b[39;00m\u001b[38;5;21;01mattn\u001b[39;00m\u001b[38;5;250m \u001b[39m\u001b[38;5;28;01mimport\u001b[39;00m Attention\n\u001b[1;32m      6\u001b[0m \u001b[38;5;28;01mfrom\u001b[39;00m\u001b[38;5;250m \u001b[39m\u001b[38;5;21;01m.\u001b[39;00m\u001b[38;5;21;01mbased\u001b[39;00m\u001b[38;5;250m \u001b[39m\u001b[38;5;28;01mimport\u001b[39;00m BasedLinearAttention\n",
      "File \u001b[0;32m~/.mlspace/envs/armt/lib/python3.9/site-packages/fla/layers/abc.py:13\u001b[0m\n\u001b[1;32m     10\u001b[0m \u001b[38;5;28;01mimport\u001b[39;00m\u001b[38;5;250m \u001b[39m\u001b[38;5;21;01mtorch\u001b[39;00m\u001b[38;5;21;01m.\u001b[39;00m\u001b[38;5;21;01mnn\u001b[39;00m\u001b[38;5;250m \u001b[39m\u001b[38;5;28;01mas\u001b[39;00m\u001b[38;5;250m \u001b[39m\u001b[38;5;21;01mnn\u001b[39;00m\n\u001b[1;32m     11\u001b[0m \u001b[38;5;28;01mfrom\u001b[39;00m\u001b[38;5;250m \u001b[39m\u001b[38;5;21;01meinops\u001b[39;00m\u001b[38;5;250m \u001b[39m\u001b[38;5;28;01mimport\u001b[39;00m rearrange\n\u001b[0;32m---> 13\u001b[0m \u001b[38;5;28;01mfrom\u001b[39;00m\u001b[38;5;250m \u001b[39m\u001b[38;5;21;01mfla\u001b[39;00m\u001b[38;5;21;01m.\u001b[39;00m\u001b[38;5;21;01mmodules\u001b[39;00m\u001b[38;5;250m \u001b[39m\u001b[38;5;28;01mimport\u001b[39;00m FusedRMSNormGated, RMSNorm, RotaryEmbedding, ShortConvolution\n\u001b[1;32m     14\u001b[0m \u001b[38;5;28;01mfrom\u001b[39;00m\u001b[38;5;250m \u001b[39m\u001b[38;5;21;01mfla\u001b[39;00m\u001b[38;5;21;01m.\u001b[39;00m\u001b[38;5;21;01mmodules\u001b[39;00m\u001b[38;5;21;01m.\u001b[39;00m\u001b[38;5;21;01mactivations\u001b[39;00m\u001b[38;5;250m \u001b[39m\u001b[38;5;28;01mimport\u001b[39;00m swiglu, swish\n\u001b[1;32m     15\u001b[0m \u001b[38;5;28;01mfrom\u001b[39;00m\u001b[38;5;250m \u001b[39m\u001b[38;5;21;01mfla\u001b[39;00m\u001b[38;5;21;01m.\u001b[39;00m\u001b[38;5;21;01mops\u001b[39;00m\u001b[38;5;21;01m.\u001b[39;00m\u001b[38;5;21;01mabc\u001b[39;00m\u001b[38;5;21;01m.\u001b[39;00m\u001b[38;5;21;01mchunk\u001b[39;00m\u001b[38;5;250m \u001b[39m\u001b[38;5;28;01mimport\u001b[39;00m chunk_abc\n",
      "File \u001b[0;32m~/.mlspace/envs/armt/lib/python3.9/site-packages/fla/modules/__init__.py:3\u001b[0m\n\u001b[1;32m      1\u001b[0m \u001b[38;5;66;03m# -*- coding: utf-8 -*-\u001b[39;00m\n\u001b[0;32m----> 3\u001b[0m \u001b[38;5;28;01mfrom\u001b[39;00m\u001b[38;5;250m \u001b[39m\u001b[38;5;21;01mfla\u001b[39;00m\u001b[38;5;21;01m.\u001b[39;00m\u001b[38;5;21;01mmodules\u001b[39;00m\u001b[38;5;21;01m.\u001b[39;00m\u001b[38;5;21;01mconvolution\u001b[39;00m\u001b[38;5;250m \u001b[39m\u001b[38;5;28;01mimport\u001b[39;00m ImplicitLongConvolution, LongConvolution, ShortConvolution\n\u001b[1;32m      4\u001b[0m \u001b[38;5;28;01mfrom\u001b[39;00m\u001b[38;5;250m \u001b[39m\u001b[38;5;21;01mfla\u001b[39;00m\u001b[38;5;21;01m.\u001b[39;00m\u001b[38;5;21;01mmodules\u001b[39;00m\u001b[38;5;21;01m.\u001b[39;00m\u001b[38;5;21;01mfused_bitlinear\u001b[39;00m\u001b[38;5;250m \u001b[39m\u001b[38;5;28;01mimport\u001b[39;00m BitLinear, FusedBitLinear\n\u001b[1;32m      5\u001b[0m \u001b[38;5;28;01mfrom\u001b[39;00m\u001b[38;5;250m \u001b[39m\u001b[38;5;21;01mfla\u001b[39;00m\u001b[38;5;21;01m.\u001b[39;00m\u001b[38;5;21;01mmodules\u001b[39;00m\u001b[38;5;21;01m.\u001b[39;00m\u001b[38;5;21;01mfused_cross_entropy\u001b[39;00m\u001b[38;5;250m \u001b[39m\u001b[38;5;28;01mimport\u001b[39;00m FusedCrossEntropyLoss\n",
      "File \u001b[0;32m~/.mlspace/envs/armt/lib/python3.9/site-packages/fla/modules/convolution.py:17\u001b[0m\n\u001b[1;32m     14\u001b[0m \u001b[38;5;28;01mimport\u001b[39;00m\u001b[38;5;250m \u001b[39m\u001b[38;5;21;01mtriton\u001b[39;00m\u001b[38;5;21;01m.\u001b[39;00m\u001b[38;5;21;01mlanguage\u001b[39;00m\u001b[38;5;250m \u001b[39m\u001b[38;5;28;01mas\u001b[39;00m\u001b[38;5;250m \u001b[39m\u001b[38;5;21;01mtl\u001b[39;00m\n\u001b[1;32m     15\u001b[0m \u001b[38;5;28;01mfrom\u001b[39;00m\u001b[38;5;250m \u001b[39m\u001b[38;5;21;01meinops\u001b[39;00m\u001b[38;5;250m \u001b[39m\u001b[38;5;28;01mimport\u001b[39;00m rearrange\n\u001b[0;32m---> 17\u001b[0m \u001b[38;5;28;01mfrom\u001b[39;00m\u001b[38;5;250m \u001b[39m\u001b[38;5;21;01mfla\u001b[39;00m\u001b[38;5;21;01m.\u001b[39;00m\u001b[38;5;21;01mops\u001b[39;00m\u001b[38;5;21;01m.\u001b[39;00m\u001b[38;5;21;01mutils\u001b[39;00m\u001b[38;5;250m \u001b[39m\u001b[38;5;28;01mimport\u001b[39;00m prepare_chunk_indices, prepare_sequence_ids\n\u001b[1;32m     18\u001b[0m \u001b[38;5;28;01mfrom\u001b[39;00m\u001b[38;5;250m \u001b[39m\u001b[38;5;21;01mfla\u001b[39;00m\u001b[38;5;21;01m.\u001b[39;00m\u001b[38;5;21;01mutils\u001b[39;00m\u001b[38;5;250m \u001b[39m\u001b[38;5;28;01mimport\u001b[39;00m get_multiprocessor_count, input_guard, is_amd\n\u001b[1;32m     20\u001b[0m NUM_WARPS_AUTOTUNE \u001b[38;5;241m=\u001b[39m [\u001b[38;5;241m2\u001b[39m, \u001b[38;5;241m4\u001b[39m, \u001b[38;5;241m8\u001b[39m, \u001b[38;5;241m16\u001b[39m] \u001b[38;5;28;01mif\u001b[39;00m is_amd \u001b[38;5;28;01melse\u001b[39;00m [\u001b[38;5;241m4\u001b[39m, \u001b[38;5;241m8\u001b[39m, \u001b[38;5;241m16\u001b[39m, \u001b[38;5;241m32\u001b[39m]\n",
      "File \u001b[0;32m~/.mlspace/envs/armt/lib/python3.9/site-packages/fla/ops/__init__.py:3\u001b[0m\n\u001b[1;32m      1\u001b[0m \u001b[38;5;66;03m# -*- coding: utf-8 -*-\u001b[39;00m\n\u001b[0;32m----> 3\u001b[0m \u001b[38;5;28;01mfrom\u001b[39;00m\u001b[38;5;250m \u001b[39m\u001b[38;5;21;01m.\u001b[39;00m\u001b[38;5;21;01mabc\u001b[39;00m\u001b[38;5;250m \u001b[39m\u001b[38;5;28;01mimport\u001b[39;00m chunk_abc\n\u001b[1;32m      4\u001b[0m \u001b[38;5;28;01mfrom\u001b[39;00m\u001b[38;5;250m \u001b[39m\u001b[38;5;21;01m.\u001b[39;00m\u001b[38;5;21;01mattn\u001b[39;00m\u001b[38;5;250m \u001b[39m\u001b[38;5;28;01mimport\u001b[39;00m parallel_attn\n\u001b[1;32m      5\u001b[0m \u001b[38;5;28;01mfrom\u001b[39;00m\u001b[38;5;250m \u001b[39m\u001b[38;5;21;01m.\u001b[39;00m\u001b[38;5;21;01mbased\u001b[39;00m\u001b[38;5;250m \u001b[39m\u001b[38;5;28;01mimport\u001b[39;00m fused_chunk_based, parallel_based\n",
      "File \u001b[0;32m~/.mlspace/envs/armt/lib/python3.9/site-packages/fla/ops/abc/__init__.py:3\u001b[0m\n\u001b[1;32m      1\u001b[0m \u001b[38;5;66;03m# -*- coding: utf-8 -*-\u001b[39;00m\n\u001b[0;32m----> 3\u001b[0m \u001b[38;5;28;01mfrom\u001b[39;00m\u001b[38;5;250m \u001b[39m\u001b[38;5;21;01m.\u001b[39;00m\u001b[38;5;21;01mchunk\u001b[39;00m\u001b[38;5;250m \u001b[39m\u001b[38;5;28;01mimport\u001b[39;00m chunk_abc\n\u001b[1;32m      5\u001b[0m __all__ \u001b[38;5;241m=\u001b[39m [\n\u001b[1;32m      6\u001b[0m     \u001b[38;5;124m'\u001b[39m\u001b[38;5;124mchunk_abc\u001b[39m\u001b[38;5;124m'\u001b[39m\n\u001b[1;32m      7\u001b[0m ]\n",
      "File \u001b[0;32m~/.mlspace/envs/armt/lib/python3.9/site-packages/fla/ops/abc/chunk.py:10\u001b[0m\n\u001b[1;32m      7\u001b[0m \u001b[38;5;28;01mimport\u001b[39;00m\u001b[38;5;250m \u001b[39m\u001b[38;5;21;01mtriton\u001b[39;00m\n\u001b[1;32m      8\u001b[0m \u001b[38;5;28;01mimport\u001b[39;00m\u001b[38;5;250m \u001b[39m\u001b[38;5;21;01mtriton\u001b[39;00m\u001b[38;5;21;01m.\u001b[39;00m\u001b[38;5;21;01mlanguage\u001b[39;00m\u001b[38;5;250m \u001b[39m\u001b[38;5;28;01mas\u001b[39;00m\u001b[38;5;250m \u001b[39m\u001b[38;5;21;01mtl\u001b[39;00m\n\u001b[0;32m---> 10\u001b[0m \u001b[38;5;28;01mfrom\u001b[39;00m\u001b[38;5;250m \u001b[39m\u001b[38;5;21;01mfla\u001b[39;00m\u001b[38;5;21;01m.\u001b[39;00m\u001b[38;5;21;01mops\u001b[39;00m\u001b[38;5;21;01m.\u001b[39;00m\u001b[38;5;21;01mutils\u001b[39;00m\u001b[38;5;250m \u001b[39m\u001b[38;5;28;01mimport\u001b[39;00m softmax_bwd, softmax_fwd\n\u001b[1;32m     11\u001b[0m \u001b[38;5;28;01mfrom\u001b[39;00m\u001b[38;5;250m \u001b[39m\u001b[38;5;21;01mfla\u001b[39;00m\u001b[38;5;21;01m.\u001b[39;00m\u001b[38;5;21;01mops\u001b[39;00m\u001b[38;5;21;01m.\u001b[39;00m\u001b[38;5;21;01mutils\u001b[39;00m\u001b[38;5;21;01m.\u001b[39;00m\u001b[38;5;21;01mlogcumsumexp\u001b[39;00m\u001b[38;5;250m \u001b[39m\u001b[38;5;28;01mimport\u001b[39;00m logcumsumexp_fwd_kernel\n\u001b[1;32m     12\u001b[0m \u001b[38;5;28;01mfrom\u001b[39;00m\u001b[38;5;250m \u001b[39m\u001b[38;5;21;01mfla\u001b[39;00m\u001b[38;5;21;01m.\u001b[39;00m\u001b[38;5;21;01mops\u001b[39;00m\u001b[38;5;21;01m.\u001b[39;00m\u001b[38;5;21;01mutils\u001b[39;00m\u001b[38;5;21;01m.\u001b[39;00m\u001b[38;5;21;01mop\u001b[39;00m\u001b[38;5;250m \u001b[39m\u001b[38;5;28;01mimport\u001b[39;00m exp\n",
      "File \u001b[0;32m~/.mlspace/envs/armt/lib/python3.9/site-packages/fla/ops/utils/__init__.py:24\u001b[0m\n\u001b[1;32m     22\u001b[0m \u001b[38;5;28;01mfrom\u001b[39;00m\u001b[38;5;250m \u001b[39m\u001b[38;5;21;01m.\u001b[39;00m\u001b[38;5;21;01mlogsumexp\u001b[39;00m\u001b[38;5;250m \u001b[39m\u001b[38;5;28;01mimport\u001b[39;00m logsumexp_fwd\n\u001b[1;32m     23\u001b[0m \u001b[38;5;28;01mfrom\u001b[39;00m\u001b[38;5;250m \u001b[39m\u001b[38;5;21;01m.\u001b[39;00m\u001b[38;5;21;01mmatmul\u001b[39;00m\u001b[38;5;250m \u001b[39m\u001b[38;5;28;01mimport\u001b[39;00m addmm, matmul\n\u001b[0;32m---> 24\u001b[0m \u001b[38;5;28;01mfrom\u001b[39;00m\u001b[38;5;250m \u001b[39m\u001b[38;5;21;01m.\u001b[39;00m\u001b[38;5;21;01mpack\u001b[39;00m\u001b[38;5;250m \u001b[39m\u001b[38;5;28;01mimport\u001b[39;00m pack_sequence, unpack_sequence\n\u001b[1;32m     25\u001b[0m \u001b[38;5;28;01mfrom\u001b[39;00m\u001b[38;5;250m \u001b[39m\u001b[38;5;21;01m.\u001b[39;00m\u001b[38;5;21;01mpooling\u001b[39;00m\u001b[38;5;250m \u001b[39m\u001b[38;5;28;01mimport\u001b[39;00m mean_pooling\n\u001b[1;32m     26\u001b[0m \u001b[38;5;28;01mfrom\u001b[39;00m\u001b[38;5;250m \u001b[39m\u001b[38;5;21;01m.\u001b[39;00m\u001b[38;5;21;01msoftmax\u001b[39;00m\u001b[38;5;250m \u001b[39m\u001b[38;5;28;01mimport\u001b[39;00m softmax_bwd, softmax_fwd\n",
      "File \u001b[0;32m~/.mlspace/envs/armt/lib/python3.9/site-packages/fla/ops/utils/pack.py:110\u001b[0m\n\u001b[1;32m     97\u001b[0m     packunpack_sequence_kernel[ND, S, B](\n\u001b[1;32m     98\u001b[0m         x\u001b[38;5;241m=\u001b[39mx,\n\u001b[1;32m     99\u001b[0m         y\u001b[38;5;241m=\u001b[39my,\n\u001b[0;32m   (...)\u001b[0m\n\u001b[1;32m    105\u001b[0m         PACK\u001b[38;5;241m=\u001b[39m\u001b[38;5;28;01mFalse\u001b[39;00m,\n\u001b[1;32m    106\u001b[0m     )\n\u001b[1;32m    107\u001b[0m     \u001b[38;5;28;01mreturn\u001b[39;00m y\n\u001b[0;32m--> 110\u001b[0m \u001b[38;5;28;01mclass\u001b[39;00m\u001b[38;5;250m \u001b[39m\u001b[38;5;21;01mPackSequenceFunction\u001b[39;00m(torch\u001b[38;5;241m.\u001b[39mautograd\u001b[38;5;241m.\u001b[39mFunction):\n\u001b[1;32m    112\u001b[0m     \u001b[38;5;129m@staticmethod\u001b[39m\n\u001b[1;32m    113\u001b[0m     \u001b[38;5;129m@input_guard\u001b[39m\n\u001b[1;32m    114\u001b[0m     \u001b[38;5;28;01mdef\u001b[39;00m\u001b[38;5;250m \u001b[39m\u001b[38;5;21mforward\u001b[39m(\n\u001b[0;32m   (...)\u001b[0m\n\u001b[1;32m    118\u001b[0m         padding_side: \u001b[38;5;28mstr\u001b[39m,\n\u001b[1;32m    119\u001b[0m     ) \u001b[38;5;241m-\u001b[39m\u001b[38;5;241m>\u001b[39m torch\u001b[38;5;241m.\u001b[39mTensor:\n\u001b[1;32m    120\u001b[0m         \u001b[38;5;28;01massert\u001b[39;00m padding_side \u001b[38;5;129;01min\u001b[39;00m [\u001b[38;5;124m'\u001b[39m\u001b[38;5;124mleft\u001b[39m\u001b[38;5;124m'\u001b[39m, \u001b[38;5;124m'\u001b[39m\u001b[38;5;124mright\u001b[39m\u001b[38;5;124m'\u001b[39m]\n",
      "File \u001b[0;32m~/.mlspace/envs/armt/lib/python3.9/site-packages/fla/ops/utils/pack.py:136\u001b[0m, in \u001b[0;36mPackSequenceFunction\u001b[0;34m()\u001b[0m\n\u001b[1;32m    127\u001b[0m     y \u001b[38;5;241m=\u001b[39m pack_sequence_fwdbwd(\n\u001b[1;32m    128\u001b[0m         x\u001b[38;5;241m=\u001b[39mx,\n\u001b[1;32m    129\u001b[0m         cu_seqlens\u001b[38;5;241m=\u001b[39mcu_seqlens,\n\u001b[1;32m    130\u001b[0m         padding_side\u001b[38;5;241m=\u001b[39mpadding_side,\n\u001b[1;32m    131\u001b[0m     )\n\u001b[1;32m    132\u001b[0m     \u001b[38;5;28;01mreturn\u001b[39;00m y\n\u001b[1;32m    134\u001b[0m \u001b[38;5;129m@staticmethod\u001b[39m\n\u001b[1;32m    135\u001b[0m \u001b[38;5;129m@input_guard\u001b[39m\n\u001b[0;32m--> 136\u001b[0m \u001b[38;5;28;01mdef\u001b[39;00m\u001b[38;5;250m \u001b[39m\u001b[38;5;21mbackward\u001b[39m(ctx, dy: torch\u001b[38;5;241m.\u001b[39mTensor) \u001b[38;5;241m-\u001b[39m\u001b[38;5;241m>\u001b[39m \u001b[38;5;28mtuple\u001b[39m[\u001b[43mtorch\u001b[49m\u001b[38;5;241;43m.\u001b[39;49m\u001b[43mTensor\u001b[49m\u001b[43m \u001b[49m\u001b[38;5;241;43m|\u001b[39;49m\u001b[43m \u001b[49m\u001b[38;5;28;43;01mNone\u001b[39;49;00m]:\n\u001b[1;32m    137\u001b[0m     dx \u001b[38;5;241m=\u001b[39m unpack_sequence_fwdbwd(\n\u001b[1;32m    138\u001b[0m         x\u001b[38;5;241m=\u001b[39mdy,\n\u001b[1;32m    139\u001b[0m         cu_seqlens\u001b[38;5;241m=\u001b[39mctx\u001b[38;5;241m.\u001b[39mcu_seqlens,\n\u001b[1;32m    140\u001b[0m         padding_side\u001b[38;5;241m=\u001b[39mctx\u001b[38;5;241m.\u001b[39mpadding_side,\n\u001b[1;32m    141\u001b[0m         desired_shape\u001b[38;5;241m=\u001b[39mctx\u001b[38;5;241m.\u001b[39mdesired_shape,\n\u001b[1;32m    142\u001b[0m     )\n\u001b[1;32m    143\u001b[0m     \u001b[38;5;28;01mreturn\u001b[39;00m dx, \u001b[38;5;241m*\u001b[39m[\u001b[38;5;28;01mNone\u001b[39;00m] \u001b[38;5;241m*\u001b[39m \u001b[38;5;241m10\u001b[39m\n",
      "\u001b[0;31mTypeError\u001b[0m: unsupported operand type(s) for |: 'torch._C._TensorMeta' and 'NoneType'"
     ]
    }
   ],
   "source": [
    "from baselines.rwkv.language_modeling import RWKV_v6"
   ]
  },
  {
   "cell_type": "code",
   "execution_count": 2,
   "id": "c12fb4ec",
   "metadata": {},
   "outputs": [
    {
     "name": "stderr",
     "output_type": "stream",
     "text": [
      "A new version of the following files was downloaded from https://huggingface.co/fla-hub/rwkv7-0.4B-world:\n",
      "- modeling_rwkv7.py\n",
      ". Make sure to double-check they do not contain any added malicious code. To avoid downloading new versions of the code file, you can pin a revision.\n",
      "/home/jovyan/.mlspace/envs/svtdanny/lib/python3.11/site-packages/fla/layers/rwkv7.py:143: UserWarning: According to Bo, you are using a potentially buggy FLA implementation of RWKV. If you plan to report any numbers based on this implementation, we strongly recommend cross-checking with the official repo: https://github.com/BlinkDL/RWKV-LM. Bo may disagree with results reported from this version.\n",
      "  warnings.warn(\n",
      "A new version of the following files was downloaded from https://huggingface.co/fla-hub/rwkv7-0.4B-world:\n",
      "- hf_rwkv_tokenizer.py\n",
      ". Make sure to double-check they do not contain any added malicious code. To avoid downloading new versions of the code file, you can pin a revision.\n"
     ]
    }
   ],
   "source": [
    "from transformers import AutoModelForCausalLM, AutoTokenizer\n",
    "\n",
    "# Load model and tokeniser\n",
    "model = AutoModelForCausalLM.from_pretrained('fla-hub/rwkv7-0.4B-world', trust_remote_code=True)\n",
    "tokenizer = AutoTokenizer.from_pretrained('fla-hub/rwkv7-0.4B-world', trust_remote_code=True)\n",
    "model = model.cuda()"
   ]
  },
  {
   "cell_type": "code",
   "execution_count": 3,
   "id": "7dc5286c",
   "metadata": {},
   "outputs": [
    {
     "data": {
      "text/plain": [
       "RWKV7ForCausalLM(\n",
       "  (model): RWKV7Model(\n",
       "    (embeddings): Embedding(65536, 1024)\n",
       "    (layers): ModuleList(\n",
       "      (0): RWKV7Block(\n",
       "        (pre_norm): LayerNorm((1024,), eps=1e-05, elementwise_affine=True)\n",
       "        (attn_norm): LayerNorm((1024,), eps=1e-05, elementwise_affine=True)\n",
       "        (attn): RWKV7Attention(\n",
       "          (time_shift): ZeroPad2d((0, 0, 1, -1))\n",
       "          (r_proj): Linear(in_features=1024, out_features=1024, bias=False)\n",
       "          (k_proj): Linear(in_features=1024, out_features=1024, bias=False)\n",
       "          (v_proj): Linear(in_features=1024, out_features=1024, bias=False)\n",
       "          (o_proj): Linear(in_features=1024, out_features=1024, bias=False)\n",
       "          (w_lora): LoRA(input_dim=1024, low_rank_dim=64, output_dim=1024)\n",
       "          (a_lora): LoRA(input_dim=1024, low_rank_dim=64, output_dim=1024)\n",
       "          (g_lora): LoRA(input_dim=1024, low_rank_dim=128, output_dim=1024, bias=False)\n",
       "          (g_norm): GroupNorm(16, 1024, eps=0.00064, affine=True)\n",
       "        )\n",
       "        (ffn_norm): LayerNorm((1024,), eps=1e-05, elementwise_affine=True)\n",
       "        (ffn): RWKV7FeedForward(\n",
       "          (time_shift): ZeroPad2d((0, 0, 1, -1))\n",
       "          (key): Linear(in_features=1024, out_features=4096, bias=False)\n",
       "          (value): Linear(in_features=4096, out_features=1024, bias=False)\n",
       "        )\n",
       "      )\n",
       "      (1-23): 23 x RWKV7Block(\n",
       "        (attn_norm): LayerNorm((1024,), eps=1e-05, elementwise_affine=True)\n",
       "        (attn): RWKV7Attention(\n",
       "          (time_shift): ZeroPad2d((0, 0, 1, -1))\n",
       "          (r_proj): Linear(in_features=1024, out_features=1024, bias=False)\n",
       "          (k_proj): Linear(in_features=1024, out_features=1024, bias=False)\n",
       "          (v_proj): Linear(in_features=1024, out_features=1024, bias=False)\n",
       "          (o_proj): Linear(in_features=1024, out_features=1024, bias=False)\n",
       "          (w_lora): LoRA(input_dim=1024, low_rank_dim=64, output_dim=1024)\n",
       "          (v_lora): LoRA(input_dim=1024, low_rank_dim=32, output_dim=1024)\n",
       "          (a_lora): LoRA(input_dim=1024, low_rank_dim=64, output_dim=1024)\n",
       "          (g_lora): LoRA(input_dim=1024, low_rank_dim=128, output_dim=1024, bias=False)\n",
       "          (g_norm): GroupNorm(16, 1024, eps=0.00064, affine=True)\n",
       "        )\n",
       "        (ffn_norm): LayerNorm((1024,), eps=1e-05, elementwise_affine=True)\n",
       "        (ffn): RWKV7FeedForward(\n",
       "          (time_shift): ZeroPad2d((0, 0, 1, -1))\n",
       "          (key): Linear(in_features=1024, out_features=4096, bias=False)\n",
       "          (value): Linear(in_features=4096, out_features=1024, bias=False)\n",
       "        )\n",
       "      )\n",
       "    )\n",
       "    (norm): LayerNorm((1024,), eps=1e-05, elementwise_affine=True)\n",
       "  )\n",
       "  (lm_head): Linear(in_features=1024, out_features=65536, bias=False)\n",
       ")"
      ]
     },
     "execution_count": 3,
     "metadata": {},
     "output_type": "execute_result"
    }
   ],
   "source": [
    "model"
   ]
  },
  {
   "cell_type": "code",
   "execution_count": 1,
   "id": "16162c25",
   "metadata": {},
   "outputs": [
    {
     "name": "stderr",
     "output_type": "stream",
     "text": [
      "/home/jovyan/.mlspace/envs/svtdanny/lib/python3.11/site-packages/tqdm/auto.py:21: TqdmWarning: IProgress not found. Please update jupyter and ipywidgets. See https://ipywidgets.readthedocs.io/en/stable/user_install.html\n",
      "  from .autonotebook import tqdm as notebook_tqdm\n"
     ]
    }
   ],
   "source": [
    "from fla.models.rwkv7.configuration_rwkv7 import RWKV7Config\n",
    "from fla.models.rwkv7.modeling_rwkv7 import RWKV7ForCausalLM"
   ]
  },
  {
   "cell_type": "code",
   "execution_count": 2,
   "id": "04fd8c74",
   "metadata": {},
   "outputs": [
    {
     "data": {
      "text/plain": [
       "RWKV7Config {\n",
       "  \"a_low_rank_dim\": 64,\n",
       "  \"attn\": null,\n",
       "  \"attn_mode\": \"chunk\",\n",
       "  \"bos_token_id\": 1,\n",
       "  \"decay_low_rank_dim\": 64,\n",
       "  \"eos_token_id\": 2,\n",
       "  \"fuse_cross_entropy\": true,\n",
       "  \"fuse_norm\": true,\n",
       "  \"gate_low_rank_dim\": 128,\n",
       "  \"head_dim\": 64,\n",
       "  \"hidden_act\": \"sqrelu\",\n",
       "  \"hidden_ratio\": 4,\n",
       "  \"hidden_size\": 2048,\n",
       "  \"initializer_range\": 0.02,\n",
       "  \"intermediate_size\": null,\n",
       "  \"max_position_embeddings\": 2048,\n",
       "  \"model_type\": \"rwkv7\",\n",
       "  \"norm_bias\": true,\n",
       "  \"norm_eps\": 1e-05,\n",
       "  \"norm_first\": true,\n",
       "  \"num_heads\": 32,\n",
       "  \"num_hidden_layers\": 24,\n",
       "  \"tie_word_embeddings\": false,\n",
       "  \"transformers_version\": \"4.53.2\",\n",
       "  \"use_cache\": true,\n",
       "  \"use_l2warp\": true,\n",
       "  \"v_low_rank_dim\": 16,\n",
       "  \"value_dim\": [\n",
       "    2048,\n",
       "    2048,\n",
       "    2048,\n",
       "    2048,\n",
       "    2048,\n",
       "    2048,\n",
       "    2048,\n",
       "    2048,\n",
       "    2048,\n",
       "    2048,\n",
       "    2048,\n",
       "    2048,\n",
       "    2048,\n",
       "    2048,\n",
       "    2048,\n",
       "    2048,\n",
       "    2048,\n",
       "    2048,\n",
       "    2048,\n",
       "    2048,\n",
       "    2048,\n",
       "    2048,\n",
       "    2048,\n",
       "    2048\n",
       "  ],\n",
       "  \"vocab_size\": 32000\n",
       "}"
      ]
     },
     "execution_count": 2,
     "metadata": {},
     "output_type": "execute_result"
    }
   ],
   "source": [
    "RWKV7Config()"
   ]
  },
  {
   "cell_type": "code",
   "execution_count": 3,
   "id": "8b147a9a",
   "metadata": {},
   "outputs": [],
   "source": [
    "# model.config"
   ]
  },
  {
   "cell_type": "code",
   "execution_count": 4,
   "id": "a7d67b25",
   "metadata": {},
   "outputs": [],
   "source": [
    "config = RWKV7Config(\n",
    "    num_hidden_layers=24,\n",
    "    \n",
    "    a_low_rank_dim=64,\n",
    "    hidden_size=1024,\n",
    "    intermediate_size=4096,\n",
    ")"
   ]
  },
  {
   "cell_type": "code",
   "execution_count": 5,
   "id": "983e3cd9",
   "metadata": {},
   "outputs": [
    {
     "name": "stderr",
     "output_type": "stream",
     "text": [
      "/home/jovyan/.mlspace/envs/svtdanny/lib/python3.11/site-packages/fla/layers/rwkv7.py:143: UserWarning: According to Bo, you are using a potentially buggy FLA implementation of RWKV. If you plan to report any numbers based on this implementation, we strongly recommend cross-checking with the official repo: https://github.com/BlinkDL/RWKV-LM. Bo may disagree with results reported from this version.\n",
      "  warnings.warn(\n"
     ]
    }
   ],
   "source": [
    "model_h = RWKV7ForCausalLM(config)"
   ]
  },
  {
   "cell_type": "code",
   "execution_count": 6,
   "id": "dfd183cb",
   "metadata": {},
   "outputs": [],
   "source": [
    "def count_parameters_in_billions(model):\n",
    "    \"\"\"Count the number of parameters in a model and return in billions.\"\"\"\n",
    "    total_params = sum(p.numel() for p in model.parameters())\n",
    "    return total_params / 1e9\n",
    "\n"
   ]
  },
  {
   "cell_type": "code",
   "execution_count": 7,
   "id": "9d48d02f",
   "metadata": {},
   "outputs": [],
   "source": [
    "# print(f\"Model has {count_parameters_in_billions(model):.2f} billion parameters\")"
   ]
  },
  {
   "cell_type": "code",
   "execution_count": 8,
   "id": "54a7a108",
   "metadata": {},
   "outputs": [
    {
     "name": "stdout",
     "output_type": "stream",
     "text": [
      "Model has 0.38 billion parameters\n"
     ]
    },
    {
     "data": {
      "text/plain": [
       "RWKV7ForCausalLM(\n",
       "  (model): RWKV7Model(\n",
       "    (embeddings): Embedding(32000, 1024)\n",
       "    (layers): ModuleList(\n",
       "      (0): RWKV7Block(\n",
       "        (pre_norm): LayerNorm(1024, eps=1e-05)\n",
       "        (attn_norm): LayerNorm(1024, eps=1e-05)\n",
       "        (attn): RWKV7Attention(\n",
       "          (time_shift): ZeroPad2d((0, 0, 1, -1))\n",
       "          (r_proj): Linear(in_features=1024, out_features=1024, bias=False)\n",
       "          (k_proj): Linear(in_features=1024, out_features=1024, bias=False)\n",
       "          (v_proj): Linear(in_features=1024, out_features=1024, bias=False)\n",
       "          (o_proj): Linear(in_features=1024, out_features=1024, bias=False)\n",
       "          (w_lora): LoRA(input_dim=1024, low_rank_dim=64, output_dim=1024)\n",
       "          (a_lora): LoRA(input_dim=1024, low_rank_dim=64, output_dim=1024)\n",
       "          (g_lora): LoRA(input_dim=1024, low_rank_dim=128, output_dim=1024, bias=False)\n",
       "          (g_norm): GroupNorm(16, 1024, eps=0.00064)\n",
       "        )\n",
       "        (ffn_norm): LayerNorm(1024, eps=1e-05)\n",
       "        (ffn): RWKV7FeedForward(\n",
       "          (time_shift): ZeroPad2d((0, 0, 1, -1))\n",
       "          (key): Linear(in_features=1024, out_features=4096, bias=False)\n",
       "          (value): Linear(in_features=4096, out_features=1024, bias=False)\n",
       "        )\n",
       "      )\n",
       "      (1-23): 23 x RWKV7Block(\n",
       "        (attn_norm): LayerNorm(1024, eps=1e-05)\n",
       "        (attn): RWKV7Attention(\n",
       "          (time_shift): ZeroPad2d((0, 0, 1, -1))\n",
       "          (r_proj): Linear(in_features=1024, out_features=1024, bias=False)\n",
       "          (k_proj): Linear(in_features=1024, out_features=1024, bias=False)\n",
       "          (v_proj): Linear(in_features=1024, out_features=1024, bias=False)\n",
       "          (o_proj): Linear(in_features=1024, out_features=1024, bias=False)\n",
       "          (w_lora): LoRA(input_dim=1024, low_rank_dim=64, output_dim=1024)\n",
       "          (v_lora): LoRA(input_dim=1024, low_rank_dim=16, output_dim=1024)\n",
       "          (a_lora): LoRA(input_dim=1024, low_rank_dim=64, output_dim=1024)\n",
       "          (g_lora): LoRA(input_dim=1024, low_rank_dim=128, output_dim=1024, bias=False)\n",
       "          (g_norm): GroupNorm(16, 1024, eps=0.00064)\n",
       "        )\n",
       "        (ffn_norm): LayerNorm(1024, eps=1e-05)\n",
       "        (ffn): RWKV7FeedForward(\n",
       "          (time_shift): ZeroPad2d((0, 0, 1, -1))\n",
       "          (key): Linear(in_features=1024, out_features=4096, bias=False)\n",
       "          (value): Linear(in_features=4096, out_features=1024, bias=False)\n",
       "        )\n",
       "      )\n",
       "    )\n",
       "    (norm): LayerNorm(1024, eps=1e-05)\n",
       "  )\n",
       "  (lm_head): Linear(in_features=1024, out_features=32000, bias=False)\n",
       ")"
      ]
     },
     "execution_count": 8,
     "metadata": {},
     "output_type": "execute_result"
    }
   ],
   "source": [
    "print(f\"Model has {count_parameters_in_billions(model_h):.2f} billion parameters\")\n",
    "model_h"
   ]
  },
  {
   "cell_type": "code",
   "execution_count": 9,
   "id": "6770c4c4",
   "metadata": {},
   "outputs": [],
   "source": [
    "model_h.to(\"cuda\");"
   ]
  },
  {
   "cell_type": "code",
   "execution_count": 10,
   "id": "147404da",
   "metadata": {},
   "outputs": [],
   "source": [
    "import torch"
   ]
  },
  {
   "cell_type": "code",
   "execution_count": 41,
   "id": "4358e232",
   "metadata": {},
   "outputs": [],
   "source": [
    "input = torch.randint(0, 1000, (1, 1024*3), device='cuda')\n",
    "\n",
    "del o"
   ]
  },
  {
   "cell_type": "code",
   "execution_count": null,
   "id": "6223e94a",
   "metadata": {},
   "outputs": [
    {
     "ename": "",
     "evalue": "",
     "output_type": "error",
     "traceback": [
      "\u001b[1;31mThe Kernel crashed while executing code in the current cell or a previous cell. \n",
      "\u001b[1;31mPlease review the code in the cell(s) to identify a possible cause of the failure. \n",
      "\u001b[1;31mClick <a href='https://aka.ms/vscodeJupyterKernelCrash'>here</a> for more info. \n",
      "\u001b[1;31mView Jupyter <a href='command:jupyter.viewOutput'>log</a> for further details."
     ]
    }
   ],
   "source": [
    "o = model_h(input)\n",
    "\n",
    "torch.cuda.synchronize()"
   ]
  },
  {
   "cell_type": "code",
   "execution_count": null,
   "id": "1124387e",
   "metadata": {},
   "outputs": [],
   "source": []
  }
 ],
 "metadata": {
  "kernelspec": {
   "display_name": "svtdanny",
   "language": "python",
   "name": "python3"
  },
  "language_info": {
   "codemirror_mode": {
    "name": "ipython",
    "version": 3
   },
   "file_extension": ".py",
   "mimetype": "text/x-python",
   "name": "python",
   "nbconvert_exporter": "python",
   "pygments_lexer": "ipython3",
   "version": "3.11.9"
  }
 },
 "nbformat": 4,
 "nbformat_minor": 5
}
