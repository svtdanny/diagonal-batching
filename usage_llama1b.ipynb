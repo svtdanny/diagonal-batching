{
 "cells": [
  {
   "cell_type": "code",
   "execution_count": 1,
   "metadata": {},
   "outputs": [],
   "source": [
    "import sys\n"
   ]
  },
  {
   "cell_type": "code",
   "execution_count": 2,
   "metadata": {},
   "outputs": [],
   "source": [
    "sys.path.append(\"/home/jovyan/sivtsov/associative-recurrent-memory-transformer\")\n",
    "sys.path.append(\"/home/jovyan/sivtsov/armt\")"
   ]
  },
  {
   "cell_type": "code",
   "execution_count": 3,
   "metadata": {},
   "outputs": [
    {
     "name": "stderr",
     "output_type": "stream",
     "text": [
      "/home/jovyan/.mlspace/envs/svtdanny/lib/python3.11/site-packages/tqdm/auto.py:21: TqdmWarning: IProgress not found. Please update jupyter and ipywidgets. See https://ipywidgets.readthedocs.io/en/stable/user_install.html\n",
      "  from .autonotebook import tqdm as notebook_tqdm\n"
     ]
    }
   ],
   "source": [
    "import copy\n",
    "import torch\n",
    "\n",
    "from transformers import AutoTokenizer, AutoModelForCausalLM\n",
    "\n",
    "from grouped_batching.llama1b_grouping import wrap_model_with_armt, get_grouped_states, make_grouped_layer_from_single_layer, make_grouped_model_from_naive\n",
    "from grouped_batching.batching import GroupedBatcher\n",
    "from grouped_batching.executor import ArmtGroupedExecutor"
   ]
  },
  {
   "cell_type": "code",
   "execution_count": 4,
   "metadata": {},
   "outputs": [],
   "source": [
    "torch.set_default_device(\"cuda:1\")"
   ]
  },
  {
   "cell_type": "code",
   "execution_count": 5,
   "metadata": {},
   "outputs": [
    {
     "data": {
      "text/plain": [
       "''"
      ]
     },
     "execution_count": 5,
     "metadata": {},
     "output_type": "execute_result"
    }
   ],
   "source": [
    "dtype = torch.bfloat16\n",
    "torch.set_default_dtype(dtype)\n",
    "torch.set_grad_enabled(False)\n",
    ";"
   ]
  },
  {
   "cell_type": "code",
   "execution_count": 6,
   "metadata": {},
   "outputs": [],
   "source": [
    "source_model = AutoModelForCausalLM.from_pretrained(\"meta-llama/Llama-3.2-1B\"\n",
    "                                             , attn_implementation=\"sdpa\"\n",
    "                                            # , attn_implementation=\"flash_attention_2\"\n",
    "                                             ,torch_dtype=dtype)\n",
    "source_model.eval()\n",
    "source_model.lm_head = torch.nn.Identity()\n",
    "reference_model = copy.deepcopy(source_model)\n",
    "\n",
    "tokenizer = AutoTokenizer.from_pretrained(\"meta-llama/Llama-3.2-1B\")"
   ]
  },
  {
   "cell_type": "code",
   "execution_count": 7,
   "metadata": {},
   "outputs": [],
   "source": [
    "model_config = source_model.config"
   ]
  },
  {
   "cell_type": "code",
   "execution_count": 8,
   "metadata": {},
   "outputs": [],
   "source": [
    "armt_config = dict(\n",
    "    # segment_size=32,\n",
    "    # num_mem_tokens=16,\n",
    "    segment_size=512,\n",
    "    num_mem_tokens=128,\n",
    "    d_mem=64,\n",
    ")"
   ]
  },
  {
   "cell_type": "code",
   "execution_count": 9,
   "metadata": {},
   "outputs": [
    {
     "data": {
      "text/plain": [
       "''"
      ]
     },
     "execution_count": 9,
     "metadata": {},
     "output_type": "execute_result"
    }
   ],
   "source": [
    "armt_model = wrap_model_with_armt(source_model, **armt_config)\n",
    "armt_model.to(\"cuda\")\n",
    "\n",
    "armt_reference_model = wrap_model_with_armt(reference_model, **armt_config)\n",
    "armt_reference_model.to(\"cuda\")\n",
    ";"
   ]
  },
  {
   "cell_type": "code",
   "execution_count": 10,
   "metadata": {},
   "outputs": [
    {
     "name": "stderr",
     "output_type": "stream",
     "text": [
      "/tmp/ipykernel_1220491/3159263316.py:2: FutureWarning: You are using `torch.load` with `weights_only=False` (the current default value), which uses the default pickle module implicitly. It is possible to construct malicious pickle data which will execute arbitrary code during unpickling (See https://github.com/pytorch/pytorch/blob/main/SECURITY.md#untrusted-models for more details). In a future release, the default value for `weights_only` will be flipped to `True`. This limits the functions that could be executed during unpickling. Arbitrary objects will no longer be allowed to be loaded via this mode unless they are explicitly allowlisted by the user via `torch.serialization.add_safe_globals`. We recommend you start setting `weights_only=True` for any use case where you don't have full control of the loaded file. Please open an issue on GitHub for any issues related to this experimental feature.\n",
      "  cpt = torch.load(model_cpt, map_location='cuda')\n"
     ]
    }
   ],
   "source": [
    "model_cpt = \"/home/jovyan/.cache/huggingface/hub/models--irodkin--ARMT-llama3.2-1B/snapshots/746e74bba3edc4cb3eaa11e13df5d900495e2300/armt_llama3.2-1B_step19500.bin\"\n",
    "cpt = torch.load(model_cpt, map_location='cuda')"
   ]
  },
  {
   "cell_type": "code",
   "execution_count": 11,
   "metadata": {},
   "outputs": [],
   "source": [
    "# armt_model.load_state_dict(cpt, strict=False)\n",
    "# armt_reference_model.load_state_dict(cpt, strict=False)"
   ]
  },
  {
   "cell_type": "code",
   "execution_count": 12,
   "metadata": {},
   "outputs": [],
   "source": [
    "grouped_states = get_grouped_states(armt_model)\n",
    "grouped_layer = make_grouped_layer_from_single_layer(\n",
    "    copy.deepcopy(armt_model.memory_cell.model.model.layers[0]), *grouped_states)\n",
    "# grouped_layer._grouped_execution = True\n",
    "# grouped_layer._skip_associating = True\n",
    "armt_grouped_model, source_model_layers = make_grouped_model_from_naive(armt_model, grouped_layer)\n"
   ]
  },
  {
   "cell_type": "code",
   "execution_count": 13,
   "metadata": {},
   "outputs": [],
   "source": [
    "batcher = GroupedBatcher(\n",
    "    armt_grouped_model, \n",
    "    n_layers=model_config.num_hidden_layers, \n",
    "    seg_size=armt_config[\"segment_size\"]+armt_config[\"num_mem_tokens\"], \n",
    "    hid_dim=model_config.hidden_size, \n",
    "    pos_embed_dim=model_config.hidden_size\n",
    ")\n",
    "executor = ArmtGroupedExecutor(armt_grouped_model, grouped_layer, batcher)\n"
   ]
  },
  {
   "cell_type": "code",
   "execution_count": 14,
   "metadata": {},
   "outputs": [],
   "source": [
    "torch.cuda.empty_cache()"
   ]
  },
  {
   "cell_type": "code",
   "execution_count": 31,
   "metadata": {},
   "outputs": [],
   "source": [
    "num_segments = 10\n",
    "input_ids = torch.randint(\n",
    "    0, 5000, \n",
    "    (1, num_segments*armt_config[\"segment_size\"]), \n",
    "    dtype=torch.long, \n",
    "    device=\"cuda\"\n",
    ")\n"
   ]
  },
  {
   "cell_type": "code",
   "execution_count": 32,
   "metadata": {},
   "outputs": [],
   "source": [
    "armt_reference_model.memory_cell.zero_mem()\n",
    "reference_output = reference_model.forward(input_ids)"
   ]
  },
  {
   "cell_type": "code",
   "execution_count": 33,
   "metadata": {},
   "outputs": [],
   "source": [
    "output = executor.forward(input_ids)"
   ]
  },
  {
   "cell_type": "code",
   "execution_count": 34,
   "metadata": {},
   "outputs": [
    {
     "data": {
      "text/plain": [
       "tensor([[[-0.0247,  0.0835,  1.6250,  ...,  0.5977, -0.5859,  0.3242],\n",
       "         [ 0.4023,  2.0938,  4.0938,  ..., -2.2969, -0.8828,  2.1875],\n",
       "         [-0.2637,  4.8438,  3.8125,  ..., -2.0781, -6.3125,  1.6406],\n",
       "         ...,\n",
       "         [-1.6328,  4.2812,  0.6875,  ..., -0.7773, -2.3281, -0.4902],\n",
       "         [-1.1953,  4.3750, -0.3418,  ..., -2.4688, -2.9375,  1.4922],\n",
       "         [-1.7031,  4.1250,  2.4219,  ..., -0.4258, -2.7656,  0.0928]]],\n",
       "       device='cuda:0')"
      ]
     },
     "execution_count": 34,
     "metadata": {},
     "output_type": "execute_result"
    }
   ],
   "source": [
    "output.logits"
   ]
  },
  {
   "cell_type": "code",
   "execution_count": 35,
   "metadata": {},
   "outputs": [
    {
     "data": {
      "text/plain": [
       "tensor([[[-0.0247,  0.0835,  1.6250,  ...,  0.5977, -0.5859,  0.3242],\n",
       "         [ 0.4023,  2.0938,  4.0938,  ..., -2.2969, -0.8828,  2.1875],\n",
       "         [-0.2637,  4.8438,  3.8125,  ..., -2.0781, -6.3125,  1.6406],\n",
       "         ...,\n",
       "         [-1.1562,  4.0000,  0.7461,  ..., -1.9062, -2.4375,  0.4082],\n",
       "         [-0.9609,  3.7188, -0.2090,  ..., -2.4219, -2.2031,  1.3438],\n",
       "         [-1.4062,  3.9062,  2.7969,  ..., -2.2188, -2.3281,  0.7578]]],\n",
       "       device='cuda:0', dtype=torch.float32)"
      ]
     },
     "execution_count": 35,
     "metadata": {},
     "output_type": "execute_result"
    }
   ],
   "source": [
    "reference_output.logits"
   ]
  },
  {
   "cell_type": "code",
   "execution_count": 36,
   "metadata": {},
   "outputs": [
    {
     "data": {
      "text/plain": [
       "tensor(0.3627, device='cuda:0', dtype=torch.float32)"
      ]
     },
     "execution_count": 36,
     "metadata": {},
     "output_type": "execute_result"
    }
   ],
   "source": [
    "torch.norm(output.logits-reference_output.logits)/torch.norm(reference_output.logits)"
   ]
  },
  {
   "cell_type": "markdown",
   "metadata": {},
   "source": [
    "#### this way you can \"batch\" several inputs to amortize the cost of the batcher"
   ]
  },
  {
   "cell_type": "code",
   "execution_count": 38,
   "metadata": {},
   "outputs": [],
   "source": [
    "output_list = executor.forward([input_ids, input_ids])"
   ]
  },
  {
   "cell_type": "code",
   "execution_count": 39,
   "metadata": {},
   "outputs": [
    {
     "data": {
      "text/plain": [
       "True"
      ]
     },
     "execution_count": 39,
     "metadata": {},
     "output_type": "execute_result"
    }
   ],
   "source": [
    "torch.allclose(output_list[0].logits, output_list[1].logits)"
   ]
  },
  {
   "cell_type": "code",
   "execution_count": null,
   "metadata": {},
   "outputs": [],
   "source": []
  }
 ],
 "metadata": {
  "kernelspec": {
   "display_name": "svtdanny",
   "language": "python",
   "name": "python3"
  },
  "language_info": {
   "codemirror_mode": {
    "name": "ipython",
    "version": 3
   },
   "file_extension": ".py",
   "mimetype": "text/x-python",
   "name": "python",
   "nbconvert_exporter": "python",
   "pygments_lexer": "ipython3",
   "version": "3.11.9"
  }
 },
 "nbformat": 4,
 "nbformat_minor": 2
}
