{
 "cells": [
  {
   "cell_type": "code",
   "execution_count": 1,
   "metadata": {},
   "outputs": [],
   "source": [
    "import sys\n"
   ]
  },
  {
   "cell_type": "code",
   "execution_count": 2,
   "metadata": {},
   "outputs": [],
   "source": [
    "sys.path.append(\"/home/jovyan/sivtsov/associative-recurrent-memory-transformer\")\n",
    "sys.path.append(\"/home/jovyan/sivtsov/armt\")"
   ]
  },
  {
   "cell_type": "code",
   "execution_count": 3,
   "metadata": {},
   "outputs": [
    {
     "name": "stderr",
     "output_type": "stream",
     "text": [
      "/home/jovyan/.mlspace/envs/svtdanny/lib/python3.11/site-packages/tqdm/auto.py:21: TqdmWarning: IProgress not found. Please update jupyter and ipywidgets. See https://ipywidgets.readthedocs.io/en/stable/user_install.html\n",
      "  from .autonotebook import tqdm as notebook_tqdm\n"
     ]
    }
   ],
   "source": [
    "import copy\n",
    "import torch\n",
    "\n",
    "from transformers import AutoTokenizer, AutoModelForCausalLM\n",
    "\n",
    "from grouped_batching.llama1b_grouping import wrap_model_with_armt, get_grouped_states, make_grouped_layer_from_single_layer, make_grouped_model_from_naive\n",
    "from grouped_batching.batching import GroupedBatcher\n",
    "from grouped_batching.executor import ArmtGroupedExecutor"
   ]
  },
  {
   "cell_type": "code",
   "execution_count": 4,
   "metadata": {},
   "outputs": [],
   "source": [
    "# torch.set_default_device(\"cuda:1\")"
   ]
  },
  {
   "cell_type": "code",
   "execution_count": 5,
   "metadata": {},
   "outputs": [
    {
     "data": {
      "text/plain": [
       "''"
      ]
     },
     "execution_count": 5,
     "metadata": {},
     "output_type": "execute_result"
    }
   ],
   "source": [
    "dtype = torch.bfloat16\n",
    "torch.set_default_dtype(dtype)\n",
    "torch.set_grad_enabled(False)\n",
    ";"
   ]
  },
  {
   "cell_type": "code",
   "execution_count": 57,
   "metadata": {},
   "outputs": [
    {
     "name": "stderr",
     "output_type": "stream",
     "text": [
      "You are attempting to use Flash Attention 2.0 with a model not initialized on GPU. Make sure to move the model to GPU after initializing it on CPU with `model.to('cuda')`.\n"
     ]
    }
   ],
   "source": [
    "source_model = AutoModelForCausalLM.from_pretrained(\"meta-llama/Llama-3.2-1B\"\n",
    "                                            #  , attn_implementation=\"sdpa\"\n",
    "                                            , attn_implementation=\"flash_attention_2\"\n",
    "                                             ,torch_dtype=dtype)\n",
    "source_model.eval()\n",
    "source_model.lm_head = torch.nn.Identity()\n",
    "reference_model = copy.deepcopy(source_model)\n",
    "\n",
    "tokenizer = AutoTokenizer.from_pretrained(\"meta-llama/Llama-3.2-1B\")"
   ]
  },
  {
   "cell_type": "code",
   "execution_count": 58,
   "metadata": {},
   "outputs": [],
   "source": [
    "model_config = source_model.config"
   ]
  },
  {
   "cell_type": "code",
   "execution_count": 59,
   "metadata": {},
   "outputs": [],
   "source": [
    "armt_config = dict(\n",
    "    # segment_size=32,\n",
    "    # num_mem_tokens=16,\n",
    "    # segment_size=512,\n",
    "    # num_mem_tokens=128,\n",
    "    segment_size=1024,\n",
    "    num_mem_tokens=128,\n",
    "    d_mem=64,\n",
    ")"
   ]
  },
  {
   "cell_type": "code",
   "execution_count": 60,
   "metadata": {},
   "outputs": [
    {
     "data": {
      "text/plain": [
       "''"
      ]
     },
     "execution_count": 60,
     "metadata": {},
     "output_type": "execute_result"
    }
   ],
   "source": [
    "torch.manual_seed(0)\n",
    "armt_model = wrap_model_with_armt(source_model, **armt_config)\n",
    "armt_model.to(\"cuda\")\n",
    "\n",
    "torch.manual_seed(0)\n",
    "armt_reference_model = wrap_model_with_armt(reference_model, **armt_config)\n",
    "armt_reference_model.to(\"cuda\")\n",
    ";"
   ]
  },
  {
   "cell_type": "code",
   "execution_count": 61,
   "metadata": {},
   "outputs": [
    {
     "name": "stderr",
     "output_type": "stream",
     "text": [
      ".//ipykernel_2444901/3159263316.py:2: FutureWarning: You are using `torch.load` with `weights_only=False` (the current default value), which uses the default pickle module implicitly. It is possible to construct malicious pickle data which will execute arbitrary code during unpickling (See https://github.com/pytorch/pytorch/blob/main/SECURITY.md#untrusted-models for more details). In a future release, the default value for `weights_only` will be flipped to `True`. This limits the functions that could be executed during unpickling. Arbitrary objects will no longer be allowed to be loaded via this mode unless they are explicitly allowlisted by the user via `torch.serialization.add_safe_globals`. We recommend you start setting `weights_only=True` for any use case where you don't have full control of the loaded file. Please open an issue on GitHub for any issues related to this experimental feature.\n",
      "  cpt = torch.load(model_cpt, map_location='cuda')\n"
     ]
    }
   ],
   "source": [
    "model_cpt = \"/home/jovyan/.cache/huggingface/hub/models--irodkin--ARMT-llama3.2-1B/snapshots/746e74bba3edc4cb3eaa11e13df5d900495e2300/armt_llama3.2-1B_step19500.bin\"\n",
    "cpt = torch.load(model_cpt, map_location='cuda')"
   ]
  },
  {
   "cell_type": "code",
   "execution_count": 62,
   "metadata": {},
   "outputs": [],
   "source": [
    "# armt_model.load_state_dict(cpt, strict=False)\n",
    "# armt_reference_model.load_state_dict(cpt, strict=False)"
   ]
  },
  {
   "cell_type": "code",
   "execution_count": 63,
   "metadata": {},
   "outputs": [],
   "source": [
    "# grouped_states = get_grouped_states(armt_model)\n",
    "# grouped_layer = make_grouped_layer_from_single_layer(\n",
    "#     copy.deepcopy(armt_model.memory_cell.model.model.layers[0]), *grouped_states)\n",
    "# # grouped_layer._grouped_execution = True\n",
    "# # grouped_layer._skip_associating = True\n",
    "# armt_grouped_model, source_model_layers = make_grouped_model_from_naive(armt_model, grouped_layer)\n"
   ]
  },
  {
   "cell_type": "code",
   "execution_count": 64,
   "metadata": {},
   "outputs": [],
   "source": [
    "from grouped_batching.llama1b_grouping_autograd import make_grouped_training_layer_from_single_layer"
   ]
  },
  {
   "cell_type": "code",
   "execution_count": 65,
   "metadata": {},
   "outputs": [],
   "source": [
    "# grouped_layer = make_grouped_training_layer_from_single_layer(\n",
    "#     copy.deepcopy(armt_model.memory_cell.model.model.layers[0]),\n",
    "#     armt_model.memory_cell.model.model.layers\n",
    "# )\n",
    "# armt_grouped_model, source_model_layers = make_grouped_model_from_naive(armt_model, grouped_layer)\n",
    "\n",
    "grouped_states = get_grouped_states(armt_model)\n",
    "grouped_layer = make_grouped_layer_from_single_layer(\n",
    "        copy.deepcopy(armt_model.memory_cell.model.model.layers[0]), *grouped_states)\n",
    "    \n",
    "armt_grouped_model, source_model_layers = make_grouped_model_from_naive(armt_model, grouped_layer)\n",
    "    "
   ]
  },
  {
   "cell_type": "code",
   "execution_count": 66,
   "metadata": {},
   "outputs": [],
   "source": [
    "batcher = GroupedBatcher(\n",
    "    armt_grouped_model, \n",
    "    n_layers=model_config.num_hidden_layers, \n",
    "    seg_size=armt_config[\"segment_size\"]+armt_config[\"num_mem_tokens\"], \n",
    "    hid_dim=model_config.hidden_size, \n",
    "    pos_embed_dim=model_config.hidden_size\n",
    ")\n",
    "executor = ArmtGroupedExecutor(armt_grouped_model, grouped_layer, batcher)\n"
   ]
  },
  {
   "cell_type": "code",
   "execution_count": 67,
   "metadata": {},
   "outputs": [],
   "source": [
    "torch.cuda.empty_cache()"
   ]
  },
  {
   "cell_type": "code",
   "execution_count": 68,
   "metadata": {},
   "outputs": [],
   "source": [
    "num_segments = 150\n",
    "input_ids = torch.randint(\n",
    "    0, 10000, \n",
    "    (1, num_segments*armt_config[\"segment_size\"]), \n",
    "    dtype=torch.long, \n",
    "    device=\"cuda\"\n",
    ")\n"
   ]
  },
  {
   "cell_type": "code",
   "execution_count": 69,
   "metadata": {},
   "outputs": [
    {
     "data": {
      "text/plain": [
       "torch.Size([1, 153600])"
      ]
     },
     "execution_count": 69,
     "metadata": {},
     "output_type": "execute_result"
    }
   ],
   "source": [
    "input_ids.shape"
   ]
  },
  {
   "cell_type": "code",
   "execution_count": 85,
   "metadata": {},
   "outputs": [
    {
     "name": "stdout",
     "output_type": "stream",
     "text": [
      "CPU times: user 6.89 s, sys: 43.1 ms, total: 6.93 s\n",
      "Wall time: 5.59 s\n"
     ]
    }
   ],
   "source": [
    "%%time\n",
    "with torch.no_grad():\n",
    "    armt_reference_model.memory_cell.zero_mem()\n",
    "    reference_output = armt_reference_model.forward(input_ids)\n",
    "\n",
    "torch.cuda.synchronize()"
   ]
  },
  {
   "cell_type": "code",
   "execution_count": null,
   "metadata": {},
   "outputs": [],
   "source": []
  },
  {
   "cell_type": "code",
   "execution_count": 86,
   "metadata": {},
   "outputs": [
    {
     "name": "stdout",
     "output_type": "stream",
     "text": [
      "CPU times: user 3.53 s, sys: 3.75 ms, total: 3.54 s\n",
      "Wall time: 3.54 s\n"
     ]
    }
   ],
   "source": [
    "%%time\n",
    "\n",
    "with torch.no_grad():\n",
    "    output = executor.forward(input_ids)\n",
    "\n",
    "torch.cuda.synchronize()"
   ]
  },
  {
   "cell_type": "code",
   "execution_count": 87,
   "metadata": {},
   "outputs": [
    {
     "data": {
      "text/plain": [
       "tensor(0.0104, device='cuda:0')"
      ]
     },
     "execution_count": 87,
     "metadata": {},
     "output_type": "execute_result"
    }
   ],
   "source": [
    "torch.norm(output.logits-reference_output.logits)/torch.norm(reference_output.logits)"
   ]
  },
  {
   "cell_type": "code",
   "execution_count": null,
   "metadata": {},
   "outputs": [],
   "source": []
  },
  {
   "cell_type": "code",
   "execution_count": 82,
   "metadata": {},
   "outputs": [
    {
     "data": {
      "text/plain": [
       "(tensor(0., device='cuda:0'), tensor(0.))"
      ]
     },
     "execution_count": 82,
     "metadata": {},
     "output_type": "execute_result"
    }
   ],
   "source": [
    "# for some it is zero during all computations\n",
    "executor.armt_model.memory_cell.model.model.layers[0].W_mem.abs().sum(), armt_reference_model.memory_cell.model.model.layers[0].W_mem.abs().sum()"
   ]
  },
  {
   "cell_type": "code",
   "execution_count": 26,
   "metadata": {},
   "outputs": [
    {
     "data": {
      "text/plain": [
       "tensor([[2.7895e-05, 3.6478e-05, 7.2098e-04,  ..., 2.5269e-02, 3.2471e-02,\n",
       "         3.5048e-05],\n",
       "        [1.6504e-01, 8.3594e-01, 0.0000e+00,  ..., 1.2741e-03, 2.8125e+00,\n",
       "         6.1719e-01],\n",
       "        [1.1875e+00, 1.0498e-01, 3.5400e-02,  ..., 8.8281e-01, 1.1826e-03,\n",
       "         9.6094e-01],\n",
       "        ...,\n",
       "        [5.8594e-02, 9.1250e+00, 2.6250e+00,  ..., 3.4531e+00, 3.6133e-01,\n",
       "         9.8877e-03],\n",
       "        [5.9766e-01, 5.2002e-02, 7.8125e-03,  ..., 5.6763e-03, 0.0000e+00,\n",
       "         2.5156e+00],\n",
       "        [6.2988e-02, 0.0000e+00, 0.0000e+00,  ..., 0.0000e+00, 2.1625e+01,\n",
       "         3.3691e-02]], device='cuda:0')"
      ]
     },
     "execution_count": 26,
     "metadata": {},
     "output_type": "execute_result"
    }
   ],
   "source": [
    "executor.armt_model.memory_cell.model.model.layers[0].z"
   ]
  },
  {
   "cell_type": "code",
   "execution_count": null,
   "metadata": {},
   "outputs": [],
   "source": []
  },
  {
   "cell_type": "markdown",
   "metadata": {},
   "source": [
    "#### this way you can \"batch\" several inputs to amortize the cost of the batcher\n",
    "\n",
    "__BUT:__ this will work only for discriminative tasks for now, because for autoregressive generation memory of all entries in batch should be preserved (currently only last segment memory will be preserved) "
   ]
  },
  {
   "cell_type": "code",
   "execution_count": 26,
   "metadata": {},
   "outputs": [
    {
     "name": "stdout",
     "output_type": "stream",
     "text": [
      "torch.Size([16, 128, 1]) torch.Size([16, 1, 1])\n",
      "torch.Size([16, 128, 1]) torch.Size([16, 1, 1])\n",
      "torch.Size([16, 128, 1]) torch.Size([16, 1, 1])\n",
      "torch.Size([16, 128, 1]) torch.Size([16, 1, 1])\n",
      "torch.Size([16, 128, 1]) torch.Size([16, 1, 1])\n",
      "torch.Size([16, 128, 1]) torch.Size([16, 1, 1])\n",
      "torch.Size([16, 128, 1]) torch.Size([16, 1, 1])\n",
      "torch.Size([16, 128, 1]) torch.Size([16, 1, 1])\n",
      "torch.Size([16, 128, 1]) torch.Size([16, 1, 1])\n",
      "torch.Size([16, 128, 1]) torch.Size([16, 1, 1])\n",
      "torch.Size([16, 128, 1]) torch.Size([16, 1, 1])\n",
      "torch.Size([16, 128, 1]) torch.Size([16, 1, 1])\n",
      "torch.Size([16, 128, 1]) torch.Size([16, 1, 1])\n",
      "torch.Size([16, 128, 1]) torch.Size([16, 1, 1])\n",
      "torch.Size([16, 128, 1]) torch.Size([16, 1, 1])\n",
      "torch.Size([16, 128, 1]) torch.Size([16, 1, 1])\n",
      "torch.Size([16, 128, 1]) torch.Size([16, 1, 1])\n",
      "torch.Size([16, 128, 1]) torch.Size([16, 1, 1])\n",
      "torch.Size([16, 128, 1]) torch.Size([16, 1, 1])\n",
      "torch.Size([16, 128, 1]) torch.Size([16, 1, 1])\n",
      "torch.Size([16, 128, 1]) torch.Size([16, 1, 1])\n",
      "torch.Size([16, 128, 1]) torch.Size([16, 1, 1])\n",
      "torch.Size([16, 128, 1]) torch.Size([16, 1, 1])\n",
      "torch.Size([16, 128, 1]) torch.Size([16, 1, 1])\n",
      "torch.Size([16, 128, 1]) torch.Size([16, 1, 1])\n",
      "torch.Size([16, 128, 1]) torch.Size([16, 1, 1])\n",
      "torch.Size([16, 128, 1]) torch.Size([16, 1, 1])\n",
      "torch.Size([16, 128, 1]) torch.Size([16, 1, 1])\n",
      "torch.Size([16, 128, 1]) torch.Size([16, 1, 1])\n",
      "torch.Size([16, 128, 1]) torch.Size([16, 1, 1])\n",
      "torch.Size([16, 128, 1]) torch.Size([16, 1, 1])\n",
      "torch.Size([16, 128, 1]) torch.Size([16, 1, 1])\n",
      "torch.Size([16, 128, 1]) torch.Size([16, 1, 1])\n",
      "torch.Size([16, 128, 1]) torch.Size([16, 1, 1])\n",
      "torch.Size([16, 128, 1]) torch.Size([16, 1, 1])\n"
     ]
    }
   ],
   "source": [
    "output_list = executor.forward([input_ids, input_ids])"
   ]
  },
  {
   "cell_type": "code",
   "execution_count": 39,
   "metadata": {},
   "outputs": [
    {
     "data": {
      "text/plain": [
       "True"
      ]
     },
     "execution_count": 39,
     "metadata": {},
     "output_type": "execute_result"
    }
   ],
   "source": [
    "torch.allclose(output_list[0].logits, output_list[1].logits)"
   ]
  },
  {
   "cell_type": "code",
   "execution_count": null,
   "metadata": {},
   "outputs": [],
   "source": []
  }
 ],
 "metadata": {
  "kernelspec": {
   "display_name": "svtdanny",
   "language": "python",
   "name": "python3"
  },
  "language_info": {
   "codemirror_mode": {
    "name": "ipython",
    "version": 3
   },
   "file_extension": ".py",
   "mimetype": "text/x-python",
   "name": "python",
   "nbconvert_exporter": "python",
   "pygments_lexer": "ipython3",
   "version": "3.11.9"
  }
 },
 "nbformat": 4,
 "nbformat_minor": 2
}
