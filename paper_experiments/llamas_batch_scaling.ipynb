{
 "cells": [
  {
   "cell_type": "code",
   "execution_count": 2,
   "metadata": {},
   "outputs": [],
   "source": [
    "import sys\n",
    "import copy\n",
    "import torch\n",
    "\n",
    "from transformers import AutoTokenizer, AutoModelForCausalLM\n"
   ]
  },
  {
   "cell_type": "code",
   "execution_count": null,
   "metadata": {},
   "outputs": [],
   "source": [
    "HOME_DIR = \"..\""
   ]
  },
  {
   "cell_type": "code",
   "execution_count": 3,
   "metadata": {},
   "outputs": [],
   "source": [
    "import os \n",
    "os.environ[\"CUDA_VISIBLE_DEVICES\"] = '1'"
   ]
  },
  {
   "cell_type": "code",
   "execution_count": 4,
   "metadata": {},
   "outputs": [
    {
     "data": {
      "text/plain": [
       "''"
      ]
     },
     "execution_count": 4,
     "metadata": {},
     "output_type": "execute_result"
    }
   ],
   "source": [
    "dtype = torch.bfloat16\n",
    "torch.set_default_dtype(dtype)\n",
    "torch.set_grad_enabled(False)\n",
    ";"
   ]
  },
  {
   "cell_type": "code",
   "execution_count": 5,
   "metadata": {},
   "outputs": [
    {
     "name": "stderr",
     "output_type": "stream",
     "text": [
      "You are attempting to use Flash Attention 2.0 with a model not initialized on GPU. Make sure to move the model to GPU after initializing it on CPU with `model.to('cuda')`.\n"
     ]
    }
   ],
   "source": [
    "model = AutoModelForCausalLM.from_pretrained(\n",
    "                                                    \"meta-llama/Llama-3.2-1B\"\n",
    "                                                    # \"meta-llama/Llama-3.2-3B\"\n",
    "                                                    # \"deepseek-ai/DeepSeek-R1-Distill-Llama-8B\"\n",
    "                                                    # \"JackFram/llama-160m\"\n",
    "                                            #  , attn_implementation=\"sdpa\"\n",
    "                                            , attn_implementation=\"flash_attention_2\"\n",
    "                                             ,torch_dtype=dtype)\n",
    "model.eval()\n",
    "model.lm_head = torch.nn.Identity()\n",
    "# model.to('cuda');\n",
    "\n",
    "# tokenizer = AutoTokenizer.from_pretrained(\"meta-llama/Llama-3.2-1B\")"
   ]
  },
  {
   "cell_type": "code",
   "execution_count": null,
   "metadata": {},
   "outputs": [],
   "source": []
  },
  {
   "cell_type": "code",
   "execution_count": 6,
   "metadata": {},
   "outputs": [],
   "source": [
    "import sys\n",
    "sys.path.append(f\"{HOME_DIR}/associative-recurrent-memory-transformer\")\n",
    "sys.path.append(f\"{HOME_DIR}\")\n",
    "\n",
    "from grouped_batching.llama1b_grouping import (\n",
    "    wrap_model_with_armt\n",
    ")"
   ]
  },
  {
   "cell_type": "code",
   "execution_count": 9,
   "metadata": {},
   "outputs": [],
   "source": [
    "import time\n",
    "import pandas as pd\n",
    "import numpy as np\n",
    "from tqdm import tqdm\n",
    "\n",
    "# Define dimensions and batch sizes\n",
    "\n",
    "hidden_size = model.config.hidden_size # llama-3.2-1B\n",
    "\n",
    "seq_len = [512, 1024, 2048, 4096]\n",
    "batch_sizes = range(1, 17)\n",
    "# batch_sizes = [1, 2, 4, 8]\n",
    "# batch_sizes = [1, 2, 3, 4, 5, 6, 7, 8]"
   ]
  },
  {
   "cell_type": "code",
   "execution_count": 10,
   "metadata": {},
   "outputs": [],
   "source": [
    "SEQ_ARMT_MULTIPLIER = 1\n",
    "\n",
    "def measure_computation_time_armt(armt_model, batch_size, seq_len, hidden_size, num_iterations=6):\n",
    "    \"\"\"\n",
    "    Measure the computation time for a given model with specific hidden size and batch size.\n",
    "    \n",
    "    Args:\n",
    "        model: The model to evaluate\n",
    "        hidden_size: Size of the hidden dimension\n",
    "        batch_size: Batch size for inference\n",
    "        seq_len: Sequence length\n",
    "        num_iterations: Number of iterations to average over\n",
    "        \n",
    "    Returns:\n",
    "        float: Average computation time in milliseconds\n",
    "    \"\"\"\n",
    "    # Create random input\n",
    "    input_ids = torch.randint(\n",
    "        0, 10000, \n",
    "        (batch_size, seq_len), \n",
    "        # dtype=torch.long, \n",
    "        device=\"cuda\"\n",
    "    )\n",
    "    \n",
    "    input_ids2 = torch.randint(\n",
    "        0, 10000, \n",
    "        (batch_size, seq_len + seq_len*SEQ_ARMT_MULTIPLIER), \n",
    "        # dtype=torch.long, \n",
    "        device=\"cuda\"\n",
    "    )\n",
    "    \n",
    "    # Warm-up\n",
    "    _ = armt_model.forward(input_ids)\n",
    "    torch.cuda.synchronize()\n",
    "    \n",
    "    # Measure time\n",
    "    times = []\n",
    "    for _ in range(num_iterations):\n",
    "        armt_model.memory_cell.zero_mem()\n",
    "        start_time = time.time()\n",
    "        _ = armt_model.forward(input_ids)\n",
    "        torch.cuda.synchronize()\n",
    "        end_time = time.time()\n",
    "        times.append((end_time - start_time) * 1000)  # Convert to ms\n",
    "        \n",
    "    # Measure time\n",
    "    times2 = []\n",
    "    for _ in range(num_iterations):\n",
    "        armt_model.memory_cell.zero_mem()\n",
    "        start_time = time.time()\n",
    "        _ = armt_model.forward(input_ids2)\n",
    "        torch.cuda.synchronize()\n",
    "        end_time = time.time()\n",
    "        times2.append((end_time - start_time) * 1000)  # Convert to ms\n",
    "    \n",
    "    mean = (np.mean(times2) - np.mean(times))/SEQ_ARMT_MULTIPLIER\n",
    "    std = np.sqrt((np.var(times2) + np.var(times) - 2 * np.cov(times2, times)[0, 1]) / SEQ_ARMT_MULTIPLIER)\n",
    "    print(mean, std)\n",
    "    return mean, std"
   ]
  },
  {
   "cell_type": "code",
   "execution_count": 11,
   "metadata": {},
   "outputs": [
    {
     "name": "stderr",
     "output_type": "stream",
     "text": [
      "Hidden dimensions: 0it [00:00, ?it/s]"
     ]
    },
    {
     "name": "stdout",
     "output_type": "stream",
     "text": [
      "2672.452926635742 17.75111349783648\n"
     ]
    },
    {
     "name": "stderr",
     "output_type": "stream",
     "text": [
      "/tmp/ipykernel_481898/3591930337.py:57: RuntimeWarning: invalid value encountered in sqrt\n",
      "  std = np.sqrt((np.var(times2) + np.var(times) - 2 * np.cov(times2, times)[0, 1]) / SEQ_ARMT_MULTIPLIER)\n"
     ]
    },
    {
     "name": "stdout",
     "output_type": "stream",
     "text": [
      "2341.7208194732666 nan\n"
     ]
    },
    {
     "name": "stderr",
     "output_type": "stream",
     "text": []
    },
    {
     "name": "stdout",
     "output_type": "stream",
     "text": [
      "2003.9315223693848 nan\n"
     ]
    },
    {
     "name": "stderr",
     "output_type": "stream",
     "text": []
    },
    {
     "name": "stdout",
     "output_type": "stream",
     "text": [
      "1688.5044574737549 2.1573999249295603\n"
     ]
    },
    {
     "name": "stderr",
     "output_type": "stream",
     "text": []
    },
    {
     "name": "stdout",
     "output_type": "stream",
     "text": [
      "1347.2740650177002 4.107698034453354\n"
     ]
    },
    {
     "name": "stderr",
     "output_type": "stream",
     "text": []
    },
    {
     "name": "stdout",
     "output_type": "stream",
     "text": [
      "1022.7264165878296 7.271970055229299\n"
     ]
    },
    {
     "name": "stderr",
     "output_type": "stream",
     "text": []
    },
    {
     "name": "stdout",
     "output_type": "stream",
     "text": [
      "680.4335117340088 9.243447433990838\n"
     ]
    },
    {
     "name": "stderr",
     "output_type": "stream",
     "text": [
      "Hidden dimensions: 1it [01:35, 95.88s/it]"
     ]
    },
    {
     "name": "stdout",
     "output_type": "stream",
     "text": [
      "366.35661125183105 4.15762173958195\n"
     ]
    },
    {
     "name": "stderr",
     "output_type": "stream",
     "text": []
    },
    {
     "name": "stdout",
     "output_type": "stream",
     "text": [
      "1352.7899980545044 6.815737862539368\n"
     ]
    },
    {
     "name": "stderr",
     "output_type": "stream",
     "text": []
    },
    {
     "name": "stdout",
     "output_type": "stream",
     "text": [
      "1193.8786506652832 3.6013609086785165\n"
     ]
    },
    {
     "name": "stderr",
     "output_type": "stream",
     "text": []
    },
    {
     "name": "stdout",
     "output_type": "stream",
     "text": [
      "1019.9499130249023 0.833681317563563\n"
     ]
    },
    {
     "name": "stderr",
     "output_type": "stream",
     "text": []
    },
    {
     "name": "stdout",
     "output_type": "stream",
     "text": [
      "858.9732646942139 1.423721111642911\n"
     ]
    },
    {
     "name": "stderr",
     "output_type": "stream",
     "text": []
    },
    {
     "name": "stdout",
     "output_type": "stream",
     "text": [
      "697.6742744445801 nan\n"
     ]
    },
    {
     "name": "stderr",
     "output_type": "stream",
     "text": []
    },
    {
     "name": "stdout",
     "output_type": "stream",
     "text": [
      "527.4996757507324 6.004562952077727\n"
     ]
    },
    {
     "name": "stderr",
     "output_type": "stream",
     "text": []
    },
    {
     "name": "stdout",
     "output_type": "stream",
     "text": [
      "375.0349283218384 nan\n"
     ]
    },
    {
     "name": "stderr",
     "output_type": "stream",
     "text": [
      "Hidden dimensions: 2it [02:31, 72.49s/it]"
     ]
    },
    {
     "name": "stdout",
     "output_type": "stream",
     "text": [
      "195.44756412506104 1.0216843479601552\n"
     ]
    },
    {
     "name": "stderr",
     "output_type": "stream",
     "text": []
    },
    {
     "name": "stdout",
     "output_type": "stream",
     "text": [
      "728.9693355560303 1.75619683703701\n"
     ]
    },
    {
     "name": "stderr",
     "output_type": "stream",
     "text": []
    },
    {
     "name": "stdout",
     "output_type": "stream",
     "text": [
      "651.8367528915405 0.28854876330645357\n"
     ]
    },
    {
     "name": "stderr",
     "output_type": "stream",
     "text": []
    },
    {
     "name": "stdout",
     "output_type": "stream",
     "text": [
      "537.2991561889648 0.16847237820705488\n"
     ]
    },
    {
     "name": "stderr",
     "output_type": "stream",
     "text": []
    },
    {
     "name": "stdout",
     "output_type": "stream",
     "text": [
      "467.27192401885986 3.8747495997801003\n"
     ]
    },
    {
     "name": "stderr",
     "output_type": "stream",
     "text": []
    },
    {
     "name": "stdout",
     "output_type": "stream",
     "text": [
      "383.29076766967773 0.9057929425708972\n"
     ]
    },
    {
     "name": "stderr",
     "output_type": "stream",
     "text": []
    },
    {
     "name": "stdout",
     "output_type": "stream",
     "text": [
      "281.4769744873047 2.8727036391518492\n"
     ]
    },
    {
     "name": "stderr",
     "output_type": "stream",
     "text": []
    },
    {
     "name": "stdout",
     "output_type": "stream",
     "text": [
      "209.50114727020264 4.884909983109183\n"
     ]
    },
    {
     "name": "stderr",
     "output_type": "stream",
     "text": [
      "Hidden dimensions: 3it [03:07, 55.72s/it]"
     ]
    },
    {
     "name": "stdout",
     "output_type": "stream",
     "text": [
      "112.74635791778564 0.6200593588566231\n"
     ]
    },
    {
     "name": "stderr",
     "output_type": "stream",
     "text": []
    },
    {
     "name": "stdout",
     "output_type": "stream",
     "text": [
      "416.55445098876953 1.4734483650940713\n"
     ]
    },
    {
     "name": "stderr",
     "output_type": "stream",
     "text": []
    },
    {
     "name": "stdout",
     "output_type": "stream",
     "text": [
      "389.346718788147 nan\n"
     ]
    },
    {
     "name": "stderr",
     "output_type": "stream",
     "text": []
    },
    {
     "name": "stdout",
     "output_type": "stream",
     "text": [
      "332.10718631744385 3.6705955734073683\n"
     ]
    },
    {
     "name": "stderr",
     "output_type": "stream",
     "text": []
    },
    {
     "name": "stdout",
     "output_type": "stream",
     "text": [
      "268.00405979156494 0.13304851557004777\n"
     ]
    },
    {
     "name": "stderr",
     "output_type": "stream",
     "text": []
    },
    {
     "name": "stdout",
     "output_type": "stream",
     "text": [
      "224.52259063720703 3.8080744436052103\n"
     ]
    },
    {
     "name": "stderr",
     "output_type": "stream",
     "text": []
    },
    {
     "name": "stdout",
     "output_type": "stream",
     "text": [
      "177.91175842285156 0.05042059741238046\n"
     ]
    },
    {
     "name": "stderr",
     "output_type": "stream",
     "text": []
    },
    {
     "name": "stdout",
     "output_type": "stream",
     "text": [
      "127.04670429229736 0.22026318850083496\n"
     ]
    },
    {
     "name": "stderr",
     "output_type": "stream",
     "text": [
      "Hidden dimensions: 4it [03:33, 53.41s/it]"
     ]
    },
    {
     "name": "stdout",
     "output_type": "stream",
     "text": [
      "73.02677631378174 nan\n"
     ]
    },
    {
     "name": "stderr",
     "output_type": "stream",
     "text": [
      "\n"
     ]
    }
   ],
   "source": [
    "\n",
    "# Create results dataframe\n",
    "results_armt = pd.DataFrame(index=seq_len, columns=batch_sizes)\n",
    "results_armt_std = pd.DataFrame(index=seq_len, columns=batch_sizes)\n",
    "\n",
    "# Measure computation time for each combination\n",
    "for seq_dim in tqdm(reversed(seq_len), desc=\"Hidden dimensions\"):\n",
    "    armt_config = dict(\n",
    "        segment_size=seq_dim,\n",
    "        num_mem_tokens=128,\n",
    "        d_mem=64,\n",
    "    )\n",
    "    torch.manual_seed(0)\n",
    "    use_armt_model = wrap_model_with_armt(copy.deepcopy(model).to('cpu'), **armt_config)\n",
    "    use_armt_model.to(\"cuda\")\n",
    "    \n",
    "    for batch in tqdm(reversed(batch_sizes), desc=f\"Batch sizes for seq_len={seq_dim}\", leave=False):\n",
    "        mean, std = measure_computation_time_armt(use_armt_model, batch, seq_dim, hidden_size, num_iterations=2)\n",
    "        results_armt.loc[seq_dim, batch] = mean/batch\n",
    "        results_armt_std.loc[seq_dim, batch] = std/np.sqrt(batch)# per element. assume iid. Its not true, but we have no choice.\n",
    "        \n",
    "    del use_armt_model\n",
    "    torch.cuda.empty_cache()"
   ]
  },
  {
   "cell_type": "code",
   "execution_count": 11,
   "metadata": {},
   "outputs": [
    {
     "data": {
      "text/html": [
       "<div>\n",
       "<style scoped>\n",
       "    .dataframe tbody tr th:only-of-type {\n",
       "        vertical-align: middle;\n",
       "    }\n",
       "\n",
       "    .dataframe tbody tr th {\n",
       "        vertical-align: top;\n",
       "    }\n",
       "\n",
       "    .dataframe thead th {\n",
       "        text-align: right;\n",
       "    }\n",
       "</style>\n",
       "<table border=\"1\" class=\"dataframe\">\n",
       "  <thead>\n",
       "    <tr style=\"text-align: right;\">\n",
       "      <th></th>\n",
       "      <th>1</th>\n",
       "      <th>2</th>\n",
       "      <th>3</th>\n",
       "      <th>4</th>\n",
       "      <th>5</th>\n",
       "      <th>6</th>\n",
       "      <th>7</th>\n",
       "      <th>8</th>\n",
       "      <th>9</th>\n",
       "      <th>10</th>\n",
       "      <th>11</th>\n",
       "      <th>12</th>\n",
       "      <th>13</th>\n",
       "      <th>14</th>\n",
       "      <th>15</th>\n",
       "      <th>16</th>\n",
       "    </tr>\n",
       "  </thead>\n",
       "  <tbody>\n",
       "    <tr>\n",
       "      <th>512</th>\n",
       "      <td>70.157925</td>\n",
       "      <td>37.801584</td>\n",
       "      <td>31.699419</td>\n",
       "      <td>29.944738</td>\n",
       "      <td>27.768501</td>\n",
       "      <td>28.091802</td>\n",
       "      <td>26.721182</td>\n",
       "      <td>26.461254</td>\n",
       "      <td>25.993956</td>\n",
       "      <td>25.627685</td>\n",
       "      <td>26.411541</td>\n",
       "      <td>25.230441</td>\n",
       "      <td>25.448701</td>\n",
       "      <td>24.586791</td>\n",
       "      <td>24.888044</td>\n",
       "      <td>24.163256</td>\n",
       "    </tr>\n",
       "    <tr>\n",
       "      <th>1024</th>\n",
       "      <td>63.086748</td>\n",
       "      <td>52.276572</td>\n",
       "      <td>47.305796</td>\n",
       "      <td>46.702623</td>\n",
       "      <td>46.529134</td>\n",
       "      <td>44.268211</td>\n",
       "      <td>45.10355</td>\n",
       "      <td>44.002801</td>\n",
       "      <td>44.692737</td>\n",
       "      <td>43.552947</td>\n",
       "      <td>43.665416</td>\n",
       "      <td>42.518602</td>\n",
       "      <td>43.140375</td>\n",
       "      <td>42.633301</td>\n",
       "      <td>43.050596</td>\n",
       "      <td>42.405183</td>\n",
       "    </tr>\n",
       "    <tr>\n",
       "      <th>2048</th>\n",
       "      <td>103.656292</td>\n",
       "      <td>93.047341</td>\n",
       "      <td>87.422636</td>\n",
       "      <td>85.889816</td>\n",
       "      <td>84.963131</td>\n",
       "      <td>83.391468</td>\n",
       "      <td>83.232687</td>\n",
       "      <td>82.99156</td>\n",
       "      <td>81.611916</td>\n",
       "      <td>81.303279</td>\n",
       "      <td>80.804334</td>\n",
       "      <td>80.603129</td>\n",
       "      <td>80.677894</td>\n",
       "      <td>82.768196</td>\n",
       "      <td>80.230024</td>\n",
       "      <td>80.307658</td>\n",
       "    </tr>\n",
       "    <tr>\n",
       "      <th>4096</th>\n",
       "      <td>189.899683</td>\n",
       "      <td>174.526334</td>\n",
       "      <td>168.191698</td>\n",
       "      <td>165.594618</td>\n",
       "      <td>165.858984</td>\n",
       "      <td>162.695924</td>\n",
       "      <td>162.431444</td>\n",
       "      <td>162.25792</td>\n",
       "      <td>162.065621</td>\n",
       "      <td>161.185606</td>\n",
       "      <td>163.641373</td>\n",
       "      <td>160.166389</td>\n",
       "      <td>160.071471</td>\n",
       "      <td>161.892653</td>\n",
       "      <td>160.007901</td>\n",
       "      <td>NaN</td>\n",
       "    </tr>\n",
       "  </tbody>\n",
       "</table>\n",
       "</div>"
      ],
      "text/plain": [
       "              1           2           3           4           5           6   \\\n",
       "512    70.157925   37.801584   31.699419   29.944738   27.768501   28.091802   \n",
       "1024   63.086748   52.276572   47.305796   46.702623   46.529134   44.268211   \n",
       "2048  103.656292   93.047341   87.422636   85.889816   84.963131   83.391468   \n",
       "4096  189.899683  174.526334  168.191698  165.594618  165.858984  162.695924   \n",
       "\n",
       "              7          8           9           10          11          12  \\\n",
       "512    26.721182  26.461254   25.993956   25.627685   26.411541   25.230441   \n",
       "1024    45.10355  44.002801   44.692737   43.552947   43.665416   42.518602   \n",
       "2048   83.232687   82.99156   81.611916   81.303279   80.804334   80.603129   \n",
       "4096  162.431444  162.25792  162.065621  161.185606  163.641373  160.166389   \n",
       "\n",
       "              13          14          15         16  \n",
       "512    25.448701   24.586791   24.888044  24.163256  \n",
       "1024   43.140375   42.633301   43.050596  42.405183  \n",
       "2048   80.677894   82.768196   80.230024  80.307658  \n",
       "4096  160.071471  161.892653  160.007901        NaN  "
      ]
     },
     "execution_count": 11,
     "metadata": {},
     "output_type": "execute_result"
    }
   ],
   "source": [
    "results_armt"
   ]
  },
  {
   "cell_type": "code",
   "execution_count": 57,
   "metadata": {},
   "outputs": [
    {
     "data": {
      "text/html": [
       "<div>\n",
       "<style scoped>\n",
       "    .dataframe tbody tr th:only-of-type {\n",
       "        vertical-align: middle;\n",
       "    }\n",
       "\n",
       "    .dataframe tbody tr th {\n",
       "        vertical-align: top;\n",
       "    }\n",
       "\n",
       "    .dataframe thead th {\n",
       "        text-align: right;\n",
       "    }\n",
       "</style>\n",
       "<table border=\"1\" class=\"dataframe\">\n",
       "  <thead>\n",
       "    <tr style=\"text-align: right;\">\n",
       "      <th></th>\n",
       "      <th>1</th>\n",
       "      <th>2</th>\n",
       "      <th>3</th>\n",
       "      <th>4</th>\n",
       "      <th>5</th>\n",
       "      <th>6</th>\n",
       "      <th>7</th>\n",
       "      <th>8</th>\n",
       "      <th>9</th>\n",
       "      <th>10</th>\n",
       "      <th>11</th>\n",
       "      <th>12</th>\n",
       "      <th>13</th>\n",
       "      <th>14</th>\n",
       "      <th>15</th>\n",
       "      <th>16</th>\n",
       "    </tr>\n",
       "  </thead>\n",
       "  <tbody>\n",
       "    <tr>\n",
       "      <th>512</th>\n",
       "      <td>10.308947</td>\n",
       "      <td>4.904785</td>\n",
       "      <td>4.213835</td>\n",
       "      <td>3.083261</td>\n",
       "      <td>1.33932</td>\n",
       "      <td>0.150985</td>\n",
       "      <td>NaN</td>\n",
       "      <td>0.034172</td>\n",
       "      <td>0.052356</td>\n",
       "      <td>39.30718</td>\n",
       "      <td>1.355277</td>\n",
       "      <td>0.19506</td>\n",
       "      <td>0.430942</td>\n",
       "      <td>0.159822</td>\n",
       "      <td>0.069855</td>\n",
       "      <td>0.057315</td>\n",
       "    </tr>\n",
       "    <tr>\n",
       "      <th>1024</th>\n",
       "      <td>2.309447</td>\n",
       "      <td>NaN</td>\n",
       "      <td>4.255253</td>\n",
       "      <td>1.014859</td>\n",
       "      <td>0.57315</td>\n",
       "      <td>0.353603</td>\n",
       "      <td>0.038942</td>\n",
       "      <td>0.045838</td>\n",
       "      <td>0.073711</td>\n",
       "      <td>0.07769</td>\n",
       "      <td>0.061654</td>\n",
       "      <td>0.037046</td>\n",
       "      <td>0.108982</td>\n",
       "      <td>0.303856</td>\n",
       "      <td>0.031839</td>\n",
       "      <td>0.06731</td>\n",
       "    </tr>\n",
       "    <tr>\n",
       "      <th>2048</th>\n",
       "      <td>4.216064</td>\n",
       "      <td>1.190251</td>\n",
       "      <td>0.255779</td>\n",
       "      <td>0.56958</td>\n",
       "      <td>0.224711</td>\n",
       "      <td>0.089689</td>\n",
       "      <td>0.081277</td>\n",
       "      <td>0.111998</td>\n",
       "      <td>0.212305</td>\n",
       "      <td>0.047065</td>\n",
       "      <td>0.080239</td>\n",
       "      <td>0.078464</td>\n",
       "      <td>0.623853</td>\n",
       "      <td>0.019601</td>\n",
       "      <td>0.043819</td>\n",
       "      <td>0.020638</td>\n",
       "    </tr>\n",
       "    <tr>\n",
       "      <th>4096</th>\n",
       "      <td>1.481394</td>\n",
       "      <td>0.205209</td>\n",
       "      <td>0.256534</td>\n",
       "      <td>0.047557</td>\n",
       "      <td>0.040554</td>\n",
       "      <td>0.201718</td>\n",
       "      <td>0.051691</td>\n",
       "      <td>0.051215</td>\n",
       "      <td>0.059286</td>\n",
       "      <td>0.051272</td>\n",
       "      <td>0.034631</td>\n",
       "      <td>0.048035</td>\n",
       "      <td>0.050844</td>\n",
       "      <td>0.060549</td>\n",
       "      <td>0.028714</td>\n",
       "      <td>0.061314</td>\n",
       "    </tr>\n",
       "  </tbody>\n",
       "</table>\n",
       "</div>"
      ],
      "text/plain": [
       "             1         2         3         4         5         6         7   \\\n",
       "512   10.308947  4.904785  4.213835  3.083261   1.33932  0.150985       NaN   \n",
       "1024   2.309447       NaN  4.255253  1.014859   0.57315  0.353603  0.038942   \n",
       "2048   4.216064  1.190251  0.255779   0.56958  0.224711  0.089689  0.081277   \n",
       "4096   1.481394  0.205209  0.256534  0.047557  0.040554  0.201718  0.051691   \n",
       "\n",
       "            8         9         10        11        12        13        14  \\\n",
       "512   0.034172  0.052356  39.30718  1.355277   0.19506  0.430942  0.159822   \n",
       "1024  0.045838  0.073711   0.07769  0.061654  0.037046  0.108982  0.303856   \n",
       "2048  0.111998  0.212305  0.047065  0.080239  0.078464  0.623853  0.019601   \n",
       "4096  0.051215  0.059286  0.051272  0.034631  0.048035  0.050844  0.060549   \n",
       "\n",
       "            15        16  \n",
       "512   0.069855  0.057315  \n",
       "1024  0.031839   0.06731  \n",
       "2048  0.043819  0.020638  \n",
       "4096  0.028714  0.061314  "
      ]
     },
     "execution_count": 57,
     "metadata": {},
     "output_type": "execute_result"
    }
   ],
   "source": [
    "results_armt_std"
   ]
  },
  {
   "cell_type": "code",
   "execution_count": 58,
   "metadata": {},
   "outputs": [
    {
     "data": {
      "text/html": [
       "<div>\n",
       "<style scoped>\n",
       "    .dataframe tbody tr th:only-of-type {\n",
       "        vertical-align: middle;\n",
       "    }\n",
       "\n",
       "    .dataframe tbody tr th {\n",
       "        vertical-align: top;\n",
       "    }\n",
       "\n",
       "    .dataframe thead th {\n",
       "        text-align: right;\n",
       "    }\n",
       "</style>\n",
       "<table border=\"1\" class=\"dataframe\">\n",
       "  <thead>\n",
       "    <tr style=\"text-align: right;\">\n",
       "      <th></th>\n",
       "      <th>1</th>\n",
       "      <th>2</th>\n",
       "      <th>3</th>\n",
       "      <th>4</th>\n",
       "      <th>5</th>\n",
       "      <th>6</th>\n",
       "      <th>7</th>\n",
       "      <th>8</th>\n",
       "      <th>9</th>\n",
       "      <th>10</th>\n",
       "      <th>11</th>\n",
       "      <th>12</th>\n",
       "      <th>13</th>\n",
       "      <th>14</th>\n",
       "      <th>15</th>\n",
       "      <th>16</th>\n",
       "    </tr>\n",
       "  </thead>\n",
       "  <tbody>\n",
       "    <tr>\n",
       "      <th>512</th>\n",
       "      <td>31.219999</td>\n",
       "      <td>15.153805</td>\n",
       "      <td>8.204129</td>\n",
       "      <td>6.325463</td>\n",
       "      <td>5.351647</td>\n",
       "      <td>4.716886</td>\n",
       "      <td>4.040082</td>\n",
       "      <td>3.668423</td>\n",
       "      <td>3.354695</td>\n",
       "      <td>-2.170809</td>\n",
       "      <td>2.419804</td>\n",
       "      <td>2.722012</td>\n",
       "      <td>2.465062</td>\n",
       "      <td>2.391441</td>\n",
       "      <td>2.429398</td>\n",
       "      <td>2.37413</td>\n",
       "    </tr>\n",
       "    <tr>\n",
       "      <th>1024</th>\n",
       "      <td>25.461078</td>\n",
       "      <td>14.20631</td>\n",
       "      <td>9.510345</td>\n",
       "      <td>7.313848</td>\n",
       "      <td>6.085157</td>\n",
       "      <td>5.100687</td>\n",
       "      <td>4.596767</td>\n",
       "      <td>4.180183</td>\n",
       "      <td>4.265918</td>\n",
       "      <td>4.142769</td>\n",
       "      <td>3.992655</td>\n",
       "      <td>3.879362</td>\n",
       "      <td>3.918773</td>\n",
       "      <td>3.938896</td>\n",
       "      <td>3.792773</td>\n",
       "      <td>3.698617</td>\n",
       "    </tr>\n",
       "    <tr>\n",
       "      <th>2048</th>\n",
       "      <td>25.711616</td>\n",
       "      <td>14.606754</td>\n",
       "      <td>10.285748</td>\n",
       "      <td>8.380761</td>\n",
       "      <td>8.132871</td>\n",
       "      <td>7.637428</td>\n",
       "      <td>7.694494</td>\n",
       "      <td>7.32098</td>\n",
       "      <td>7.231695</td>\n",
       "      <td>7.124305</td>\n",
       "      <td>7.072908</td>\n",
       "      <td>6.986204</td>\n",
       "      <td>6.864456</td>\n",
       "      <td>6.875225</td>\n",
       "      <td>6.867894</td>\n",
       "      <td>6.788584</td>\n",
       "    </tr>\n",
       "    <tr>\n",
       "      <th>4096</th>\n",
       "      <td>27.404388</td>\n",
       "      <td>17.186622</td>\n",
       "      <td>16.010695</td>\n",
       "      <td>15.240341</td>\n",
       "      <td>14.787006</td>\n",
       "      <td>14.444033</td>\n",
       "      <td>14.260758</td>\n",
       "      <td>14.079695</td>\n",
       "      <td>13.945112</td>\n",
       "      <td>13.826799</td>\n",
       "      <td>13.745922</td>\n",
       "      <td>13.551017</td>\n",
       "      <td>13.514503</td>\n",
       "      <td>13.459634</td>\n",
       "      <td>13.445621</td>\n",
       "      <td>13.389274</td>\n",
       "    </tr>\n",
       "  </tbody>\n",
       "</table>\n",
       "</div>"
      ],
      "text/plain": [
       "             1          2          3          4          5          6   \\\n",
       "512   31.219999  15.153805   8.204129   6.325463   5.351647   4.716886   \n",
       "1024  25.461078   14.20631   9.510345   7.313848   6.085157   5.100687   \n",
       "2048  25.711616  14.606754  10.285748   8.380761   8.132871   7.637428   \n",
       "4096  27.404388  17.186622  16.010695  15.240341  14.787006  14.444033   \n",
       "\n",
       "             7          8          9          10         11         12  \\\n",
       "512    4.040082   3.668423   3.354695  -2.170809   2.419804   2.722012   \n",
       "1024   4.596767   4.180183   4.265918   4.142769   3.992655   3.879362   \n",
       "2048   7.694494    7.32098   7.231695   7.124305   7.072908   6.986204   \n",
       "4096  14.260758  14.079695  13.945112  13.826799  13.745922  13.551017   \n",
       "\n",
       "             13         14         15         16  \n",
       "512    2.465062   2.391441   2.429398    2.37413  \n",
       "1024   3.918773   3.938896   3.792773   3.698617  \n",
       "2048   6.864456   6.875225   6.867894   6.788584  \n",
       "4096  13.514503  13.459634  13.445621  13.389274  "
      ]
     },
     "execution_count": 58,
     "metadata": {},
     "output_type": "execute_result"
    }
   ],
   "source": [
    "results_armt"
   ]
  },
  {
   "cell_type": "code",
   "execution_count": 12,
   "metadata": {},
   "outputs": [],
   "source": [
    "# taken from 131072 context size column\n",
    "measured_context_size = 131072\n",
    "llama_seg_sizes = np.array([512, 1024, 2048, 4096])\n",
    "num_segments = measured_context_size/llama_seg_sizes\n",
    "\n",
    "# This numbers partially taken from the paper table (131072 context size column), \n",
    "# partially measured additionally,\n",
    "# using usage_llama1b.ipynb\n",
    "llama_160m = np.array([\n",
    "    1.33,\n",
    "    0.855,\n",
    "    0.612,\n",
    "    0.537\n",
    "])\n",
    "\n",
    "llama_1b = np.array([\n",
    "    3.3,\n",
    "    2.48,\n",
    "    2.18,\n",
    "    2.1\n",
    "])\n",
    "\n",
    "llama_3b = np.array([\n",
    "    7.51,\n",
    "    6.14,\n",
    "    5.49,\n",
    "    5.37,\n",
    "])\n",
    "\n",
    "llama_8b = np.array([\n",
    "    15.2,\n",
    "    12.6,\n",
    "    11.5,\n",
    "    11.1,\n",
    "])"
   ]
  },
  {
   "cell_type": "code",
   "execution_count": 13,
   "metadata": {},
   "outputs": [
    {
     "data": {
      "text/html": [
       "<div>\n",
       "<style scoped>\n",
       "    .dataframe tbody tr th:only-of-type {\n",
       "        vertical-align: middle;\n",
       "    }\n",
       "\n",
       "    .dataframe tbody tr th {\n",
       "        vertical-align: top;\n",
       "    }\n",
       "\n",
       "    .dataframe thead th {\n",
       "        text-align: right;\n",
       "    }\n",
       "</style>\n",
       "<table border=\"1\" class=\"dataframe\">\n",
       "  <thead>\n",
       "    <tr style=\"text-align: right;\">\n",
       "      <th></th>\n",
       "      <th>achieved_scaling_per_segment</th>\n",
       "    </tr>\n",
       "  </thead>\n",
       "  <tbody>\n",
       "    <tr>\n",
       "      <th>512</th>\n",
       "      <td>59.3750</td>\n",
       "    </tr>\n",
       "    <tr>\n",
       "      <th>1024</th>\n",
       "      <td>98.4375</td>\n",
       "    </tr>\n",
       "    <tr>\n",
       "      <th>2048</th>\n",
       "      <td>179.6875</td>\n",
       "    </tr>\n",
       "    <tr>\n",
       "      <th>4096</th>\n",
       "      <td>346.8750</td>\n",
       "    </tr>\n",
       "  </tbody>\n",
       "</table>\n",
       "</div>"
      ],
      "text/plain": [
       "      achieved_scaling_per_segment\n",
       "512                        59.3750\n",
       "1024                       98.4375\n",
       "2048                      179.6875\n",
       "4096                      346.8750"
      ]
     },
     "execution_count": 13,
     "metadata": {},
     "output_type": "execute_result"
    }
   ],
   "source": [
    "# use_measure = llama_160m*1000\n",
    "# use_measure = llama_1b*1000\n",
    "# use_measure = llama_3b*1000\n",
    "use_measure = llama_8b*1000\n",
    "\n",
    "achieved_scaling_per_segment = pd.DataFrame(use_measure/num_segments, index=seq_len, columns=[\"achieved_scaling_per_segment\"])\n",
    "achieved_scaling_per_segment"
   ]
  },
  {
   "cell_type": "code",
   "execution_count": 14,
   "metadata": {},
   "outputs": [],
   "source": [
    "llama_160m_amortized = pd.DataFrame(np.array([4.45, 5.541667, 8.5833334, 15.333334]), index=seq_len, columns=[\"lower_bound_scaling_per_segment\"])\n",
    "llama_1b_amortized = pd.DataFrame(np.array([10.5, 17.375, 31.6875, 64.3]), index=seq_len, columns=[\"lower_bound_scaling_per_segment\"])\n",
    "llama_3b_amortized = pd.DataFrame(np.array([22.214286, 41.785714, 83.035714, 170.7142857]), index=seq_len, columns=[\"lower_bound_scaling_per_segment\"])\n",
    "llama_8b_amortized = pd.DataFrame(np.array([43.4375, 85.208333,171.875, 353.125]), index=seq_len, columns=[\"lower_bound_scaling_per_segment\"])\n",
    "\n",
    "# lower_bound = llama_160m_amortized\n",
    "# lower_bound = llama_1b_amortized\n",
    "# lower_bound = llama_3b_amortized\n",
    "lower_bound = llama_8b_amortized"
   ]
  },
  {
   "cell_type": "code",
   "execution_count": 34,
   "metadata": {},
   "outputs": [
    {
     "data": {
      "text/plain": [
       "array([256., 128.,  64.,  32.])"
      ]
     },
     "execution_count": 34,
     "metadata": {},
     "output_type": "execute_result"
    }
   ],
   "source": [
    "num_segments"
   ]
  },
  {
   "cell_type": "code",
   "execution_count": 17,
   "metadata": {},
   "outputs": [
    {
     "data": {
      "image/png": "[encoded data removed]",
      "text/plain": [
       "<Figure size 1200x800 with 1 Axes>"
      ]
     },
     "metadata": {},
     "output_type": "display_data"
    }
   ],
   "source": [
    "import matplotlib.pyplot as plt\n",
    "\n",
    "# plot_results = results\n",
    "plot_results = results_armt\n",
    "plot_results_std = results_armt_std\n",
    "\n",
    "# Plot the results with each hidden dimension as a separate line\n",
    "plt.figure(figsize=(12, 8))\n",
    "\n",
    "colors = ['g', 'b', 'c', 'm']\n",
    "\n",
    "for i, dim in enumerate(seq_len):\n",
    "    plt.plot(plot_results.columns, plot_results.loc[dim], marker='o', label=f'Segment length {dim}', color=colors[i], linewidth=3)\n",
    "    \n",
    "    # # Add 3 sigma borders using plot_results_std\n",
    "    # plt.fill_between(\n",
    "    #     plot_results.columns.astype(float),\n",
    "    #     (plot_results.loc[dim] - 3 * plot_results_std.loc[dim] * np.sqrt(plot_results_std.columns)).astype(float),\n",
    "    #     (plot_results.loc[dim] + 3 * plot_results_std.loc[dim] * np.sqrt(plot_results_std.columns)).astype(float),\n",
    "    #     # (plot_results.loc[dim] - 3 * plot_results_std.loc[dim]).astype(float),\n",
    "    #     # (plot_results.loc[dim] + 3 * plot_results_std.loc[dim]).astype(float),\n",
    "    #     color=colors[i], alpha=0.2\n",
    "    # )\n",
    "\n",
    "# Add horizontal lines for achieved scaling per segment values\n",
    "for i, dim in enumerate(seq_len):\n",
    "    scaling_value = achieved_scaling_per_segment.loc[dim, 'achieved_scaling_per_segment']\n",
    "    if scaling_value == 0:\n",
    "        continue\n",
    "    plt.axhline(y=scaling_value, color=colors[i], linestyle='--', \n",
    "                alpha=0.5, label=f'Diagonal batching {dim}', linewidth=3) # {scaling_value:.6f}\n",
    "\n",
    "# Add horizontal lines for achieved scaling per segment values\n",
    "for i, dim in enumerate(seq_len):\n",
    "    scaling_value = lower_bound.loc[dim, 'lower_bound_scaling_per_segment']\n",
    "    if scaling_value == 0:\n",
    "        continue\n",
    "    plt.axhline(y=scaling_value, color=colors[i], linestyle='-.', \n",
    "                alpha=0.5, label=f'Diagonal batching (Ideal / Even Load) {dim}', linewidth=3)\n",
    "\n",
    "\n",
    "\n",
    "\n",
    "plt.xlabel('Batch Size', fontsize=18)\n",
    "plt.ylabel('Computation Time per Segment, ms', fontsize=18)\n",
    "# plt.title('Computation Time per Sample vs Batch Size for Different Hidden Dimensions')\n",
    "# plt.legend(loc='center right', bbox_to_anchor=(1.0, 0.57), fontsize=14, ncol=2)\n",
    "plt.legend(loc='center right', bbox_to_anchor=(1.0, 0.64), fontsize=14, ncol=2)\n",
    "# plt.legend(loc='upper right', fontsize=15, ncol=2)\n",
    "plt.grid(True)\n",
    "\n",
    "plt.gca().tick_params(axis='both', which='major', labelsize=15)\n",
    "\n",
    "plt.tight_layout()\n",
    "plt.savefig(f'{HOME_DIR}/paper_pdfs/llama_8b_batch_vs_grouped_batching.pdf', bbox_inches='tight')\n",
    "plt.show()\n"
   ]
  },
  {
   "cell_type": "code",
   "execution_count": null,
   "metadata": {},
   "outputs": [],
   "source": []
  }
 ],
 "metadata": {
  "kernelspec": {
   "display_name": "armt_kernel",
   "language": "python",
   "name": "python3"
  },
  "language_info": {
   "codemirror_mode": {
    "name": "ipython",
    "version": 3
   },
   "file_extension": ".py",
   "mimetype": "text/x-python",
   "name": "python",
   "nbconvert_exporter": "python",
   "pygments_lexer": "ipython3",
   "version": "3.11.9"
  }
 },
 "nbformat": 4,
 "nbformat_minor": 2
}
