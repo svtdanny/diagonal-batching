{
 "cells": [
  {
   "cell_type": "code",
   "execution_count": 1,
   "id": "5965b309-56a7-4904-a56b-c5078448ba32",
   "metadata": {},
   "outputs": [
    {
     "name": "stderr",
     "output_type": "stream",
     "text": [
      "/home/jovyan/.mlspace/envs/svtdanny/lib/python3.11/site-packages/tqdm/auto.py:21: TqdmWarning: IProgress not found. Please update jupyter and ipywidgets. See https://ipywidgets.readthedocs.io/en/stable/user_install.html\n",
      "  from .autonotebook import tqdm as notebook_tqdm\n"
     ]
    },
    {
     "data": {
      "text/plain": [
       "<torch.autograd.grad_mode.set_grad_enabled at 0x7ffaa6a69b90>"
      ]
     },
     "execution_count": 1,
     "metadata": {},
     "output_type": "execute_result"
    }
   ],
   "source": [
    "import torch\n",
    "import torch.nn as nn\n",
    "from transformers import AutoModelForCausalLM, AutoTokenizer\n",
    "\n",
    "torch.set_grad_enabled(False)"
   ]
  },
  {
   "cell_type": "code",
   "execution_count": 2,
   "id": "263f1f92-26e1-4d83-84fc-5c38e966058e",
   "metadata": {},
   "outputs": [],
   "source": [
    "# !pip install flash-attn"
   ]
  },
  {
   "cell_type": "code",
   "execution_count": 3,
   "id": "75df6391-c00c-4004-9181-241e3abc34d9",
   "metadata": {},
   "outputs": [],
   "source": [
    "dtype = torch.bfloat16"
   ]
  },
  {
   "cell_type": "code",
   "execution_count": 4,
   "id": "5a0b6c32",
   "metadata": {},
   "outputs": [],
   "source": [
    "model = AutoModelForCausalLM.from_pretrained(\"meta-llama/Llama-3.2-1B\"\n",
    "                                             , attn_implementation=\"sdpa\"\n",
    "                                             ,torch_dtype=dtype)\n",
    "tokenizer = AutoTokenizer.from_pretrained(\"meta-llama/Llama-3.2-1B\")"
   ]
  },
  {
   "cell_type": "code",
   "execution_count": 5,
   "id": "39e480a6",
   "metadata": {},
   "outputs": [
    {
     "data": {
      "text/plain": [
       "LlamaForCausalLM(\n",
       "  (model): LlamaModel(\n",
       "    (embed_tokens): Embedding(128256, 2048)\n",
       "    (layers): ModuleList(\n",
       "      (0-15): 16 x LlamaDecoderLayer(\n",
       "        (self_attn): LlamaSdpaAttention(\n",
       "          (q_proj): Linear(in_features=2048, out_features=2048, bias=False)\n",
       "          (k_proj): Linear(in_features=2048, out_features=512, bias=False)\n",
       "          (v_proj): Linear(in_features=2048, out_features=512, bias=False)\n",
       "          (o_proj): Linear(in_features=2048, out_features=2048, bias=False)\n",
       "          (rotary_emb): LlamaRotaryEmbedding()\n",
       "        )\n",
       "        (mlp): LlamaMLP(\n",
       "          (gate_proj): Linear(in_features=2048, out_features=8192, bias=False)\n",
       "          (up_proj): Linear(in_features=2048, out_features=8192, bias=False)\n",
       "          (down_proj): Linear(in_features=8192, out_features=2048, bias=False)\n",
       "          (act_fn): SiLU()\n",
       "        )\n",
       "        (input_layernorm): LlamaRMSNorm((2048,), eps=1e-05)\n",
       "        (post_attention_layernorm): LlamaRMSNorm((2048,), eps=1e-05)\n",
       "      )\n",
       "    )\n",
       "    (norm): LlamaRMSNorm((2048,), eps=1e-05)\n",
       "    (rotary_emb): LlamaRotaryEmbedding()\n",
       "  )\n",
       "  (lm_head): Linear(in_features=2048, out_features=128256, bias=False)\n",
       ")"
      ]
     },
     "execution_count": 5,
     "metadata": {},
     "output_type": "execute_result"
    }
   ],
   "source": [
    "model.to(\"cuda\")"
   ]
  },
  {
   "cell_type": "code",
   "execution_count": 6,
   "id": "3315c4ab",
   "metadata": {},
   "outputs": [
    {
     "name": "stderr",
     "output_type": "stream",
     "text": [
      "Setting `pad_token_id` to `eos_token_id`:None for open-end generation.\n",
      "Starting from v4.46, the `logits` model output will have the same type as the model (except at train time, where it will always be FP32)\n"
     ]
    }
   ],
   "source": [
    "text = \"Hello, how are you?\"\n",
    "inputs = tokenizer(text, return_tensors=\"pt\")\n",
    "outputs = model.generate(input_ids = inputs[\"input_ids\"].to(\"cuda\"), attention_mask = inputs[\"attention_mask\"].to(\"cuda\"), max_new_tokens=20)\n"
   ]
  },
  {
   "cell_type": "code",
   "execution_count": 7,
   "id": "aa8d6274",
   "metadata": {},
   "outputs": [
    {
     "name": "stdout",
     "output_type": "stream",
     "text": [
      "Hello, how are you? I hope you are doing fine. Today I am sharing a tutorial for you, how to make a\n"
     ]
    }
   ],
   "source": [
    "print(tokenizer.decode(outputs[0], skip_special_tokens=True))"
   ]
  },
  {
   "cell_type": "code",
   "execution_count": null,
   "id": "a921f3a2-4c66-402c-91ce-c496001e8950",
   "metadata": {},
   "outputs": [],
   "source": []
  },
  {
   "cell_type": "code",
   "execution_count": null,
   "id": "0e362ee0-5fac-4de1-8115-d00dfbe50ad3",
   "metadata": {},
   "outputs": [],
   "source": []
  },
  {
   "cell_type": "code",
   "execution_count": 8,
   "id": "f15a95f9",
   "metadata": {},
   "outputs": [],
   "source": [
    "def group_gemm_naive(As, Bs):\n",
    "    return [A @ B for A, B in zip(As, Bs)]\n",
    "\n",
    "import cutlass\n",
    "def group_gemm_jit(As, Bs):\n",
    "    dtype = As[0].dtype\n",
    "    plan = cutlass.op.GroupedGemm(element=dtype, element_accumulator=torch.float32, layout=cutlass.LayoutType.RowMajor)\n",
    "\n",
    "    Cs = [torch.zeros(a.shape[:-1] + (b.shape[-1],), dtype=a.dtype, device=a.device) for a,b in zip(As, Bs)]\n",
    "    Ds = [torch.zeros_like(el) for el in Cs]\n",
    "    \n",
    "    plan.run(As, Bs, Cs, Ds, print_module=True)\n",
    "    op = plan.construct()\n",
    "    grouped_gemm = cutlass.emit.pytorch(op, name='grouped_gemm', cc=plan.cc, sourcedir='out', jit=True)\n",
    "\n",
    "    return grouped_gemm\n",
    "\n",
    "def get_group_gemm():\n",
    "    gemm_fn = None\n",
    "    \n",
    "    def group_gemm(As, Bs):\n",
    "        nonlocal gemm_fn\n",
    "        if gemm_fn is None:\n",
    "            print(f\"jit compile As: {[a.shape for a in As]} Bs: {[b.shape for b in Bs]}\")\n",
    "            gemm_fn = group_gemm_jit(As, Bs)\n",
    "\n",
    "        return gemm_fn.run(As, Bs)\n",
    "\n",
    "    return group_gemm\n"
   ]
  },
  {
   "cell_type": "code",
   "execution_count": null,
   "id": "0c2a01d9-7400-4014-ae2c-996e0a974415",
   "metadata": {},
   "outputs": [],
   "source": []
  },
  {
   "cell_type": "code",
   "execution_count": null,
   "id": "e0d5c03d-9e11-41f1-915b-f20c2f91dc31",
   "metadata": {},
   "outputs": [],
   "source": []
  },
  {
   "cell_type": "code",
   "execution_count": null,
   "id": "2c08813f",
   "metadata": {},
   "outputs": [],
   "source": []
  },
  {
   "cell_type": "code",
   "execution_count": 9,
   "id": "c6270219",
   "metadata": {},
   "outputs": [
    {
     "data": {
      "text/plain": [
       "LlamaForCausalLM(\n",
       "  (model): LlamaModel(\n",
       "    (embed_tokens): Embedding(128256, 2048)\n",
       "    (layers): ModuleList(\n",
       "      (0-15): 16 x LlamaDecoderLayer(\n",
       "        (self_attn): LlamaSdpaAttention(\n",
       "          (q_proj): Linear(in_features=2048, out_features=2048, bias=False)\n",
       "          (k_proj): Linear(in_features=2048, out_features=512, bias=False)\n",
       "          (v_proj): Linear(in_features=2048, out_features=512, bias=False)\n",
       "          (o_proj): Linear(in_features=2048, out_features=2048, bias=False)\n",
       "          (rotary_emb): LlamaRotaryEmbedding()\n",
       "        )\n",
       "        (mlp): LlamaMLP(\n",
       "          (gate_proj): Linear(in_features=2048, out_features=8192, bias=False)\n",
       "          (up_proj): Linear(in_features=2048, out_features=8192, bias=False)\n",
       "          (down_proj): Linear(in_features=8192, out_features=2048, bias=False)\n",
       "          (act_fn): SiLU()\n",
       "        )\n",
       "        (input_layernorm): LlamaRMSNorm((2048,), eps=1e-05)\n",
       "        (post_attention_layernorm): LlamaRMSNorm((2048,), eps=1e-05)\n",
       "      )\n",
       "    )\n",
       "    (norm): LlamaRMSNorm((2048,), eps=1e-05)\n",
       "    (rotary_emb): LlamaRotaryEmbedding()\n",
       "  )\n",
       "  (lm_head): Linear(in_features=2048, out_features=128256, bias=False)\n",
       ")"
      ]
     },
     "execution_count": 9,
     "metadata": {},
     "output_type": "execute_result"
    }
   ],
   "source": [
    "grouped_model = AutoModelForCausalLM.from_pretrained(\n",
    "    \"meta-llama/Llama-3.2-1B\", \n",
    "    attn_implementation=\"sdpa\",\n",
    "    # attn_implementation=\"eager\",\n",
    "    torch_dtype=dtype\n",
    ")\n",
    "grouped_model.to(\"cuda\")"
   ]
  },
  {
   "cell_type": "code",
   "execution_count": null,
   "id": "e5620a29",
   "metadata": {},
   "outputs": [],
   "source": []
  },
  {
   "cell_type": "code",
   "execution_count": 10,
   "id": "f1df7dd6",
   "metadata": {},
   "outputs": [],
   "source": [
    "q_proj_group = [l.self_attn.q_proj.weight.data.T.contiguous() for l in model.model.layers]\n",
    "k_proj_group = [l.self_attn.k_proj.weight.data.T.contiguous() for l in model.model.layers]\n",
    "v_proj_group = [l.self_attn.v_proj.weight.data.T.contiguous() for l in model.model.layers]\n",
    "o_proj_group = [l.self_attn.o_proj.weight.data.T.contiguous() for l in model.model.layers]\n",
    "\n",
    "gate_proj_group = [l.mlp.gate_proj.weight.data.T.contiguous() for l in model.model.layers]\n",
    "up_proj_group = [l.mlp.up_proj.weight.data.T.contiguous() for l in model.model.layers]\n",
    "down_proj_group = [l.mlp.down_proj.weight.data.T.contiguous() for l in model.model.layers]\n",
    "\n",
    "\n",
    "inp_layer_norm_group = [l.input_layernorm.weight.data for l in model.model.layers]\n",
    "post_attention_layernorm_group = [l.post_attention_layernorm.weight.data for l in model.model.layers]\n",
    "\n",
    "inp_layer_norm_group = torch.stack(inp_layer_norm_group)\n",
    "post_attention_layernorm_group = torch.stack(post_attention_layernorm_group)"
   ]
  },
  {
   "cell_type": "code",
   "execution_count": 11,
   "id": "cf93ca1c",
   "metadata": {},
   "outputs": [],
   "source": [
    "def get_grouped_forward(Ws):\n",
    "    def forward(Xs):\n",
    "        res_list = group_gemm_naive(Xs.unbind(0), Ws)\n",
    "        res = torch.stack(res_list)\n",
    "        # print(f\"Outs: {res.shape}\")\n",
    "        return res\n",
    "    return forward\n",
    "    \n",
    "def get_grouped_gemm_forward(Ws):\n",
    "    gemm_fn = get_group_gemm()\n",
    "    \n",
    "    def forward(Xs):\n",
    "        nonlocal gemm_fn\n",
    "        # print(f\"Xs: {Xs.shape}\")\n",
    "        res_list = gemm_fn(Xs.unbind(0), Ws)\n",
    "        # res_list = group_gemm_naive(Xs.unbind(0), Ws)\n",
    "        res = torch.stack(res_list)\n",
    "        # print(f\"Outs: {res.shape}\")\n",
    "        return res\n",
    "    return forward"
   ]
  },
  {
   "cell_type": "code",
   "execution_count": 12,
   "id": "7273c34f",
   "metadata": {},
   "outputs": [],
   "source": [
    "grouped_attn = grouped_model.model.layers[0].self_attn"
   ]
  },
  {
   "cell_type": "code",
   "execution_count": 13,
   "id": "42706268",
   "metadata": {},
   "outputs": [],
   "source": [
    "grouped_attn.q_proj.forward = get_grouped_gemm_forward(q_proj_group)\n",
    "grouped_attn.k_proj.forward = get_grouped_gemm_forward(k_proj_group)\n",
    "grouped_attn.v_proj.forward = get_grouped_gemm_forward(v_proj_group)\n",
    "grouped_attn.o_proj.forward = get_grouped_gemm_forward(o_proj_group)"
   ]
  },
  {
   "cell_type": "code",
   "execution_count": 14,
   "id": "50506765-ce3c-466a-8b4a-cd56ad9d71ad",
   "metadata": {},
   "outputs": [],
   "source": [
    "layer_inp = torch.rand((len(model.model.layers), 256, 2048), dtype=dtype, device=\"cuda\")"
   ]
  },
  {
   "cell_type": "code",
   "execution_count": 15,
   "id": "9e194f2f-bfcc-4fb6-a3b5-87fef95da371",
   "metadata": {},
   "outputs": [
    {
     "data": {
      "text/plain": [
       "(torch.Size([16, 256, 2048]), torch.Size([16, 256]))"
      ]
     },
     "execution_count": 15,
     "metadata": {},
     "output_type": "execute_result"
    }
   ],
   "source": [
    "layer_inp.shape, layer_inp[:, :, 0].shape"
   ]
  },
  {
   "cell_type": "code",
   "execution_count": 16,
   "id": "ea222d00",
   "metadata": {},
   "outputs": [
    {
     "name": "stdout",
     "output_type": "stream",
     "text": [
      "jit compile As: [torch.Size([256, 2048]), torch.Size([256, 2048]), torch.Size([256, 2048]), torch.Size([256, 2048]), torch.Size([256, 2048]), torch.Size([256, 2048]), torch.Size([256, 2048]), torch.Size([256, 2048]), torch.Size([256, 2048]), torch.Size([256, 2048]), torch.Size([256, 2048]), torch.Size([256, 2048]), torch.Size([256, 2048]), torch.Size([256, 2048]), torch.Size([256, 2048]), torch.Size([256, 2048])] Bs: [torch.Size([2048, 2048]), torch.Size([2048, 2048]), torch.Size([2048, 2048]), torch.Size([2048, 2048]), torch.Size([2048, 2048]), torch.Size([2048, 2048]), torch.Size([2048, 2048]), torch.Size([2048, 2048]), torch.Size([2048, 2048]), torch.Size([2048, 2048]), torch.Size([2048, 2048]), torch.Size([2048, 2048]), torch.Size([2048, 2048]), torch.Size([2048, 2048]), torch.Size([2048, 2048]), torch.Size([2048, 2048])]\n",
      "\n",
      "// Gemm operator cutlass_tensorop_bf16_s16816gemm_grouped_bf16_256x128_64x3_tt_align8\n",
      "using cutlass_tensorop_bf16_s16816gemm_grouped_bf16_256x128_64x3_tt_align8_base =\n",
      "  typename cutlass::gemm::kernel::DefaultGemmGrouped<\n",
      "    cutlass::bfloat16_t, cutlass::layout::RowMajor, cutlass::ComplexTransform::kNone, 8,\n",
      "    cutlass::bfloat16_t, cutlass::layout::RowMajor, cutlass::ComplexTransform::kNone, 8,\n",
      "    cutlass::bfloat16_t, cutlass::layout::RowMajor,\n",
      "    float,\n",
      "    cutlass::arch::OpClassTensorOp,\n",
      "    cutlass::arch::Sm80,\n",
      "    cutlass::gemm::GemmShape<256, 128, 64>,\n",
      "    cutlass::gemm::GemmShape<64, 64, 64>,\n",
      "    cutlass::gemm::GemmShape<16, 8, 16>,\n",
      "    cutlass::epilogue::thread::LinearCombination<cutlass::bfloat16_t, 8, float, float>,\n",
      "    cutlass::gemm::threadblock::GemmIdentityThreadblockSwizzle<1>,\n",
      "    3,\n",
      "    cutlass::gemm::kernel::GroupScheduleMode::kDeviceOnly,\n",
      "    cutlass::arch::OpMultiplyAdd\n",
      ">::GemmKernel;\n",
      "\n",
      "// Define named type\n",
      "struct cutlass_tensorop_bf16_s16816gemm_grouped_bf16_256x128_64x3_tt_align8_type :\n",
      "  public cutlass_tensorop_bf16_s16816gemm_grouped_bf16_256x128_64x3_tt_align8_base { };\n",
      "\n"
     ]
    },
    {
     "name": "stderr",
     "output_type": "stream",
     "text": [
      "The attention layers in this model are transitioning from computing the RoPE embeddings internally through `position_ids` (2D tensor with the indexes of the tokens), to using externally computed `position_embeddings` (Tuple of tensors, containing cos and sin). In v4.46 `position_ids` will be removed and `position_embeddings` will be mandatory.\n"
     ]
    },
    {
     "name": "stdout",
     "output_type": "stream",
     "text": [
      "jit compile As: [torch.Size([256, 2048]), torch.Size([256, 2048]), torch.Size([256, 2048]), torch.Size([256, 2048]), torch.Size([256, 2048]), torch.Size([256, 2048]), torch.Size([256, 2048]), torch.Size([256, 2048]), torch.Size([256, 2048]), torch.Size([256, 2048]), torch.Size([256, 2048]), torch.Size([256, 2048]), torch.Size([256, 2048]), torch.Size([256, 2048]), torch.Size([256, 2048]), torch.Size([256, 2048])] Bs: [torch.Size([2048, 512]), torch.Size([2048, 512]), torch.Size([2048, 512]), torch.Size([2048, 512]), torch.Size([2048, 512]), torch.Size([2048, 512]), torch.Size([2048, 512]), torch.Size([2048, 512]), torch.Size([2048, 512]), torch.Size([2048, 512]), torch.Size([2048, 512]), torch.Size([2048, 512]), torch.Size([2048, 512]), torch.Size([2048, 512]), torch.Size([2048, 512]), torch.Size([2048, 512])]\n",
      "\n",
      "// Gemm operator cutlass_tensorop_bf16_s16816gemm_grouped_bf16_256x128_64x3_tt_align8\n",
      "using cutlass_tensorop_bf16_s16816gemm_grouped_bf16_256x128_64x3_tt_align8_base =\n",
      "  typename cutlass::gemm::kernel::DefaultGemmGrouped<\n",
      "    cutlass::bfloat16_t, cutlass::layout::RowMajor, cutlass::ComplexTransform::kNone, 8,\n",
      "    cutlass::bfloat16_t, cutlass::layout::RowMajor, cutlass::ComplexTransform::kNone, 8,\n",
      "    cutlass::bfloat16_t, cutlass::layout::RowMajor,\n",
      "    float,\n",
      "    cutlass::arch::OpClassTensorOp,\n",
      "    cutlass::arch::Sm80,\n",
      "    cutlass::gemm::GemmShape<256, 128, 64>,\n",
      "    cutlass::gemm::GemmShape<64, 64, 64>,\n",
      "    cutlass::gemm::GemmShape<16, 8, 16>,\n",
      "    cutlass::epilogue::thread::LinearCombination<cutlass::bfloat16_t, 8, float, float>,\n",
      "    cutlass::gemm::threadblock::GemmIdentityThreadblockSwizzle<1>,\n",
      "    3,\n",
      "    cutlass::gemm::kernel::GroupScheduleMode::kDeviceOnly,\n",
      "    cutlass::arch::OpMultiplyAdd\n",
      ">::GemmKernel;\n",
      "\n",
      "// Define named type\n",
      "struct cutlass_tensorop_bf16_s16816gemm_grouped_bf16_256x128_64x3_tt_align8_type :\n",
      "  public cutlass_tensorop_bf16_s16816gemm_grouped_bf16_256x128_64x3_tt_align8_base { };\n",
      "\n",
      "jit compile As: [torch.Size([256, 2048]), torch.Size([256, 2048]), torch.Size([256, 2048]), torch.Size([256, 2048]), torch.Size([256, 2048]), torch.Size([256, 2048]), torch.Size([256, 2048]), torch.Size([256, 2048]), torch.Size([256, 2048]), torch.Size([256, 2048]), torch.Size([256, 2048]), torch.Size([256, 2048]), torch.Size([256, 2048]), torch.Size([256, 2048]), torch.Size([256, 2048]), torch.Size([256, 2048])] Bs: [torch.Size([2048, 512]), torch.Size([2048, 512]), torch.Size([2048, 512]), torch.Size([2048, 512]), torch.Size([2048, 512]), torch.Size([2048, 512]), torch.Size([2048, 512]), torch.Size([2048, 512]), torch.Size([2048, 512]), torch.Size([2048, 512]), torch.Size([2048, 512]), torch.Size([2048, 512]), torch.Size([2048, 512]), torch.Size([2048, 512]), torch.Size([2048, 512]), torch.Size([2048, 512])]\n",
      "\n",
      "// Gemm operator cutlass_tensorop_bf16_s16816gemm_grouped_bf16_256x128_64x3_tt_align8\n",
      "using cutlass_tensorop_bf16_s16816gemm_grouped_bf16_256x128_64x3_tt_align8_base =\n",
      "  typename cutlass::gemm::kernel::DefaultGemmGrouped<\n",
      "    cutlass::bfloat16_t, cutlass::layout::RowMajor, cutlass::ComplexTransform::kNone, 8,\n",
      "    cutlass::bfloat16_t, cutlass::layout::RowMajor, cutlass::ComplexTransform::kNone, 8,\n",
      "    cutlass::bfloat16_t, cutlass::layout::RowMajor,\n",
      "    float,\n",
      "    cutlass::arch::OpClassTensorOp,\n",
      "    cutlass::arch::Sm80,\n",
      "    cutlass::gemm::GemmShape<256, 128, 64>,\n",
      "    cutlass::gemm::GemmShape<64, 64, 64>,\n",
      "    cutlass::gemm::GemmShape<16, 8, 16>,\n",
      "    cutlass::epilogue::thread::LinearCombination<cutlass::bfloat16_t, 8, float, float>,\n",
      "    cutlass::gemm::threadblock::GemmIdentityThreadblockSwizzle<1>,\n",
      "    3,\n",
      "    cutlass::gemm::kernel::GroupScheduleMode::kDeviceOnly,\n",
      "    cutlass::arch::OpMultiplyAdd\n",
      ">::GemmKernel;\n",
      "\n",
      "// Define named type\n",
      "struct cutlass_tensorop_bf16_s16816gemm_grouped_bf16_256x128_64x3_tt_align8_type :\n",
      "  public cutlass_tensorop_bf16_s16816gemm_grouped_bf16_256x128_64x3_tt_align8_base { };\n",
      "\n",
      "jit compile As: [torch.Size([256, 2048]), torch.Size([256, 2048]), torch.Size([256, 2048]), torch.Size([256, 2048]), torch.Size([256, 2048]), torch.Size([256, 2048]), torch.Size([256, 2048]), torch.Size([256, 2048]), torch.Size([256, 2048]), torch.Size([256, 2048]), torch.Size([256, 2048]), torch.Size([256, 2048]), torch.Size([256, 2048]), torch.Size([256, 2048]), torch.Size([256, 2048]), torch.Size([256, 2048])] Bs: [torch.Size([2048, 2048]), torch.Size([2048, 2048]), torch.Size([2048, 2048]), torch.Size([2048, 2048]), torch.Size([2048, 2048]), torch.Size([2048, 2048]), torch.Size([2048, 2048]), torch.Size([2048, 2048]), torch.Size([2048, 2048]), torch.Size([2048, 2048]), torch.Size([2048, 2048]), torch.Size([2048, 2048]), torch.Size([2048, 2048]), torch.Size([2048, 2048]), torch.Size([2048, 2048]), torch.Size([2048, 2048])]\n",
      "\n",
      "// Gemm operator cutlass_tensorop_bf16_s16816gemm_grouped_bf16_256x128_64x3_tt_align8\n",
      "using cutlass_tensorop_bf16_s16816gemm_grouped_bf16_256x128_64x3_tt_align8_base =\n",
      "  typename cutlass::gemm::kernel::DefaultGemmGrouped<\n",
      "    cutlass::bfloat16_t, cutlass::layout::RowMajor, cutlass::ComplexTransform::kNone, 8,\n",
      "    cutlass::bfloat16_t, cutlass::layout::RowMajor, cutlass::ComplexTransform::kNone, 8,\n",
      "    cutlass::bfloat16_t, cutlass::layout::RowMajor,\n",
      "    float,\n",
      "    cutlass::arch::OpClassTensorOp,\n",
      "    cutlass::arch::Sm80,\n",
      "    cutlass::gemm::GemmShape<256, 128, 64>,\n",
      "    cutlass::gemm::GemmShape<64, 64, 64>,\n",
      "    cutlass::gemm::GemmShape<16, 8, 16>,\n",
      "    cutlass::epilogue::thread::LinearCombination<cutlass::bfloat16_t, 8, float, float>,\n",
      "    cutlass::gemm::threadblock::GemmIdentityThreadblockSwizzle<1>,\n",
      "    3,\n",
      "    cutlass::gemm::kernel::GroupScheduleMode::kDeviceOnly,\n",
      "    cutlass::arch::OpMultiplyAdd\n",
      ">::GemmKernel;\n",
      "\n",
      "// Define named type\n",
      "struct cutlass_tensorop_bf16_s16816gemm_grouped_bf16_256x128_64x3_tt_align8_type :\n",
      "  public cutlass_tensorop_bf16_s16816gemm_grouped_bf16_256x128_64x3_tt_align8_base { };\n",
      "\n"
     ]
    }
   ],
   "source": [
    "o0l, _, _ = grouped_attn.forward(\n",
    "layer_inp, None, layer_inp[:, :, 0]\n",
    ")"
   ]
  },
  {
   "cell_type": "code",
   "execution_count": null,
   "id": "1d5c19e6-3307-4b73-9243-56a4e1f4d5fa",
   "metadata": {},
   "outputs": [
    {
     "data": {
      "text/plain": [
       "tensor([[ 0.0747, -0.0085,  0.0226,  ..., -0.0366,  0.0165, -0.0137],\n",
       "        [ 0.0471, -0.0142,  0.0334,  ..., -0.0598,  0.0046, -0.0532],\n",
       "        [ 0.0583, -0.0227,  0.0277,  ..., -0.0359,  0.0104, -0.0366],\n",
       "        ...,\n",
       "        [ 0.0554, -0.0166,  0.0339,  ..., -0.0204,  0.0117, -0.0352],\n",
       "        [ 0.0432, -0.0090,  0.0332,  ..., -0.0146,  0.0098, -0.0317],\n",
       "        [ 0.0500, -0.0078,  0.0488,  ..., -0.0178,  0.0143, -0.0280]],\n",
       "       device='cuda:0', dtype=torch.bfloat16)"
      ]
     },
     "execution_count": 17,
     "metadata": {},
     "output_type": "execute_result"
    }
   ],
   "source": [
    "o0l[0]"
   ]
  },
  {
   "cell_type": "code",
   "execution_count": 18,
   "id": "15306b20-d383-4a12-b264-f5dfb041429e",
   "metadata": {},
   "outputs": [],
   "source": [
    "o1l, _, _ = model.model.layers[0].self_attn(\n",
    "layer_inp, None, layer_inp[:, :, 0]\n",
    ")"
   ]
  },
  {
   "cell_type": "code",
   "execution_count": 19,
   "id": "c75a5319",
   "metadata": {},
   "outputs": [
    {
     "data": {
      "text/plain": [
       "tensor([[ 0.0747, -0.0085,  0.0226,  ..., -0.0366,  0.0165, -0.0137],\n",
       "        [ 0.0471, -0.0142,  0.0334,  ..., -0.0598,  0.0046, -0.0532],\n",
       "        [ 0.0583, -0.0227,  0.0277,  ..., -0.0359,  0.0104, -0.0366],\n",
       "        ...,\n",
       "        [ 0.0554, -0.0166,  0.0339,  ..., -0.0204,  0.0117, -0.0352],\n",
       "        [ 0.0432, -0.0090,  0.0332,  ..., -0.0146,  0.0098, -0.0317],\n",
       "        [ 0.0500, -0.0078,  0.0488,  ..., -0.0178,  0.0143, -0.0280]],\n",
       "       device='cuda:0', dtype=torch.bfloat16)"
      ]
     },
     "execution_count": 19,
     "metadata": {},
     "output_type": "execute_result"
    }
   ],
   "source": [
    "o1l[0]"
   ]
  },
  {
   "cell_type": "code",
   "execution_count": 20,
   "id": "3822bba6-f258-461d-b884-13db4c65c246",
   "metadata": {},
   "outputs": [
    {
     "data": {
      "text/plain": [
       "True"
      ]
     },
     "execution_count": 20,
     "metadata": {},
     "output_type": "execute_result"
    }
   ],
   "source": [
    "torch.allclose(o1l[0], o0l[0]) # use same attention impl"
   ]
  },
  {
   "cell_type": "code",
   "execution_count": null,
   "id": "7276759a-b225-4191-a827-a221b3825481",
   "metadata": {},
   "outputs": [],
   "source": []
  },
  {
   "cell_type": "code",
   "execution_count": null,
   "id": "0000be77-13c6-4a56-9404-02aeefed56a6",
   "metadata": {},
   "outputs": [],
   "source": []
  },
  {
   "cell_type": "code",
   "execution_count": null,
   "id": "3d14ed89-5eb7-4775-a4b9-7657a78b9227",
   "metadata": {},
   "outputs": [],
   "source": []
  },
  {
   "cell_type": "code",
   "execution_count": 21,
   "id": "800c81a1-4985-41b9-8d46-da5039c98257",
   "metadata": {},
   "outputs": [],
   "source": [
    "grouped_layer = grouped_model.model.layers[0]"
   ]
  },
  {
   "cell_type": "code",
   "execution_count": 22,
   "id": "ca984f17-32ee-42cf-86de-0b8bc96d63b4",
   "metadata": {},
   "outputs": [
    {
     "data": {
      "text/plain": [
       "LlamaDecoderLayer(\n",
       "  (self_attn): LlamaSdpaAttention(\n",
       "    (q_proj): Linear(in_features=2048, out_features=2048, bias=False)\n",
       "    (k_proj): Linear(in_features=2048, out_features=512, bias=False)\n",
       "    (v_proj): Linear(in_features=2048, out_features=512, bias=False)\n",
       "    (o_proj): Linear(in_features=2048, out_features=2048, bias=False)\n",
       "    (rotary_emb): LlamaRotaryEmbedding()\n",
       "  )\n",
       "  (mlp): LlamaMLP(\n",
       "    (gate_proj): Linear(in_features=2048, out_features=8192, bias=False)\n",
       "    (up_proj): Linear(in_features=2048, out_features=8192, bias=False)\n",
       "    (down_proj): Linear(in_features=8192, out_features=2048, bias=False)\n",
       "    (act_fn): SiLU()\n",
       "  )\n",
       "  (input_layernorm): LlamaRMSNorm((2048,), eps=1e-05)\n",
       "  (post_attention_layernorm): LlamaRMSNorm((2048,), eps=1e-05)\n",
       ")"
      ]
     },
     "execution_count": 22,
     "metadata": {},
     "output_type": "execute_result"
    }
   ],
   "source": [
    "grouped_layer"
   ]
  },
  {
   "cell_type": "code",
   "execution_count": 23,
   "id": "14d4d1e3",
   "metadata": {},
   "outputs": [],
   "source": [
    "grouped_layer.self_attn.q_proj.forward = get_grouped_forward(q_proj_group)\n",
    "grouped_layer.self_attn.k_proj.forward = get_grouped_forward(k_proj_group)\n",
    "grouped_layer.self_attn.v_proj.forward = get_grouped_forward(v_proj_group)\n",
    "grouped_layer.self_attn.o_proj.forward = get_grouped_forward(o_proj_group)\n",
    "\n",
    "grouped_layer.mlp.gate_proj.forward = get_grouped_forward(gate_proj_group)\n",
    "grouped_layer.mlp.up_proj.forward = get_grouped_forward(up_proj_group)\n",
    "grouped_layer.mlp.down_proj.forward = get_grouped_forward(down_proj_group)\n",
    "\n",
    "grouped_layer.input_layernorm.weight.data = inp_layer_norm_group[:, None, :]\n",
    "grouped_layer.post_attention_layernorm.weight.data = post_attention_layernorm_group[:, None, :]\n",
    "\n",
    "# inp_layer_norm_group = torch.stack(inp_layer_norm_group)\n",
    "# post_attention_layernorm_group = torch.stack(post_attention_layernorm_group)"
   ]
  },
  {
   "cell_type": "code",
   "execution_count": 24,
   "id": "7daabce2-b4d6-44e1-8941-83a86bc254a6",
   "metadata": {},
   "outputs": [
    {
     "data": {
      "text/plain": [
       "torch.Size([16, 2048])"
      ]
     },
     "execution_count": 24,
     "metadata": {},
     "output_type": "execute_result"
    }
   ],
   "source": [
    "inp_layer_norm_group.shape"
   ]
  },
  {
   "cell_type": "code",
   "execution_count": 25,
   "id": "a1c0a5f1-8c58-4ede-9be2-994873981f5d",
   "metadata": {},
   "outputs": [],
   "source": [
    "o0 = grouped_layer.forward(\n",
    "    layer_inp, None, layer_inp[:, :, 0]\n",
    ")"
   ]
  },
  {
   "cell_type": "code",
   "execution_count": 26,
   "id": "5eede0d4-7d2f-4af1-ad87-d863636abf59",
   "metadata": {},
   "outputs": [],
   "source": [
    "o1 = model.model.layers[0].forward(\n",
    "    layer_inp, None, layer_inp[:, :, 0]\n",
    ")"
   ]
  },
  {
   "cell_type": "code",
   "execution_count": 27,
   "id": "59733d17-0d6a-4ace-8cfb-54c093edebfb",
   "metadata": {},
   "outputs": [
    {
     "data": {
      "text/plain": [
       "True"
      ]
     },
     "execution_count": 27,
     "metadata": {},
     "output_type": "execute_result"
    }
   ],
   "source": [
    "# use same attention implementation. Even with that, can be little problems\n",
    "torch.allclose(o0[0][0], o1[0][0], atol=1e-2) "
   ]
  },
  {
   "cell_type": "code",
   "execution_count": null,
   "id": "1b1d8b17-2b17-4394-a5ac-83a8af33683e",
   "metadata": {},
   "outputs": [],
   "source": []
  },
  {
   "cell_type": "code",
   "execution_count": null,
   "id": "440b6b24-fb0d-4fd9-bb8c-175cc2cf689a",
   "metadata": {},
   "outputs": [],
   "source": []
  },
  {
   "cell_type": "code",
   "execution_count": 28,
   "id": "4be31d24-eca8-44bc-ac3f-e815059a8471",
   "metadata": {},
   "outputs": [],
   "source": [
    "class SequentialBatcher:\n",
    "    def __init__(self, seg_size):\n",
    "        self.segment_storage = []\n",
    "        self.seg_size = seg_size\n",
    "        self.cur_cont = 0\n",
    "\n",
    "        self.out_storage = {}\n",
    "    \n",
    "    def push(self, context, position_ids, positional_embeddings):\n",
    "        self.segment_storage.append(\n",
    "            [\n",
    "            self.cur_cont,\n",
    "            context.split(self.seg_size, dim=1),\n",
    "            position_ids.split(self.seg_size, dim=1),\n",
    "            list(zip(positional_embeddings[0].split(self.seg_size, dim=1),\n",
    "            positional_embeddings[1].split(self.seg_size, dim=1)))\n",
    "            ]\n",
    "        )\n",
    "        segm_id = self.cur_cont\n",
    "        self.cur_cont += 1\n",
    "\n",
    "        return segm_id\n",
    "\n",
    "    def next(self):\n",
    "        if not self.segment_storage:\n",
    "            return None\n",
    "\n",
    "        next_segm_info = (self.segment_storage[0][0], self.segment_storage[0][1][0], self.segment_storage[0][2][0], self.segment_storage[0][3][0])\n",
    "\n",
    "        self.segment_storage[0][1] = self.segment_storage[0][1][1:]\n",
    "        self.segment_storage[0][2] = self.segment_storage[0][2][1:]\n",
    "        self.segment_storage[0][3] = self.segment_storage[0][3][1:]\n",
    "        \n",
    "        if len(self.segment_storage[0][1]) == 0:\n",
    "            self.segment_storage = self.segment_storage[1:]\n",
    "\n",
    "        return next_segm_info\n",
    "    \n",
    "    def push_out(self, segm_id, segm_out):\n",
    "        if segm_id not in self.out_storage:\n",
    "            self.out_storage[segm_id] = []\n",
    "\n",
    "        self.out_storage[segm_id].append(segm_out)\n",
    "\n",
    "    def get_context_output(self, segm_id):\n",
    "        segm_out = torch.concat(self.out_storage[segm_id], dim=1)\n",
    "        del self.out_storage[segm_id]\n",
    "        return segm_out"
   ]
  },
  {
   "cell_type": "code",
   "execution_count": 29,
   "id": "00a41f38",
   "metadata": {},
   "outputs": [],
   "source": [
    "class GroupedBatcher:\n",
    "    def __init__(self, n_layers, seg_size, hid_dim, pos_embed_dim):\n",
    "        self.segment_storage = []\n",
    "        self.n_layers = n_layers\n",
    "        self.seg_size = seg_size\n",
    "        self.hid_dim = hid_dim\n",
    "        self.pos_embed_dim = pos_embed_dim\n",
    "        self.cur_cont = 0\n",
    "\n",
    "        self.out_storage = {}\n",
    "        \n",
    "    def init_batch(self, dtype=torch.bfloat16, device=\"cpu\"):\n",
    "        batch = torch.zeros((self.n_layers, self.seg_size, self.hid_dim), dtype=dtype, device=device)\n",
    "        segments_info = torch.full((self.n_layers,), -1, dtype=torch.int32, device=device)\n",
    "        position_ids = torch.full((self.n_layers, self.seg_size), 0, dtype=torch.int32, device=device)\n",
    "        positional_embeddings = (torch.zeros((self.n_layers, self.seg_size, self.pos_embed_dim), dtype=dtype, device=device),\n",
    "                                torch.zeros((self.n_layers, self.seg_size, self.pos_embed_dim), dtype=dtype, device=device))\n",
    "        \n",
    "        return batch, segments_info, position_ids, positional_embeddings\n",
    "        \n",
    "    def push(self, context, position_ids, positional_embeddings):\n",
    "        self.segment_storage.append(\n",
    "            [\n",
    "            self.cur_cont,\n",
    "            context.split(self.seg_size, dim=1),\n",
    "            position_ids.split(self.seg_size, dim=1),\n",
    "            list(zip(positional_embeddings[0].split(self.seg_size, dim=1),\n",
    "            positional_embeddings[1].split(self.seg_size, dim=1)))\n",
    "            ]\n",
    "        )\n",
    "        segm_id = self.cur_cont\n",
    "        self.cur_cont += 1\n",
    "\n",
    "        return segm_id\n",
    "        \n",
    "    def next(self, batch, segments_info, position_ids, positional_embeddings):     \n",
    "        # print(\"before roll: \", segments_info)\n",
    "           \n",
    "        # batch[1:] = batch[:-1].clone() # shift\n",
    "        # segments_info[1:] = segments_info[:-1].clone() # shift\n",
    "        # position_ids[1:] = position_ids[:-1].clone() # shift\n",
    "        # positional_embeddings[0][1:] = positional_embeddings[0][:-1].clone() # shift\n",
    "        # positional_embeddings[1][1:] = positional_embeddings[1][:-1].clone() # shift\n",
    "        \n",
    "        batch = torch.roll(batch, 1, 0)\n",
    "        segments_info = torch.roll(segments_info, 1, 0)\n",
    "        position_ids = torch.roll(position_ids, 1, 0)\n",
    "        positional_embeddings = (torch.roll(positional_embeddings[0], 1, 0), torch.roll(positional_embeddings[1], 1, 0))\n",
    "        \n",
    "        # print(\"after roll: \", segments_info)\n",
    "        \n",
    "        if not self.segment_storage:\n",
    "            batch[0] = 0\n",
    "            segments_info[0] = -1\n",
    "            position_ids[0] = 0\n",
    "            positional_embeddings[0][0] = 0\n",
    "            positional_embeddings[1][0] = 0\n",
    "            return batch, segments_info, position_ids, positional_embeddings\n",
    "        \n",
    "        segments_info[0] = self.segment_storage[0][0]\n",
    "        batch[0] = self.segment_storage[0][1][0]\n",
    "        position_ids[0] = self.segment_storage[0][2][0]\n",
    "        positional_embeddings[0][0] = self.segment_storage[0][3][0][0]\n",
    "        positional_embeddings[1][0] = self.segment_storage[0][3][0][1]\n",
    "\n",
    "        self.segment_storage[0][1] = self.segment_storage[0][1][1:]\n",
    "        self.segment_storage[0][2] = self.segment_storage[0][2][1:]\n",
    "        self.segment_storage[0][3] = self.segment_storage[0][3][1:]\n",
    "        \n",
    "        if len(self.segment_storage[0][1]) == 0:\n",
    "            self.segment_storage = self.segment_storage[1:]\n",
    "        \n",
    "        return batch, segments_info, position_ids, positional_embeddings\n",
    "    \n",
    "    def push_out(self, batch_out, segments_info):\n",
    "        # print(\"push out segments_info\", segments_info)\n",
    "        last_segm_info = segments_info[-1].item()\n",
    "        if last_segm_info != -1:\n",
    "            if last_segm_info not in self.out_storage:\n",
    "                self.out_storage[last_segm_info] = []\n",
    "\n",
    "            self.out_storage[last_segm_info].append(batch_out[-1:])\n",
    "            \n",
    "            \n",
    "    def get_context_output(self, segm_id):\n",
    "        segm_out = torch.concat(self.out_storage[segm_id], dim=1)\n",
    "        del self.out_storage[segm_id]\n",
    "        return segm_out"
   ]
  },
  {
   "cell_type": "code",
   "execution_count": 30,
   "id": "42d9d5d6",
   "metadata": {},
   "outputs": [],
   "source": [
    "from typing import Optional, Tuple, Unpack\n",
    "\n",
    "DEBUG_RESIDUALS = []\n",
    "\n",
    "class BaseLayerExecutor(nn.Module):\n",
    "    def __init__(self, layers):\n",
    "        super().__init__()\n",
    "        self.layers = layers\n",
    "        \n",
    "    def forward(self, \n",
    "        hidden_states: torch.Tensor,\n",
    "        attention_mask: Optional[torch.Tensor] = None,\n",
    "        position_ids: Optional[torch.LongTensor] = None,\n",
    "        past_key_value = None,\n",
    "        output_attentions = None,\n",
    "        use_cache = None,\n",
    "        cache_position = None,\n",
    "        position_embeddings = None,\n",
    "        **kwargs\n",
    "                ):\n",
    "        \n",
    "        attn_outputs = []\n",
    "        layer_outputs = []\n",
    "        \n",
    "        next_decoder_cache = None\n",
    "        \n",
    "        for l in self.layers:\n",
    "            # global DEBUG_RESIDUALS\n",
    "            # DEBUG_RESIDUALS = dict(hidden_states=hidden_states, attention_mask=attention_mask, position_ids=position_ids, past_key_value=past_key_value, output_attentions=output_attentions, use_cache=use_cache, cache_position=cache_position, position_embeddings=position_embeddings)\n",
    "            layer_outputs = l.forward(hidden_states, attention_mask=attention_mask, position_ids=position_ids, past_key_value=past_key_value, output_attentions=output_attentions, use_cache=use_cache, cache_position=cache_position, position_embeddings=position_embeddings, **kwargs)\n",
    "            hidden_states = layer_outputs[0]\n",
    "            \n",
    "            if use_cache:\n",
    "                next_decoder_cache = layer_outputs[2 if output_attentions else 1]\n",
    "            if output_attentions:\n",
    "                all_self_attns += (layer_outputs[1],)\n",
    "                \n",
    "\n",
    "        if output_attentions:\n",
    "            return hidden_states, attn_outputs, next_decoder_cache\n",
    "        else:\n",
    "            return hidden_states, next_decoder_cache\n",
    "        \n",
    "    \n"
   ]
  },
  {
   "cell_type": "code",
   "execution_count": 31,
   "id": "dd05055e",
   "metadata": {},
   "outputs": [],
   "source": [
    "class SequentialSegmentsExecutor(nn.Module):\n",
    "    def __init__(self, layers, batcher):\n",
    "        super().__init__()\n",
    "        self.layers = layers\n",
    "        self.batcher = batcher\n",
    "        \n",
    "    def forward(self, \n",
    "        hidden_states: torch.Tensor,\n",
    "        attention_mask: Optional[torch.Tensor] = None,\n",
    "        position_ids: Optional[torch.LongTensor] = None,\n",
    "        past_key_value = None,\n",
    "        output_attentions = None,\n",
    "        use_cache = None,\n",
    "        cache_position = None,\n",
    "        position_embeddings = None,\n",
    "        **kwargs\n",
    "                ):\n",
    "        \n",
    "        assert not use_cache and not past_key_value, \"only prefill for now is supported\"\n",
    "        \n",
    "        batch_size = hidden_states.shape[0]\n",
    "        \n",
    "        segm_ids = []\n",
    "        for i in range(batch_size):\n",
    "            # global DEBUG_RESIDUALS\n",
    "            # DEBUG_RESIDUALS = dict(hidden_states=hidden_states, attention_mask=attention_mask, position_ids=position_ids, past_key_value=past_key_value, output_attentions=output_attentions, use_cache=use_cache, cache_position=cache_position, position_embeddings=position_embeddings)\n",
    "\n",
    "            seg_id = self.batcher.push(hidden_states[i:i+1], position_ids[i:i+1], (position_embeddings[0][i:i+1], position_embeddings[1][i:i+1]))\n",
    "            segm_ids.append(seg_id)\n",
    "        \n",
    "        while self.batcher.segment_storage:\n",
    "            segment_info, batch, batch_position_ids, batch_position_embeddings = self.batcher.next()\n",
    "            assert batch is not None\n",
    "            \n",
    "            for l in self.layers:\n",
    "                layer_outputs = l.forward(\n",
    "                    batch, \n",
    "                    attention_mask=None, \n",
    "                    position_ids=batch_position_ids, \n",
    "                    past_key_value=None, \n",
    "                    output_attentions=None, \n",
    "                    use_cache=False, \n",
    "                    cache_position=None, \n",
    "                    position_embeddings=batch_position_embeddings, \n",
    "                    **kwargs\n",
    "                )\n",
    "\n",
    "                hidden_states = layer_outputs[0]\n",
    "                \n",
    "            self.batcher.push_out(segment_info, hidden_states)\n",
    "            \n",
    "        outs = []\n",
    "        for i in range(batch_size):\n",
    "            outs.append(self.batcher.get_context_output(segm_ids[i]))\n",
    "            \n",
    "        return torch.stack(outs)\n",
    "        "
   ]
  },
  {
   "cell_type": "code",
   "execution_count": 32,
   "id": "b0f2c36e",
   "metadata": {},
   "outputs": [],
   "source": [
    "class GroupedSegmentsExecutor(nn.Module):\n",
    "    def __init__(self, layers, batcher):\n",
    "        super().__init__()\n",
    "        self.layers = layers\n",
    "        self.batcher = batcher\n",
    "        \n",
    "    def forward(self, \n",
    "        hidden_states: torch.Tensor,\n",
    "        attention_mask: Optional[torch.Tensor] = None,\n",
    "        position_ids: Optional[torch.LongTensor] = None,\n",
    "        past_key_value = None,\n",
    "        output_attentions = None,\n",
    "        use_cache = None,\n",
    "        cache_position = None,\n",
    "        position_embeddings = None,\n",
    "        **kwargs\n",
    "                ):\n",
    "        \n",
    "        assert not use_cache and not past_key_value, \"only prefill for now is supported\"\n",
    "        \n",
    "        batch_size = hidden_states.shape[0]\n",
    "        segm_ids = []\n",
    "        \n",
    "        # Push all inputs into batcher\n",
    "        for i in range(batch_size):\n",
    "            # global DEBUG_RESIDUALS\n",
    "            # DEBUG_RESIDUALS = dict(hidden_states=hidden_states, attention_mask=attention_mask, position_ids=position_ids, past_key_value=past_key_value, output_attentions=output_attentions, use_cache=use_cache, cache_position=cache_position, position_embeddings=position_embeddings)\n",
    "\n",
    "            seg_id = self.batcher.push(hidden_states[i:i+1], position_ids[i:i+1], (position_embeddings[0][i:i+1], position_embeddings[1][i:i+1]))\n",
    "            segm_ids.append(seg_id)\n",
    "        \n",
    "        # Initialize batch tensors\n",
    "        batch, segments_info, batch_position_ids, batch_position_embeddings = self.batcher.init_batch(\n",
    "            dtype=hidden_states.dtype, device=hidden_states.device\n",
    "        )\n",
    "        \n",
    "\n",
    "        is_first = True\n",
    "\n",
    "        # Process segments one by one\n",
    "        while is_first or (segments_info != -1).any():\n",
    "            assert batch is not None\n",
    "            \n",
    "            if is_first:\n",
    "                is_first = False\n",
    "            \n",
    "            batch, segments_info, batch_position_ids, batch_position_embeddings = self.batcher.next(\n",
    "                batch, segments_info, batch_position_ids, batch_position_embeddings\n",
    "            )\n",
    "            \n",
    "            assert len(self.layers) == 1, \"only for grouped compute layer\"\n",
    "            \n",
    "            # print(\"Segment info\", segments_info)\n",
    "            layer_outputs = self.layers[0].forward(\n",
    "                batch, \n",
    "                attention_mask=None, \n",
    "                position_ids=batch_position_ids, \n",
    "                past_key_value=None, \n",
    "                output_attentions=None, \n",
    "                use_cache=False, \n",
    "                cache_position=None, \n",
    "                position_embeddings=batch_position_embeddings, \n",
    "                **kwargs\n",
    "            )\n",
    "\n",
    "            hidden_states = layer_outputs[0]\n",
    "                \n",
    "            self.batcher.push_out(hidden_states, segments_info)\n",
    "            \n",
    "        outs = []\n",
    "        for i in range(batch_size):\n",
    "            outs.append(self.batcher.get_context_output(segm_ids[i]))\n",
    "            \n",
    "        return torch.stack(outs)\n",
    "        "
   ]
  },
  {
   "cell_type": "code",
   "execution_count": null,
   "id": "f3e8c5a6",
   "metadata": {},
   "outputs": [],
   "source": []
  },
  {
   "cell_type": "code",
   "execution_count": 33,
   "id": "f410b498",
   "metadata": {},
   "outputs": [
    {
     "data": {
      "text/plain": [
       "LlamaForCausalLM(\n",
       "  (model): LlamaModel(\n",
       "    (embed_tokens): Embedding(128256, 2048)\n",
       "    (layers): ModuleList(\n",
       "      (0-15): 16 x LlamaDecoderLayer(\n",
       "        (self_attn): LlamaSdpaAttention(\n",
       "          (q_proj): Linear(in_features=2048, out_features=2048, bias=False)\n",
       "          (k_proj): Linear(in_features=2048, out_features=512, bias=False)\n",
       "          (v_proj): Linear(in_features=2048, out_features=512, bias=False)\n",
       "          (o_proj): Linear(in_features=2048, out_features=2048, bias=False)\n",
       "          (rotary_emb): LlamaRotaryEmbedding()\n",
       "        )\n",
       "        (mlp): LlamaMLP(\n",
       "          (gate_proj): Linear(in_features=2048, out_features=8192, bias=False)\n",
       "          (up_proj): Linear(in_features=2048, out_features=8192, bias=False)\n",
       "          (down_proj): Linear(in_features=8192, out_features=2048, bias=False)\n",
       "          (act_fn): SiLU()\n",
       "        )\n",
       "        (input_layernorm): LlamaRMSNorm((2048,), eps=1e-05)\n",
       "        (post_attention_layernorm): LlamaRMSNorm((2048,), eps=1e-05)\n",
       "      )\n",
       "    )\n",
       "    (norm): LlamaRMSNorm((2048,), eps=1e-05)\n",
       "    (rotary_emb): LlamaRotaryEmbedding()\n",
       "  )\n",
       "  (lm_head): Linear(in_features=2048, out_features=128256, bias=False)\n",
       ")"
      ]
     },
     "execution_count": 33,
     "metadata": {},
     "output_type": "execute_result"
    }
   ],
   "source": [
    "reference_model = AutoModelForCausalLM.from_pretrained(\n",
    "    \"meta-llama/Llama-3.2-1B\", \n",
    "    attn_implementation=\"sdpa\",\n",
    "    # attn_implementation=\"eager\",\n",
    "    torch_dtype=dtype\n",
    ")\n",
    "reference_model.to(\"cuda\")"
   ]
  },
  {
   "cell_type": "code",
   "execution_count": 34,
   "id": "7380432e",
   "metadata": {},
   "outputs": [],
   "source": [
    "segment_size = 128"
   ]
  },
  {
   "cell_type": "code",
   "execution_count": 35,
   "id": "26bf2804",
   "metadata": {},
   "outputs": [],
   "source": [
    "new_states = GroupedBatcher(len(model.model.layers), segment_size, 2048, 64).init_batch()"
   ]
  },
  {
   "cell_type": "code",
   "execution_count": 36,
   "id": "44dcf36b",
   "metadata": {},
   "outputs": [
    {
     "data": {
      "text/plain": [
       "8.50787353515625"
      ]
     },
     "execution_count": 36,
     "metadata": {},
     "output_type": "execute_result"
    }
   ],
   "source": [
    "sum((\n",
    "new_states[0].nelement()*new_states[0].element_size()/1024**2,\n",
    "new_states[1].nelement()*new_states[1].element_size()/1024**2,\n",
    "new_states[2].nelement()*new_states[2].element_size()/1024**2,\n",
    "new_states[3][0].nelement()*new_states[3][0].element_size()/1024**2,\n",
    "new_states[3][1].nelement()*new_states[3][1].element_size()/1024**2\n",
    "))"
   ]
  },
  {
   "cell_type": "code",
   "execution_count": 37,
   "id": "5753e6ee",
   "metadata": {},
   "outputs": [],
   "source": [
    "grouped_model.model.layers = nn.ModuleList([GroupedSegmentsExecutor([grouped_layer], GroupedBatcher(len(model.model.layers), segment_size, 2048, 64))])"
   ]
  },
  {
   "cell_type": "code",
   "execution_count": 87,
   "id": "554093f1",
   "metadata": {},
   "outputs": [],
   "source": [
    "# reference_model.model.layers = nn.ModuleList([BaseLayerExecutor(model.model.layers)])\n",
    "\n",
    "reference_model.model.layers = nn.ModuleList([SequentialSegmentsExecutor(model.model.layers, SequentialBatcher(segment_size))])"
   ]
  },
  {
   "cell_type": "code",
   "execution_count": 39,
   "id": "5e44f37d",
   "metadata": {},
   "outputs": [],
   "source": [
    "torch.cuda.empty_cache()"
   ]
  },
  {
   "cell_type": "code",
   "execution_count": 40,
   "id": "7ee67f31",
   "metadata": {},
   "outputs": [],
   "source": [
    "# text = \"Hello, how are you?\"\n",
    "# text = \" \".join([\"Hello\"] * 99)\n",
    "# inputs = tokenizer(text, return_tensors=\"pt\")\n"
   ]
  },
  {
   "cell_type": "code",
   "execution_count": 84,
   "id": "052caea3",
   "metadata": {},
   "outputs": [],
   "source": [
    "gen_size = segment_size*2000\n",
    "inputs = {\n",
    "    \"input_ids\": torch.randint(0, 10000, (1, gen_size)).to(\"cuda\"),\n",
    "    \"attention_mask\": torch.ones((1, gen_size)).to(\"cuda\"),\n",
    "}"
   ]
  },
  {
   "cell_type": "code",
   "execution_count": 85,
   "id": "54c32582",
   "metadata": {},
   "outputs": [
    {
     "data": {
      "text/plain": [
       "256000"
      ]
     },
     "execution_count": 85,
     "metadata": {},
     "output_type": "execute_result"
    }
   ],
   "source": [
    "gen_size"
   ]
  },
  {
   "cell_type": "code",
   "execution_count": 61,
   "id": "1d01d7ca",
   "metadata": {},
   "outputs": [],
   "source": [
    "# del out0\n",
    "# del out1\n",
    "# del out2\n",
    "torch.cuda.empty_cache()"
   ]
  },
  {
   "cell_type": "code",
   "execution_count": 64,
   "id": "cc72c1a4",
   "metadata": {},
   "outputs": [
    {
     "name": "stdout",
     "output_type": "stream",
     "text": [
      "CPU times: user 36.6 ms, sys: 4.01 ms, total: 40.6 ms\n",
      "Wall time: 40.1 ms\n"
     ]
    }
   ],
   "source": [
    "%%time\n",
    "\n",
    "torch.manual_seed(0)\n",
    "# outputs = model.generate(input_ids = inputs[\"input_ids\"].to(\"cuda\"), attention_mask = inputs[\"attention_mask\"].to(\"cuda\"), max_new_tokens=20)\n",
    "out0 = model.model.forward(input_ids = inputs[\"input_ids\"].to(\"cuda\"), attention_mask = inputs[\"attention_mask\"].to(\"cuda\"))\n",
    "\n",
    "torch.cuda.synchronize()"
   ]
  },
  {
   "cell_type": "code",
   "execution_count": 65,
   "id": "67aecd5b",
   "metadata": {},
   "outputs": [],
   "source": [
    "# print(tokenizer.decode(outputs[0], skip_special_tokens=True))"
   ]
  },
  {
   "cell_type": "code",
   "execution_count": 66,
   "id": "e89bd740",
   "metadata": {},
   "outputs": [],
   "source": [
    "# del out0\n",
    "del out1\n",
    "# del out2\n",
    "torch.cuda.empty_cache()"
   ]
  },
  {
   "cell_type": "code",
   "execution_count": 89,
   "id": "f2f99562",
   "metadata": {},
   "outputs": [
    {
     "name": "stdout",
     "output_type": "stream",
     "text": [
      "CPU times: user 25.4 s, sys: 71.7 ms, total: 25.5 s\n",
      "Wall time: 25.5 s\n"
     ]
    }
   ],
   "source": [
    "%%time\n",
    "\n",
    "torch.manual_seed(0)\n",
    "# outputs = model.generate(input_ids = inputs[\"input_ids\"].to(\"cuda\"), attention_mask = inputs[\"attention_mask\"].to(\"cuda\"), max_new_tokens=20)\n",
    "out1 = reference_model.model.forward(input_ids = inputs[\"input_ids\"].to(\"cuda\"), attention_mask = inputs[\"attention_mask\"].to(\"cuda\"), use_cache=False)\n",
    "\n",
    "torch.cuda.synchronize()"
   ]
  },
  {
   "cell_type": "code",
   "execution_count": 55,
   "id": "d36b2b77",
   "metadata": {},
   "outputs": [],
   "source": [
    "# del out0\n",
    "# del out1\n",
    "# del out2\n",
    "torch.cuda.empty_cache()"
   ]
  },
  {
   "cell_type": "code",
   "execution_count": 76,
   "id": "135649f4",
   "metadata": {},
   "outputs": [
    {
     "name": "stdout",
     "output_type": "stream",
     "text": [
      "CPU times: user 141 ms, sys: 3.91 ms, total: 145 ms\n",
      "Wall time: 144 ms\n"
     ]
    }
   ],
   "source": [
    "%%time\n",
    "\n",
    "torch.manual_seed(0)\n",
    "out2 = grouped_model.model.forward(input_ids = inputs[\"input_ids\"].to(\"cuda\"), attention_mask = inputs[\"attention_mask\"].to(\"cuda\"), use_cache=False)\n",
    "\n",
    "torch.cuda.synchronize()"
   ]
  },
  {
   "cell_type": "code",
   "execution_count": 594,
   "id": "b30fe14a",
   "metadata": {},
   "outputs": [
    {
     "data": {
      "text/plain": [
       "(torch.Size([1, 25600, 128256]), torch.Size([1, 25600, 128256]))"
      ]
     },
     "execution_count": 594,
     "metadata": {},
     "output_type": "execute_result"
    }
   ],
   "source": [
    "out2.logits.shape, out1.logits.shape"
   ]
  },
  {
   "cell_type": "code",
   "execution_count": 592,
   "id": "26ed51a0",
   "metadata": {},
   "outputs": [
    {
     "ename": "OutOfMemoryError",
     "evalue": "CUDA out of memory. Tried to allocate 12.23 GiB. GPU 0 has a total capacity of 79.15 GiB of which 6.92 GiB is free. Including non-PyTorch memory, this process has 72.22 GiB memory in use. Of the allocated memory 69.55 GiB is allocated by PyTorch, and 2.18 GiB is reserved by PyTorch but unallocated. If reserved but unallocated memory is large try setting PYTORCH_CUDA_ALLOC_CONF=expandable_segments:True to avoid fragmentation.  See documentation for Memory Management  (https://pytorch.org/docs/stable/notes/cuda.html#environment-variables)",
     "output_type": "error",
     "traceback": [
      "\u001b[0;31m---------------------------------------------------------------------------\u001b[0m",
      "\u001b[0;31mOutOfMemoryError\u001b[0m                          Traceback (most recent call last)",
      "Cell \u001b[0;32mIn[592], line 1\u001b[0m\n\u001b[0;32m----> 1\u001b[0m \u001b[43mtorch\u001b[49m\u001b[38;5;241;43m.\u001b[39;49m\u001b[43mallclose\u001b[49m\u001b[43m(\u001b[49m\u001b[43mout2\u001b[49m\u001b[38;5;241;43m.\u001b[39;49m\u001b[43mlogits\u001b[49m\u001b[43m,\u001b[49m\u001b[43m \u001b[49m\u001b[43mout1\u001b[49m\u001b[38;5;241;43m.\u001b[39;49m\u001b[43mlogits\u001b[49m\u001b[43m)\u001b[49m\n",
      "\u001b[0;31mOutOfMemoryError\u001b[0m: CUDA out of memory. Tried to allocate 12.23 GiB. GPU 0 has a total capacity of 79.15 GiB of which 6.92 GiB is free. Including non-PyTorch memory, this process has 72.22 GiB memory in use. Of the allocated memory 69.55 GiB is allocated by PyTorch, and 2.18 GiB is reserved by PyTorch but unallocated. If reserved but unallocated memory is large try setting PYTORCH_CUDA_ALLOC_CONF=expandable_segments:True to avoid fragmentation.  See documentation for Memory Management  (https://pytorch.org/docs/stable/notes/cuda.html#environment-variables)"
     ]
    }
   ],
   "source": [
    "torch.allclose(out2.logits, out1.logits)"
   ]
  },
  {
   "cell_type": "code",
   "execution_count": 410,
   "id": "250b2e57",
   "metadata": {},
   "outputs": [],
   "source": [
    "# torch.roll(torch.tensor([ 0, -1, -1, -1, -1, -1, -1, -1, -1, -1, -1, -1, -1, -1, -1, -1]), 1, 0)"
   ]
  },
  {
   "cell_type": "code",
   "execution_count": 307,
   "id": "c9dd0165",
   "metadata": {},
   "outputs": [
    {
     "data": {
      "text/plain": [
       "LlamaForCausalLM(\n",
       "  (model): LlamaModel(\n",
       "    (embed_tokens): Embedding(128256, 2048)\n",
       "    (layers): ModuleList(\n",
       "      (0): GroupedSegmentsExecutor()\n",
       "    )\n",
       "    (norm): LlamaRMSNorm((2048,), eps=1e-05)\n",
       "    (rotary_emb): LlamaRotaryEmbedding()\n",
       "  )\n",
       "  (lm_head): Linear(in_features=2048, out_features=128256, bias=False)\n",
       ")"
      ]
     },
     "execution_count": 307,
     "metadata": {},
     "output_type": "execute_result"
    }
   ],
   "source": [
    "grouped_model"
   ]
  },
  {
   "cell_type": "code",
   "execution_count": 276,
   "id": "892f5577",
   "metadata": {},
   "outputs": [
    {
     "data": {
      "text/plain": [
       "torch.Size([16, 1, 2048])"
      ]
     },
     "execution_count": 276,
     "metadata": {},
     "output_type": "execute_result"
    }
   ],
   "source": [
    "grouped_model.model.layers[0].layers[0].input_layernorm.weight.data.shape"
   ]
  },
  {
   "cell_type": "code",
   "execution_count": null,
   "id": "ea6e1339",
   "metadata": {},
   "outputs": [],
   "source": []
  },
  {
   "cell_type": "code",
   "execution_count": null,
   "id": "90647a34",
   "metadata": {},
   "outputs": [],
   "source": []
  },
  {
   "cell_type": "code",
   "execution_count": 245,
   "id": "4c338a29",
   "metadata": {},
   "outputs": [
    {
     "data": {
      "text/plain": [
       "torch.Size([1, 100, 128256])"
      ]
     },
     "execution_count": 245,
     "metadata": {},
     "output_type": "execute_result"
    }
   ],
   "source": [
    "out1.logits.shape"
   ]
  },
  {
   "cell_type": "code",
   "execution_count": 210,
   "id": "35d4f164",
   "metadata": {},
   "outputs": [],
   "source": [
    "c,s = list(zip(DEBUG_RESIDUALS[\"position_embeddings\"][0].split(25, dim=1),\n",
    "DEBUG_RESIDUALS[\"position_embeddings\"][1].split(25, dim=1)))[0]"
   ]
  },
  {
   "cell_type": "code",
   "execution_count": 207,
   "id": "07926372",
   "metadata": {},
   "outputs": [
    {
     "data": {
      "text/plain": [
       "(tensor([[[ 1.0000,  1.0000,  1.0000,  ...,  1.0000,  1.0000,  1.0000],\n",
       "          [ 0.5391,  0.7891,  0.9062,  ...,  1.0000,  1.0000,  1.0000],\n",
       "          [-0.4160,  0.2412,  0.6367,  ...,  1.0000,  1.0000,  1.0000],\n",
       "          ...,\n",
       "          [-0.9258,  0.0332,  0.2988,  ...,  1.0000,  1.0000,  1.0000],\n",
       "          [-0.8203, -0.5898,  0.6758,  ...,  1.0000,  1.0000,  1.0000],\n",
       "          [ 0.0398, -0.9609,  0.9258,  ...,  1.0000,  1.0000,  1.0000]]],\n",
       "        device='cuda:0', dtype=torch.bfloat16),\n",
       " tensor([[[ 0.0000e+00,  0.0000e+00,  0.0000e+00,  ...,  0.0000e+00,\n",
       "            0.0000e+00,  0.0000e+00],\n",
       "          [ 8.3984e-01,  6.1719e-01,  4.2578e-01,  ...,  2.1420e-07,\n",
       "            1.4156e-07,  9.4064e-08],\n",
       "          [ 9.1016e-01,  9.6875e-01,  7.6953e-01,  ...,  4.2841e-07,\n",
       "            2.8312e-07,  1.8813e-07],\n",
       "          ...,\n",
       "          [ 3.7891e-01,  1.0000e+00, -9.5312e-01,  ...,  2.0742e-05,\n",
       "            1.3769e-05,  9.1195e-06],\n",
       "          [-5.7422e-01,  8.0859e-01, -7.3438e-01,  ...,  2.0981e-05,\n",
       "            1.3888e-05,  9.2387e-06],\n",
       "          [-1.0000e+00,  2.7344e-01, -3.7695e-01,  ...,  2.1219e-05,\n",
       "            1.4067e-05,  9.2983e-06]]], device='cuda:0', dtype=torch.bfloat16))"
      ]
     },
     "execution_count": 207,
     "metadata": {},
     "output_type": "execute_result"
    }
   ],
   "source": [
    "DEBUG_RESIDUALS[\"position_embeddings\"]"
   ]
  },
  {
   "cell_type": "code",
   "execution_count": 75,
   "id": "509a58c0",
   "metadata": {},
   "outputs": [],
   "source": [
    "# print(tokenizer.decode(outputs[0], skip_special_tokens=True))"
   ]
  },
  {
   "cell_type": "code",
   "execution_count": 76,
   "id": "36ccf3e8-0383-4578-b1e9-fb904c9c29fd",
   "metadata": {},
   "outputs": [
    {
     "data": {
      "text/plain": [
       "torch.Size([1, 101, 2048])"
      ]
     },
     "execution_count": 76,
     "metadata": {},
     "output_type": "execute_result"
    }
   ],
   "source": [
    "DEBUG_RESIDUALS[\"hidden_states\"].shape"
   ]
  },
  {
   "cell_type": "code",
   "execution_count": 81,
   "id": "d5e890a3",
   "metadata": {},
   "outputs": [
    {
     "data": {
      "text/plain": [
       "torch.Size([1, 101])"
      ]
     },
     "execution_count": 81,
     "metadata": {},
     "output_type": "execute_result"
    }
   ],
   "source": [
    "DEBUG_RESIDUALS[\"position_ids\"].shape"
   ]
  },
  {
   "cell_type": "code",
   "execution_count": 80,
   "id": "6644589a-a7f0-4539-a981-c059ec1be36d",
   "metadata": {},
   "outputs": [
    {
     "data": {
      "text/plain": [
       "(torch.Size([1, 101, 64]), torch.Size([1, 101, 64]))"
      ]
     },
     "execution_count": 80,
     "metadata": {},
     "output_type": "execute_result"
    }
   ],
   "source": [
    "DEBUG_RESIDUALS[\"position_embeddings\"][0].shape, DEBUG_RESIDUALS[\"position_embeddings\"][1].shape"
   ]
  },
  {
   "cell_type": "markdown",
   "id": "63c0bf01-5261-48c5-9d7e-9088ef8f09f7",
   "metadata": {},
   "source": [
    "# Benchmarking"
   ]
  },
  {
   "cell_type": "code",
   "execution_count": 38,
   "id": "10e4fbb4-c286-4384-b373-1f6c5bda1a8c",
   "metadata": {},
   "outputs": [],
   "source": [
    "n_segments = 50"
   ]
  },
  {
   "cell_type": "code",
   "execution_count": 39,
   "id": "8c373a2e-a8bd-489e-aedf-e3e2befca3b1",
   "metadata": {},
   "outputs": [],
   "source": [
    "model.zero_grad()"
   ]
  },
  {
   "cell_type": "code",
   "execution_count": 40,
   "id": "34560ae0-6034-4115-a0b0-6259e26132b6",
   "metadata": {},
   "outputs": [],
   "source": [
    "layer_inp_bench = torch.rand((len(model.model.layers), 16, 2048), dtype=dtype, device=\"cuda\")"
   ]
  },
  {
   "cell_type": "code",
   "execution_count": 41,
   "id": "d07af8ea-80bf-4c48-971e-984b60885180",
   "metadata": {},
   "outputs": [
    {
     "data": {
      "text/plain": [
       "torch.Size([16, 16, 2048])"
      ]
     },
     "execution_count": 41,
     "metadata": {},
     "output_type": "execute_result"
    }
   ],
   "source": [
    "layer_inp_bench.shape"
   ]
  },
  {
   "cell_type": "code",
   "execution_count": null,
   "id": "f7da1edf-e7de-4787-bbbe-042f93cd6ff1",
   "metadata": {},
   "outputs": [],
   "source": []
  },
  {
   "cell_type": "code",
   "execution_count": 43,
   "id": "d4a62639-3e07-4d48-8232-7bf5cc6c7337",
   "metadata": {},
   "outputs": [
    {
     "name": "stdout",
     "output_type": "stream",
     "text": [
      "CPU times: user 811 ms, sys: 3.12 ms, total: 814 ms\n",
      "Wall time: 813 ms\n"
     ]
    }
   ],
   "source": [
    "%%time\n",
    "\n",
    "for i in range(n_segments):\n",
    "    rec_o0 = layer_inp_bench[:1]\n",
    "    for l in range(len(model.model.layers)):\n",
    "        rec_o0 = model.model.layers[l].forward(\n",
    "            rec_o0, None, layer_inp_bench[:1, :, 0]\n",
    "        )[0]"
   ]
  },
  {
   "cell_type": "code",
   "execution_count": null,
   "id": "2c2ad6d8-87ce-418e-8d64-8e0bc2d09d85",
   "metadata": {},
   "outputs": [],
   "source": []
  },
  {
   "cell_type": "code",
   "execution_count": 46,
   "id": "7a2e7480-7a4b-4f6d-85b7-1a2937784dfb",
   "metadata": {},
   "outputs": [
    {
     "data": {
      "text/plain": [
       "16"
      ]
     },
     "execution_count": 46,
     "metadata": {},
     "output_type": "execute_result"
    }
   ],
   "source": [
    "len(model.model.layers)"
   ]
  },
  {
   "cell_type": "code",
   "execution_count": 47,
   "id": "a8e13a19-72fc-4b49-8a53-643fc9ff5171",
   "metadata": {},
   "outputs": [
    {
     "name": "stdout",
     "output_type": "stream",
     "text": [
      "CPU times: user 138 ms, sys: 0 ns, total: 138 ms\n",
      "Wall time: 137 ms\n"
     ]
    }
   ],
   "source": [
    "%%time\n",
    "\n",
    "rec_o1 = layer_inp_bench\n",
    "for i in range(n_segments):\n",
    "    # for i in range(n_segments + len(model.model.layers)):\n",
    "    rec_o1 = grouped_layer.forward(\n",
    "        rec_o1, None, layer_inp_bench[:, :, 0]\n",
    "    )[0]"
   ]
  },
  {
   "cell_type": "code",
   "execution_count": null,
   "id": "c61d1081-13c7-4f47-a37e-40218dd6ca02",
   "metadata": {},
   "outputs": [],
   "source": []
  },
  {
   "cell_type": "code",
   "execution_count": null,
   "id": "3ae73bd2-3045-4d80-b75f-2b8329d524d1",
   "metadata": {},
   "outputs": [],
   "source": []
  },
  {
   "cell_type": "code",
   "execution_count": null,
   "id": "28178628-d233-4c26-8654-c3a3dd5461db",
   "metadata": {},
   "outputs": [],
   "source": []
  },
  {
   "cell_type": "code",
   "execution_count": null,
   "id": "2e7e5ac6-464c-4d2a-abbf-1fa8e629ed97",
   "metadata": {},
   "outputs": [],
   "source": []
  },
  {
   "cell_type": "code",
   "execution_count": null,
   "id": "1c9417fa-6e8c-4758-abb8-e64bee488fff",
   "metadata": {},
   "outputs": [],
   "source": []
  },
  {
   "cell_type": "code",
   "execution_count": null,
   "id": "23b64243-71ba-456d-b3b4-96183a9ef38d",
   "metadata": {},
   "outputs": [],
   "source": []
  },
  {
   "cell_type": "code",
   "execution_count": null,
   "id": "3e53c73c-85f9-4690-a5b3-1863a2278322",
   "metadata": {},
   "outputs": [],
   "source": []
  },
  {
   "cell_type": "code",
   "execution_count": null,
   "id": "ee90bd9a",
   "metadata": {},
   "outputs": [],
   "source": []
  },
  {
   "cell_type": "code",
   "execution_count": null,
   "id": "f91ab321",
   "metadata": {},
   "outputs": [],
   "source": []
  },
  {
   "cell_type": "code",
   "execution_count": null,
   "id": "3831da64-0ee1-4215-8ea3-28ea41f9a77d",
   "metadata": {},
   "outputs": [],
   "source": []
  },
  {
   "cell_type": "code",
   "execution_count": null,
   "id": "025e0505",
   "metadata": {},
   "outputs": [],
   "source": []
  },
  {
   "cell_type": "code",
   "execution_count": 97,
   "id": "aba14d6b",
   "metadata": {},
   "outputs": [
    {
     "data": {
      "image/png": "[encoded data removed]",
      "text/plain": [
       "<Figure size 1000x600 with 1 Axes>"
      ]
     },
     "metadata": {},
     "output_type": "display_data"
    }
   ],
   "source": [
    "x = [2560,\n",
    "25600,\n",
    "51200,\n",
    "128000,\n",
    "256000]\n",
    "\n",
    "y_pure_pytorch = [\n",
    "    0.043,\n",
    "    0.57,\n",
    "    1.68,\n",
    "    7.8,\n",
    "    28.6,\n",
    "]\n",
    "\n",
    "y_unoptimized = [\n",
    "    0.25,\n",
    "    1.25,\n",
    "    2.6,\n",
    "    6.25,\n",
    "    25,\n",
    "]\n",
    "\n",
    "y_diagonal_batching = [\n",
    "    0.145,\n",
    "    0.68,\n",
    "    1.27,\n",
    "    3.03,\n",
    "    8,\n",
    "]\n",
    "\n",
    "import matplotlib.pyplot as plt\n",
    "\n",
    "plt.figure(figsize=(10, 6))\n",
    "plt.plot(x, y_pure_pytorch, marker='o', label='Pure PyTorch', \n",
    "         markerfacecolor='none', markersize=2)\n",
    "for i, txt in enumerate(y_pure_pytorch):\n",
    "    plt.annotate(f'{txt}s', (x[i], y_pure_pytorch[i]), \n",
    "                textcoords=\"offset points\", xytext=(0,10), ha='center', fontsize=8)\n",
    "\n",
    "plt.plot(x, y_unoptimized, marker='s', label='Unoptimized',\n",
    "         markerfacecolor='none', markersize=2)\n",
    "for i, txt in enumerate(y_unoptimized):\n",
    "    plt.annotate(f'{txt}s', (x[i], y_unoptimized[i]),\n",
    "                textcoords=\"offset points\", xytext=(0,10), ha='center', fontsize=8)\n",
    "\n",
    "plt.plot(x, y_diagonal_batching, marker='^', label='Diagonal Batching',\n",
    "         markerfacecolor='none', markersize=2) \n",
    "for i, txt in enumerate(y_diagonal_batching):\n",
    "    plt.annotate(f'{txt}s', (x[i], y_diagonal_batching[i]),\n",
    "                textcoords=\"offset points\", xytext=(0,10), ha='center', fontsize=8)\n",
    "\n",
    "plt.xlabel('Input Sequence Length')\n",
    "plt.ylabel('Time (seconds)')\n",
    "plt.title('Performance Comparison for segment forward on 1B model Llama-3.2')\n",
    "plt.legend()\n",
    "plt.grid(True)\n",
    "\n",
    "plt.show()\n"
   ]
  },
  {
   "cell_type": "code",
   "execution_count": null,
   "id": "64779187",
   "metadata": {},
   "outputs": [],
   "source": []
  }
 ],
 "metadata": {
  "kernelspec": {
   "display_name": "Python [conda env:.mlspace-svtdanny]",
   "language": "python",
   "name": "conda-env-.mlspace-svtdanny-py"
  },
  "language_info": {
   "codemirror_mode": {
    "name": "ipython",
    "version": 3
   },
   "file_extension": ".py",
   "mimetype": "text/x-python",
   "name": "python",
   "nbconvert_exporter": "python",
   "pygments_lexer": "ipython3",
   "version": "3.11.9"
  }
 },
 "nbformat": 4,
 "nbformat_minor": 5
}
