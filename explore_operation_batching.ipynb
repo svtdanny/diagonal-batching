{
 "cells": [
  {
   "cell_type": "code",
   "execution_count": 2,
   "id": "df6ea3cc-49f7-4205-be11-ceb0ab338cf0",
   "metadata": {},
   "outputs": [
    {
     "data": {
      "text/plain": [
       "<torch.autograd.grad_mode.set_grad_enabled at 0x7fde21f29a50>"
      ]
     },
     "execution_count": 2,
     "metadata": {},
     "output_type": "execute_result"
    }
   ],
   "source": [
    "import torch\n",
    "import torch.nn as nn\n",
    "\n",
    "torch.set_grad_enabled(False)"
   ]
  },
  {
   "cell_type": "markdown",
   "id": "ae593aae-f619-4e90-938b-90bddc89e52f",
   "metadata": {},
   "source": [
    "## straight armt implementation"
   ]
  },
  {
   "cell_type": "code",
   "execution_count": null,
   "id": "c898d0ce-28e0-4188-96cf-850e7aef8f51",
   "metadata": {},
   "outputs": [],
   "source": []
  },
  {
   "cell_type": "code",
   "execution_count": 3,
   "id": "12c22524-a899-4132-855a-60d28501f125",
   "metadata": {},
   "outputs": [],
   "source": [
    "class SimpleMergeArmtAttention(nn.Module):\n",
    "    def __init__(self, k_proj, q_proj, v_proj):\n",
    "        self.k_proj = k_proj\n",
    "        self.q_proj = q_proj\n",
    "        self.v_proj = v_proj\n",
    "\n",
    "        super().__init__()\n",
    "\n",
    "    def forward(self, segment, memory, prev_kv_proj = None, attn_mask = None):\n",
    "        memory_seq_len = memory.shape[-2]\n",
    "        segment_seq_len = segment.shape[-2]\n",
    "        \n",
    "        mem_segm_merged = torch.concat((segment, memory), dim=-2)\n",
    "\n",
    "        q = mem_segm_merged @ self.q_proj\n",
    "        k = mem_segm_merged @ self.k_proj\n",
    "        v = mem_segm_merged @ self.v_proj\n",
    "\n",
    "        if prev_kv_proj is not None:\n",
    "            prev_segment_proj_k, prev_segment_proj_v = prev_kv_proj\n",
    "            k = torch.concat((k, prev_segment_proj_k), dim=-2)\n",
    "            v = torch.concat((v, prev_segment_proj_v), dim=-2)\n",
    "\n",
    "        attn = q@torch.transpose(k, -1, -2)\n",
    "        dk = k.shape[-1]\n",
    "        attn = attn / dk**0.5\n",
    "\n",
    "        if attn_mask is not None:\n",
    "            attn.masked_fill_(~attn_mask, -1e9)\n",
    "\n",
    "        # print(\"BEFORE ATTN: \", attn)\n",
    "        attn = torch.softmax(attn, dim=-1)\n",
    "        # print(\"ATTN: \", attn)\n",
    "        out = attn @ v\n",
    "\n",
    "        out_segment = out[..., :segment_seq_len, :]\n",
    "        out_memory = out[..., segment_seq_len:segment_seq_len+memory_seq_len, :]\n",
    "\n",
    "        cache_k_activation = k[..., :segment_seq_len, :]\n",
    "        cache_v_activation = v[..., :segment_seq_len, :]\n",
    "        return out_segment, out_memory, [cache_k_activation, cache_v_activation]"
   ]
  },
  {
   "cell_type": "markdown",
   "id": "5f724745-9634-4e3b-8145-2594eb74d926",
   "metadata": {},
   "source": [
    "## Naive implementation usage"
   ]
  },
  {
   "cell_type": "code",
   "execution_count": 527,
   "id": "4dba2476-8611-415d-adc0-8b2f0d00fbb5",
   "metadata": {},
   "outputs": [],
   "source": [
    "def clear_memory(memory_states):\n",
    "    for s in memory_states:\n",
    "        s.fill_(0)"
   ]
  },
  {
   "cell_type": "code",
   "execution_count": null,
   "id": "37d699e1-0e2a-48eb-8b00-58bd0d6ef8f4",
   "metadata": {},
   "outputs": [],
   "source": []
  },
  {
   "cell_type": "code",
   "execution_count": 595,
   "id": "cadb44ef-1f0e-4c3a-9c5f-dc23d0288516",
   "metadata": {},
   "outputs": [],
   "source": [
    "n_layers = 10\n",
    "norm_coeff = 1\n",
    "data_norm_coeff = 1\n",
    "\n",
    "seq_size = 12800 # 128*157\n",
    "\n",
    "# hid_dim = 1024\n",
    "hid_dim = 4096*2\n",
    "# segment_size = 108\n",
    "# mem_size = 20\n",
    "segment_size = 128\n",
    "mem_size = 16\n",
    "\n",
    "proj_dim = hid_dim\n",
    "\n",
    "device = \"cuda\""
   ]
  },
  {
   "cell_type": "code",
   "execution_count": 596,
   "id": "1f50e056-9681-439b-900a-218a17e74d67",
   "metadata": {},
   "outputs": [],
   "source": [
    "memory = torch.rand((mem_size, hid_dim), device=device, dtype=torch.float32)\n",
    "prev_segment = torch.rand((segment_size, hid_dim), device=device, dtype=torch.float32)\n",
    "\n",
    "full_input = torch.rand((seq_size, hid_dim), device=device, dtype=torch.float32)\n",
    "segment = full_input[:segment_size, :]\n"
   ]
  },
  {
   "cell_type": "code",
   "execution_count": 597,
   "id": "9fe0d517-3874-4c11-90dd-b1bb935d30f7",
   "metadata": {},
   "outputs": [],
   "source": [
    "model_naive_states = []\n",
    "for i in range(n_layers):\n",
    "    q_proj = torch.rand((hid_dim, proj_dim), device=device, dtype=torch.float32)/norm_coeff\n",
    "    k_proj = torch.rand((hid_dim, proj_dim), device=device, dtype=torch.float32)/norm_coeff\n",
    "    v_proj = torch.rand((hid_dim, hid_dim), device=device, dtype=torch.float32)/norm_coeff\n",
    "\n",
    "    q_proj = q_proj/q_proj.norm()\n",
    "    k_proj = k_proj/k_proj.norm()\n",
    "    v_proj = v_proj/v_proj.norm()\n",
    "\n",
    "    layer = SimpleMergeArmtAttention(k_proj, q_proj, v_proj)\n",
    "    model_naive_states.append(layer)\n",
    "\n",
    "memory_states = []\n",
    "for i in range(n_layers):\n",
    "    memory = torch.rand((mem_size, hid_dim), device=device, dtype=torch.float32)\n",
    "    # memory = memory/memory.norm()\n",
    "    memory_states.append(memory)\n"
   ]
  },
  {
   "cell_type": "code",
   "execution_count": null,
   "id": "ad37f6e1-aaf5-447d-b295-78673b17b83e",
   "metadata": {},
   "outputs": [],
   "source": []
  },
  {
   "cell_type": "code",
   "execution_count": 598,
   "id": "4813baa0-5921-4d77-9875-af16a97b69c9",
   "metadata": {},
   "outputs": [],
   "source": [
    "# model_naive = ArmtTransformer(model_naive_states)\n",
    "\n",
    "model_naive_layers = nn.ModuleList(model_naive_states)"
   ]
  },
  {
   "cell_type": "code",
   "execution_count": 599,
   "id": "052b9a79-34da-4636-8acf-d80a4b2dfcbf",
   "metadata": {},
   "outputs": [],
   "source": [
    "def forward_for_segment(model_naive_layers, cur_segment, memory_states, prev_segm_kvs = None):\n",
    "    cur_segm_kvs = []\n",
    "    for i in range(n_layers):\n",
    "        cur_memory = memory_states[i]\n",
    "        prev_kv_proj = prev_segm_kvs[i] if prev_segm_kvs is not None else None\n",
    "        out_segment, out_memory, segm_kv = model_naive_layers[i](\n",
    "            cur_segment, cur_memory,  prev_kv_proj = prev_kv_proj, attn_mask = None\n",
    "        )\n",
    "\n",
    "        # # crutch for random initialization\n",
    "        # out_memory = out_memory/out_memory.norm()\n",
    "        # out_segment = out_segment/out_segment.norm()\n",
    "        \n",
    "        memory_states[i] = out_memory\n",
    "        cur_segm_kvs.append(segm_kv)\n",
    "        \n",
    "        # cur_segment = cur_segment+out_segment\n",
    "        cur_segment = out_segment\n",
    "        \n",
    "    return cur_segment, cur_segm_kvs"
   ]
  },
  {
   "cell_type": "code",
   "execution_count": 600,
   "id": "1ea7b043-22ab-4c88-a39a-bb5f77ccb31e",
   "metadata": {},
   "outputs": [],
   "source": [
    "cur_segment = segment"
   ]
  },
  {
   "cell_type": "code",
   "execution_count": 601,
   "id": "ce823766-8f7f-424d-b7d7-be85789a2a05",
   "metadata": {},
   "outputs": [],
   "source": [
    "cur_segment, cur_segm_kvs = forward_for_segment(model_naive_layers, cur_segment, memory_states, prev_segm_kvs = None)"
   ]
  },
  {
   "cell_type": "code",
   "execution_count": 602,
   "id": "918fd3e3-aad7-444e-a461-2495155ccbda",
   "metadata": {},
   "outputs": [],
   "source": [
    "\n",
    "clear_memory(memory_states)"
   ]
  },
  {
   "cell_type": "code",
   "execution_count": 603,
   "id": "3ee6d876-dbc8-443f-a3df-34afeac64413",
   "metadata": {},
   "outputs": [],
   "source": [
    "from torch.profiler import profile, record_function, ProfilerActivity"
   ]
  },
  {
   "cell_type": "code",
   "execution_count": 604,
   "id": "8333d780-4831-42c7-8530-543bda731342",
   "metadata": {},
   "outputs": [],
   "source": [
    "sort_by_keyword = \"self_\" + device + \"_time_total\"\n",
    "\n",
    "activities = [ProfilerActivity.CPU, ProfilerActivity.CUDA]\n"
   ]
  },
  {
   "cell_type": "code",
   "execution_count": 605,
   "id": "6b5d3940-4833-4a1e-8f21-06e189a6482e",
   "metadata": {},
   "outputs": [
    {
     "name": "stdout",
     "output_type": "stream",
     "text": [
      "CPU times: user 979 ms, sys: 2.64 s, total: 3.62 s\n",
      "Wall time: 3.62 s\n"
     ]
    }
   ],
   "source": [
    "%%time\n",
    "\n",
    "\n",
    "\n",
    "n_segments = full_input.shape[-2]//segment_size\n",
    "prev_segm_kvs = None\n",
    "\n",
    "out_segments = []\n",
    "\n",
    "# with profile(\n",
    "#     activities=activities,\n",
    "#     with_stack=True,\n",
    "# ) as prof:\n",
    "for i in range(n_segments):\n",
    "    cur_segment = full_input[i*segment_size: (i+1)*segment_size]\n",
    "    cur_segment_out, cur_segm_kvs = forward_for_segment(model_naive_layers, cur_segment, memory_states, prev_segm_kvs = prev_segm_kvs)\n",
    "\n",
    "    out_segments.append(cur_segment_out)\n",
    "    prev_segm_kvs = cur_segm_kvs"
   ]
  },
  {
   "cell_type": "code",
   "execution_count": null,
   "id": "b007d0dc-38d7-49c2-90fb-d3b5fd93c2fe",
   "metadata": {},
   "outputs": [],
   "source": []
  },
  {
   "cell_type": "code",
   "execution_count": 606,
   "id": "f8374c5b-aa47-4d1d-839a-7a02e464ad1a",
   "metadata": {},
   "outputs": [],
   "source": [
    "\n",
    "# Print aggregated stats\n",
    "# print(prof.key_averages(group_by_stack_n=5).table(sort_by=sort_by_keyword, row_limit=2))"
   ]
  },
  {
   "cell_type": "code",
   "execution_count": 607,
   "id": "ef892e52-869d-49a6-ad54-309baca8d607",
   "metadata": {},
   "outputs": [],
   "source": [
    "# prof.export_chrome_trace(\"/home/jovyan/sivtsov/armt/simple_armt_trace_1024_108_20.json\")"
   ]
  },
  {
   "cell_type": "code",
   "execution_count": null,
   "id": "980f7b31-1ee0-4121-99df-d6c92ace29cb",
   "metadata": {},
   "outputs": [],
   "source": []
  },
  {
   "cell_type": "code",
   "execution_count": 608,
   "id": "36bc4c1b-8437-4525-8241-e090da83eb0a",
   "metadata": {},
   "outputs": [],
   "source": [
    "model_out = torch.concat(out_segments, axis=-2)"
   ]
  },
  {
   "cell_type": "code",
   "execution_count": 609,
   "id": "81254801-8fcf-4830-9ac0-5e9aff121e19",
   "metadata": {},
   "outputs": [
    {
     "data": {
      "text/plain": [
       "tensor([[0.1101, 0.1093, 0.1094,  ..., 0.1100, 0.1082, 0.1082],\n",
       "        [0.1101, 0.1093, 0.1094,  ..., 0.1100, 0.1082, 0.1082],\n",
       "        [0.1101, 0.1093, 0.1094,  ..., 0.1100, 0.1082, 0.1082],\n",
       "        ...,\n",
       "        [0.1148, 0.1140, 0.1140,  ..., 0.1147, 0.1128, 0.1128],\n",
       "        [0.1148, 0.1140, 0.1140,  ..., 0.1147, 0.1128, 0.1128],\n",
       "        [0.1148, 0.1140, 0.1140,  ..., 0.1147, 0.1128, 0.1128]],\n",
       "       device='cuda:0')"
      ]
     },
     "execution_count": 609,
     "metadata": {},
     "output_type": "execute_result"
    }
   ],
   "source": [
    "model_out"
   ]
  },
  {
   "cell_type": "code",
   "execution_count": null,
   "id": "05a43338-26b3-430d-8bea-0e9bf069d5b1",
   "metadata": {},
   "outputs": [],
   "source": []
  },
  {
   "cell_type": "code",
   "execution_count": null,
   "id": "1d0151bc-bd21-410b-895a-3f424e71d44d",
   "metadata": {},
   "outputs": [],
   "source": []
  },
  {
   "cell_type": "code",
   "execution_count": null,
   "id": "17e2b9df-55ae-4d4b-82c8-347f66edc187",
   "metadata": {},
   "outputs": [],
   "source": []
  },
  {
   "cell_type": "code",
   "execution_count": 610,
   "id": "4757035f-b37b-4369-9320-2735f499c715",
   "metadata": {},
   "outputs": [],
   "source": [
    "class AsyncMatmulTask:\n",
    "    def __init__(self, a, b, result_future):\n",
    "        self.a = a\n",
    "        self.b = b\n",
    "\n",
    "        self.result_future = result_future\n",
    "    \n",
    "    def set_result(self, result):\n",
    "        self.result_future.set_result(result)\n",
    "    \n",
    "    async def get_result(self):\n",
    "        return await self.result_future"
   ]
  },
  {
   "cell_type": "code",
   "execution_count": 611,
   "id": "ea45d767-6480-4131-96be-91c33d1ab82c",
   "metadata": {},
   "outputs": [],
   "source": [
    "import asyncio\n",
    "loop = asyncio.get_event_loop()"
   ]
  },
  {
   "cell_type": "code",
   "execution_count": null,
   "id": "11f0d7b0-775e-4e90-bf4e-e4d42ee1e884",
   "metadata": {},
   "outputs": [],
   "source": []
  },
  {
   "cell_type": "code",
   "execution_count": 612,
   "id": "f656e050-99f5-4a85-8f54-ae81209877eb",
   "metadata": {},
   "outputs": [],
   "source": [
    "a = torch.rand((128, 512), device=\"cuda\")\n",
    "b = torch.rand((512, 192), device=\"cuda\")\n",
    "\n",
    "# 128, 512]-cuda:0-True @[512, 192"
   ]
  },
  {
   "cell_type": "code",
   "execution_count": 613,
   "id": "c9b3ffca-0080-4a28-a764-98d334796426",
   "metadata": {},
   "outputs": [],
   "source": [
    "fut = loop.create_future()"
   ]
  },
  {
   "cell_type": "code",
   "execution_count": null,
   "id": "9ac44238-1655-4e40-a13d-e082d64b7b11",
   "metadata": {},
   "outputs": [],
   "source": []
  },
  {
   "cell_type": "code",
   "execution_count": 614,
   "id": "4d9b63eb-1880-4ea6-8e8f-6b06784a03cb",
   "metadata": {},
   "outputs": [],
   "source": [
    "task = AsyncMatmulTask(a, b, fut)"
   ]
  },
  {
   "cell_type": "code",
   "execution_count": 615,
   "id": "6b5abaa1-e135-4083-a8d4-c23508c7f699",
   "metadata": {},
   "outputs": [
    {
     "data": {
      "text/plain": [
       "<__main__.AsyncMatmulTask at 0x7f7d2c310910>"
      ]
     },
     "execution_count": 615,
     "metadata": {},
     "output_type": "execute_result"
    }
   ],
   "source": [
    "task"
   ]
  },
  {
   "cell_type": "code",
   "execution_count": null,
   "id": "e52ab2be-db27-444e-b799-2c86910774a3",
   "metadata": {},
   "outputs": [],
   "source": []
  },
  {
   "cell_type": "code",
   "execution_count": 616,
   "id": "9b0e14b3-6e29-4926-b55b-bf6ca4233b69",
   "metadata": {},
   "outputs": [],
   "source": [
    "r = a @ b"
   ]
  },
  {
   "cell_type": "code",
   "execution_count": 617,
   "id": "14406c9e-3bff-46b7-b39d-c85495e2b676",
   "metadata": {},
   "outputs": [],
   "source": [
    "task.set_result(r)"
   ]
  },
  {
   "cell_type": "code",
   "execution_count": 618,
   "id": "393e8755-4aac-4b8d-9988-3cd333f91dd2",
   "metadata": {},
   "outputs": [
    {
     "data": {
      "text/plain": [
       "<coroutine object AsyncMatmulTask.get_result at 0x7f7d2c159e40>"
      ]
     },
     "execution_count": 618,
     "metadata": {},
     "output_type": "execute_result"
    }
   ],
   "source": [
    "task.get_result()"
   ]
  },
  {
   "cell_type": "code",
   "execution_count": 619,
   "id": "cc6130e4-588f-4034-9c23-db7e2dfd2067",
   "metadata": {},
   "outputs": [
    {
     "data": {
      "text/plain": [
       "tensor([[128.4938, 122.1323, 124.9071,  ..., 128.4474, 123.2391, 126.5575],\n",
       "        [127.2382, 120.4156, 122.3017,  ..., 125.8692, 124.5613, 128.3667],\n",
       "        [130.5266, 121.9220, 125.6758,  ..., 131.8502, 125.3415, 129.5557],\n",
       "        ...,\n",
       "        [134.1995, 126.6796, 132.4346,  ..., 136.8704, 128.2258, 135.5008],\n",
       "        [133.3957, 123.7400, 124.4430,  ..., 133.0228, 124.8353, 130.6754],\n",
       "        [129.1273, 122.8959, 125.5124,  ..., 125.0941, 122.5810, 127.4804]],\n",
       "       device='cuda:0')"
      ]
     },
     "execution_count": 619,
     "metadata": {},
     "output_type": "execute_result"
    }
   ],
   "source": [
    "await task.get_result()"
   ]
  },
  {
   "cell_type": "code",
   "execution_count": 620,
   "id": "34ea85e6-ddf0-49cd-978a-55030a2eaf36",
   "metadata": {},
   "outputs": [],
   "source": [
    "import sys\n",
    "sys.path.append(\"/home/jovyan/sivtsov/armt\")\n",
    "from group_gemm import group_gemm_fn"
   ]
  },
  {
   "cell_type": "code",
   "execution_count": 621,
   "id": "47850b06-a7ea-4102-9448-6bab3c084a41",
   "metadata": {},
   "outputs": [],
   "source": [
    "class AsyncBatchedTaskExecutor:\n",
    "    def __init__(self, loop, use_triton = False):\n",
    "        self.loop = loop\n",
    "        self.sorted_tasks = {}\n",
    "\n",
    "        self.use_triton = use_triton\n",
    "\n",
    "    def submit_task(self, task):\n",
    "        bucket_name = task.__class__.__name__\n",
    "        if bucket_name not in self.sorted_tasks:\n",
    "            self.sorted_tasks[bucket_name] = []\n",
    "\n",
    "        self.sorted_tasks[bucket_name].append(task)\n",
    "\n",
    "    def execute_one_bucket(self, bucket_name, verbose=False):\n",
    "        any_job_done = False\n",
    "        \n",
    "        if bucket_name not in self.sorted_tasks or len(self.sorted_tasks[bucket_name]) == 0:\n",
    "            return any_job_done\n",
    "\n",
    "        if bucket_name == AsyncMatmulTask.__name__:\n",
    "            if self.use_triton:\n",
    "                a_tensors = []\n",
    "                b_tensors = []\n",
    "                for task in self.sorted_tasks[bucket_name]:\n",
    "                    a_tensors.append(task.a)\n",
    "                    b_tensors.append(task.b)\n",
    "                # print(\n",
    "                #     ', '.join([f\"{list(a.shape)}-{a.device}-{a.is_contiguous()} @{list(b.shape)}-{b.device}-{b.is_contiguous()}\" for a,b in zip(a_tensors, b_tensors)])\n",
    "                # )\n",
    "                res_tensors = group_gemm_fn(a_tensors, b_tensors)\n",
    "                for res, task in zip(res_tensors, self.sorted_tasks[bucket_name]):\n",
    "                    task.set_result(res)\n",
    "                    any_job_done = True\n",
    "            else:  \n",
    "                for task in self.sorted_tasks[bucket_name]:\n",
    "                    res = task.a @ task.b\n",
    "                    task.set_result(res)\n",
    "                    any_job_done = True\n",
    "\n",
    "            if verbose:\n",
    "                print(f\"Compute {len(self.sorted_tasks[bucket_name])}\")\n",
    "\n",
    "            self.sorted_tasks[bucket_name] = []\n",
    "\n",
    "        return any_job_done\n",
    "\n",
    "    async def compute_loop(self, max_iters=10, verbose=False):\n",
    "        any_job_done = False\n",
    "        for i in range(max_iters):\n",
    "            # print(\"compute iter\")\n",
    "            for tn in self.sorted_tasks.keys():\n",
    "                any_job_done = any_job_done or self.execute_one_bucket(tn, verbose=verbose)\n",
    "            # if not any_job_done:\n",
    "            #     return\n",
    "                \n",
    "            await asyncio.sleep(0)\n",
    "\n",
    "    def create_future(self):\n",
    "        return self.loop.create_future()"
   ]
  },
  {
   "cell_type": "code",
   "execution_count": 622,
   "id": "640524a4-24f1-472a-8455-8fc367151adf",
   "metadata": {},
   "outputs": [],
   "source": [
    "executor = AsyncBatchedTaskExecutor(loop, use_triton=False)"
   ]
  },
  {
   "cell_type": "code",
   "execution_count": 623,
   "id": "134a30fd-89dc-4dbf-aa0b-fd3f229c816f",
   "metadata": {},
   "outputs": [],
   "source": [
    "tasks = [AsyncMatmulTask(a, b, executor.create_future()) for i in range(3)]"
   ]
  },
  {
   "cell_type": "code",
   "execution_count": 624,
   "id": "4c2b0e22-76f9-4b54-942d-f37d96c1cb36",
   "metadata": {},
   "outputs": [],
   "source": [
    "for t in tasks:\n",
    "    executor.submit_task(t)"
   ]
  },
  {
   "cell_type": "code",
   "execution_count": 625,
   "id": "28a8bd52-bad0-40fd-9ad1-36be87d4b8e4",
   "metadata": {},
   "outputs": [],
   "source": [
    "await executor.compute_loop()"
   ]
  },
  {
   "cell_type": "code",
   "execution_count": 626,
   "id": "89b65fe3-f79d-48e4-ba84-28cfe09ccd9f",
   "metadata": {},
   "outputs": [
    {
     "data": {
      "text/plain": [
       "tensor([[128.4938, 122.1323, 124.9071,  ..., 128.4474, 123.2391, 126.5575],\n",
       "        [127.2382, 120.4156, 122.3017,  ..., 125.8692, 124.5613, 128.3667],\n",
       "        [130.5266, 121.9220, 125.6758,  ..., 131.8502, 125.3415, 129.5557],\n",
       "        ...,\n",
       "        [134.1995, 126.6796, 132.4346,  ..., 136.8704, 128.2258, 135.5008],\n",
       "        [133.3957, 123.7400, 124.4430,  ..., 133.0228, 124.8353, 130.6754],\n",
       "        [129.1273, 122.8959, 125.5124,  ..., 125.0941, 122.5810, 127.4804]],\n",
       "       device='cuda:0')"
      ]
     },
     "execution_count": 626,
     "metadata": {},
     "output_type": "execute_result"
    }
   ],
   "source": [
    "await tasks[0].get_result()"
   ]
  },
  {
   "cell_type": "code",
   "execution_count": null,
   "id": "b81b34a2-d4e0-4014-998e-a4a89491c6d7",
   "metadata": {},
   "outputs": [],
   "source": []
  },
  {
   "cell_type": "code",
   "execution_count": 627,
   "id": "ee0474b0-f742-436f-921c-f0d9182f600b",
   "metadata": {},
   "outputs": [],
   "source": [
    "class SimpleMergeArmtAttentionWithAsyncCompute(nn.Module):\n",
    "    def __init__(self, k_proj, q_proj, v_proj):\n",
    "        self.k_proj = k_proj\n",
    "        self.q_proj = q_proj\n",
    "        self.v_proj = v_proj\n",
    "\n",
    "        super().__init__()\n",
    "\n",
    "    async def forward(self, executor, segment, memory, prev_kv_proj = None, attn_mask = None):\n",
    "        memory_seq_len = memory.shape[-2]\n",
    "        segment_seq_len = segment.shape[-2]\n",
    "        \n",
    "        mem_segm_merged = torch.concat((memory, segment), dim=-2)\n",
    "\n",
    "        # q = mem_segm_merged @ self.q_proj\n",
    "        # k = mem_segm_merged @ self.k_proj\n",
    "        # v = mem_segm_merged @ self.v_proj\n",
    "        q_f = AsyncMatmulTask(mem_segm_merged, self.q_proj, executor.create_future())\n",
    "        k_f = AsyncMatmulTask(mem_segm_merged, self.k_proj, executor.create_future())\n",
    "        v_f = AsyncMatmulTask(mem_segm_merged, self.v_proj, executor.create_future())\n",
    "\n",
    "        executor.submit_task(q_f)\n",
    "        executor.submit_task(k_f)\n",
    "        executor.submit_task(v_f)\n",
    "        \n",
    "        q = await q_f.get_result()\n",
    "        k = await k_f.get_result()\n",
    "        v = await v_f.get_result()\n",
    "        \n",
    "\n",
    "        if prev_kv_proj is not None:\n",
    "            prev_segment_proj_k, prev_segment_proj_v = prev_kv_proj\n",
    "            k = torch.concat((prev_segment_proj_k, k), dim=-2)\n",
    "            v = torch.concat((prev_segment_proj_v, v), dim=-2)\n",
    "\n",
    "        # attn = q@k.T\n",
    "        attn_f = AsyncMatmulTask(q, k.T.contiguous(), executor.create_future())\n",
    "        executor.submit_task(attn_f)\n",
    "        attn = await attn_f.get_result()\n",
    "        \n",
    "        dk = k.shape[-1]\n",
    "        attn = attn / dk**0.5\n",
    "\n",
    "        if attn_mask is not None:\n",
    "            attn.masked_fill_(~attn_mask, -1e9)\n",
    "\n",
    "        # print(\"BEFORE ATTN: \", attn)\n",
    "        attn = torch.softmax(attn, dim=-1)\n",
    "        # print(\"ATTN: \", attn)\n",
    "        # out = attn @ v\n",
    "        out_f = AsyncMatmulTask(attn, v, executor.create_future())\n",
    "        executor.submit_task(out_f)\n",
    "        out = await out_f.get_result()\n",
    "\n",
    "        out_segment = out[..., -segment_seq_len:, :]\n",
    "        out_memory = out[..., -segment_seq_len-memory_seq_len:-segment_seq_len, :]\n",
    "\n",
    "        cache_k_activation = k[..., -segment_seq_len:, :]\n",
    "        cache_v_activation = v[..., -segment_seq_len:, :]\n",
    "        return out_segment, out_memory, [cache_k_activation, cache_v_activation]"
   ]
  },
  {
   "cell_type": "code",
   "execution_count": 628,
   "id": "a3a149ac-fb3b-4d62-8747-e6a9315bd86c",
   "metadata": {},
   "outputs": [],
   "source": [
    "n_segments = full_input.shape[-2]//segment_size"
   ]
  },
  {
   "cell_type": "code",
   "execution_count": 629,
   "id": "e6c02116-9774-404a-8e94-8249b61f943c",
   "metadata": {},
   "outputs": [],
   "source": [
    "residuals = [ \n",
    "    [None for i in range(n_segments)]\n",
    "    for j in range(n_layers+1)\n",
    "]\n",
    "\n",
    "memory_states = [\n",
    "    torch.zeros((mem_size, hid_dim), device=device, dtype=torch.float32)\n",
    "    for j in range(n_layers)\n",
    "]\n",
    "\n",
    "prev_kvs_storage = [\n",
    "    None \n",
    "    for j in range(n_layers)\n",
    "]"
   ]
  },
  {
   "cell_type": "code",
   "execution_count": 630,
   "id": "a36f4b56-15d4-4619-a843-fc2a760463a6",
   "metadata": {},
   "outputs": [],
   "source": [
    "model_naive_states_async = [\n",
    "    SimpleMergeArmtAttentionWithAsyncCompute(attn.k_proj, attn.q_proj, attn.v_proj)\n",
    "    for attn in model_naive_states\n",
    "]"
   ]
  },
  {
   "cell_type": "code",
   "execution_count": 631,
   "id": "7bac59b5-97da-4d1b-b896-6f10da74f761",
   "metadata": {},
   "outputs": [],
   "source": [
    "residuals[0] = [full_input[i*segment_size: (i+1)*segment_size] for i in range(n_segments)]"
   ]
  },
  {
   "cell_type": "code",
   "execution_count": null,
   "id": "fe44d7d4-4cd6-4ed9-a35b-81454dac755f",
   "metadata": {},
   "outputs": [],
   "source": []
  },
  {
   "cell_type": "code",
   "execution_count": 632,
   "id": "2297baff-10c3-43bf-9830-973375e0f7de",
   "metadata": {},
   "outputs": [],
   "source": [
    "\n",
    "\n",
    "async def schedule_block(\n",
    "    executor, \n",
    "    layer_id, segm_pos, n_segments, \n",
    "    layers, memory_states, prev_kvs_storage, residuals\n",
    "):\n",
    "    layer = layers[layer_id]\n",
    "\n",
    "    if layer_id >= len(residuals):\n",
    "        print(f\"layer_id out: {layer_id}/{len(residuals)} {segm_pos}/{n_segments}\")\n",
    "\n",
    "    if segm_pos >= len(residuals[layer_id]):\n",
    "        print(f\"segm out: {layer_id}/{len(residuals)} {segm_pos}/{n_segments}\")\n",
    "    \n",
    "    prev_kv_proj = prev_kvs_storage[layer_id]\n",
    "    segment = residuals[layer_id][segm_pos]\n",
    "    memory = memory_states[layer_id]\n",
    "\n",
    "    # print(f\"GOT: {layer_id}/{len(residuals)} {segm_pos}/{n_segments}: {segment}\")\n",
    "    out_segment, out_memory, out_kv = await layer.forward(executor, segment, memory, prev_kv_proj = prev_kv_proj, attn_mask = None)\n",
    "\n",
    "    # crutch for random initialization\n",
    "    # out_memory = out_memory/out_memory.norm()\n",
    "    # out_segment = out_segment/out_segment.norm()\n",
    "    \n",
    "    # print(f\"PUT: {layer_id+1}/{len(residuals)} {segm_pos}/{n_segments}: {out_segment}\")\n",
    "    residuals[layer_id+1][segm_pos] = out_segment\n",
    "    memory_states[layer_id] = out_memory\n",
    "    prev_kvs_storage[layer_id] = out_kv\n"
   ]
  },
  {
   "cell_type": "code",
   "execution_count": 633,
   "id": "f3ea7c4a-1721-4858-b85a-142a537a5036",
   "metadata": {},
   "outputs": [],
   "source": [
    "executor = AsyncBatchedTaskExecutor(loop, use_triton=False)"
   ]
  },
  {
   "cell_type": "code",
   "execution_count": null,
   "id": "1f5935cd-ca60-4fed-802e-377b9ba3c5b9",
   "metadata": {},
   "outputs": [],
   "source": []
  },
  {
   "cell_type": "code",
   "execution_count": null,
   "id": "414fe8b1-3b64-49bb-bb67-0866c1027fa8",
   "metadata": {},
   "outputs": [],
   "source": []
  },
  {
   "cell_type": "code",
   "execution_count": 634,
   "id": "3d82b052-f78e-4135-b7ff-0b749838de40",
   "metadata": {},
   "outputs": [],
   "source": [
    "# segm out: 0/21 158/156\n",
    "# segm out: 1/21 157/156\n",
    "# segm out: 2/21 156/156\n",
    "# Compute 51\n",
    "# Compute 17\n",
    "# Compute 17\n",
    "# Compute 0\n",
    "# segm out: 0/21 159/156\n",
    "# segm out: 1/21 158/156\n",
    "# segm out: 2/21 157/156\n",
    "# segm out: 3/21 156/156\n",
    "# Compute 48\n",
    "# Compute 16\n",
    "# Compute 16\n",
    "# Compute 0\n",
    "# segm out: 0/21 160/156\n",
    "# segm out: 1/21 159/156\n",
    "# segm out: 2/21 158/156\n",
    "# segm out: 3/21 157/156\n",
    "# segm out: 4/21 156/156"
   ]
  },
  {
   "cell_type": "code",
   "execution_count": 635,
   "id": "833f8a1b-c7a7-4233-aa90-e99a3707c459",
   "metadata": {},
   "outputs": [
    {
     "data": {
      "text/plain": [
       "109"
      ]
     },
     "execution_count": 635,
     "metadata": {},
     "output_type": "execute_result"
    }
   ],
   "source": [
    "n_segments+n_layers-2+1"
   ]
  },
  {
   "cell_type": "code",
   "execution_count": 636,
   "id": "a867f681-005f-434b-ad5f-a825e5267140",
   "metadata": {},
   "outputs": [],
   "source": [
    "import time"
   ]
  },
  {
   "cell_type": "code",
   "execution_count": 637,
   "id": "69ebc765-7a5d-49c4-9fcd-cf3f2eac2dfc",
   "metadata": {},
   "outputs": [],
   "source": [
    "clear_memory(memory_states)"
   ]
  },
  {
   "cell_type": "code",
   "execution_count": null,
   "id": "0a28b3f6-ef60-4042-8ba9-6d838dfc766e",
   "metadata": {},
   "outputs": [],
   "source": []
  },
  {
   "cell_type": "code",
   "execution_count": 638,
   "id": "b2c9713e-23bb-4daf-a197-143469480589",
   "metadata": {},
   "outputs": [],
   "source": [
    "with profile(\n",
    "    activities=activities,\n",
    "    with_stack=True,\n",
    ") as prof:\n",
    "    \n",
    "    start = time.time()\n",
    "    \n",
    "    for diag in range(0, n_segments+n_layers-2+1):\n",
    "        diag_tasks = []\n",
    "        for l_id in range(0, min(n_layers, diag+1)):\n",
    "            seg_id = diag - l_id\n",
    "            if seg_id >= n_segments:\n",
    "                continue\n",
    "    \n",
    "            # print(f\"seg_id: {seg_id}/{n_segments} {l_id}/{n_layers}\")\n",
    "    \n",
    "            dtask = asyncio.create_task(schedule_block(\n",
    "                executor, \n",
    "                l_id, seg_id, n_segments, \n",
    "                model_naive_states_async, memory_states, prev_kvs_storage, residuals, \n",
    "            ))\n",
    "            diag_tasks.append(dtask)\n",
    "    \n",
    "        # print(\"diag_tasks: \", len(diag_tasks))\n",
    "        \n",
    "        is_undone = True\n",
    "        while is_undone:\n",
    "            await asyncio.sleep(0)\n",
    "            \n",
    "            await executor.compute_loop(1, False)\n",
    "    \n",
    "            is_undone = False\n",
    "            for dt in diag_tasks:\n",
    "                if not dt.done():\n",
    "                    is_undone = True\n",
    "    \n",
    "    end = time.time()"
   ]
  },
  {
   "cell_type": "code",
   "execution_count": 639,
   "id": "3a495ced-f585-4fa0-92a3-df091a9cda6c",
   "metadata": {},
   "outputs": [
    {
     "data": {
      "text/plain": [
       "3.684100866317749"
      ]
     },
     "execution_count": 639,
     "metadata": {},
     "output_type": "execute_result"
    }
   ],
   "source": [
    "end - start"
   ]
  },
  {
   "cell_type": "code",
   "execution_count": 640,
   "id": "e199d641-fd5f-410b-a365-b8fc0d0cbdc8",
   "metadata": {},
   "outputs": [],
   "source": [
    "# Print aggregated stats\n",
    "# print(prof.key_averages(group_by_stack_n=5).table(sort_by=sort_by_keyword, row_limit=10))\n",
    "\n",
    "# prof.export_chrome_trace(\"/home/jovyan/sivtsov/armt/simple_armt_batched_trace_1024_108_20.json\")\n"
   ]
  },
  {
   "cell_type": "code",
   "execution_count": null,
   "id": "881641a6-ded2-4ef3-a772-68f589ce58c1",
   "metadata": {},
   "outputs": [],
   "source": []
  },
  {
   "cell_type": "code",
   "execution_count": 641,
   "id": "45bd7dad-fda7-46ff-9256-2afb2ba656ea",
   "metadata": {},
   "outputs": [
    {
     "data": {
      "text/plain": [
       "tensor([[0.1101, 0.1093, 0.1094,  ..., 0.1100, 0.1082, 0.1082],\n",
       "        [0.1101, 0.1093, 0.1094,  ..., 0.1100, 0.1082, 0.1082],\n",
       "        [0.1101, 0.1093, 0.1094,  ..., 0.1100, 0.1082, 0.1082],\n",
       "        ...,\n",
       "        [0.1148, 0.1140, 0.1140,  ..., 0.1147, 0.1128, 0.1128],\n",
       "        [0.1148, 0.1140, 0.1140,  ..., 0.1147, 0.1128, 0.1128],\n",
       "        [0.1148, 0.1140, 0.1140,  ..., 0.1147, 0.1128, 0.1128]],\n",
       "       device='cuda:0')"
      ]
     },
     "execution_count": 641,
     "metadata": {},
     "output_type": "execute_result"
    }
   ],
   "source": [
    "torch.concat(residuals[-1], axis=-2)"
   ]
  },
  {
   "cell_type": "code",
   "execution_count": 642,
   "id": "e4c52f80-73d4-45a6-adb0-2d62276920c8",
   "metadata": {},
   "outputs": [],
   "source": [
    "# residuals[0]"
   ]
  },
  {
   "cell_type": "code",
   "execution_count": 643,
   "id": "c3954c96-8973-4b61-9a28-a938d8cd0a8d",
   "metadata": {},
   "outputs": [
    {
     "data": {
      "text/plain": [
       "tensor([[0.1101, 0.1093, 0.1094,  ..., 0.1100, 0.1082, 0.1082],\n",
       "        [0.1101, 0.1093, 0.1094,  ..., 0.1100, 0.1082, 0.1082],\n",
       "        [0.1101, 0.1093, 0.1094,  ..., 0.1100, 0.1082, 0.1082],\n",
       "        ...,\n",
       "        [0.1148, 0.1140, 0.1140,  ..., 0.1147, 0.1128, 0.1128],\n",
       "        [0.1148, 0.1140, 0.1140,  ..., 0.1147, 0.1128, 0.1128],\n",
       "        [0.1148, 0.1140, 0.1140,  ..., 0.1147, 0.1128, 0.1128]],\n",
       "       device='cuda:0')"
      ]
     },
     "execution_count": 643,
     "metadata": {},
     "output_type": "execute_result"
    }
   ],
   "source": [
    "model_out"
   ]
  },
  {
   "cell_type": "code",
   "execution_count": null,
   "id": "0259d5d7-d912-498f-9ec4-546a32f1cfde",
   "metadata": {},
   "outputs": [],
   "source": []
  },
  {
   "cell_type": "code",
   "execution_count": null,
   "id": "fa6fec68-fd0d-4248-a921-413595db0201",
   "metadata": {},
   "outputs": [],
   "source": []
  },
  {
   "cell_type": "markdown",
   "id": "8c423967-4582-4c29-b5d3-2ba1689ceca1",
   "metadata": {},
   "source": [
    "### batched shift"
   ]
  },
  {
   "cell_type": "code",
   "execution_count": 644,
   "id": "4f38ee81-780e-4189-a30b-23b813a40aaa",
   "metadata": {},
   "outputs": [],
   "source": [
    "# import cutlass\n",
    "# import os\n",
    "# import logging\n",
    "# from cutlass.emit.pytorch import _ArchListSetter\n",
    "# from cutlass import CUTLASS_PATH, logger\n",
    "# from torch.utils.cpp_extension import load as jit_load\n",
    "\n",
    "# extra_cuda_cflags = [\"-std=c++17\"]\n",
    "# cc = 80\n",
    "\n",
    "# # cuda_file = \"/home/jovyan/sivtsov/armt/batched_gemm_fused/grouped_gemm_kernel.cu\"\n",
    "# # cpp_file = \"/home/jovyan/sivtsov/armt/batched_gemm_fused/grouped_gemm.cpp\"\n",
    "\n",
    "# cuda_file = \"/home/jovyan/sivtsov/armt/batched_gemm_fused_fp32/grouped_gemm_kernel.cu\"\n",
    "# cpp_file = \"/home/jovyan/sivtsov/armt/batched_gemm_fused_fp32/grouped_gemm.cpp\"\n",
    "\n",
    "# with _ArchListSetter(cc):\n",
    "#     grouped_gemm_fused = jit_load(\n",
    "#         \"grouped_gemm_fused\",\n",
    "#         [cpp_file, cuda_file],\n",
    "#         extra_cuda_cflags=extra_cuda_cflags,\n",
    "#         extra_include_paths=[\n",
    "#             os.path.join(CUTLASS_PATH, \"include\"),\n",
    "#             os.path.join(CUTLASS_PATH, \"tools/util/include\"),\n",
    "#         ],\n",
    "#         # extra_ldflags=[\"-lcuda\"],\n",
    "#         verbose=(logger.level == logging.DEBUG)\n",
    "#     )"
   ]
  },
  {
   "cell_type": "code",
   "execution_count": 645,
   "id": "285fc23b-0f84-4c17-8bda-7322ef11e5cc",
   "metadata": {},
   "outputs": [],
   "source": [
    "memory_states_values = []\n",
    "for i in range(n_layers):\n",
    "    memory = torch.rand((mem_size, hid_dim), device=device, dtype=torch.float32)\n",
    "    # memory = memory/memory.norm()\n",
    "    memory_states_values.append(memory)\n",
    "prev_segment = torch.rand((segment_size, hid_dim), device=device, dtype=torch.float32)\n",
    "\n",
    "full_input_values = torch.rand((seq_size, hid_dim), device=device, dtype=torch.float32)\n",
    "model_naive_layers = nn.ModuleList(model_naive_states)"
   ]
  },
  {
   "cell_type": "code",
   "execution_count": 646,
   "id": "ec6ca0d1-55be-4383-9ea3-075dbfb216a9",
   "metadata": {},
   "outputs": [],
   "source": [
    "memory_states = [ms.clone() for ms in memory_states_values]\n",
    "full_input = full_input_values.clone()"
   ]
  },
  {
   "cell_type": "code",
   "execution_count": 647,
   "id": "9e546cc2-016a-4b8a-b10d-feb1e25acef5",
   "metadata": {},
   "outputs": [
    {
     "name": "stdout",
     "output_type": "stream",
     "text": [
      "CPU times: user 855 ms, sys: 2.76 s, total: 3.62 s\n",
      "Wall time: 3.62 s\n"
     ]
    }
   ],
   "source": [
    "%%time\n",
    "# with profile(\n",
    "#     activities=activities,\n",
    "#     with_stack=True,\n",
    "# ) as prof:\n",
    "    \n",
    "n_segments = full_input.shape[-2]//segment_size\n",
    "prev_segm_kvs = None\n",
    "\n",
    "out_segments = []\n",
    "\n",
    "\n",
    "for i in range(n_segments):\n",
    "    cur_segment = full_input[i*segment_size: (i+1)*segment_size]\n",
    "    cur_segment_out, cur_segm_kvs = forward_for_segment(model_naive_layers, cur_segment, memory_states, prev_segm_kvs = prev_segm_kvs)\n",
    "\n",
    "    out_segments.append(cur_segment_out)\n",
    "    prev_segm_kvs = cur_segm_kvs"
   ]
  },
  {
   "cell_type": "code",
   "execution_count": 648,
   "id": "3178a535-2aba-4db5-b231-787df9e02c7d",
   "metadata": {},
   "outputs": [],
   "source": [
    "# print(prof.key_averages(group_by_stack_n=5).table(sort_by=sort_by_keyword, row_limit=2))\n",
    "# prof.export_chrome_trace(\"/home/jovyan/sivtsov/armt/simple_armt_trace_1024_128_16.json\")"
   ]
  },
  {
   "cell_type": "code",
   "execution_count": null,
   "id": "117aee87-6cca-4972-9fc3-911a0a0506b4",
   "metadata": {},
   "outputs": [],
   "source": []
  },
  {
   "cell_type": "code",
   "execution_count": 649,
   "id": "f3987408-a104-4bed-87d1-ab0e3912609b",
   "metadata": {},
   "outputs": [
    {
     "data": {
      "text/plain": [
       "tensor([[8.5877e-05, 3.2606e-05, 4.7348e-05,  ..., 7.8048e-05, 1.4467e-04,\n",
       "         6.8340e-05],\n",
       "        [2.0971e-04, 1.2495e-04, 4.7114e-05,  ..., 1.4708e-05, 1.3707e-04,\n",
       "         1.4782e-04],\n",
       "        [1.3311e-04, 2.0665e-04, 7.2726e-06,  ..., 1.3032e-04, 1.9263e-04,\n",
       "         1.6358e-04],\n",
       "        ...,\n",
       "        [2.1937e-05, 1.4712e-04, 8.5876e-05,  ..., 2.0777e-04, 3.6135e-05,\n",
       "         1.6349e-04],\n",
       "        [3.8573e-05, 6.4643e-05, 1.4749e-04,  ..., 1.2750e-04, 6.9246e-05,\n",
       "         7.8237e-05],\n",
       "        [1.5062e-04, 1.2124e-04, 7.2243e-05,  ..., 1.6533e-04, 2.6494e-05,\n",
       "         1.5068e-04]], device='cuda:0')"
      ]
     },
     "execution_count": 649,
     "metadata": {},
     "output_type": "execute_result"
    }
   ],
   "source": [
    "model_naive_layers[0].k_proj"
   ]
  },
  {
   "cell_type": "code",
   "execution_count": 650,
   "id": "7dc1269a-991a-474d-9f72-f0a3ed97799e",
   "metadata": {},
   "outputs": [
    {
     "data": {
      "text/plain": [
       "tensor([[0.0240, 0.1012, 0.5432,  ..., 0.5815, 0.6590, 0.6832],\n",
       "        [0.8228, 0.6089, 0.5518,  ..., 0.5307, 0.5262, 0.2317],\n",
       "        [0.3078, 0.1139, 0.2669,  ..., 0.6657, 0.4683, 0.0287],\n",
       "        ...,\n",
       "        [0.8757, 0.8900, 0.4062,  ..., 0.1679, 0.5932, 0.0780],\n",
       "        [0.6212, 0.8532, 0.8251,  ..., 0.9994, 0.2915, 0.6914],\n",
       "        [0.6270, 0.2418, 0.0027,  ..., 0.0993, 0.9398, 0.8402]],\n",
       "       device='cuda:0')"
      ]
     },
     "execution_count": 650,
     "metadata": {},
     "output_type": "execute_result"
    }
   ],
   "source": [
    "segment"
   ]
  },
  {
   "cell_type": "code",
   "execution_count": null,
   "id": "6da38058-119f-4d63-90ab-d64924d72956",
   "metadata": {},
   "outputs": [],
   "source": []
  },
  {
   "cell_type": "code",
   "execution_count": null,
   "id": "63b71670-7962-4790-a3bb-fd8e2ce6cc2f",
   "metadata": {},
   "outputs": [],
   "source": [
    "\n"
   ]
  },
  {
   "cell_type": "code",
   "execution_count": null,
   "id": "2f2a6ad1-ae29-47c2-b313-74c67321db4e",
   "metadata": {},
   "outputs": [],
   "source": []
  },
  {
   "cell_type": "code",
   "execution_count": null,
   "id": "9feb38c2-67d9-481c-bb19-7dd0f56ca2d9",
   "metadata": {},
   "outputs": [],
   "source": []
  },
  {
   "cell_type": "code",
   "execution_count": 651,
   "id": "18e1af59-32c2-4d4b-bf52-c34466f5c2de",
   "metadata": {},
   "outputs": [],
   "source": [
    "# input_batch"
   ]
  },
  {
   "cell_type": "code",
   "execution_count": 652,
   "id": "28fc0115-75a0-46b9-85ec-50a22380b57e",
   "metadata": {},
   "outputs": [],
   "source": [
    "def forward_fused(segm_mem, weights, segment_seq_len, prev_kv_proj = None, attn_mask=None, fused=False):\n",
    "    segm_mem_list = segm_mem.unbind(0)\n",
    "    if fused:\n",
    "        ##\n",
    "        qkv = grouped_gemm_fused.run(segm_mem_list*3, weights[0]+weights[1]+weights[2])\n",
    "        ##\n",
    "    else:\n",
    "        qkv = grouped_gemm.run(segm_mem_list*3, weights[0]+weights[1]+weights[2])\n",
    "        qkv = torch.stack(qkv, dim=0)\n",
    "        ##\n",
    "    q,k,v = torch.chunk(qkv, 3, dim=0)\n",
    "\n",
    "    if prev_kv_proj is not None:\n",
    "        prev_segment_proj_k, prev_segment_proj_v = prev_kv_proj\n",
    "        k = torch.concatenate([k, prev_segment_proj_k], dim=-2)\n",
    "        v = torch.concatenate([v, prev_segment_proj_v], dim=-2)\n",
    "\n",
    "    attn = q@torch.transpose(k, -1, -2)\n",
    "    dk = k.shape[-1]\n",
    "    attn = attn / dk**0.5\n",
    "\n",
    "    if attn_mask is not None:\n",
    "        attn.masked_fill_(~attn_mask, -2e9)\n",
    "    attn = torch.softmax(attn, axis=-1)\n",
    "\n",
    "    out = attn@v\n",
    "    cache_k_activation = k[..., :segment_seq_len, :]\n",
    "    cache_v_activation = v[..., :segment_seq_len, :]\n",
    "    return out, [cache_k_activation, cache_v_activation]\n",
    "\n",
    "def shift_and_set_memory(X, M, mem_len):\n",
    "    if X.size(0) > 1:  # Only shift if batch size > 1\n",
    "        X[1:, :mem_len, :] = X[:-1, :mem_len, :]\n",
    "    X[0, :mem_len, :] = M\n",
    "    return X"
   ]
  },
  {
   "cell_type": "code",
   "execution_count": 653,
   "id": "661e33cf-27d0-46e0-9418-69e8d3e6f1ff",
   "metadata": {},
   "outputs": [],
   "source": [
    "q_projections = [model_naive_layers[i].q_proj for i in range(len(model_naive_layers))]\n",
    "k_projections = [model_naive_layers[i].k_proj for i in range(len(model_naive_layers))]\n",
    "v_projections = [model_naive_layers[i].v_proj for i in range(len(model_naive_layers))]"
   ]
  },
  {
   "cell_type": "code",
   "execution_count": 654,
   "id": "5a906915-355e-469c-9c87-381d1458dd5f",
   "metadata": {},
   "outputs": [],
   "source": [
    "weights = [\n",
    "    q_projections,\n",
    "    k_projections,\n",
    "    v_projections,\n",
    "]"
   ]
  },
  {
   "cell_type": "code",
   "execution_count": 655,
   "id": "20294a71-afa6-4cd1-be6d-30ef76ebed62",
   "metadata": {},
   "outputs": [],
   "source": [
    "n_layers = len(model_naive_layers)\n",
    "input_batch = torch.zeros((n_layers, segment_size+mem_size, hid_dim), dtype=torch.float32, device=\"cuda\")\n",
    "\n",
    "full_input = full_input_values.clone()\n",
    "mem_all = torch.stack(memory_states_values)\n",
    "n_segments = full_input.shape[-2]//segment_size\n",
    "output_batch = torch.zeros((n_segments, segment_size, hid_dim), dtype=torch.float32, device=\"cuda\")\n",
    "input_batch[:, -mem_size: ,:] = mem_all\n",
    "# input_batch[0, :segment_size, :] = full_input[:segment_size]\n",
    "\n",
    "att_mask_prefix = torch.ones((segment_size+mem_size, 2*segment_size+mem_size), dtype=torch.bool, device=\"cuda\")\n",
    "att_mask_prefix[:, -segment_size:].fill_(0);"
   ]
  },
  {
   "cell_type": "code",
   "execution_count": 656,
   "id": "e2e38f00-f22c-4de6-b21f-f81c3519c49f",
   "metadata": {},
   "outputs": [
    {
     "name": "stdout",
     "output_type": "stream",
     "text": [
      "\n",
      "// Gemm operator cutlass_tensorop_s1688tf32gemm_grouped_256x128_32x3_tt_align4\n",
      "using cutlass_tensorop_s1688tf32gemm_grouped_256x128_32x3_tt_align4_base =\n",
      "  typename cutlass::gemm::kernel::DefaultGemmGrouped<\n",
      "    float, cutlass::layout::RowMajor, cutlass::ComplexTransform::kNone, 4,\n",
      "    float, cutlass::layout::RowMajor, cutlass::ComplexTransform::kNone, 4,\n",
      "    float, cutlass::layout::RowMajor,\n",
      "    float,\n",
      "    cutlass::arch::OpClassTensorOp,\n",
      "    cutlass::arch::Sm80,\n",
      "    cutlass::gemm::GemmShape<256, 128, 32>,\n",
      "    cutlass::gemm::GemmShape<64, 64, 32>,\n",
      "    cutlass::gemm::GemmShape<16, 8, 8>,\n",
      "    cutlass::epilogue::thread::LinearCombination<float, 4, float, float>,\n",
      "    cutlass::gemm::threadblock::GemmIdentityThreadblockSwizzle<1>,\n",
      "    3,\n",
      "    cutlass::gemm::kernel::GroupScheduleMode::kDeviceOnly,\n",
      "    cutlass::arch::OpMultiplyAdd\n",
      ">::GemmKernel;\n",
      "\n",
      "// Define named type\n",
      "struct cutlass_tensorop_s1688tf32gemm_grouped_256x128_32x3_tt_align4_type :\n",
      "  public cutlass_tensorop_s1688tf32gemm_grouped_256x128_32x3_tt_align4_base { };\n",
      "\n"
     ]
    }
   ],
   "source": [
    "import cutlass\n",
    "import torch\n",
    "\n",
    "\n",
    "dtype = torch.float32\n",
    "plan = cutlass.op.GroupedGemm(element=dtype, layout=cutlass.LayoutType.RowMajor)\n",
    "\n",
    "import random\n",
    "random.seed(2023)\n",
    "\n",
    "# Utility function to initialize A, B, C, and D matrices corresponding to dimensions M, N, and K\n",
    "def initialize(dtype, M, N, K):\n",
    "    sizes = [(M, K), (K, N), (M, N), (M, N)]\n",
    "    return [torch.randint(-3, 3, size, device='cuda').to(dtype) for size in sizes]\n",
    "\n",
    "# Utility function to generate `problems` GEMMs of random sizes\n",
    "def generate_problems(problems, valid_sizes):\n",
    "    As, Bs, Cs, Ds = [], [], [], []\n",
    "    for _ in range(problems):\n",
    "        M, N, K = [random.choice(valid_sizes) for _ in range(3)]\n",
    "        A, B, C, D = initialize(dtype, M, N, K)\n",
    "        As.append(A)\n",
    "        Bs.append(B)\n",
    "        Cs.append(C)\n",
    "        Ds.append(D)\n",
    "    return As, Bs, Cs, Ds\n",
    "\n",
    "# valid_sizes = [segment_size+mem_size, 2*segment_size+mem_size, hid_dim]\n",
    "# As, Bs, Cs, Ds, = generate_problems(80, valid_sizes)\n",
    "segm_mem_list = input_batch.unbind(0)\n",
    "As = [el for el in segm_mem_list*3]\n",
    "Bs = [el for el in weights[0]+weights[1]+weights[2]]\n",
    "Cs = [torch.zeros(a.shape[:-1] + (b.shape[-1],), dtype=a.dtype, device=a.device) for a,b in zip(As, Bs)]\n",
    "Ds = [torch.zeros_like(el) for el in Cs]\n",
    "\n",
    "plan.run(As, Bs, Cs, Ds, print_module=True)\n",
    "Ds_torch = [a @ b for a, b in zip(As, Bs)]\n",
    "\n",
    "for d, d_torch in zip(Ds, Ds_torch):\n",
    "    assert torch.allclose(d, d_torch, rtol=1e-3)\n",
    "\n",
    "op = plan.construct()\n",
    "grouped_gemm = cutlass.emit.pytorch(op, name='grouped_gemm', cc=plan.cc, sourcedir='out', jit=True)"
   ]
  },
  {
   "cell_type": "code",
   "execution_count": 657,
   "id": "18335f6f-61fa-49cf-b9d0-d9a8697cab43",
   "metadata": {},
   "outputs": [],
   "source": [
    "import cutlass\n",
    "import os\n",
    "import logging\n",
    "from cutlass.emit.pytorch import _ArchListSetter\n",
    "from cutlass import CUTLASS_PATH, logger\n",
    "from torch.utils.cpp_extension import load as jit_load\n",
    "\n",
    "extra_cuda_cflags = [\"-std=c++17\"]\n",
    "cc = 80\n",
    "\n",
    "cuda_file = \"/home/jovyan/sivtsov/armt/batched_gemm_fused_fp32_128_16/grouped_gemm_kernel.cu\"\n",
    "cpp_file = \"/home/jovyan/sivtsov/armt/batched_gemm_fused_fp32_128_16/grouped_gemm.cpp\"\n",
    "\n",
    "with _ArchListSetter(cc):\n",
    "    grouped_gemm_fused = jit_load(\n",
    "        \"grouped_gemm_fused\",\n",
    "        [cpp_file, cuda_file],\n",
    "        extra_cuda_cflags=extra_cuda_cflags,\n",
    "        extra_include_paths=[\n",
    "            os.path.join(CUTLASS_PATH, \"include\"),\n",
    "            os.path.join(CUTLASS_PATH, \"tools/util/include\"),\n",
    "        ],\n",
    "        # extra_ldflags=[\"-lcuda\"],\n",
    "        verbose=(logger.level == logging.DEBUG)\n",
    "    )"
   ]
  },
  {
   "cell_type": "code",
   "execution_count": null,
   "id": "af167c41-6840-4ddd-bd16-f3e191546b74",
   "metadata": {},
   "outputs": [],
   "source": []
  },
  {
   "cell_type": "code",
   "execution_count": 658,
   "id": "796be2a8-17fb-47bf-8c74-51a4a71c25a0",
   "metadata": {},
   "outputs": [
    {
     "name": "stdout",
     "output_type": "stream",
     "text": [
      "ready\n"
     ]
    }
   ],
   "source": [
    "print('ready')"
   ]
  },
  {
   "cell_type": "code",
   "execution_count": 660,
   "id": "8c7dee06-a96b-467e-b12e-c7ff7bafdee8",
   "metadata": {},
   "outputs": [
    {
     "name": "stdout",
     "output_type": "stream",
     "text": [
      "CPU times: user 1.27 s, sys: 0 ns, total: 1.27 s\n",
      "Wall time: 1.27 s\n"
     ]
    }
   ],
   "source": [
    "%%time\n",
    "# with profile(\n",
    "#     activities=activities,\n",
    "#     with_stack=True,\n",
    "# ) as prof:\n",
    "\n",
    "n_segments = full_input.shape[-2]//segment_size\n",
    "prev_kv_proj = None\n",
    "use_att_mask = None\n",
    "for seg_num in range(n_segments+n_layers-1):\n",
    "    if seg_num < n_layers and prev_kv_proj is not None:\n",
    "        # prev_kv_proj[0][seg_num:].fill_(0)\n",
    "        # prev_kv_proj[1][seg_num:].fill_(0)\n",
    "        if use_att_mask is None:\n",
    "            use_att_mask = att_mask_prefix\n",
    "        use_att_mask[:seg_num, -segment_size:].fill_(1)\n",
    "        use_att_mask[seg_num:, -segment_size:].fill_(0)\n",
    "    else:\n",
    "        use_att_mask = None\n",
    "    \n",
    "    if seg_num < n_segments:\n",
    "        cur_segment = full_input[i*segment_size: (i+1)*segment_size]\n",
    "    shift_and_set_memory(input_batch, cur_segment, segment_size)\n",
    "    \n",
    "    # if seg_num < n_layers:\n",
    "    #     w_group = [w_g[:seg_num+1] for w_g in weights]\n",
    "    w_group = weights\n",
    "    input_batch_res, prev_kv_proj = forward_fused(input_batch, w_group, segment_size, prev_kv_proj = prev_kv_proj, attn_mask=use_att_mask)\n",
    "\n",
    "    if seg_num < n_layers:\n",
    "        input_batch[:seg_num+1] = input_batch_res[:seg_num+1]\n",
    "    else:\n",
    "        input_batch = input_batch_res\n",
    "    \n",
    "    if seg_num+1 >= n_layers:\n",
    "        output_batch[seg_num+1-n_layers, :, :] = input_batch[-1, :segment_size, :]\n",
    "        "
   ]
  },
  {
   "cell_type": "code",
   "execution_count": null,
   "id": "8a6630c3-c272-42ed-995f-60b0b2a2d8bd",
   "metadata": {},
   "outputs": [],
   "source": []
  },
  {
   "cell_type": "code",
   "execution_count": 504,
   "id": "c28666aa-58be-4d6f-be8f-18458d62c9d4",
   "metadata": {},
   "outputs": [],
   "source": [
    "use_att_mask"
   ]
  },
  {
   "cell_type": "code",
   "execution_count": 505,
   "id": "c695557d-7f92-45f9-b0e0-e577e59c26d0",
   "metadata": {},
   "outputs": [
    {
     "data": {
      "text/plain": [
       "torch.Size([100, 128, 1024])"
      ]
     },
     "execution_count": 505,
     "metadata": {},
     "output_type": "execute_result"
    }
   ],
   "source": [
    "output_batch.shape"
   ]
  },
  {
   "cell_type": "code",
   "execution_count": 506,
   "id": "74aa269a-bc4d-48ae-9d04-27b632de4258",
   "metadata": {},
   "outputs": [],
   "source": [
    "# print(prof.key_averages(group_by_stack_n=5).table(sort_by=sort_by_keyword, row_limit=2))\n",
    "# prof.export_chrome_trace(\"/home/jovyan/sivtsov/armt/grouped_armt_trace_1024_128_16.json\")"
   ]
  },
  {
   "cell_type": "code",
   "execution_count": 507,
   "id": "0e9ed9c4-1886-4540-a892-1046bc2bc3b1",
   "metadata": {},
   "outputs": [
    {
     "name": "stdout",
     "output_type": "stream",
     "text": [
      "CPU times: user 194 ms, sys: 19.3 ms, total: 213 ms\n",
      "Wall time: 232 ms\n"
     ]
    }
   ],
   "source": [
    "%%time\n",
    "with profile(\n",
    "    activities=activities,\n",
    "    with_stack=True,\n",
    ") as prof:\n",
    "    n_segments = full_input.shape[-2]//segment_size\n",
    "    prev_kv_proj = None\n",
    "    for seg_num in range(n_segments+n_layers-1):\n",
    "        if seg_num < n_segments:\n",
    "            cur_segment = full_input[i*segment_size: (i+1)*segment_size]\n",
    "        shift_and_set_memory(input_batch, cur_segment, segment_size)\n",
    "        \n",
    "        # if seg_num < n_layers:\n",
    "        #     w_group = [w_g[:seg_num+1] for w_g in weights]\n",
    "        w_group = weights\n",
    "        input_batch, prev_kv_proj = forward_fused(input_batch, w_group, segment_size, prev_kv_proj = prev_kv_proj, fused=True)\n",
    "    \n",
    "        if seg_num+1 >= n_layers:\n",
    "            output_batch[seg_num+1-n_layers, :, :] = input_batch[-1, :segment_size, :]\n",
    "            "
   ]
  },
  {
   "cell_type": "code",
   "execution_count": 508,
   "id": "a1e66d8c-f21b-4d6f-bf29-af51eb885331",
   "metadata": {},
   "outputs": [],
   "source": [
    "# print(prof.key_averages(group_by_stack_n=5).table(sort_by=sort_by_keyword, row_limit=2))\n",
    "# prof.export_chrome_trace(\"/home/jovyan/sivtsov/armt/grouped_fused_armt_trace_1024_128_16.json\")"
   ]
  },
  {
   "cell_type": "code",
   "execution_count": null,
   "id": "8445895b-df40-4c6d-81a5-82b067978318",
   "metadata": {},
   "outputs": [],
   "source": []
  },
  {
   "cell_type": "code",
   "execution_count": 522,
   "id": "b2d0d44e-6865-4655-a6c8-b4db0359ed6b",
   "metadata": {},
   "outputs": [
    {
     "data": {
      "text/plain": [
       "tensor([[0.2870, 0.2912, 0.2850,  ..., 0.2860, 0.2846, 0.2904],\n",
       "        [0.2855, 0.2897, 0.2836,  ..., 0.2846, 0.2832, 0.2890],\n",
       "        [0.2828, 0.2869, 0.2808,  ..., 0.2819, 0.2804, 0.2862],\n",
       "        ...,\n",
       "        [0.3101, 0.3147, 0.3079,  ..., 0.3091, 0.3076, 0.3139],\n",
       "        [0.3119, 0.3165, 0.3097,  ..., 0.3109, 0.3093, 0.3156],\n",
       "        [0.3113, 0.3158, 0.3091,  ..., 0.3103, 0.3087, 0.3150]],\n",
       "       device='cuda:0')"
      ]
     },
     "execution_count": 522,
     "metadata": {},
     "output_type": "execute_result"
    }
   ],
   "source": [
    "output_batch[0]"
   ]
  },
  {
   "cell_type": "code",
   "execution_count": 515,
   "id": "a34c3ff9-290e-42ef-b3b5-78002d0564cf",
   "metadata": {},
   "outputs": [
    {
     "data": {
      "text/plain": [
       "tensor([[0.2960, 0.3003, 0.2937,  ..., 0.2951, 0.2935, 0.2996],\n",
       "        [0.2958, 0.3001, 0.2934,  ..., 0.2949, 0.2933, 0.2994],\n",
       "        [0.2968, 0.3012, 0.2945,  ..., 0.2959, 0.2943, 0.3005],\n",
       "        ...,\n",
       "        [0.3155, 0.3201, 0.3134,  ..., 0.3145, 0.3129, 0.3193],\n",
       "        [0.3142, 0.3188, 0.3121,  ..., 0.3132, 0.3116, 0.3180],\n",
       "        [0.3140, 0.3186, 0.3119,  ..., 0.3130, 0.3114, 0.3178]],\n",
       "       device='cuda:0')"
      ]
     },
     "execution_count": 515,
     "metadata": {},
     "output_type": "execute_result"
    }
   ],
   "source": [
    "output_batch[0]"
   ]
  },
  {
   "cell_type": "code",
   "execution_count": null,
   "id": "66fd7156-fe86-423b-b768-eba5aa788c7c",
   "metadata": {},
   "outputs": [],
   "source": []
  },
  {
   "cell_type": "code",
   "execution_count": 516,
   "id": "fe9e0510-e47e-4e34-8d11-35953011db29",
   "metadata": {},
   "outputs": [
    {
     "data": {
      "text/plain": [
       "(tensor([[0.3329, 0.3378, 0.3305,  ..., 0.3319, 0.3302, 0.3370],\n",
       "         [0.3329, 0.3378, 0.3305,  ..., 0.3319, 0.3302, 0.3370],\n",
       "         [0.3329, 0.3378, 0.3305,  ..., 0.3319, 0.3302, 0.3370],\n",
       "         ...,\n",
       "         [0.3329, 0.3378, 0.3305,  ..., 0.3319, 0.3302, 0.3370],\n",
       "         [0.3329, 0.3378, 0.3305,  ..., 0.3319, 0.3302, 0.3370],\n",
       "         [0.3329, 0.3378, 0.3305,  ..., 0.3319, 0.3302, 0.3370]],\n",
       "        device='cuda:0'),\n",
       " tensor([[0.9329, 0.3637, 0.8522,  ..., 0.3443, 0.8143, 0.3351],\n",
       "         [0.7574, 0.0777, 0.1359,  ..., 0.8377, 0.0520, 0.0015],\n",
       "         [0.5138, 0.7993, 0.8422,  ..., 0.3493, 0.3738, 0.5801],\n",
       "         ...,\n",
       "         [0.1770, 0.9145, 0.3836,  ..., 0.6782, 0.8625, 0.7925],\n",
       "         [0.6115, 0.3240, 0.7566,  ..., 0.8265, 0.4217, 0.2230],\n",
       "         [0.1881, 0.5402, 0.2941,  ..., 0.7107, 0.1698, 0.7122]],\n",
       "        device='cuda:0'))"
      ]
     },
     "execution_count": 516,
     "metadata": {},
     "output_type": "execute_result"
    }
   ],
   "source": [
    "out_segments[0], memory_states[0]"
   ]
  },
  {
   "cell_type": "code",
   "execution_count": null,
   "id": "05e39819-7a44-480b-8a00-55e42112354b",
   "metadata": {},
   "outputs": [],
   "source": []
  },
  {
   "cell_type": "code",
   "execution_count": null,
   "id": "7ec451a8-dfb2-45e5-97b4-a19ad4ca087f",
   "metadata": {},
   "outputs": [],
   "source": []
  },
  {
   "cell_type": "code",
   "execution_count": 458,
   "id": "3e6809fe-8bc0-421a-8a3a-2528951f4f8c",
   "metadata": {},
   "outputs": [],
   "source": [
    "n_layers = len(model_naive_layers)\n",
    "input_batch = torch.zeros((n_layers, segment_size+mem_size, hid_dim), dtype=torch.float32, device=\"cuda\")\n",
    "\n",
    "full_input = full_input_values.clone()\n",
    "mem_all = torch.stack(memory_states_values)\n",
    "n_segments = full_input.shape[-2]//segment_size\n",
    "output_batch = torch.zeros((n_segments, segment_size, hid_dim), dtype=torch.float32, device=\"cuda\")\n",
    "input_batch[:, -mem_size: ,:] = mem_all\n",
    "\n",
    "att_mask_prefix = torch.ones((segment_size+mem_size, 2*segment_size+mem_size), dtype=torch.bool, device=\"cuda\")\n",
    "att_mask_prefix[:, -segment_size:].fill_(0);"
   ]
  },
  {
   "cell_type": "code",
   "execution_count": 459,
   "id": "15ba2106-f7e3-4bd3-a3b8-9f12c3c765b2",
   "metadata": {},
   "outputs": [],
   "source": [
    "i = 0"
   ]
  },
  {
   "cell_type": "code",
   "execution_count": 460,
   "id": "6cfdb359-8998-4a69-90cc-b741aa26c5d5",
   "metadata": {},
   "outputs": [],
   "source": [
    "cur_segment = full_input[i*segment_size: (i+1)*segment_size]\n",
    "# cur_segment1 = full_input[(i+1)*segment_size: (i+2)*segment_size]\n",
    "cur_memory = memory_states_values[i]\n",
    "cur_memory1 = memory_states_values[i+1]"
   ]
  },
  {
   "cell_type": "code",
   "execution_count": 461,
   "id": "3ae73ba7-9d06-4222-8c28-393146fb5731",
   "metadata": {},
   "outputs": [],
   "source": [
    "# memory_states = [ms.clone() for ms in memory_states_values]\n",
    "# full_input = full_input_values.clone()"
   ]
  },
  {
   "cell_type": "code",
   "execution_count": 462,
   "id": "d82cb7b1-3da6-4ca8-b3bc-f3eaad61bc35",
   "metadata": {},
   "outputs": [],
   "source": [
    "prev_kv_proj = None\n",
    "use_att_mask = None\n",
    "\n",
    "seg_num = 0\n",
    "\n",
    "shift_and_set_memory(input_batch, cur_segment, segment_size);\n",
    "w_group = weights\n",
    "input_batch1, prev_kv_proj = forward_fused(\n",
    "    input_batch, w_group, segment_size, attn_mask=use_att_mask, prev_kv_proj = prev_kv_proj\n",
    ")\n",
    "\n",
    "\n",
    "input_batch[:1] = input_batch1[:1]\n",
    "r0 = input_batch.clone()\n",
    "\n",
    "seg_num = 1\n",
    "\n",
    "prev_kv_proj[0][seg_num:].fill_(0)\n",
    "prev_kv_proj[1][seg_num:].fill_(0)\n",
    "use_att_mask = att_mask_prefix\n",
    "use_att_mask[:seg_num, -segment_size:].fill_(1)\n",
    "use_att_mask[seg_num:, -segment_size:].fill_(0)\n",
    "\n",
    "shift_and_set_memory(input_batch, cur_segment1, segment_size);\n",
    "w_group = weights\n",
    "input_batch2, prev_kv_proj1 = forward_fused(\n",
    "    input_batch, w_group, segment_size, attn_mask=use_att_mask, prev_kv_proj = prev_kv_proj\n",
    ")\n",
    "\n"
   ]
  },
  {
   "cell_type": "code",
   "execution_count": null,
   "id": "be0a540d-7349-451c-bf18-0b94756bd245",
   "metadata": {},
   "outputs": [],
   "source": []
  },
  {
   "cell_type": "code",
   "execution_count": 463,
   "id": "98c12c37-43d6-4031-be7e-b86f5e4da787",
   "metadata": {},
   "outputs": [],
   "source": [
    "prev_kv_proj = None\n",
    "out_segment, out_memory, segm_kv = model_naive_layers[0](\n",
    "    cur_segment, cur_memory,  prev_kv_proj = prev_kv_proj, attn_mask = None\n",
    ")\n",
    "\n",
    "out_segment1, out_memory1, segm_kv1 = model_naive_layers[1](\n",
    "    out_segment, cur_memory1,  prev_kv_proj = prev_kv_proj, attn_mask = None\n",
    ")"
   ]
  },
  {
   "cell_type": "code",
   "execution_count": 464,
   "id": "e95e4584-af1a-4a56-9b44-70bbe4e2ed34",
   "metadata": {},
   "outputs": [
    {
     "data": {
      "text/plain": [
       "(torch.Size([10, 144, 1024]), 144)"
      ]
     },
     "execution_count": 464,
     "metadata": {},
     "output_type": "execute_result"
    }
   ],
   "source": [
    "r0.shape, segment_size+mem_size"
   ]
  },
  {
   "cell_type": "code",
   "execution_count": 465,
   "id": "c281eafe-e830-414e-8273-869c40f2c163",
   "metadata": {},
   "outputs": [
    {
     "data": {
      "text/plain": [
       "tensor([[0.7178, 0.9236, 0.8082,  ..., 0.9563, 0.0631, 0.8135],\n",
       "        [0.6851, 0.6563, 0.7787,  ..., 0.1626, 0.6178, 0.4088],\n",
       "        [0.8488, 0.7004, 0.1824,  ..., 0.4087, 0.7167, 0.8065],\n",
       "        ...,\n",
       "        [0.1243, 0.1001, 0.7295,  ..., 0.7933, 0.6401, 0.8644],\n",
       "        [0.4289, 0.3072, 0.0622,  ..., 0.8815, 0.0460, 0.7646],\n",
       "        [0.5456, 0.6389, 0.3514,  ..., 0.1272, 0.4789, 0.7961]],\n",
       "       device='cuda:0')"
      ]
     },
     "execution_count": 465,
     "metadata": {},
     "output_type": "execute_result"
    }
   ],
   "source": [
    "r0[1][-mem_size:]"
   ]
  },
  {
   "cell_type": "code",
   "execution_count": 466,
   "id": "c68d30d0-16c4-479d-a273-01027e95f0b5",
   "metadata": {},
   "outputs": [
    {
     "data": {
      "text/plain": [
       "tensor([[0.7178, 0.9236, 0.8082,  ..., 0.9563, 0.0631, 0.8135],\n",
       "        [0.6851, 0.6563, 0.7787,  ..., 0.1626, 0.6178, 0.4088],\n",
       "        [0.8488, 0.7004, 0.1824,  ..., 0.4087, 0.7167, 0.8065],\n",
       "        ...,\n",
       "        [0.1243, 0.1001, 0.7295,  ..., 0.7933, 0.6401, 0.8644],\n",
       "        [0.4289, 0.3072, 0.0622,  ..., 0.8815, 0.0460, 0.7646],\n",
       "        [0.5456, 0.6389, 0.3514,  ..., 0.1272, 0.4789, 0.7961]],\n",
       "       device='cuda:0')"
      ]
     },
     "execution_count": 466,
     "metadata": {},
     "output_type": "execute_result"
    }
   ],
   "source": [
    "cur_memory1"
   ]
  },
  {
   "cell_type": "code",
   "execution_count": 467,
   "id": "be0c5918-bc83-4144-9560-25fd73160b1b",
   "metadata": {},
   "outputs": [
    {
     "data": {
      "text/plain": [
       "tensor([[0.4385, 0.4400, 0.4326,  ..., 0.4454, 0.4350, 0.4266],\n",
       "        [0.4385, 0.4400, 0.4326,  ..., 0.4454, 0.4350, 0.4266],\n",
       "        [0.4385, 0.4400, 0.4326,  ..., 0.4454, 0.4350, 0.4266],\n",
       "        ...,\n",
       "        [0.4385, 0.4400, 0.4326,  ..., 0.4454, 0.4350, 0.4266],\n",
       "        [0.4385, 0.4400, 0.4326,  ..., 0.4454, 0.4350, 0.4266],\n",
       "        [0.4385, 0.4400, 0.4326,  ..., 0.4454, 0.4350, 0.4266]],\n",
       "       device='cuda:0')"
      ]
     },
     "execution_count": 467,
     "metadata": {},
     "output_type": "execute_result"
    }
   ],
   "source": [
    "r0[0][-mem_size:]"
   ]
  },
  {
   "cell_type": "code",
   "execution_count": 468,
   "id": "ac6e8e99-750d-4efc-8dc5-b27064273d6e",
   "metadata": {},
   "outputs": [
    {
     "data": {
      "text/plain": [
       "(tensor([[0.4385, 0.4401, 0.4326,  ..., 0.4454, 0.4350, 0.4266],\n",
       "         [0.4385, 0.4400, 0.4326,  ..., 0.4454, 0.4350, 0.4266],\n",
       "         [0.4385, 0.4400, 0.4326,  ..., 0.4454, 0.4350, 0.4266],\n",
       "         ...,\n",
       "         [0.4385, 0.4400, 0.4326,  ..., 0.4454, 0.4350, 0.4266],\n",
       "         [0.4385, 0.4400, 0.4326,  ..., 0.4454, 0.4350, 0.4266],\n",
       "         [0.4385, 0.4400, 0.4325,  ..., 0.4453, 0.4349, 0.4266]],\n",
       "        device='cuda:0'),\n",
       " tensor([[0.4385, 0.4400, 0.4326,  ..., 0.4454, 0.4350, 0.4266],\n",
       "         [0.4385, 0.4400, 0.4326,  ..., 0.4454, 0.4350, 0.4266],\n",
       "         [0.4385, 0.4400, 0.4326,  ..., 0.4454, 0.4350, 0.4266],\n",
       "         ...,\n",
       "         [0.4385, 0.4400, 0.4326,  ..., 0.4454, 0.4350, 0.4266],\n",
       "         [0.4385, 0.4400, 0.4326,  ..., 0.4454, 0.4350, 0.4266],\n",
       "         [0.4385, 0.4400, 0.4326,  ..., 0.4454, 0.4350, 0.4266]],\n",
       "        device='cuda:0'))"
      ]
     },
     "execution_count": 468,
     "metadata": {},
     "output_type": "execute_result"
    }
   ],
   "source": [
    "r0[0][:segment_size], r0[0][-mem_size:]"
   ]
  },
  {
   "cell_type": "code",
   "execution_count": 469,
   "id": "dec46278-5554-4939-91a0-c7e0088cc835",
   "metadata": {},
   "outputs": [
    {
     "data": {
      "text/plain": [
       "(tensor([[0.4386, 0.4401, 0.4326,  ..., 0.4454, 0.4350, 0.4267],\n",
       "         [0.4385, 0.4400, 0.4326,  ..., 0.4454, 0.4350, 0.4266],\n",
       "         [0.4385, 0.4400, 0.4326,  ..., 0.4454, 0.4350, 0.4266],\n",
       "         ...,\n",
       "         [0.4385, 0.4400, 0.4326,  ..., 0.4454, 0.4350, 0.4266],\n",
       "         [0.4385, 0.4400, 0.4326,  ..., 0.4454, 0.4350, 0.4266],\n",
       "         [0.4385, 0.4400, 0.4325,  ..., 0.4453, 0.4349, 0.4266]],\n",
       "        device='cuda:0'),\n",
       " tensor([[0.4385, 0.4400, 0.4326,  ..., 0.4454, 0.4350, 0.4266],\n",
       "         [0.4385, 0.4400, 0.4326,  ..., 0.4454, 0.4350, 0.4266],\n",
       "         [0.4385, 0.4400, 0.4326,  ..., 0.4454, 0.4350, 0.4266],\n",
       "         ...,\n",
       "         [0.4385, 0.4400, 0.4326,  ..., 0.4454, 0.4350, 0.4266],\n",
       "         [0.4385, 0.4400, 0.4326,  ..., 0.4454, 0.4350, 0.4266],\n",
       "         [0.4385, 0.4400, 0.4326,  ..., 0.4454, 0.4350, 0.4266]],\n",
       "        device='cuda:0'))"
      ]
     },
     "execution_count": 469,
     "metadata": {},
     "output_type": "execute_result"
    }
   ],
   "source": [
    "out_segment, out_memory"
   ]
  },
  {
   "cell_type": "code",
   "execution_count": 470,
   "id": "7d953391-acdc-4dfa-80db-28ab3e279fe6",
   "metadata": {},
   "outputs": [
    {
     "data": {
      "text/plain": [
       "(tensor([[0.4385, 0.4401, 0.4326,  ..., 0.4454, 0.4350, 0.4266],\n",
       "         [0.4385, 0.4400, 0.4326,  ..., 0.4454, 0.4350, 0.4266],\n",
       "         [0.4385, 0.4400, 0.4326,  ..., 0.4454, 0.4350, 0.4266],\n",
       "         ...,\n",
       "         [0.4385, 0.4400, 0.4326,  ..., 0.4454, 0.4350, 0.4266],\n",
       "         [0.4385, 0.4400, 0.4326,  ..., 0.4454, 0.4350, 0.4266],\n",
       "         [0.4385, 0.4400, 0.4325,  ..., 0.4453, 0.4349, 0.4266]],\n",
       "        device='cuda:0'),\n",
       " tensor([[0.7178, 0.9236, 0.8082,  ..., 0.9563, 0.0631, 0.8135],\n",
       "         [0.6851, 0.6563, 0.7787,  ..., 0.1626, 0.6178, 0.4088],\n",
       "         [0.8488, 0.7004, 0.1824,  ..., 0.4087, 0.7167, 0.8065],\n",
       "         ...,\n",
       "         [0.1243, 0.1001, 0.7295,  ..., 0.7933, 0.6401, 0.8644],\n",
       "         [0.4289, 0.3072, 0.0622,  ..., 0.8815, 0.0460, 0.7646],\n",
       "         [0.5456, 0.6389, 0.3514,  ..., 0.1272, 0.4789, 0.7961]],\n",
       "        device='cuda:0'))"
      ]
     },
     "execution_count": 470,
     "metadata": {},
     "output_type": "execute_result"
    }
   ],
   "source": [
    "input_batch[1][:segment_size], input_batch[1][-mem_size:]"
   ]
  },
  {
   "cell_type": "code",
   "execution_count": 471,
   "id": "07b827e5-b4d4-4993-97a8-e8b8103f6324",
   "metadata": {},
   "outputs": [
    {
     "data": {
      "text/plain": [
       "(tensor([[0.3832, 0.3750, 0.3840,  ..., 0.3856, 0.3774, 0.3874],\n",
       "         [0.3865, 0.3782, 0.3873,  ..., 0.3889, 0.3807, 0.3907],\n",
       "         [0.3865, 0.3782, 0.3873,  ..., 0.3889, 0.3807, 0.3907],\n",
       "         ...,\n",
       "         [0.3865, 0.3782, 0.3873,  ..., 0.3889, 0.3807, 0.3907],\n",
       "         [0.3865, 0.3782, 0.3873,  ..., 0.3889, 0.3807, 0.3907],\n",
       "         [0.3865, 0.3782, 0.3873,  ..., 0.3889, 0.3807, 0.3907]],\n",
       "        device='cuda:0'),\n",
       " tensor([[0.3875, 0.3792, 0.3884,  ..., 0.3900, 0.3818, 0.3918],\n",
       "         [0.3875, 0.3793, 0.3884,  ..., 0.3900, 0.3818, 0.3919],\n",
       "         [0.3874, 0.3791, 0.3883,  ..., 0.3899, 0.3816, 0.3917],\n",
       "         ...,\n",
       "         [0.3872, 0.3790, 0.3881,  ..., 0.3897, 0.3815, 0.3916],\n",
       "         [0.3877, 0.3795, 0.3886,  ..., 0.3902, 0.3820, 0.3921],\n",
       "         [0.3875, 0.3793, 0.3884,  ..., 0.3900, 0.3818, 0.3919]],\n",
       "        device='cuda:0'))"
      ]
     },
     "execution_count": 471,
     "metadata": {},
     "output_type": "execute_result"
    }
   ],
   "source": [
    "input_batch2[1][:segment_size], input_batch2[1][-mem_size:]"
   ]
  },
  {
   "cell_type": "code",
   "execution_count": 472,
   "id": "3541a448-8bc4-48d7-aea2-21fb6e371cfb",
   "metadata": {},
   "outputs": [
    {
     "data": {
      "text/plain": [
       "(tensor([[0.3865, 0.3782, 0.3873,  ..., 0.3889, 0.3807, 0.3908],\n",
       "         [0.3865, 0.3782, 0.3873,  ..., 0.3889, 0.3807, 0.3908],\n",
       "         [0.3865, 0.3782, 0.3873,  ..., 0.3889, 0.3807, 0.3908],\n",
       "         ...,\n",
       "         [0.3865, 0.3782, 0.3873,  ..., 0.3889, 0.3807, 0.3908],\n",
       "         [0.3865, 0.3782, 0.3873,  ..., 0.3889, 0.3807, 0.3908],\n",
       "         [0.3865, 0.3782, 0.3873,  ..., 0.3889, 0.3807, 0.3908]],\n",
       "        device='cuda:0'),\n",
       " tensor([[0.3875, 0.3792, 0.3884,  ..., 0.3900, 0.3818, 0.3919],\n",
       "         [0.3876, 0.3793, 0.3884,  ..., 0.3900, 0.3818, 0.3919],\n",
       "         [0.3874, 0.3791, 0.3883,  ..., 0.3899, 0.3817, 0.3917],\n",
       "         ...,\n",
       "         [0.3872, 0.3790, 0.3881,  ..., 0.3897, 0.3815, 0.3916],\n",
       "         [0.3878, 0.3795, 0.3887,  ..., 0.3902, 0.3820, 0.3921],\n",
       "         [0.3875, 0.3793, 0.3884,  ..., 0.3900, 0.3818, 0.3919]],\n",
       "        device='cuda:0'))"
      ]
     },
     "execution_count": 472,
     "metadata": {},
     "output_type": "execute_result"
    }
   ],
   "source": [
    "out_segment1, out_memory1"
   ]
  },
  {
   "cell_type": "code",
   "execution_count": null,
   "id": "e3283062-9956-4b78-902d-fc2844d92bcd",
   "metadata": {},
   "outputs": [],
   "source": []
  },
  {
   "cell_type": "code",
   "execution_count": null,
   "id": "7d541ea3-4540-456e-92c2-d34a0ab19033",
   "metadata": {},
   "outputs": [],
   "source": []
  },
  {
   "cell_type": "code",
   "execution_count": null,
   "id": "11e056b9-ea84-4eb0-847c-58afc49118a9",
   "metadata": {},
   "outputs": [],
   "source": []
  },
  {
   "cell_type": "code",
   "execution_count": 179,
   "id": "25e924fd-f776-4dcd-b616-1002ee1f1308",
   "metadata": {},
   "outputs": [
    {
     "data": {
      "text/plain": [
       "(tensor([[0.4231, 0.4509, 0.9262,  ..., 0.6619, 0.6163, 0.1562],\n",
       "         [0.6674, 0.1417, 0.4253,  ..., 0.9709, 0.1736, 0.0097],\n",
       "         [0.4113, 0.3242, 0.1899,  ..., 0.4100, 0.0012, 0.3086],\n",
       "         ...,\n",
       "         [0.2614, 0.3582, 0.8099,  ..., 0.2140, 0.4649, 0.5207],\n",
       "         [0.6966, 0.5908, 0.9716,  ..., 0.7158, 0.6745, 0.2273],\n",
       "         [0.8452, 0.2172, 0.9096,  ..., 0.0771, 0.9687, 0.6406]],\n",
       "        device='cuda:0'),\n",
       " tensor([[0.9329, 0.3637, 0.8522,  ..., 0.3443, 0.8143, 0.3351],\n",
       "         [0.7574, 0.0777, 0.1359,  ..., 0.8377, 0.0520, 0.0015],\n",
       "         [0.5138, 0.7993, 0.8422,  ..., 0.3493, 0.3738, 0.5801],\n",
       "         ...,\n",
       "         [0.1770, 0.9145, 0.3836,  ..., 0.6782, 0.8625, 0.7925],\n",
       "         [0.6115, 0.3240, 0.7566,  ..., 0.8265, 0.4217, 0.2230],\n",
       "         [0.1881, 0.5402, 0.2941,  ..., 0.7107, 0.1698, 0.7122]],\n",
       "        device='cuda:0'))"
      ]
     },
     "execution_count": 179,
     "metadata": {},
     "output_type": "execute_result"
    }
   ],
   "source": [
    "cur_segment, cur_memory"
   ]
  },
  {
   "cell_type": "code",
   "execution_count": 180,
   "id": "885296ea-6502-48f4-80f7-e3dbee5c1647",
   "metadata": {},
   "outputs": [],
   "source": [
    "shift_and_set_memory(input_batch, cur_segment, segment_size);"
   ]
  },
  {
   "cell_type": "code",
   "execution_count": 181,
   "id": "64e54ecd-5b0e-4704-9712-a1c9a303f4cc",
   "metadata": {},
   "outputs": [
    {
     "data": {
      "text/plain": [
       "(tensor([[0.4231, 0.4509, 0.9262,  ..., 0.6619, 0.6163, 0.1562],\n",
       "         [0.6674, 0.1417, 0.4253,  ..., 0.9709, 0.1736, 0.0097],\n",
       "         [0.4113, 0.3242, 0.1899,  ..., 0.4100, 0.0012, 0.3086],\n",
       "         ...,\n",
       "         [0.2614, 0.3582, 0.8099,  ..., 0.2140, 0.4649, 0.5207],\n",
       "         [0.6966, 0.5908, 0.9716,  ..., 0.7158, 0.6745, 0.2273],\n",
       "         [0.8452, 0.2172, 0.9096,  ..., 0.0771, 0.9687, 0.6406]],\n",
       "        device='cuda:0'),\n",
       " tensor([[0.9329, 0.3637, 0.8522,  ..., 0.3443, 0.8143, 0.3351],\n",
       "         [0.7574, 0.0777, 0.1359,  ..., 0.8377, 0.0520, 0.0015],\n",
       "         [0.5138, 0.7993, 0.8422,  ..., 0.3493, 0.3738, 0.5801],\n",
       "         ...,\n",
       "         [0.1770, 0.9145, 0.3836,  ..., 0.6782, 0.8625, 0.7925],\n",
       "         [0.6115, 0.3240, 0.7566,  ..., 0.8265, 0.4217, 0.2230],\n",
       "         [0.1881, 0.5402, 0.2941,  ..., 0.7107, 0.1698, 0.7122]],\n",
       "        device='cuda:0'))"
      ]
     },
     "execution_count": 181,
     "metadata": {},
     "output_type": "execute_result"
    }
   ],
   "source": [
    "input_batch[0, :-mem_size], input_batch[0, -mem_size:]"
   ]
  },
  {
   "cell_type": "code",
   "execution_count": null,
   "id": "a1dfea83-8358-479f-9fd3-85685989be67",
   "metadata": {},
   "outputs": [],
   "source": []
  },
  {
   "cell_type": "code",
   "execution_count": 182,
   "id": "8a06570f-71cc-4402-9d15-43bd7a507edb",
   "metadata": {},
   "outputs": [],
   "source": [
    "cur_segm_kvs = []\n",
    "# cur_memory = memory_states[i]\n",
    "prev_kv_proj = None\n",
    "out_segment, out_memory, segm_kv = model_naive_layers[0](\n",
    "    cur_segment, cur_memory,  prev_kv_proj = prev_kv_proj, attn_mask = None\n",
    ")"
   ]
  },
  {
   "cell_type": "code",
   "execution_count": 183,
   "id": "a737b1b7-8a64-46d6-b3df-6f8849ed25f2",
   "metadata": {},
   "outputs": [
    {
     "data": {
      "text/plain": [
       "(tensor([[0.4386, 0.4401, 0.4326,  ..., 0.4454, 0.4350, 0.4267],\n",
       "         [0.4385, 0.4400, 0.4326,  ..., 0.4454, 0.4350, 0.4266],\n",
       "         [0.4385, 0.4400, 0.4326,  ..., 0.4454, 0.4350, 0.4266],\n",
       "         ...,\n",
       "         [0.4385, 0.4400, 0.4326,  ..., 0.4454, 0.4350, 0.4266],\n",
       "         [0.4385, 0.4400, 0.4326,  ..., 0.4454, 0.4350, 0.4266],\n",
       "         [0.4385, 0.4400, 0.4325,  ..., 0.4453, 0.4349, 0.4266]],\n",
       "        device='cuda:0'),\n",
       " tensor([[0.4385, 0.4400, 0.4326,  ..., 0.4454, 0.4350, 0.4266],\n",
       "         [0.4385, 0.4400, 0.4326,  ..., 0.4454, 0.4350, 0.4266],\n",
       "         [0.4385, 0.4400, 0.4326,  ..., 0.4454, 0.4350, 0.4266],\n",
       "         ...,\n",
       "         [0.4385, 0.4400, 0.4326,  ..., 0.4454, 0.4350, 0.4266],\n",
       "         [0.4385, 0.4400, 0.4326,  ..., 0.4454, 0.4350, 0.4266],\n",
       "         [0.4385, 0.4400, 0.4326,  ..., 0.4454, 0.4350, 0.4266]],\n",
       "        device='cuda:0'))"
      ]
     },
     "execution_count": 183,
     "metadata": {},
     "output_type": "execute_result"
    }
   ],
   "source": [
    "out_segment, out_memory"
   ]
  },
  {
   "cell_type": "code",
   "execution_count": 184,
   "id": "a5553957-6625-448e-adb1-72511934b19f",
   "metadata": {},
   "outputs": [],
   "source": [
    "w_group = weights\n",
    "input_batch, prev_kv_proj = forward_fused(input_batch, w_group, segment_size, prev_kv_proj = prev_kv_proj)\n"
   ]
  },
  {
   "cell_type": "code",
   "execution_count": 185,
   "id": "aeba3932-eb03-424a-b1a1-586a2bb05765",
   "metadata": {},
   "outputs": [
    {
     "data": {
      "text/plain": [
       "tensor([[0.4385, 0.4401, 0.4326,  ..., 0.4454, 0.4350, 0.4266],\n",
       "        [0.4385, 0.4400, 0.4326,  ..., 0.4454, 0.4350, 0.4266],\n",
       "        [0.4385, 0.4400, 0.4326,  ..., 0.4454, 0.4350, 0.4266],\n",
       "        ...,\n",
       "        [0.4385, 0.4400, 0.4326,  ..., 0.4454, 0.4350, 0.4266],\n",
       "        [0.4385, 0.4400, 0.4326,  ..., 0.4454, 0.4350, 0.4266],\n",
       "        [0.4385, 0.4400, 0.4326,  ..., 0.4454, 0.4350, 0.4266]],\n",
       "       device='cuda:0')"
      ]
     },
     "execution_count": 185,
     "metadata": {},
     "output_type": "execute_result"
    }
   ],
   "source": [
    "input_batch[0]"
   ]
  },
  {
   "cell_type": "code",
   "execution_count": null,
   "id": "73c84988-7bb1-4a17-b2e1-da0200572582",
   "metadata": {},
   "outputs": [],
   "source": []
  },
  {
   "cell_type": "code",
   "execution_count": 186,
   "id": "60c0287b-e43a-4769-8d3c-8132f2e8116f",
   "metadata": {},
   "outputs": [],
   "source": [
    "def forward_for_segment(model_naive_layers, cur_segment, memory_states, prev_segm_kvs = None):\n",
    "    cur_segm_kvs = []\n",
    "    for i in range(n_layers):\n",
    "        cur_memory = memory_states[i]\n",
    "        prev_kv_proj = prev_segm_kvs[i] if prev_segm_kvs is not None else None\n",
    "        out_segment, out_memory, segm_kv = model_naive_layers[i](\n",
    "            cur_segment, cur_memory,  prev_kv_proj = prev_kv_proj, attn_mask = None\n",
    "        )\n",
    "\n",
    "        # # crutch for random initialization\n",
    "        # out_memory = out_memory/out_memory.norm()\n",
    "        # out_segment = out_segment/out_segment.norm()\n",
    "        \n",
    "        memory_states[i] = out_memory\n",
    "        cur_segm_kvs.append(segm_kv)\n",
    "        \n",
    "        # cur_segment = cur_segment+out_segment\n",
    "        cur_segment = out_segment\n",
    "        \n",
    "    return cur_segment, cur_segm_kvs"
   ]
  },
  {
   "cell_type": "code",
   "execution_count": null,
   "id": "fe3c4960-d774-4ff6-99ac-404e68d29187",
   "metadata": {},
   "outputs": [],
   "source": []
  },
  {
   "cell_type": "code",
   "execution_count": null,
   "id": "0c1f7050-f15e-4c1d-adee-0f6a59fe8484",
   "metadata": {},
   "outputs": [],
   "source": []
  },
  {
   "cell_type": "code",
   "execution_count": null,
   "id": "2c271436-dd87-426a-8bdc-ad4295760864",
   "metadata": {},
   "outputs": [],
   "source": []
  },
  {
   "cell_type": "code",
   "execution_count": null,
   "id": "50d3d972-7322-445f-9f9d-0de821f6db13",
   "metadata": {},
   "outputs": [],
   "source": []
  },
  {
   "cell_type": "code",
   "execution_count": null,
   "id": "4ba61c38-0792-45cd-9942-f17b7eb016e4",
   "metadata": {},
   "outputs": [],
   "source": [
    "    cur_segment_out, cur_segm_kvs = forward_for_segment(model_naive_layers, cur_segment, memory_states, prev_segm_kvs = prev_segm_kvs)\n"
   ]
  },
  {
   "cell_type": "code",
   "execution_count": null,
   "id": "2969b407-c947-4ca4-9df3-426a76888491",
   "metadata": {},
   "outputs": [],
   "source": []
  },
  {
   "cell_type": "code",
   "execution_count": null,
   "id": "e0dbd570-263a-43f0-99ea-ed3ce5ddb802",
   "metadata": {},
   "outputs": [],
   "source": [
    "    cur_segment_out, cur_segm_kvs = forward_for_segment(model_naive_layers, cur_segment, memory_states, prev_segm_kvs = prev_segm_kvs)\n"
   ]
  },
  {
   "cell_type": "code",
   "execution_count": null,
   "id": "3490dce4-eabd-45f5-8afa-97092ed668a9",
   "metadata": {},
   "outputs": [],
   "source": []
  },
  {
   "cell_type": "code",
   "execution_count": null,
   "id": "066ea266-c202-4f44-8b7a-ee12bd1ca745",
   "metadata": {},
   "outputs": [],
   "source": [
    "    cur_segment = full_input[i*segment_size: (i+1)*segment_size]\n",
    "    shift_and_set_memory(input_batch, cur_segment, segment_size)\n",
    "    \n",
    "    # if seg_num < n_layers:\n",
    "    #     w_group = [w_g[:seg_num+1] for w_g in weights]\n",
    "    w_group = weights\n",
    "    input_batch, prev_kv_proj = forward_fused(input_batch, w_group, segment_size, prev_kv_proj = prev_kv_proj)\n",
    "\n",
    "    if seg_num+1 >= n_layers:\n",
    "        output_batch[seg_num+1-n_segments, :, :] = input_batch[-1, :segment_size, :]\n",
    "        "
   ]
  },
  {
   "cell_type": "code",
   "execution_count": null,
   "id": "24a9aff6-bf32-4f59-a827-536674a2255c",
   "metadata": {},
   "outputs": [],
   "source": []
  },
  {
   "cell_type": "code",
   "execution_count": null,
   "id": "c7e2e4c4-0074-40ea-90c9-dd8122cd09dd",
   "metadata": {},
   "outputs": [],
   "source": []
  },
  {
   "cell_type": "code",
   "execution_count": null,
   "id": "a33d62bd-da69-4151-8aac-219e1d31212c",
   "metadata": {},
   "outputs": [],
   "source": []
  },
  {
   "cell_type": "code",
   "execution_count": null,
   "id": "d6dc93c9-b05e-46de-8b18-87b1b8abdcdc",
   "metadata": {},
   "outputs": [],
   "source": []
  },
  {
   "cell_type": "code",
   "execution_count": null,
   "id": "4a4f9006-c599-4598-8efe-d597c242e61a",
   "metadata": {},
   "outputs": [],
   "source": []
  },
  {
   "cell_type": "code",
   "execution_count": null,
   "id": "a1ec9779-e863-428a-994e-a67164bd4991",
   "metadata": {},
   "outputs": [],
   "source": []
  },
  {
   "cell_type": "code",
   "execution_count": 153,
   "id": "19ff248c-f31a-4dff-9eff-321a5299b639",
   "metadata": {},
   "outputs": [
    {
     "data": {
      "text/plain": [
       "100"
      ]
     },
     "execution_count": 153,
     "metadata": {},
     "output_type": "execute_result"
    }
   ],
   "source": [
    "n_segments"
   ]
  },
  {
   "cell_type": "code",
   "execution_count": null,
   "id": "82d3d7be-402b-4ccd-a2d2-439f460d0762",
   "metadata": {},
   "outputs": [],
   "source": []
  },
  {
   "cell_type": "code",
   "execution_count": null,
   "id": "e25d44ae-e890-4561-9cb9-f8540de100d2",
   "metadata": {},
   "outputs": [],
   "source": []
  },
  {
   "cell_type": "code",
   "execution_count": null,
   "id": "5c8739d3-9496-4e25-9669-e7ef641e3121",
   "metadata": {},
   "outputs": [],
   "source": []
  },
  {
   "cell_type": "code",
   "execution_count": 139,
   "id": "88c54098-ae62-4ba4-8696-feeb43bc6dea",
   "metadata": {},
   "outputs": [
    {
     "data": {
      "text/plain": [
       "(torch.Size([10, 192, 1024]), torch.Size([128, 1024]), 128)"
      ]
     },
     "execution_count": 139,
     "metadata": {},
     "output_type": "execute_result"
    }
   ],
   "source": [
    "input_batch.shape, cur_segment.shape, segment_size"
   ]
  },
  {
   "cell_type": "code",
   "execution_count": 140,
   "id": "15574a7c-9e29-4b39-aeea-22d742d6343b",
   "metadata": {},
   "outputs": [],
   "source": [
    "shift_and_set_memory(input_batch, cur_segment, segment_size);"
   ]
  },
  {
   "cell_type": "code",
   "execution_count": 141,
   "id": "bf71a656-7a5a-44f1-9851-536beb6238b4",
   "metadata": {},
   "outputs": [],
   "source": [
    "segm_mem_list = input_batch.unbind(0)"
   ]
  },
  {
   "cell_type": "code",
   "execution_count": 142,
   "id": "b190e09b-35d9-456f-9cc3-68b437076f23",
   "metadata": {},
   "outputs": [
    {
     "data": {
      "text/plain": [
       "160"
      ]
     },
     "execution_count": 142,
     "metadata": {},
     "output_type": "execute_result"
    }
   ],
   "source": [
    "128+32"
   ]
  },
  {
   "cell_type": "code",
   "execution_count": 76,
   "id": "4d2f9e97-5dec-40be-9449-e50c70359b36",
   "metadata": {},
   "outputs": [
    {
     "ename": "NameError",
     "evalue": "name 'segm_mem_list' is not defined",
     "output_type": "error",
     "traceback": [
      "\u001b[0;31m---------------------------------------------------------------------------\u001b[0m",
      "\u001b[0;31mNameError\u001b[0m                                 Traceback (most recent call last)",
      "Cell \u001b[0;32mIn[76], line 1\u001b[0m\n\u001b[0;32m----> 1\u001b[0m [el\u001b[38;5;241m.\u001b[39mshape \u001b[38;5;28;01mfor\u001b[39;00m el \u001b[38;5;129;01min\u001b[39;00m \u001b[43msegm_mem_list\u001b[49m]\n",
      "\u001b[0;31mNameError\u001b[0m: name 'segm_mem_list' is not defined"
     ]
    }
   ],
   "source": []
  },
  {
   "cell_type": "code",
   "execution_count": 77,
   "id": "777c578d-a644-4fbd-a157-edc9b855c5a3",
   "metadata": {},
   "outputs": [
    {
     "data": {
      "text/plain": [
       "[torch.Size([1024, 1024]),\n",
       " torch.Size([1024, 1024]),\n",
       " torch.Size([1024, 1024]),\n",
       " torch.Size([1024, 1024]),\n",
       " torch.Size([1024, 1024]),\n",
       " torch.Size([1024, 1024]),\n",
       " torch.Size([1024, 1024]),\n",
       " torch.Size([1024, 1024]),\n",
       " torch.Size([1024, 1024]),\n",
       " torch.Size([1024, 1024]),\n",
       " torch.Size([1024, 1024]),\n",
       " torch.Size([1024, 1024]),\n",
       " torch.Size([1024, 1024]),\n",
       " torch.Size([1024, 1024]),\n",
       " torch.Size([1024, 1024]),\n",
       " torch.Size([1024, 1024]),\n",
       " torch.Size([1024, 1024]),\n",
       " torch.Size([1024, 1024]),\n",
       " torch.Size([1024, 1024]),\n",
       " torch.Size([1024, 1024]),\n",
       " torch.Size([1024, 1024]),\n",
       " torch.Size([1024, 1024]),\n",
       " torch.Size([1024, 1024]),\n",
       " torch.Size([1024, 1024]),\n",
       " torch.Size([1024, 1024]),\n",
       " torch.Size([1024, 1024]),\n",
       " torch.Size([1024, 1024]),\n",
       " torch.Size([1024, 1024]),\n",
       " torch.Size([1024, 1024]),\n",
       " torch.Size([1024, 1024])]"
      ]
     },
     "execution_count": 77,
     "metadata": {},
     "output_type": "execute_result"
    }
   ],
   "source": []
  },
  {
   "cell_type": "code",
   "execution_count": null,
   "id": "3a5a7963-0e64-481b-ad6c-c89dc9575285",
   "metadata": {},
   "outputs": [],
   "source": []
  },
  {
   "cell_type": "code",
   "execution_count": 145,
   "id": "3a619a2d-e0dd-4a99-80df-bac989c6210c",
   "metadata": {},
   "outputs": [],
   "source": [
    "segm_mem_list = input_batch.unbind(0)\n",
    "qkv = grouped_gemm_fused.run(segm_mem_list*3, weights[0]+weights[1]+weights[2])\n",
    "# qkv = torch.stack(qkv, dim=0)\n",
    "q,k,v = torch.chunk(qkv, 3, dim=0)\n",
    "\n"
   ]
  },
  {
   "cell_type": "code",
   "execution_count": null,
   "id": "50c9bb1e-b916-4f6b-ab53-8087e673686a",
   "metadata": {},
   "outputs": [],
   "source": []
  },
  {
   "cell_type": "code",
   "execution_count": 82,
   "id": "9274d322-71e8-42e0-a77d-8bfdcaada155",
   "metadata": {},
   "outputs": [],
   "source": [
    "# input_batch"
   ]
  },
  {
   "cell_type": "code",
   "execution_count": 83,
   "id": "ada9f3ef-7b7e-45e1-9e9c-84d207ff27c1",
   "metadata": {},
   "outputs": [],
   "source": [
    "w_group = weights"
   ]
  },
  {
   "cell_type": "code",
   "execution_count": 89,
   "id": "6e95c8b3-3b14-48ce-926a-1766de2f9719",
   "metadata": {},
   "outputs": [
    {
     "data": {
      "text/plain": [
       "(10, 10)"
      ]
     },
     "execution_count": 89,
     "metadata": {},
     "output_type": "execute_result"
    }
   ],
   "source": [
    "len(input_batch.unbind(0)), len(w_group[0])"
   ]
  },
  {
   "cell_type": "code",
   "execution_count": null,
   "id": "2d024c20-59f1-4995-80e6-83f24253ef85",
   "metadata": {},
   "outputs": [],
   "source": []
  }
 ],
 "metadata": {
  "kernelspec": {
   "display_name": "Python [conda env:.mlspace-svtdanny]",
   "language": "python",
   "name": "conda-env-.mlspace-svtdanny-py"
  },
  "language_info": {
   "codemirror_mode": {
    "name": "ipython",
    "version": 3
   },
   "file_extension": ".py",
   "mimetype": "text/x-python",
   "name": "python",
   "nbconvert_exporter": "python",
   "pygments_lexer": "ipython3",
   "version": "3.11.9"
  }
 },
 "nbformat": 4,
 "nbformat_minor": 5
}
