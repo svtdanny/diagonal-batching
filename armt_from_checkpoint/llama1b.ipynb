{
 "cells": [
  {
   "cell_type": "code",
   "execution_count": 1,
   "id": "de5db49e-3ad2-4138-aaeb-c75e6fbeb50e",
   "metadata": {},
   "outputs": [],
   "source": [
    "import sys\n"
   ]
  },
  {
   "cell_type": "code",
   "execution_count": 2,
   "id": "1d421059-626b-4ee5-b423-2d20f34e674f",
   "metadata": {},
   "outputs": [],
   "source": [
    "sys.path.append(\"/home/jovyan/sivtsov/associative-recurrent-memory-transformer\")"
   ]
  },
  {
   "cell_type": "code",
   "execution_count": 3,
   "id": "edb1ed4a-f2af-47e0-87f3-c33f6648f88c",
   "metadata": {},
   "outputs": [
    {
     "name": "stderr",
     "output_type": "stream",
     "text": [
      "/home/jovyan/.mlspace/envs/svtdanny/lib/python3.11/site-packages/tqdm/auto.py:21: TqdmWarning: IProgress not found. Please update jupyter and ipywidgets. See https://ipywidgets.readthedocs.io/en/stable/user_install.html\n",
      "  from .autonotebook import tqdm as notebook_tqdm\n"
     ]
    }
   ],
   "source": [
    "import json\n",
    "import logging\n",
    "import os\n",
    "import math\n",
    "import shutil\n",
    "from pathlib import Path\n",
    "from itertools import chain\n",
    "\n",
    "# from dotenv import load_dotenv\n",
    "import torch\n",
    "import numpy as np\n",
    "import datasets\n",
    "import transformers\n",
    "from torch.utils.data import DataLoader\n",
    "from huggingface_hub import hf_hub_download\n",
    "\n",
    "torch.set_grad_enabled(False)\n",
    "\n",
    "from transformers import AutoConfig, AutoTokenizer, HfArgumentParser, AutoModelForCausalLM\n",
    "\n",
    "from modeling_rmt.language_modeling import MemoryCell, RecurrentWrapper\n",
    "from modeling_amt.language_modeling import AssociativeMemoryCell, AssociativeRecurrentWrapper\n",
    "from modeling_rmt.lm_parallel_mem import MemoryCell as PMemoryCell, RecurrentWrapper as PRecurrentWrapper\n",
    "\n",
    "from torch.nn.utils.rnn import pad_sequence"
   ]
  },
  {
   "cell_type": "code",
   "execution_count": 4,
   "id": "06324ec4",
   "metadata": {},
   "outputs": [],
   "source": [
    "import os\n",
    "os.environ[\"CUDA_LAUNCH_BLOCKING\"] = \"1\""
   ]
  },
  {
   "cell_type": "code",
   "execution_count": 5,
   "id": "0718178a-56d7-409c-9354-c5dc8bd2efc2",
   "metadata": {},
   "outputs": [],
   "source": [
    "# dtype=torch.float32\n",
    "dtype=torch.bfloat16\n",
    "torch.set_default_dtype(dtype)"
   ]
  },
  {
   "cell_type": "code",
   "execution_count": 6,
   "id": "5e8e899c-ad30-4cf6-b7b0-18cb95d66d31",
   "metadata": {},
   "outputs": [],
   "source": [
    "source_model = AutoModelForCausalLM.from_pretrained(\"meta-llama/Llama-3.2-1B\"\n",
    "                                             , attn_implementation=\"sdpa\"\n",
    "                                             ,torch_dtype=dtype)\n",
    "tokenizer = AutoTokenizer.from_pretrained(\"meta-llama/Llama-3.2-1B\")"
   ]
  },
  {
   "cell_type": "code",
   "execution_count": 7,
   "id": "9e353d34",
   "metadata": {},
   "outputs": [],
   "source": [
    "source_grouped_model = AutoModelForCausalLM.from_pretrained(\"meta-llama/Llama-3.2-1B\"\n",
    "                                             , attn_implementation=\"sdpa\"\n",
    "                                             ,torch_dtype=dtype)"
   ]
  },
  {
   "cell_type": "code",
   "execution_count": 8,
   "id": "449372a2",
   "metadata": {},
   "outputs": [],
   "source": [
    "# import torch\n",
    "# source_model.lm_head = torch.nn.Identity()\n",
    "# source_model.to('cuda')\n",
    "\n",
    "# # s= [32, 128, 256, 1024, 2048, 4096, 8192, 16384, 32768, 65536, 131072]\n",
    "# input_ids = torch.randint(0, 10000, (1, 256), dtype=torch.long, device=\"cuda\")"
   ]
  },
  {
   "cell_type": "code",
   "execution_count": 9,
   "id": "cabcec03",
   "metadata": {},
   "outputs": [],
   "source": [
    "# %%time\n",
    "\n",
    "# o = source_model.forward(input_ids)\n",
    "\n",
    "# torch.cuda.synchronize()"
   ]
  },
  {
   "cell_type": "code",
   "execution_count": 10,
   "id": "c6a31aab-0c81-42ca-89b5-37bf7464e60d",
   "metadata": {},
   "outputs": [],
   "source": [
    "# source_model.to('cuda')"
   ]
  },
  {
   "cell_type": "code",
   "execution_count": 11,
   "id": "e66e691c-3ec8-4614-aadd-3f389585b6f3",
   "metadata": {},
   "outputs": [],
   "source": [
    "# nums_segments = [1024]\n",
    "\n",
    "# segment_size = 32\n",
    "segment_size = 1024\n",
    "block_size = segment_size\n",
    "\n",
    "# test_size = 1000\n",
    "# batch_size = 1\n",
    "\n",
    "# model_name = 'armt'\n",
    "# num_mem_tokens = 16\n",
    "num_mem_tokens = 128\n",
    "model_path = './models'\n",
    "d_mem = 64\n",
    "\n",
    "# task_dataset = \"qa1_single-supporting-fact\"\n",
    "# max_n_facts = None"
   ]
  },
  {
   "cell_type": "code",
   "execution_count": 12,
   "id": "e195a513-513f-4738-97ff-c20e6b85fe81",
   "metadata": {},
   "outputs": [],
   "source": [
    "mem_cell_cls = AssociativeMemoryCell\n",
    "rec_wrap_cls = AssociativeRecurrentWrapper"
   ]
  },
  {
   "cell_type": "code",
   "execution_count": 13,
   "id": "e44a88cd-5efa-4840-8ab7-94be538da09d",
   "metadata": {},
   "outputs": [],
   "source": [
    "# ls -la /home/jovyan/.cache/huggingface/hub/models--irodkin--ARMT-llama3.2-1B/snapshots/746e74bba3edc4cb3eaa11e13df5d900495e2300/armt_llama3.2-1B_step19500.bin"
   ]
  },
  {
   "cell_type": "code",
   "execution_count": null,
   "id": "edbdc5d2-3935-4b95-a895-2775b05e7670",
   "metadata": {},
   "outputs": [
    {
     "name": "stderr",
     "output_type": "stream",
     "text": [
      "/tmp/ipykernel_2886813/1118790681.py:13: FutureWarning: You are using `torch.load` with `weights_only=False` (the current default value), which uses the default pickle module implicitly. It is possible to construct malicious pickle data which will execute arbitrary code during unpickling (See https://github.com/pytorch/pytorch/blob/main/SECURITY.md#untrusted-models for more details). In a future release, the default value for `weights_only` will be flipped to `True`. This limits the functions that could be executed during unpickling. Arbitrary objects will no longer be allowed to be loaded via this mode unless they are explicitly allowlisted by the user via `torch.serialization.add_safe_globals`. We recommend you start setting `weights_only=True` for any use case where you don't have full control of the loaded file. Please open an issue on GitHub for any issues related to this experimental feature.\n",
      "  cpt = torch.load(model_cpt, map_location='cuda')\n"
     ]
    },
    {
     "ename": "RuntimeError",
     "evalue": "Error(s) in loading state_dict for AssociativeRecurrentWrapper:\n\tsize mismatch for memory_cell.memory: copying a param with shape torch.Size([16, 2048]) from checkpoint, the shape in current model is torch.Size([128, 2048]).",
     "output_type": "error",
     "traceback": [
      "\u001b[0;31m---------------------------------------------------------------------------\u001b[0m",
      "\u001b[0;31mRuntimeError\u001b[0m                              Traceback (most recent call last)",
      "Cell \u001b[0;32mIn[14], line 14\u001b[0m\n\u001b[1;32m     12\u001b[0m model_cpt \u001b[38;5;241m=\u001b[39m os\u001b[38;5;241m.\u001b[39mpath\u001b[38;5;241m.\u001b[39mjoin(model_path, \u001b[38;5;124m\"\u001b[39m\u001b[38;5;124m/home/jovyan/.cache/huggingface/hub/models--irodkin--ARMT-llama3.2-1B/snapshots/746e74bba3edc4cb3eaa11e13df5d900495e2300/armt_llama3.2-1B_step19500.bin\u001b[39m\u001b[38;5;124m\"\u001b[39m)\n\u001b[1;32m     13\u001b[0m cpt \u001b[38;5;241m=\u001b[39m torch\u001b[38;5;241m.\u001b[39mload(model_cpt, map_location\u001b[38;5;241m=\u001b[39m\u001b[38;5;124m'\u001b[39m\u001b[38;5;124mcuda\u001b[39m\u001b[38;5;124m'\u001b[39m)\n\u001b[0;32m---> 14\u001b[0m \u001b[43marmt_model\u001b[49m\u001b[38;5;241;43m.\u001b[39;49m\u001b[43mload_state_dict\u001b[49m\u001b[43m(\u001b[49m\u001b[43mcpt\u001b[49m\u001b[43m,\u001b[49m\u001b[43m \u001b[49m\u001b[43mstrict\u001b[49m\u001b[38;5;241;43m=\u001b[39;49m\u001b[38;5;28;43;01mFalse\u001b[39;49;00m\u001b[43m)\u001b[49m\n\u001b[1;32m     15\u001b[0m armt_model\u001b[38;5;241m.\u001b[39meval()\u001b[38;5;241m.\u001b[39mto(\u001b[38;5;124m'\u001b[39m\u001b[38;5;124mcuda\u001b[39m\u001b[38;5;124m'\u001b[39m)\n",
      "File \u001b[0;32m~/.mlspace/envs/svtdanny/lib/python3.11/site-packages/torch/nn/modules/module.py:2584\u001b[0m, in \u001b[0;36mModule.load_state_dict\u001b[0;34m(self, state_dict, strict, assign)\u001b[0m\n\u001b[1;32m   2576\u001b[0m         error_msgs\u001b[38;5;241m.\u001b[39minsert(\n\u001b[1;32m   2577\u001b[0m             \u001b[38;5;241m0\u001b[39m,\n\u001b[1;32m   2578\u001b[0m             \u001b[38;5;124m\"\u001b[39m\u001b[38;5;124mMissing key(s) in state_dict: \u001b[39m\u001b[38;5;132;01m{}\u001b[39;00m\u001b[38;5;124m. \u001b[39m\u001b[38;5;124m\"\u001b[39m\u001b[38;5;241m.\u001b[39mformat(\n\u001b[1;32m   2579\u001b[0m                 \u001b[38;5;124m\"\u001b[39m\u001b[38;5;124m, \u001b[39m\u001b[38;5;124m\"\u001b[39m\u001b[38;5;241m.\u001b[39mjoin(\u001b[38;5;124mf\u001b[39m\u001b[38;5;124m'\u001b[39m\u001b[38;5;124m\"\u001b[39m\u001b[38;5;132;01m{\u001b[39;00mk\u001b[38;5;132;01m}\u001b[39;00m\u001b[38;5;124m\"\u001b[39m\u001b[38;5;124m'\u001b[39m \u001b[38;5;28;01mfor\u001b[39;00m k \u001b[38;5;129;01min\u001b[39;00m missing_keys)\n\u001b[1;32m   2580\u001b[0m             ),\n\u001b[1;32m   2581\u001b[0m         )\n\u001b[1;32m   2583\u001b[0m \u001b[38;5;28;01mif\u001b[39;00m \u001b[38;5;28mlen\u001b[39m(error_msgs) \u001b[38;5;241m>\u001b[39m \u001b[38;5;241m0\u001b[39m:\n\u001b[0;32m-> 2584\u001b[0m     \u001b[38;5;28;01mraise\u001b[39;00m \u001b[38;5;167;01mRuntimeError\u001b[39;00m(\n\u001b[1;32m   2585\u001b[0m         \u001b[38;5;124m\"\u001b[39m\u001b[38;5;124mError(s) in loading state_dict for \u001b[39m\u001b[38;5;132;01m{}\u001b[39;00m\u001b[38;5;124m:\u001b[39m\u001b[38;5;130;01m\\n\u001b[39;00m\u001b[38;5;130;01m\\t\u001b[39;00m\u001b[38;5;132;01m{}\u001b[39;00m\u001b[38;5;124m\"\u001b[39m\u001b[38;5;241m.\u001b[39mformat(\n\u001b[1;32m   2586\u001b[0m             \u001b[38;5;28mself\u001b[39m\u001b[38;5;241m.\u001b[39m\u001b[38;5;18m__class__\u001b[39m\u001b[38;5;241m.\u001b[39m\u001b[38;5;18m__name__\u001b[39m, \u001b[38;5;124m\"\u001b[39m\u001b[38;5;130;01m\\n\u001b[39;00m\u001b[38;5;130;01m\\t\u001b[39;00m\u001b[38;5;124m\"\u001b[39m\u001b[38;5;241m.\u001b[39mjoin(error_msgs)\n\u001b[1;32m   2587\u001b[0m         )\n\u001b[1;32m   2588\u001b[0m     )\n\u001b[1;32m   2589\u001b[0m \u001b[38;5;28;01mreturn\u001b[39;00m _IncompatibleKeys(missing_keys, unexpected_keys)\n",
      "\u001b[0;31mRuntimeError\u001b[0m: Error(s) in loading state_dict for AssociativeRecurrentWrapper:\n\tsize mismatch for memory_cell.memory: copying a param with shape torch.Size([16, 2048]) from checkpoint, the shape in current model is torch.Size([128, 2048])."
     ]
    }
   ],
   "source": [
    "mem_cell_args = dict(\n",
    "        base_model=source_model,\n",
    "        num_mem_tokens=num_mem_tokens,\n",
    ")\n",
    "if d_mem is not None:\n",
    "    mem_cell_args['d_mem'] = d_mem\n",
    "\n",
    "\n",
    "cell = mem_cell_cls(**mem_cell_args, wrap_pos=False, layers_attr=\"model.layers\")\n",
    "armt_model = rec_wrap_cls(cell, segment_size=block_size, k2=-1)\n",
    "\n",
    "# model_cpt = os.path.join(model_path, \"/home/jovyan/.cache/huggingface/hub/models--irodkin--ARMT-llama3.2-1B/snapshots/746e74bba3edc4cb3eaa11e13df5d900495e2300/armt_llama3.2-1B_step19500.bin\")\n",
    "# cpt = torch.load(model_cpt, map_location='cuda')\n",
    "# armt_model.load_state_dict(cpt, strict=False)\n",
    "armt_model.eval().to('cuda')\n",
    "\n",
    "\n"
   ]
  },
  {
   "cell_type": "code",
   "execution_count": 15,
   "id": "898668b3",
   "metadata": {},
   "outputs": [
    {
     "data": {
      "text/plain": [
       "AssociativeMemoryCell(\n",
       "  (model): LlamaForCausalLM(\n",
       "    (model): LlamaModel(\n",
       "      (embed_tokens): Embedding(128256, 2048)\n",
       "      (layers): ModuleList(\n",
       "        (0-15): 16 x AssociativeLayerWrapper(\n",
       "          (W_mq): Linear(in_features=2048, out_features=64, bias=False)\n",
       "          (W_mk): Linear(in_features=2048, out_features=64, bias=False)\n",
       "          (W_mv): Linear(in_features=2048, out_features=2048, bias=False)\n",
       "          (W_mb): Linear(in_features=2048, out_features=1, bias=True)\n",
       "          (layer): LlamaDecoderLayer(\n",
       "            (self_attn): LlamaSdpaAttention(\n",
       "              (q_proj): Linear(in_features=2048, out_features=2048, bias=False)\n",
       "              (k_proj): Linear(in_features=2048, out_features=512, bias=False)\n",
       "              (v_proj): Linear(in_features=2048, out_features=512, bias=False)\n",
       "              (o_proj): Linear(in_features=2048, out_features=2048, bias=False)\n",
       "              (rotary_emb): LlamaRotaryEmbedding()\n",
       "            )\n",
       "            (mlp): LlamaMLP(\n",
       "              (gate_proj): Linear(in_features=2048, out_features=8192, bias=False)\n",
       "              (up_proj): Linear(in_features=2048, out_features=8192, bias=False)\n",
       "              (down_proj): Linear(in_features=8192, out_features=2048, bias=False)\n",
       "              (act_fn): SiLU()\n",
       "            )\n",
       "            (input_layernorm): LlamaRMSNorm((2048,), eps=1e-05)\n",
       "            (post_attention_layernorm): LlamaRMSNorm((2048,), eps=1e-05)\n",
       "          )\n",
       "        )\n",
       "      )\n",
       "      (norm): LlamaRMSNorm((2048,), eps=1e-05)\n",
       "      (rotary_emb): LlamaRotaryEmbedding()\n",
       "    )\n",
       "    (lm_head): Linear(in_features=2048, out_features=128256, bias=False)\n",
       "  )\n",
       "  (W_mq): ModuleList()\n",
       "  (layers): ModuleList(\n",
       "    (0-15): 16 x AssociativeLayerWrapper(\n",
       "      (W_mq): Linear(in_features=2048, out_features=64, bias=False)\n",
       "      (W_mk): Linear(in_features=2048, out_features=64, bias=False)\n",
       "      (W_mv): Linear(in_features=2048, out_features=2048, bias=False)\n",
       "      (W_mb): Linear(in_features=2048, out_features=1, bias=True)\n",
       "      (layer): LlamaDecoderLayer(\n",
       "        (self_attn): LlamaSdpaAttention(\n",
       "          (q_proj): Linear(in_features=2048, out_features=2048, bias=False)\n",
       "          (k_proj): Linear(in_features=2048, out_features=512, bias=False)\n",
       "          (v_proj): Linear(in_features=2048, out_features=512, bias=False)\n",
       "          (o_proj): Linear(in_features=2048, out_features=2048, bias=False)\n",
       "          (rotary_emb): LlamaRotaryEmbedding()\n",
       "        )\n",
       "        (mlp): LlamaMLP(\n",
       "          (gate_proj): Linear(in_features=2048, out_features=8192, bias=False)\n",
       "          (up_proj): Linear(in_features=2048, out_features=8192, bias=False)\n",
       "          (down_proj): Linear(in_features=8192, out_features=2048, bias=False)\n",
       "          (act_fn): SiLU()\n",
       "        )\n",
       "        (input_layernorm): LlamaRMSNorm((2048,), eps=1e-05)\n",
       "        (post_attention_layernorm): LlamaRMSNorm((2048,), eps=1e-05)\n",
       "      )\n",
       "    )\n",
       "  )\n",
       ")"
      ]
     },
     "execution_count": 15,
     "metadata": {},
     "output_type": "execute_result"
    }
   ],
   "source": [
    "cell"
   ]
  },
  {
   "cell_type": "code",
   "execution_count": 16,
   "id": "8d02c7dd",
   "metadata": {},
   "outputs": [
    {
     "data": {
      "text/plain": [
       "AssociativeRecurrentWrapper(\n",
       "  (memory_cell): AssociativeMemoryCell(\n",
       "    (model): LlamaForCausalLM(\n",
       "      (model): LlamaModel(\n",
       "        (embed_tokens): Embedding(128256, 2048)\n",
       "        (layers): ModuleList(\n",
       "          (0-15): 16 x AssociativeLayerWrapper(\n",
       "            (W_mq): Linear(in_features=2048, out_features=64, bias=False)\n",
       "            (W_mk): Linear(in_features=2048, out_features=64, bias=False)\n",
       "            (W_mv): Linear(in_features=2048, out_features=2048, bias=False)\n",
       "            (W_mb): Linear(in_features=2048, out_features=1, bias=True)\n",
       "            (layer): LlamaDecoderLayer(\n",
       "              (self_attn): LlamaSdpaAttention(\n",
       "                (q_proj): Linear(in_features=2048, out_features=2048, bias=False)\n",
       "                (k_proj): Linear(in_features=2048, out_features=512, bias=False)\n",
       "                (v_proj): Linear(in_features=2048, out_features=512, bias=False)\n",
       "                (o_proj): Linear(in_features=2048, out_features=2048, bias=False)\n",
       "                (rotary_emb): LlamaRotaryEmbedding()\n",
       "              )\n",
       "              (mlp): LlamaMLP(\n",
       "                (gate_proj): Linear(in_features=2048, out_features=8192, bias=False)\n",
       "                (up_proj): Linear(in_features=2048, out_features=8192, bias=False)\n",
       "                (down_proj): Linear(in_features=8192, out_features=2048, bias=False)\n",
       "                (act_fn): SiLU()\n",
       "              )\n",
       "              (input_layernorm): LlamaRMSNorm((2048,), eps=1e-05)\n",
       "              (post_attention_layernorm): LlamaRMSNorm((2048,), eps=1e-05)\n",
       "            )\n",
       "          )\n",
       "        )\n",
       "        (norm): LlamaRMSNorm((2048,), eps=1e-05)\n",
       "        (rotary_emb): LlamaRotaryEmbedding()\n",
       "      )\n",
       "      (lm_head): Linear(in_features=2048, out_features=128256, bias=False)\n",
       "    )\n",
       "    (W_mq): ModuleList()\n",
       "    (layers): ModuleList(\n",
       "      (0-15): 16 x AssociativeLayerWrapper(\n",
       "        (W_mq): Linear(in_features=2048, out_features=64, bias=False)\n",
       "        (W_mk): Linear(in_features=2048, out_features=64, bias=False)\n",
       "        (W_mv): Linear(in_features=2048, out_features=2048, bias=False)\n",
       "        (W_mb): Linear(in_features=2048, out_features=1, bias=True)\n",
       "        (layer): LlamaDecoderLayer(\n",
       "          (self_attn): LlamaSdpaAttention(\n",
       "            (q_proj): Linear(in_features=2048, out_features=2048, bias=False)\n",
       "            (k_proj): Linear(in_features=2048, out_features=512, bias=False)\n",
       "            (v_proj): Linear(in_features=2048, out_features=512, bias=False)\n",
       "            (o_proj): Linear(in_features=2048, out_features=2048, bias=False)\n",
       "            (rotary_emb): LlamaRotaryEmbedding()\n",
       "          )\n",
       "          (mlp): LlamaMLP(\n",
       "            (gate_proj): Linear(in_features=2048, out_features=8192, bias=False)\n",
       "            (up_proj): Linear(in_features=2048, out_features=8192, bias=False)\n",
       "            (down_proj): Linear(in_features=8192, out_features=2048, bias=False)\n",
       "            (act_fn): SiLU()\n",
       "          )\n",
       "          (input_layernorm): LlamaRMSNorm((2048,), eps=1e-05)\n",
       "          (post_attention_layernorm): LlamaRMSNorm((2048,), eps=1e-05)\n",
       "        )\n",
       "      )\n",
       "    )\n",
       "  )\n",
       ")"
      ]
     },
     "execution_count": 16,
     "metadata": {},
     "output_type": "execute_result"
    }
   ],
   "source": [
    "mem_cell_args = dict(\n",
    "        base_model=source_grouped_model,\n",
    "        num_mem_tokens=num_mem_tokens,\n",
    ")\n",
    "if d_mem is not None:\n",
    "    mem_cell_args['d_mem'] = d_mem\n",
    "\n",
    "\n",
    "cell = mem_cell_cls(**mem_cell_args, wrap_pos=False, layers_attr=\"model.layers\")\n",
    "armt_grouped_model = rec_wrap_cls(cell, segment_size=block_size, k2=-1)\n",
    "\n",
    "# model_cpt = os.path.join(model_path, \"/home/jovyan/.cache/huggingface/hub/models--irodkin--ARMT-llama3.2-1B/snapshots/746e74bba3edc4cb3eaa11e13df5d900495e2300/armt_llama3.2-1B_step19500.bin\")\n",
    "# cpt = torch.load(model_cpt, map_location='cuda')\n",
    "# armt_grouped_model.load_state_dict(cpt, strict=False)\n",
    "armt_grouped_model.eval().to('cuda')\n",
    "\n",
    "\n"
   ]
  },
  {
   "cell_type": "code",
   "execution_count": 17,
   "id": "26fac35f",
   "metadata": {},
   "outputs": [],
   "source": [
    "for i in range(len(armt_model.memory_cell.model.model.layers)):\n",
    "    armt_model.memory_cell.model.model.layers[i].W_mem = armt_model.memory_cell.model.model.layers[i].W_mem.to('cuda')\n",
    "    armt_grouped_model.memory_cell.model.model.layers[i].W_mem = armt_grouped_model.memory_cell.model.model.layers[i].W_mem.to('cuda')\n",
    "    \n",
    "    armt_model.memory_cell.model.model.layers[i].z = armt_model.memory_cell.model.model.layers[i].z.to('cuda')\n",
    "    armt_grouped_model.memory_cell.model.model.layers[i].z = armt_grouped_model.memory_cell.model.model.layers[i].z.to('cuda')"
   ]
  },
  {
   "cell_type": "code",
   "execution_count": 18,
   "id": "7b189610",
   "metadata": {},
   "outputs": [
    {
     "data": {
      "text/plain": [
       "device(type='cuda', index=0)"
      ]
     },
     "execution_count": 18,
     "metadata": {},
     "output_type": "execute_result"
    }
   ],
   "source": [
    "armt_model.memory_cell.model.model.layers[0].W_mem.device"
   ]
  },
  {
   "cell_type": "code",
   "execution_count": 19,
   "id": "a7458aeb",
   "metadata": {},
   "outputs": [],
   "source": [
    "# just to not catch oom on large context\n",
    "# source_model.lm_head = torch.nn.Linear(source_model.lm_head.in_features, 10000, bias=False)\n",
    "# source_grouped_model.lm_head = torch.nn.Linear(source_grouped_model.lm_head.in_features, 10000, bias=False)\n",
    "# armt_model_dualed.memory_cell.model.lm_head = source_model.lm_head.to('cuda')\n",
    "# armt_grouped_model.memory_cell.model.lm_head = source_grouped_model.lm_head.to('cuda')\n",
    "\n",
    "source_model.lm_head = torch.nn.Identity()\n",
    "source_grouped_model.lm_head = torch.nn.Identity()\n",
    "armt_model.memory_cell.model.lm_head = torch.nn.Identity()\n",
    "armt_grouped_model.memory_cell.model.lm_head = torch.nn.Identity()"
   ]
  },
  {
   "cell_type": "code",
   "execution_count": null,
   "id": "e105080b",
   "metadata": {},
   "outputs": [],
   "source": []
  },
  {
   "cell_type": "code",
   "execution_count": 20,
   "id": "f92d2c99-0769-47f5-9e92-cb2f276e83be",
   "metadata": {},
   "outputs": [],
   "source": [
    "# source_model.eval().to('cuda')"
   ]
  },
  {
   "cell_type": "code",
   "execution_count": 21,
   "id": "92572710-e3e8-4ed2-81e4-b01d005647b2",
   "metadata": {},
   "outputs": [],
   "source": [
    "def group_gemm_naive(As, Bs):\n",
    "    return [A @ B for A, B in zip(As, Bs)]\n",
    "\n",
    "def get_naive_grouped_forward(Ws, bias=None):\n",
    "    def forward(Xs):\n",
    "        res_list = group_gemm_naive(Xs.unbind(0), Ws)\n",
    "        res = torch.stack(res_list)\n",
    "        # print(f\"Outs: {res.shape}\")\n",
    "        if bias is not None:\n",
    "            res += bias\n",
    "        return res\n",
    "    return forward\n",
    "    \n",
    "\n",
    "\n",
    "# import cutlass\n",
    "# def group_gemm_jit(As, Bs):\n",
    "#     dtype = As[0].dtype\n",
    "#     plan = cutlass.op.GroupedGemm(element=dtype, element_accumulator=torch.float32, layout=cutlass.LayoutType.RowMajor)\n",
    "\n",
    "#     Cs = [torch.zeros(a.shape[:-1] + (b.shape[-1],), dtype=a.dtype, device=a.device) for a,b in zip(As, Bs)]\n",
    "#     Ds = [torch.zeros_like(el) for el in Cs]\n",
    "    \n",
    "#     plan.run(As, Bs, Cs, Ds, print_module=True)\n",
    "#     op = plan.construct()\n",
    "#     grouped_gemm = cutlass.emit.pytorch(op, name='grouped_gemm', cc=plan.cc, sourcedir='out', jit=True)\n",
    "\n",
    "#     return grouped_gemm\n",
    "\n",
    "import cutlass\n",
    "\n",
    "USE_EFFICIENT_ALLOCATION = True\n",
    "\n",
    "sys.path.append(\"/home/jovyan/sivtsov/armt\")\n",
    "# import cutlass_emit_pytorch_mocked\n",
    "\n",
    "def group_gemm_jit(As, Bs):\n",
    "    dtype = As[0].dtype\n",
    "    plan = cutlass.op.GroupedGemm(element=dtype, element_accumulator=torch.float32, layout=cutlass.LayoutType.RowMajor)\n",
    "\n",
    "    Cs = [torch.zeros(a.shape[:-1] + (b.shape[-1],), dtype=a.dtype, device=a.device) for a,b in zip(As, Bs)]\n",
    "    Ds = [torch.zeros_like(el) for el in Cs]\n",
    "    \n",
    "    plan.run(As, Bs, Cs, Ds, print_module=True)\n",
    "    op = plan.construct()\n",
    "\n",
    "    if USE_EFFICIENT_ALLOCATION:\n",
    "        print(\"USE_EFFICIENT_ALLOCATION\")\n",
    "        import cutlass_emit_pytorch_mocked\n",
    "        grouped_gemm = cutlass_emit_pytorch_mocked.pytorch(op, name='grouped_gemm', cc=plan.cc, sourcedir='out', jit=True)\n",
    "    else:\n",
    "        grouped_gemm = cutlass.emit.pytorch(op, name='grouped_gemm', cc=plan.cc, sourcedir='out', jit=True)\n",
    "\n",
    "    return grouped_gemm\n",
    "\n",
    "def get_group_gemm():\n",
    "    gemm_fn = None\n",
    "    \n",
    "    def group_gemm(As, Bs):\n",
    "        nonlocal gemm_fn\n",
    "        if gemm_fn is None:\n",
    "            print(f\"jit compile As: {[a.shape for a in As]} Bs: {[b.shape for b in Bs]}\")\n",
    "            gemm_fn = group_gemm_jit(As, Bs)\n",
    "\n",
    "        return gemm_fn.run(As, Bs)\n",
    "\n",
    "    return group_gemm\n",
    "\n",
    "\n"
   ]
  },
  {
   "cell_type": "code",
   "execution_count": 22,
   "id": "5db3204d-9cfc-4f3a-bb06-6b18ce6f9540",
   "metadata": {},
   "outputs": [
    {
     "data": {
      "text/plain": [
       "ModuleList(\n",
       "  (0-15): 16 x AssociativeLayerWrapper(\n",
       "    (W_mq): Linear(in_features=2048, out_features=64, bias=False)\n",
       "    (W_mk): Linear(in_features=2048, out_features=64, bias=False)\n",
       "    (W_mv): Linear(in_features=2048, out_features=2048, bias=False)\n",
       "    (W_mb): Linear(in_features=2048, out_features=1, bias=True)\n",
       "    (layer): LlamaDecoderLayer(\n",
       "      (self_attn): LlamaSdpaAttention(\n",
       "        (q_proj): Linear(in_features=2048, out_features=2048, bias=False)\n",
       "        (k_proj): Linear(in_features=2048, out_features=512, bias=False)\n",
       "        (v_proj): Linear(in_features=2048, out_features=512, bias=False)\n",
       "        (o_proj): Linear(in_features=2048, out_features=2048, bias=False)\n",
       "        (rotary_emb): LlamaRotaryEmbedding()\n",
       "      )\n",
       "      (mlp): LlamaMLP(\n",
       "        (gate_proj): Linear(in_features=2048, out_features=8192, bias=False)\n",
       "        (up_proj): Linear(in_features=2048, out_features=8192, bias=False)\n",
       "        (down_proj): Linear(in_features=8192, out_features=2048, bias=False)\n",
       "        (act_fn): SiLU()\n",
       "      )\n",
       "      (input_layernorm): LlamaRMSNorm((2048,), eps=1e-05)\n",
       "      (post_attention_layernorm): LlamaRMSNorm((2048,), eps=1e-05)\n",
       "    )\n",
       "  )\n",
       ")"
      ]
     },
     "execution_count": 22,
     "metadata": {},
     "output_type": "execute_result"
    }
   ],
   "source": [
    "armt_grouped_model.memory_cell.model.model.layers"
   ]
  },
  {
   "cell_type": "code",
   "execution_count": 23,
   "id": "3d98c23e",
   "metadata": {},
   "outputs": [],
   "source": [
    "W_mq_group = [l.W_mq.weight.data.T.contiguous() for l in armt_model.memory_cell.model.model.layers]\n",
    "W_mk_group = [l.W_mk.weight.data.T.contiguous() for l in armt_model.memory_cell.model.model.layers]\n",
    "W_mv_group = [l.W_mv.weight.data.T.contiguous() for l in armt_model.memory_cell.model.model.layers]\n",
    "W_mb_group = [l.W_mb.weight.data.T.contiguous() for l in armt_model.memory_cell.model.model.layers]\n",
    "\n",
    "W_mem_group = [l.W_mem.data.contiguous() for l in armt_model.memory_cell.model.model.layers]\n",
    "z_group = [l.z.data.contiguous() for l in armt_model.memory_cell.model.model.layers]\n",
    "\n",
    "q_proj_group = [l.layer.self_attn.q_proj.weight.data.T.contiguous() for l in armt_model.memory_cell.model.model.layers]\n",
    "k_proj_group = [l.layer.self_attn.k_proj.weight.data.T.contiguous() for l in armt_model.memory_cell.model.model.layers]\n",
    "v_proj_group = [l.layer.self_attn.v_proj.weight.data.T.contiguous() for l in armt_model.memory_cell.model.model.layers]\n",
    "o_proj_group = [l.layer.self_attn.o_proj.weight.data.T.contiguous() for l in armt_model.memory_cell.model.model.layers]\n",
    "\n",
    "gate_proj_group = [l.layer.mlp.gate_proj.weight.data.T.contiguous() for l in armt_model.memory_cell.model.model.layers]\n",
    "up_proj_group = [l.layer.mlp.up_proj.weight.data.T.contiguous() for l in armt_model.memory_cell.model.model.layers]\n",
    "down_proj_group = [l.layer.mlp.down_proj.weight.data.T.contiguous() for l in armt_model.memory_cell.model.model.layers]\n",
    "\n",
    "input_layernorm_group = [l.layer.input_layernorm.weight.data for l in armt_model.memory_cell.model.model.layers]\n",
    "post_attention_layernorm_group = [l.layer.post_attention_layernorm.weight.data for l in armt_model.memory_cell.model.model.layers]\n",
    "\n",
    "input_layernorm_group = torch.stack(input_layernorm_group).contiguous()\n",
    "post_attention_layernorm_group = torch.stack(post_attention_layernorm_group).contiguous()\n",
    "\n",
    "\n"
   ]
  },
  {
   "cell_type": "code",
   "execution_count": 24,
   "id": "2f51ec19",
   "metadata": {},
   "outputs": [],
   "source": [
    "def get_grouped_gemm_forward(Ws, bias=None):\n",
    "    gemm_fn = get_group_gemm()\n",
    "    \n",
    "    def forward(Xs):\n",
    "        nonlocal gemm_fn\n",
    "        # print(f\"Xs: {Xs.shape}, Ws[0]: {Ws[0].shape}\")\n",
    "        Xs = Xs.contiguous()\n",
    "        res_list = gemm_fn(Xs.unbind(0), Ws)\n",
    "        # res_list = group_gemm_naive(Xs.unbind(0), Ws)\n",
    "        if isinstance(res_list, list):\n",
    "            res = torch.stack(res_list).contiguous()\n",
    "        else:\n",
    "            res = res_list  \n",
    "        # print(f\"Outs: {res.shape}\")\n",
    "        if bias is not None:\n",
    "            res += bias\n",
    "        return res\n",
    "    return forward"
   ]
  },
  {
   "cell_type": "code",
   "execution_count": 25,
   "id": "50d5224a",
   "metadata": {},
   "outputs": [],
   "source": [
    "grouped_model_layer = armt_grouped_model.memory_cell.model.model.layers[0]\n",
    "\n"
   ]
  },
  {
   "cell_type": "code",
   "execution_count": 26,
   "id": "c8a9eed2",
   "metadata": {},
   "outputs": [
    {
     "data": {
      "text/plain": [
       "Linear(in_features=2048, out_features=1, bias=True)"
      ]
     },
     "execution_count": 26,
     "metadata": {},
     "output_type": "execute_result"
    }
   ],
   "source": [
    "grouped_model_layer.W_mb"
   ]
  },
  {
   "cell_type": "code",
   "execution_count": 27,
   "id": "b6373f12",
   "metadata": {},
   "outputs": [],
   "source": [
    "grouped_model_layer.W_mq.forward = get_grouped_gemm_forward(W_mq_group)\n",
    "grouped_model_layer.W_mk.forward = get_grouped_gemm_forward(W_mk_group)\n",
    "grouped_model_layer.W_mv.forward = get_grouped_gemm_forward(W_mv_group)\n",
    "grouped_model_layer.W_mb.forward = get_naive_grouped_forward(W_mb_group)\n",
    "\n",
    "grouped_model_layer.W_mem.data = torch.concat(W_mem_group, dim=0)\n",
    "grouped_model_layer.z.data = torch.concat(z_group, dim=0)\n",
    "\n",
    "grouped_model_layer.layer.self_attn.q_proj.forward = get_grouped_gemm_forward(q_proj_group)\n",
    "grouped_model_layer.layer.self_attn.k_proj.forward = get_grouped_gemm_forward(k_proj_group)\n",
    "grouped_model_layer.layer.self_attn.v_proj.forward = get_grouped_gemm_forward(v_proj_group)\n",
    "grouped_model_layer.layer.self_attn.o_proj.forward = get_grouped_gemm_forward(o_proj_group)\n",
    "\n",
    "\n",
    "grouped_model_layer.layer.mlp.gate_proj.forward = get_grouped_gemm_forward(gate_proj_group)\n",
    "grouped_model_layer.layer.mlp.up_proj.forward = get_grouped_gemm_forward(up_proj_group)\n",
    "grouped_model_layer.layer.mlp.down_proj.forward = get_grouped_gemm_forward(down_proj_group)\n",
    "\n",
    "\n",
    "grouped_model_layer.layer.input_layernorm.weight.data = input_layernorm_group[:, None, :]\n",
    "grouped_model_layer.layer.post_attention_layernorm.weight.data = post_attention_layernorm_group[:, None, :]"
   ]
  },
  {
   "cell_type": "code",
   "execution_count": 28,
   "id": "61c4be43",
   "metadata": {},
   "outputs": [
    {
     "data": {
      "text/plain": [
       "torch.Size([16, 384, 2048])"
      ]
     },
     "execution_count": 28,
     "metadata": {},
     "output_type": "execute_result"
    }
   ],
   "source": [
    "grouped_model_layer.W_mem.shape"
   ]
  },
  {
   "cell_type": "code",
   "execution_count": 29,
   "id": "7c47bcfc",
   "metadata": {},
   "outputs": [],
   "source": [
    "# grouped_model_layer.W_mem.data = torch.rand_like(grouped_model_layer.W_mem.data)\n",
    "# grouped_model_layer.z.data = torch.rand_like(grouped_model_layer.z.data)\n",
    "\n",
    "# grouped_model_layer.W_mem.data = torch.zeros_like(grouped_model_layer.W_mem.data)\n",
    "# grouped_model_layer.z.data = torch.zeros_like(grouped_model_layer.z.data)"
   ]
  },
  {
   "cell_type": "code",
   "execution_count": 30,
   "id": "62045d4a",
   "metadata": {},
   "outputs": [],
   "source": [
    "# layer_inp = torch.rand((len(source_model.model.layers), 48, 2048), dtype=dtype, device=\"cuda\").contiguous()"
   ]
  },
  {
   "cell_type": "code",
   "execution_count": 31,
   "id": "aa51ea38",
   "metadata": {},
   "outputs": [],
   "source": [
    "# layer_inp.shape, layer_inp[:, :, 0].shape"
   ]
  },
  {
   "cell_type": "code",
   "execution_count": 32,
   "id": "a92703b8",
   "metadata": {},
   "outputs": [],
   "source": [
    "l_id = 10"
   ]
  },
  {
   "cell_type": "code",
   "execution_count": 33,
   "id": "83815977",
   "metadata": {},
   "outputs": [],
   "source": [
    "# layer_inp = torch.zeros_like(layer_inp)\n",
    "# layer_inp[0] = armt_model.memory_cell.model.model.layers[0]._last_input"
   ]
  },
  {
   "cell_type": "code",
   "execution_count": 34,
   "id": "908565ce",
   "metadata": {},
   "outputs": [],
   "source": [
    "# last_kwargs = armt_model.memory_cell.model.model.layers[0]._last_kwargs"
   ]
  },
  {
   "cell_type": "code",
   "execution_count": 35,
   "id": "5a2db786",
   "metadata": {},
   "outputs": [],
   "source": [
    "l_id = 0"
   ]
  },
  {
   "cell_type": "code",
   "execution_count": 36,
   "id": "34b75f42",
   "metadata": {},
   "outputs": [
    {
     "name": "stdout",
     "output_type": "stream",
     "text": [
      "CPU times: user 105 μs, sys: 7 μs, total: 112 μs\n",
      "Wall time: 109 μs\n"
     ]
    }
   ],
   "source": [
    "%%time\n",
    "# armt_model.memory_cell.zero_mem()\n",
    "# armt_model.memory_cell.model.model.layers[l_id].W_mem.data = grouped_model_layer.W_mem.data[l_id:l_id+1].clone()\n",
    "# armt_model.memory_cell.model.model.layers[l_id].z.data = grouped_model_layer.z.data[l_id:l_id+1].clone()\n",
    "# o0 = armt_model.memory_cell.model.model.layers[l_id](\n",
    "#     layer_inp, position_ids=layer_inp[:, :, 0]\n",
    "# )\n",
    "# o0 = armt_model.memory_cell.model.model.layers[l_id](\n",
    "#     layer_inp, **last_kwargs\n",
    "# )\n",
    "# o0 = armt_model.memory_cell.model.model.layers[l_id].associate(\n",
    "#     layer_inp\n",
    "# )\n",
    "\n",
    "torch.cuda.synchronize()"
   ]
  },
  {
   "cell_type": "code",
   "execution_count": null,
   "id": "05df0597",
   "metadata": {},
   "outputs": [],
   "source": []
  },
  {
   "cell_type": "code",
   "execution_count": null,
   "id": "3c086803",
   "metadata": {},
   "outputs": [],
   "source": []
  },
  {
   "cell_type": "code",
   "execution_count": 37,
   "id": "a8c71872",
   "metadata": {},
   "outputs": [
    {
     "name": "stdout",
     "output_type": "stream",
     "text": [
      "CPU times: user 96 μs, sys: 6 μs, total: 102 μs\n",
      "Wall time: 103 μs\n"
     ]
    }
   ],
   "source": [
    "%%time\n",
    "# armt_grouped_model.memory_cell.zero_mem()\n",
    "# o1 = grouped_model_layer.forward(\n",
    "#     layer_inp, position_ids=layer_inp[:, :, 0]\n",
    "# )\n",
    "# o1 = grouped_model_layer.forward(\n",
    "#     layer_inp, **last_kwargs\n",
    "# )\n",
    "\n",
    "# o1 = grouped_model_layer.associate(\n",
    "#     layer_inp\n",
    "# )\n",
    "\n",
    "\n",
    "torch.cuda.synchronize()"
   ]
  },
  {
   "cell_type": "code",
   "execution_count": null,
   "id": "74f1f08e-1f17-45c4-abfb-ca3f3ab2b38e",
   "metadata": {},
   "outputs": [],
   "source": []
  },
  {
   "cell_type": "code",
   "execution_count": 38,
   "id": "1eec2cb2-b98d-48f9-81dd-31be3a85eae9",
   "metadata": {},
   "outputs": [],
   "source": [
    "# o0[0].shape, o1[0].shape"
   ]
  },
  {
   "cell_type": "code",
   "execution_count": 39,
   "id": "6e584736",
   "metadata": {},
   "outputs": [],
   "source": [
    "# o0[l_id] - o1[l_id], torch.norm(o0[l_id] - o1[l_id])/torch.norm(o0[l_id])"
   ]
  },
  {
   "cell_type": "code",
   "execution_count": 40,
   "id": "ff5d69cb-3a76-42b9-bd49-f95099425375",
   "metadata": {},
   "outputs": [],
   "source": [
    "# o0[0][l_id] - o1[0][l_id], torch.norm(o0[0][l_id] - o1[0][l_id])/torch.norm(o0[0][l_id])"
   ]
  },
  {
   "cell_type": "code",
   "execution_count": 41,
   "id": "a1904c53",
   "metadata": {},
   "outputs": [],
   "source": [
    "# o0[l_id]"
   ]
  },
  {
   "cell_type": "code",
   "execution_count": 42,
   "id": "310de9e9-5482-45b2-8671-b6983cfba5ff",
   "metadata": {},
   "outputs": [],
   "source": [
    "# o1[l_id]"
   ]
  },
  {
   "cell_type": "code",
   "execution_count": 43,
   "id": "aee10575-5907-4eca-a868-f2f63b9fc0ca",
   "metadata": {},
   "outputs": [],
   "source": [
    "# source_model.get_input_embeddings().weight.data.std()"
   ]
  },
  {
   "cell_type": "code",
   "execution_count": 44,
   "id": "8336b84c-8e29-473f-ab32-e3de447ea03e",
   "metadata": {},
   "outputs": [],
   "source": [
    "armt_grouped_model_layers = armt_grouped_model.memory_cell.model.model.layers\n",
    "armt_grouped_model.out_norm = armt_grouped_model.memory_cell.model.model.norm\n",
    "armt_grouped_model.memory_cell.model.model.norm = torch.nn.Identity()"
   ]
  },
  {
   "cell_type": "code",
   "execution_count": null,
   "id": "b7c34087",
   "metadata": {},
   "outputs": [],
   "source": []
  },
  {
   "cell_type": "code",
   "execution_count": 45,
   "id": "1c483667",
   "metadata": {},
   "outputs": [],
   "source": [
    "armt_grouped_model.memory_cell.model.model.layers = torch.nn.ModuleList(\n",
    "    [grouped_model_layer]\n",
    ")\n"
   ]
  },
  {
   "cell_type": "code",
   "execution_count": 46,
   "id": "266f53fa",
   "metadata": {},
   "outputs": [],
   "source": [
    "# seg_kwargs = armt_grouped_model.memory_cell.process_input(torch.tensor([[1,2,3,4]], device=\"cuda\", dtype=torch.long))"
   ]
  },
  {
   "cell_type": "code",
   "execution_count": 47,
   "id": "26d4946f",
   "metadata": {},
   "outputs": [],
   "source": [
    "# hid_inp = seg_kwargs['inputs_embeds']"
   ]
  },
  {
   "cell_type": "code",
   "execution_count": 48,
   "id": "d308989b",
   "metadata": {},
   "outputs": [],
   "source": [
    "# armt_grouped_model.memory_cell.model.model.forward([1,2,3,4])"
   ]
  },
  {
   "cell_type": "code",
   "execution_count": 49,
   "id": "f4d16ac7-93ba-4d64-b13e-75366ee06a92",
   "metadata": {},
   "outputs": [
    {
     "data": {
      "text/plain": [
       "AssociativeRecurrentWrapper(\n",
       "  (memory_cell): AssociativeMemoryCell(\n",
       "    (model): LlamaForCausalLM(\n",
       "      (model): LlamaModel(\n",
       "        (embed_tokens): Embedding(128256, 2048)\n",
       "        (layers): ModuleList(\n",
       "          (0): AssociativeLayerWrapper(\n",
       "            (W_mq): Linear(in_features=2048, out_features=64, bias=False)\n",
       "            (W_mk): Linear(in_features=2048, out_features=64, bias=False)\n",
       "            (W_mv): Linear(in_features=2048, out_features=2048, bias=False)\n",
       "            (W_mb): Linear(in_features=2048, out_features=1, bias=True)\n",
       "            (layer): LlamaDecoderLayer(\n",
       "              (self_attn): LlamaSdpaAttention(\n",
       "                (q_proj): Linear(in_features=2048, out_features=2048, bias=False)\n",
       "                (k_proj): Linear(in_features=2048, out_features=512, bias=False)\n",
       "                (v_proj): Linear(in_features=2048, out_features=512, bias=False)\n",
       "                (o_proj): Linear(in_features=2048, out_features=2048, bias=False)\n",
       "                (rotary_emb): LlamaRotaryEmbedding()\n",
       "              )\n",
       "              (mlp): LlamaMLP(\n",
       "                (gate_proj): Linear(in_features=2048, out_features=8192, bias=False)\n",
       "                (up_proj): Linear(in_features=2048, out_features=8192, bias=False)\n",
       "                (down_proj): Linear(in_features=8192, out_features=2048, bias=False)\n",
       "                (act_fn): SiLU()\n",
       "              )\n",
       "              (input_layernorm): LlamaRMSNorm((16, 1, 2048), eps=1e-05)\n",
       "              (post_attention_layernorm): LlamaRMSNorm((16, 1, 2048), eps=1e-05)\n",
       "            )\n",
       "          )\n",
       "        )\n",
       "        (norm): Identity()\n",
       "        (rotary_emb): LlamaRotaryEmbedding()\n",
       "      )\n",
       "      (lm_head): Identity()\n",
       "    )\n",
       "    (W_mq): ModuleList()\n",
       "    (layers): ModuleList(\n",
       "      (0): AssociativeLayerWrapper(\n",
       "        (W_mq): Linear(in_features=2048, out_features=64, bias=False)\n",
       "        (W_mk): Linear(in_features=2048, out_features=64, bias=False)\n",
       "        (W_mv): Linear(in_features=2048, out_features=2048, bias=False)\n",
       "        (W_mb): Linear(in_features=2048, out_features=1, bias=True)\n",
       "        (layer): LlamaDecoderLayer(\n",
       "          (self_attn): LlamaSdpaAttention(\n",
       "            (q_proj): Linear(in_features=2048, out_features=2048, bias=False)\n",
       "            (k_proj): Linear(in_features=2048, out_features=512, bias=False)\n",
       "            (v_proj): Linear(in_features=2048, out_features=512, bias=False)\n",
       "            (o_proj): Linear(in_features=2048, out_features=2048, bias=False)\n",
       "            (rotary_emb): LlamaRotaryEmbedding()\n",
       "          )\n",
       "          (mlp): LlamaMLP(\n",
       "            (gate_proj): Linear(in_features=2048, out_features=8192, bias=False)\n",
       "            (up_proj): Linear(in_features=2048, out_features=8192, bias=False)\n",
       "            (down_proj): Linear(in_features=8192, out_features=2048, bias=False)\n",
       "            (act_fn): SiLU()\n",
       "          )\n",
       "          (input_layernorm): LlamaRMSNorm((16, 1, 2048), eps=1e-05)\n",
       "          (post_attention_layernorm): LlamaRMSNorm((16, 1, 2048), eps=1e-05)\n",
       "        )\n",
       "      )\n",
       "      (1-15): 15 x AssociativeLayerWrapper(\n",
       "        (W_mq): Linear(in_features=2048, out_features=64, bias=False)\n",
       "        (W_mk): Linear(in_features=2048, out_features=64, bias=False)\n",
       "        (W_mv): Linear(in_features=2048, out_features=2048, bias=False)\n",
       "        (W_mb): Linear(in_features=2048, out_features=1, bias=True)\n",
       "        (layer): LlamaDecoderLayer(\n",
       "          (self_attn): LlamaSdpaAttention(\n",
       "            (q_proj): Linear(in_features=2048, out_features=2048, bias=False)\n",
       "            (k_proj): Linear(in_features=2048, out_features=512, bias=False)\n",
       "            (v_proj): Linear(in_features=2048, out_features=512, bias=False)\n",
       "            (o_proj): Linear(in_features=2048, out_features=2048, bias=False)\n",
       "            (rotary_emb): LlamaRotaryEmbedding()\n",
       "          )\n",
       "          (mlp): LlamaMLP(\n",
       "            (gate_proj): Linear(in_features=2048, out_features=8192, bias=False)\n",
       "            (up_proj): Linear(in_features=2048, out_features=8192, bias=False)\n",
       "            (down_proj): Linear(in_features=8192, out_features=2048, bias=False)\n",
       "            (act_fn): SiLU()\n",
       "          )\n",
       "          (input_layernorm): LlamaRMSNorm((2048,), eps=1e-05)\n",
       "          (post_attention_layernorm): LlamaRMSNorm((2048,), eps=1e-05)\n",
       "        )\n",
       "      )\n",
       "    )\n",
       "  )\n",
       "  (out_norm): LlamaRMSNorm((2048,), eps=1e-05)\n",
       ")"
      ]
     },
     "execution_count": 49,
     "metadata": {},
     "output_type": "execute_result"
    }
   ],
   "source": [
    "armt_grouped_model"
   ]
  },
  {
   "cell_type": "code",
   "execution_count": 50,
   "id": "b4743a1a",
   "metadata": {},
   "outputs": [
    {
     "data": {
      "text/plain": [
       "AssociativeRecurrentWrapper(\n",
       "  (memory_cell): AssociativeMemoryCell(\n",
       "    (model): LlamaForCausalLM(\n",
       "      (model): LlamaModel(\n",
       "        (embed_tokens): Embedding(128256, 2048)\n",
       "        (layers): ModuleList(\n",
       "          (0-15): 16 x AssociativeLayerWrapper(\n",
       "            (W_mq): Linear(in_features=2048, out_features=64, bias=False)\n",
       "            (W_mk): Linear(in_features=2048, out_features=64, bias=False)\n",
       "            (W_mv): Linear(in_features=2048, out_features=2048, bias=False)\n",
       "            (W_mb): Linear(in_features=2048, out_features=1, bias=True)\n",
       "            (layer): LlamaDecoderLayer(\n",
       "              (self_attn): LlamaSdpaAttention(\n",
       "                (q_proj): Linear(in_features=2048, out_features=2048, bias=False)\n",
       "                (k_proj): Linear(in_features=2048, out_features=512, bias=False)\n",
       "                (v_proj): Linear(in_features=2048, out_features=512, bias=False)\n",
       "                (o_proj): Linear(in_features=2048, out_features=2048, bias=False)\n",
       "                (rotary_emb): LlamaRotaryEmbedding()\n",
       "              )\n",
       "              (mlp): LlamaMLP(\n",
       "                (gate_proj): Linear(in_features=2048, out_features=8192, bias=False)\n",
       "                (up_proj): Linear(in_features=2048, out_features=8192, bias=False)\n",
       "                (down_proj): Linear(in_features=8192, out_features=2048, bias=False)\n",
       "                (act_fn): SiLU()\n",
       "              )\n",
       "              (input_layernorm): LlamaRMSNorm((2048,), eps=1e-05)\n",
       "              (post_attention_layernorm): LlamaRMSNorm((2048,), eps=1e-05)\n",
       "            )\n",
       "          )\n",
       "        )\n",
       "        (norm): LlamaRMSNorm((2048,), eps=1e-05)\n",
       "        (rotary_emb): LlamaRotaryEmbedding()\n",
       "      )\n",
       "      (lm_head): Identity()\n",
       "    )\n",
       "    (W_mq): ModuleList()\n",
       "    (layers): ModuleList(\n",
       "      (0-15): 16 x AssociativeLayerWrapper(\n",
       "        (W_mq): Linear(in_features=2048, out_features=64, bias=False)\n",
       "        (W_mk): Linear(in_features=2048, out_features=64, bias=False)\n",
       "        (W_mv): Linear(in_features=2048, out_features=2048, bias=False)\n",
       "        (W_mb): Linear(in_features=2048, out_features=1, bias=True)\n",
       "        (layer): LlamaDecoderLayer(\n",
       "          (self_attn): LlamaSdpaAttention(\n",
       "            (q_proj): Linear(in_features=2048, out_features=2048, bias=False)\n",
       "            (k_proj): Linear(in_features=2048, out_features=512, bias=False)\n",
       "            (v_proj): Linear(in_features=2048, out_features=512, bias=False)\n",
       "            (o_proj): Linear(in_features=2048, out_features=2048, bias=False)\n",
       "            (rotary_emb): LlamaRotaryEmbedding()\n",
       "          )\n",
       "          (mlp): LlamaMLP(\n",
       "            (gate_proj): Linear(in_features=2048, out_features=8192, bias=False)\n",
       "            (up_proj): Linear(in_features=2048, out_features=8192, bias=False)\n",
       "            (down_proj): Linear(in_features=8192, out_features=2048, bias=False)\n",
       "            (act_fn): SiLU()\n",
       "          )\n",
       "          (input_layernorm): LlamaRMSNorm((2048,), eps=1e-05)\n",
       "          (post_attention_layernorm): LlamaRMSNorm((2048,), eps=1e-05)\n",
       "        )\n",
       "      )\n",
       "    )\n",
       "  )\n",
       ")"
      ]
     },
     "execution_count": 50,
     "metadata": {},
     "output_type": "execute_result"
    }
   ],
   "source": [
    "armt_model"
   ]
  },
  {
   "cell_type": "markdown",
   "id": "60fde1b6",
   "metadata": {},
   "source": [
    "## With batcher"
   ]
  },
  {
   "cell_type": "code",
   "execution_count": 51,
   "id": "58cd229a",
   "metadata": {},
   "outputs": [],
   "source": [
    "# from grouped_impl import GroupedBatcher\n",
    "\n",
    "\n",
    "class GroupedBatcher:\n",
    "    def __init__(self, armt_model, n_layers, seg_size, hid_dim, pos_embed_dim):\n",
    "        self.armt_model = armt_model\n",
    "        self.segment_storage = []\n",
    "        self.n_layers = n_layers\n",
    "        self.seg_size = seg_size\n",
    "        self.hid_dim = hid_dim\n",
    "        self.pos_embed_dim = pos_embed_dim\n",
    "        self.cur_cont = 0\n",
    "\n",
    "        self.out_storage = {}\n",
    "        \n",
    "    def init_batch(self, dtype=torch.bfloat16, device=\"cpu\"):\n",
    "        batch = torch.zeros((self.n_layers, self.seg_size, self.hid_dim), dtype=dtype, device=device)\n",
    "        # batch = torch.zeros((self.n_layers, self.seg_size), dtype=dtype, device=device)\n",
    "        segments_info = torch.full((self.n_layers,), -1, dtype=torch.int32, device=device)\n",
    "        # position_ids = torch.full((self.n_layers, self.seg_size), 0, dtype=torch.int32, device=device)\n",
    "        # positional_embeddings = (torch.zeros((self.n_layers, self.seg_size, self.pos_embed_dim), dtype=dtype, device=device),\n",
    "        #                         torch.zeros((self.n_layers, self.seg_size, self.pos_embed_dim), dtype=dtype, device=device))\n",
    "        \n",
    "        position_ids, positional_embeddings = None, None\n",
    "        \n",
    "        return batch, segments_info, position_ids, positional_embeddings\n",
    "        \n",
    "    def push(self, batch):\n",
    "        self.segment_storage.append(\n",
    "            [\n",
    "            self.cur_cont,\n",
    "            batch\n",
    "            ]\n",
    "        )\n",
    "        segm_id = self.cur_cont\n",
    "        self.cur_cont += 1\n",
    "\n",
    "        return segm_id\n",
    "        \n",
    "    def next(self, batch, segments_info, position_ids, positional_embeddings):     \n",
    "        batch = torch.roll(batch, 1, 0)\n",
    "        prev_segments_info = segments_info\n",
    "        segments_info = torch.roll(segments_info, 1, 0)\n",
    "        # position_ids = torch.roll(position_ids, 1, 0)\n",
    "        # positional_embeddings = (torch.roll(positional_embeddings[0], 1, 0), torch.roll(positional_embeddings[1], 1, 0))\n",
    "        \n",
    "        if not self.segment_storage:\n",
    "            batch[0] = 0\n",
    "            segments_info[0] = -1\n",
    "            # position_ids[0] = 0\n",
    "            # positional_embeddings[0][0] = 0\n",
    "            # positional_embeddings[1][0] = 0\n",
    "            need_to_zero_mem = prev_segments_info != segments_info\n",
    "            return batch, segments_info, position_ids, positional_embeddings, need_to_zero_mem\n",
    "        \n",
    "        segments_info[0] = self.segment_storage[0][0]\n",
    "        need_to_zero_mem = prev_segments_info != segments_info\n",
    "        \n",
    "        processed_input = self.armt_model.memory_cell.process_input(**self.segment_storage[0][1][0])\n",
    "        batch[0] = processed_input[\"inputs_embeds\"]\n",
    "\n",
    "        self.segment_storage[0][1] = self.segment_storage[0][1][1:]\n",
    "        \n",
    "        if len(self.segment_storage[0][1]) == 0:\n",
    "            self.segment_storage = self.segment_storage[1:]\n",
    "        \n",
    "        return batch, segments_info, position_ids, positional_embeddings, need_to_zero_mem\n",
    "    \n",
    "    def push_out(self, batch_out, segments_info):\n",
    "        # print(\"push out segments_info\", segments_info)        \n",
    "        last_segm_info = segments_info[-1].item()\n",
    "        if last_segm_info != -1:\n",
    "            batch_out = self.armt_model.memory_cell.process_output(\n",
    "                    batch_out\n",
    "                    , None, None\n",
    "            )\n",
    "            \n",
    "            if last_segm_info not in self.out_storage:\n",
    "                self.out_storage[last_segm_info] = []\n",
    "\n",
    "            # self.out_storage[last_segm_info].append(batch_out[-1:])\n",
    "            self.out_storage[last_segm_info].append(batch_out)\n",
    "            \n",
    "            \n",
    "    def get_context_output(self, segm_id):\n",
    "        segm_out = self.out_storage[segm_id]\n",
    "        del self.out_storage[segm_id]\n",
    "        return segm_out\n",
    "    "
   ]
  },
  {
   "cell_type": "code",
   "execution_count": 52,
   "id": "374282d7",
   "metadata": {},
   "outputs": [],
   "source": [
    "import torch.nn as nn\n",
    "class ArmtGroupedExecutor(nn.Module):\n",
    "    def __init__(self, armt_model, grouped_model_layer, batcher):\n",
    "        super().__init__()\n",
    "        self.armt_model = armt_model\n",
    "        self.grouped_model_layer = grouped_model_layer\n",
    "        self.batcher = batcher\n",
    "        \n",
    "    def forward(self, input_ids):\n",
    "        segmented_input = armt_model.segment(\n",
    "            input_ids=input_ids,\n",
    "        )\n",
    "\n",
    "        # processed_segments = [armt_model.memory_cell.process_input(**s_i) for s_i in segmented_input]\n",
    "        processed_segments = segmented_input\n",
    "        out_seg_id = self.batcher.push(processed_segments)\n",
    "        \n",
    "        batch, segments_info, batch_position_ids, batch_position_embeddings = self.batcher.init_batch(\n",
    "            # dtype=processed_segments[0]['inputs_embeds'].dtype, device=processed_segments[0]['inputs_embeds'].device\n",
    "            dtype=torch.get_default_dtype(), device=\"cuda\"\n",
    "        )\n",
    "        \n",
    "        is_first = True\n",
    "\n",
    "        while is_first or (segments_info != -1).any():\n",
    "            assert batch is not None\n",
    "            \n",
    "            if is_first:\n",
    "                is_first = False\n",
    "            \n",
    "            batch, segments_info, batch_position_ids, batch_position_embeddings, need_to_zero_mem = self.batcher.next(\n",
    "                batch, segments_info, batch_position_ids, batch_position_embeddings\n",
    "            )\n",
    "            if (segments_info == -1).all():\n",
    "                break\n",
    "            \n",
    "            # print(\"batch = \", batch)\n",
    "            \n",
    "            self.armt_model._first_seg_mask = need_to_zero_mem\n",
    "            \n",
    "            # need_to_zero_mem = need_to_zero_mem.to('cuda')\n",
    "\n",
    "            self.grouped_model_layer.first_seg = False\n",
    "            # for i in range(self.grouped_model_layer.W_mem.data.shape[0]):\n",
    "            #     if need_to_zero_mem[i].item():\n",
    "            #         # print(\"ZEROING MEM: \", i)\n",
    "            #         self.grouped_model_layer.W_mem.data[i].fill_(0)\n",
    "            #         self.grouped_model_layer.z.data[i].fill_(0)\n",
    "            #         # layer.zero_mem()\n",
    "            self.grouped_model_layer.W_mem.data[need_to_zero_mem].fill_(0)\n",
    "            self.grouped_model_layer.z.data[need_to_zero_mem].fill_(0)\n",
    "            \n",
    "            assoc_batch = self.grouped_model_layer.associate(batch)\n",
    "            # for i in range(self.grouped_model_layer.W_mem.data.shape[0]):\n",
    "            #     if not need_to_zero_mem[i].item():\n",
    "            #         batch[i] += assoc_batch[i]\n",
    "            batch[~need_to_zero_mem] += assoc_batch[~need_to_zero_mem]\n",
    "            \n",
    "            # out = self.armt_model.memory_cell.model(inputs_embeds=batch)\n",
    "            out = self.armt_model.memory_cell.model.model(inputs_embeds=batch, use_cache=False)\n",
    "            \n",
    "            \n",
    "            # print(\"LAYER LAST: \", self.armt_model.memory_cell.model.model.layers[0]._last_input)\n",
    "            # print(\"LAYER LAST: \", out[0])\n",
    "            if segments_info[-1].item() != -1:\n",
    "                out_normed = self.armt_model.out_norm(out[0][-1:])\n",
    "                lmhead_out = self.armt_model.memory_cell.model.lm_head(out_normed)\n",
    "                # print(\"LMHEAD: \",lmhead_out)\n",
    "                out_logits = transformers.modeling_outputs.CausalLMOutputWithPast(\n",
    "                    logits=lmhead_out,\n",
    "                )\n",
    "            else:\n",
    "                out_logits = None\n",
    "            # print(\"CMP: \",batch.shape, out[0].shape, batch.dtype, out[0].dtype, batch, out[0])\n",
    "            batch = out[0]\n",
    "            # self.batcher.push_out(out.logits[-1:], segments_info)\n",
    "            self.batcher.push_out(out_logits, segments_info)\n",
    "            \n",
    "        segm_out_logits = self.batcher.get_context_output(out_seg_id)\n",
    "        # segm_outs = [transformers.modeling_outputs.CausalLMOutputWithPast(\n",
    "        #     logits=sol\n",
    "        # ) for sol in segm_out_logits]\n",
    "        # segm_outs = segm_out_logits\n",
    "        \n",
    "        # out = []\n",
    "        # for sol in segm_outs:\n",
    "        #     # out.append(self.armt_model.memory_cell.process_output(sol, None, None))\n",
    "        #     out.append(sol)\n",
    "        # out = self.armt_model.process_outputs(out)\n",
    "        \n",
    "        out = transformers.modeling_outputs.CausalLMOutputWithPast(\n",
    "            logits=torch.cat([sol.logits for sol in segm_out_logits], dim=1),\n",
    "        )\n",
    "            \n",
    "        return out"
   ]
  },
  {
   "cell_type": "code",
   "execution_count": 53,
   "id": "3c52d8b1",
   "metadata": {},
   "outputs": [
    {
     "data": {
      "text/plain": [
       "''"
      ]
     },
     "execution_count": 53,
     "metadata": {},
     "output_type": "execute_result"
    }
   ],
   "source": [
    "# armt_model.memory_cell.generate_mode(True)\n",
    "# armt_grouped_model.memory_cell.generate_mode(True)\n",
    "\n",
    "armt_model.memory_cell.generate_mode(False)\n",
    "armt_grouped_model.memory_cell.generate_mode(False)\n",
    "\n",
    "armt_grouped_model._grouped_execution = True\n",
    "armt_grouped_model._skip_associating = True\n",
    "\n",
    "armt_model.eval()\n",
    "armt_grouped_model.eval()\n",
    ";"
   ]
  },
  {
   "cell_type": "code",
   "execution_count": 54,
   "id": "04112a5e",
   "metadata": {},
   "outputs": [],
   "source": [
    "batcher = GroupedBatcher(\n",
    "    armt_model=armt_grouped_model,\n",
    "    n_layers=len(armt_model.memory_cell.model.model.layers), seg_size=segment_size+num_mem_tokens, hid_dim=2048, pos_embed_dim=2048\n",
    ")\n",
    "ge = ArmtGroupedExecutor(armt_grouped_model, grouped_model_layer, batcher)"
   ]
  },
  {
   "cell_type": "code",
   "execution_count": 55,
   "id": "47429de3",
   "metadata": {},
   "outputs": [],
   "source": [
    "not_random_text = '''\n",
    "Tom and Lily were twins who liked to play together. They had many toys, but their favorite was a big puzzle with many pieces. They liked to unite the pieces and make a picture of a farm with animals and plants.\n",
    "\n",
    "One day, their mom and dad said they were going to visit their aunt and uncle, who lived far away. They said they would bring them a gift when they came back. Tom and Lily were excited and wondered what the gift would be.\n",
    "\n",
    "They packed their bags and got in the car. They drove for a long time, and Tom and Lily got bored. They asked their mom and dad when they would arrive, but they said it was still far. They said they could sing songs or play games to pass the time.\n",
    "\n",
    "Tom and Lily tried to sing songs, but they did not know many. They tried to play games, but they could not agree on the rules. They started to argue and fight. They pulled each other's hair and kicked each other's legs. They made a lot of noise and made their mom and dad angry.\n",
    "\n",
    "\"Stop it, you two!\" their dad said. \"You are being very naughty and rude. You should be nice to each other and share your toys. You are twins, you should unite, not fight.\"\n",
    "\n",
    "\"But he started it!\" Tom said.\n",
    "\n",
    "\"No, she started it!\" Lily said.\n",
    "\n",
    "Their mom sighed and said, \"It does not matter who started it. You should end it. You are making us very tired and sad. We want to have a good time with your aunt and uncle, not a bad time. They are very kind and fun. They have a big house with a garden and a swing. They also have a dog and a cat. You will like them a lot.\"\n",
    "\n",
    "Tom and Lily looked at each other and felt sorry. They did not want to make their mom and dad tired and sad. They did not want to miss the fun with their aunt and uncle. They did not want to fight anymore. They said they were sorry and hugged each other.\n",
    "\n",
    "Their mom and dad smiled and said, \"That's better. We are glad you are friends again. We love you very much. Now, let's have some snacks and enjoy the ride. We are almost there.\"\n",
    "\n",
    "They gave them some cookies and juice and turned on the radio. They sang along to the songs and laughed at the jokes. They had a good time and forgot their fight.\n",
    "\n",
    "When they arrived at their aunt and uncle's house, they were welcomed with hugs and kisses. They saw the big house, the garden, the swing, the dog and the cat. They were amazed and happy. They ran to play with the animals and explore the place.\n",
    "\n",
    "Their aunt and uncle said they had a surprise for them. They brought them a big box wrapped in colorful paper. They said it was their gift. Tom and Lily opened it and gasped. It was a new puzzle, bigger and more beautiful than their old one. It had many pieces and made a picture of a castle with knights and princesses.\n",
    "\n",
    "They thanked their aunt and uncle and hugged them. They said they loved the puzzle and wanted to unite it right away. They asked their mom and dad if they could help them. They said yes and joined them on the floor.\n",
    "\n",
    "They had a lot of fun uniting the puzzle and making the picture. They worked together and helped each other. They were proud of their work and showed it to their aunt and uncle. They said it was very nice and praised them.\n",
    "\n",
    "They said they had another surprise for them. They said they had made a delicious dinner and invited them to the table. They said they had cooked their favorite food and baked a cake. They also said they had a special drink for their mom and dad. They said it was called wine and it was made from grapes. They said it was for grown-ups only and it made them happy and relaxed.\n",
    "\n",
    "They went to the table and ate the food and the cake. They said it was very yummy and thanked their aunt and uncle. They saw their mom and dad drink the wine and smile and talk. They said they were very happy and relaxed too.\n",
    "\n",
    "They said they had one more surprise for them. They said they had prepared a cozy room for them to sleep. They said they had a big bed and soft pillows and blankets. They said they had a night light and a story book. They said they would read them a story and tuck them in.\n",
    "\n",
    "They went to the room and saw the bed and the pillows and the blankets. They said it was very cozy and thanked their aunt and uncle. They got in the bed and listened to the story. They said it was very interesting and asked for another one. They said they were not sleepy yet.\n",
    "\n",
    "Their aunt and uncle said they had read enough stories and it was time to sleep. They said they had to wake up early and go back home. They\n",
    "'''"
   ]
  },
  {
   "cell_type": "code",
   "execution_count": 56,
   "id": "96441b89",
   "metadata": {},
   "outputs": [],
   "source": [
    "input_ids = tokenizer.encode(not_random_text, return_tensors=\"pt\").to(\"cuda\")"
   ]
  },
  {
   "cell_type": "code",
   "execution_count": 94,
   "id": "0267f88c",
   "metadata": {},
   "outputs": [],
   "source": [
    "# seq_len = 10*2*256//32*32\n",
    "# seq_len = 2*256//32*32\n",
    "\n",
    "seq_len = 32*1024*4//16\n",
    "# seq_len = 4096*4\n",
    "# seq_len = input_ids.shape[1]//32*32\n",
    "\n",
    "input_ids=torch.randint(0, 10000, (1, seq_len), dtype=torch.long, device=\"cuda\")\n",
    "# input_ids = input_ids[:, :seq_len]\n",
    "\n",
    "# segmented_input = armt_model.segment(\n",
    "#     input_ids=input_ids,\n",
    "#     # other can be None\n",
    "# )"
   ]
  },
  {
   "cell_type": "code",
   "execution_count": 95,
   "id": "eeb18b2e",
   "metadata": {},
   "outputs": [
    {
     "data": {
      "text/plain": [
       "8192"
      ]
     },
     "execution_count": 95,
     "metadata": {},
     "output_type": "execute_result"
    }
   ],
   "source": [
    "seq_len"
   ]
  },
  {
   "cell_type": "code",
   "execution_count": 96,
   "id": "b4025d94",
   "metadata": {},
   "outputs": [],
   "source": [
    "# len(segmented_input), seq_len/len(segmented_input)"
   ]
  },
  {
   "cell_type": "code",
   "execution_count": 97,
   "id": "327f20b5",
   "metadata": {},
   "outputs": [
    {
     "data": {
      "text/plain": [
       "torch.Size([16, 384, 2048])"
      ]
     },
     "execution_count": 97,
     "metadata": {},
     "output_type": "execute_result"
    }
   ],
   "source": [
    "grouped_model_layer.W_mem.shape"
   ]
  },
  {
   "cell_type": "code",
   "execution_count": 98,
   "id": "910a796e",
   "metadata": {},
   "outputs": [],
   "source": [
    "# del ge\n",
    "# del o0\n",
    "# del o1\n",
    "# del batcher\n",
    "torch.cuda.empty_cache()\n"
   ]
  },
  {
   "cell_type": "code",
   "execution_count": 99,
   "id": "95ca281c",
   "metadata": {},
   "outputs": [
    {
     "name": "stdout",
     "output_type": "stream",
     "text": [
      "595 ms ± 313 μs per loop (mean ± std. dev. of 7 runs, 1 loop each)\n"
     ]
    }
   ],
   "source": [
    "%%timeit\n",
    "armt_model.eval()\n",
    "with torch.no_grad():\n",
    "    o0 = ge.forward(input_ids)\n",
    "    \n",
    "torch.cuda.synchronize()"
   ]
  },
  {
   "cell_type": "markdown",
   "id": "7ad68b5f",
   "metadata": {},
   "source": []
  },
  {
   "cell_type": "code",
   "execution_count": 100,
   "id": "01b9e2be",
   "metadata": {},
   "outputs": [
    {
     "name": "stdout",
     "output_type": "stream",
     "text": [
      "519 ms ± 1.02 ms per loop (mean ± std. dev. of 7 runs, 1 loop each)\n"
     ]
    }
   ],
   "source": [
    "%%timeit\n",
    "with torch.no_grad():\n",
    "    armt_model.memory_cell.zero_mem()\n",
    "    o1 = armt_model.forward(input_ids)\n",
    "\n",
    "torch.cuda.synchronize()"
   ]
  },
  {
   "cell_type": "code",
   "execution_count": 280,
   "id": "84cedbac",
   "metadata": {},
   "outputs": [],
   "source": [
    "# grouped_model_layer.W_mem.data, grouped_model_layer.z.data"
   ]
  },
  {
   "cell_type": "code",
   "execution_count": 281,
   "id": "5cb2d535",
   "metadata": {},
   "outputs": [],
   "source": [
    "# grouped_model_layer._last_input"
   ]
  },
  {
   "cell_type": "code",
   "execution_count": 282,
   "id": "f411a54e",
   "metadata": {},
   "outputs": [],
   "source": [
    "# armt_grouped_model.memory_cell.model.model.layers[0]._last_input"
   ]
  },
  {
   "cell_type": "code",
   "execution_count": 283,
   "id": "173365c9",
   "metadata": {},
   "outputs": [],
   "source": [
    "# armt_model.memory_cell.model.model.layers[0]._last_associate"
   ]
  },
  {
   "cell_type": "code",
   "execution_count": 284,
   "id": "ca89e11b",
   "metadata": {},
   "outputs": [
    {
     "data": {
      "text/plain": [
       "tensor([[[-0.0148, -0.0510,  1.5078,  ...,  0.5312, -0.4727,  0.2715],\n",
       "         [-0.1309,  4.3125,  2.4219,  ..., -2.4531, -4.0312,  0.5938],\n",
       "         [-0.9219,  1.9531,  2.6406,  ...,  0.5117, -3.2188,  0.0776],\n",
       "         ...,\n",
       "         [-1.1172,  3.6875,  0.0400,  ..., -1.7422, -1.8125, -0.5312],\n",
       "         [-0.6406,  3.4688,  2.2188,  ..., -2.5000, -2.1406,  0.7773],\n",
       "         [-0.2949,  4.1250,  2.0312,  ..., -1.9844, -2.3281,  0.4785]]],\n",
       "       device='cuda:0')"
      ]
     },
     "execution_count": 284,
     "metadata": {},
     "output_type": "execute_result"
    }
   ],
   "source": [
    "o0.logits"
   ]
  },
  {
   "cell_type": "code",
   "execution_count": 285,
   "id": "5f539526",
   "metadata": {},
   "outputs": [
    {
     "data": {
      "text/plain": [
       "tensor([[[-0.0189, -0.0503,  1.5000,  ...,  0.5234, -0.4668,  0.2695],\n",
       "         [-0.1416,  4.3438,  2.4688,  ..., -2.4219, -4.0312,  0.5938],\n",
       "         [-0.7188,  1.4766,  2.8438,  ...,  0.4785, -3.6406, -0.2969],\n",
       "         ...,\n",
       "         [-1.1172,  3.6719,  0.0203,  ..., -1.7500, -1.8125, -0.5391],\n",
       "         [-0.6328,  3.4531,  2.2344,  ..., -2.5000, -2.1406,  0.7812],\n",
       "         [-0.3008,  4.0938,  2.0469,  ..., -2.0156, -2.3281,  0.4395]]],\n",
       "       device='cuda:0', dtype=torch.float32)"
      ]
     },
     "execution_count": 285,
     "metadata": {},
     "output_type": "execute_result"
    }
   ],
   "source": [
    "o1.logits"
   ]
  },
  {
   "cell_type": "code",
   "execution_count": 198,
   "id": "694b9b70",
   "metadata": {},
   "outputs": [
    {
     "data": {
      "text/plain": [
       "tensor(1.1928, device='cuda:0', dtype=torch.float32)"
      ]
     },
     "execution_count": 198,
     "metadata": {},
     "output_type": "execute_result"
    }
   ],
   "source": [
    "compare_first = 1000\n",
    "torch.norm(o1.logits[0, :compare_first] - o0.logits[0, :compare_first])/torch.norm(o1.logits[0, :compare_first])"
   ]
  },
  {
   "cell_type": "code",
   "execution_count": 67,
   "id": "9b870f28",
   "metadata": {},
   "outputs": [],
   "source": [
    "from torch.profiler import profile, record_function, ProfilerActivity\n",
    "\n",
    "with profile(activities=[ProfilerActivity.CPU, ProfilerActivity.CUDA],\n",
    "        profile_memory=True, record_shapes=True) as prof:\n",
    "            armt_model.eval()\n",
    "            with torch.no_grad():\n",
    "                o0 = ge.forward(input_ids)"
   ]
  },
  {
   "cell_type": "code",
   "execution_count": 79,
   "id": "1f48d4b9",
   "metadata": {},
   "outputs": [
    {
     "name": "stdout",
     "output_type": "stream",
     "text": [
      "-------------------------------------------------------  ------------  ------------  ------------  ------------  ------------  ------------  ------------  ------------  ------------  ------------  ------------  ------------  ------------  ------------  --------------------------------------------------------  \n",
      "                                                   Name    Self CPU %      Self CPU   CPU total %     CPU total  CPU time avg     Self CUDA   Self CUDA %    CUDA total  CUDA time avg       CPU Mem  Self CPU Mem      CUDA Mem  Self CUDA Mem    # of Calls                                              Input Shapes  \n",
      "-------------------------------------------------------  ------------  ------------  ------------  ------------  ------------  ------------  ------------  ------------  ------------  ------------  ------------  ------------  ------------  ------------  --------------------------------------------------------  \n",
      "                                             aten::roll         0.57%      28.416us         4.06%     200.773us     200.773us     138.848us        63.33%     138.848us     138.848us           0 b           0 b      34.00 Mb           0 b             1                                 [[16, 544, 2048], [], []]  \n",
      "void at::native::roll_cuda_kernel<c10::BFloat16>(c10...         0.00%       0.000us         0.00%       0.000us       0.000us     138.848us        63.33%     138.848us     138.848us           0 b           0 b           0 b           0 b             1                                                        []  \n",
      "                                            aten::zeros         3.12%     154.182us        68.67%       3.395ms     102.875us       0.000us         0.00%      30.400us       0.921us      24.01 Mb           0 b      34.00 Mb           0 b            33                                      [[], [], [], [], []]  \n",
      "                                            aten::zero_         0.13%       6.297us         2.47%     121.898us     121.898us       0.000us         0.00%      30.400us      30.400us           0 b           0 b           0 b           0 b             1                                         [[16, 544, 2048]]  \n",
      "                                            aten::fill_         0.57%      28.132us         2.34%     115.601us     115.601us      30.400us        13.87%      30.400us      30.400us           0 b           0 b           0 b           0 b             1                                     [[16, 544, 2048], []]  \n",
      "void at::native::vectorized_elementwise_kernel<4, at...         0.00%       0.000us         0.00%       0.000us       0.000us      30.400us        13.87%      30.400us      30.400us           0 b           0 b           0 b           0 b             1                                                        []  \n",
      "                                        aten::embedding         0.39%      19.514us         2.42%     119.812us     119.812us       0.000us         0.00%      18.144us      18.144us           0 b           0 b       2.00 Mb           0 b             1                    [[128256, 2048], [1, 512], [], [], []]  \n",
      "                                     aten::index_select         0.67%      33.266us         1.82%      89.741us      89.741us      18.144us         8.28%      18.144us      18.144us           0 b           0 b       2.00 Mb           0 b             1                               [[128256, 2048], [], [512]]  \n",
      "void at::native::(anonymous namespace)::indexSelectL...         0.00%       0.000us         0.00%       0.000us       0.000us      18.144us         8.28%      18.144us      18.144us           0 b           0 b           0 b           0 b             1                                                        []  \n",
      "                                              aten::cat         0.56%      27.579us         1.22%      60.368us      60.368us       7.904us         3.61%       7.904us       7.904us           0 b           0 b       2.50 Mb       2.50 Mb             1                                                  [[], []]  \n",
      "-------------------------------------------------------  ------------  ------------  ------------  ------------  ------------  ------------  ------------  ------------  ------------  ------------  ------------  ------------  ------------  ------------  --------------------------------------------------------  \n",
      "Self CPU time total: 4.944ms\n",
      "Self CUDA time total: 219.233us\n",
      "\n"
     ]
    }
   ],
   "source": [
    "print(prof.key_averages(group_by_input_shape=True).table(sort_by=\"cuda_time_total\", row_limit=10))"
   ]
  },
  {
   "cell_type": "code",
   "execution_count": 68,
   "id": "2b1de224",
   "metadata": {},
   "outputs": [
    {
     "name": "stdout",
     "output_type": "stream",
     "text": [
      "-------------------------------------------------------  ------------  ------------  ------------  ------------  ------------  ------------  ------------  ------------  ------------  ------------  ------------  ------------  ------------  ------------  --------------------------------------------------------------------------------  \n",
      "                                                   Name    Self CPU %      Self CPU   CPU total %     CPU total  CPU time avg     Self CUDA   Self CUDA %    CUDA total  CUDA time avg       CPU Mem  Self CPU Mem      CUDA Mem  Self CUDA Mem    # of Calls                                                                      Input Shapes  \n",
      "-------------------------------------------------------  ------------  ------------  ------------  ------------  ------------  ------------  ------------  ------------  ------------  ------------  ------------  ------------  ------------  ------------  --------------------------------------------------------------------------------  \n",
      "                                       cudaLaunchKernel        69.53%     263.408ms        69.53%     263.408ms      76.439us     309.149us         0.14%     309.149us       0.090us           0 b           0 b           0 b           0 b          3446                                                                                []  \n",
      "                                           aten::einsum         1.18%       4.481ms         6.12%      23.193ms     174.380us       0.000us         0.00%       5.924ms      44.541us           0 b           0 b       1.75 Gb     -40.88 Mb           133                                                                      [[], [], []]  \n",
      "                                           aten::matmul         0.18%     684.006us         3.62%      13.707ms      45.090us       0.000us         0.00%       1.940ms       6.380us           0 b           0 b     152.00 Kb           0 b           304                                                           [[32, 2048], [2048, 1]]  \n",
      "                                               aten::mm         1.19%       4.521ms         3.44%      13.023ms      42.840us       1.940ms         0.87%       1.940ms       6.380us           0 b           0 b     152.00 Kb     152.00 Kb           304                                                           [[32, 2048], [2048, 1]]  \n",
      "                                              aten::cat         1.06%       3.998ms         3.33%      12.630ms      50.118us       5.445ms         2.46%       5.445ms      21.609us           0 b           0 b       1.38 Gb       1.38 Gb           252                                                                          [[], []]  \n",
      "                                            aten::copy_         0.24%     921.190us         3.18%      12.058ms     105.771us       9.342ms         4.21%       9.342ms      81.951us           0 b           0 b           0 b           0 b           114                                            [[16, 544, 2048], [16, 544, 2048], []]  \n",
      "                                           aten::unbind         1.06%       4.029ms         2.91%      11.034ms      72.593us       0.000us         0.00%       0.000us       0.000us           0 b           0 b           0 b           0 b           152                                                             [[16, 544, 2048], []]  \n",
      "                                            aten::index         0.23%     872.286us         2.90%      10.974ms     288.795us       5.104ms         2.30%       5.436ms     143.051us           0 b           0 b       1.13 Gb       1.13 Gb            38                                                             [[16, 544, 2048], []]  \n",
      "                                          aten::nonzero         0.95%       3.614ms         2.77%      10.482ms     110.338us     807.426us         0.36%     807.426us       8.499us           0 b           0 b      47.50 Kb           0 b            95                                                                            [[16]]  \n",
      "                                               aten::to         0.05%     176.296us         2.76%      10.471ms      91.848us       0.000us         0.00%       7.604ms      66.700us           0 b           0 b       3.79 Gb           0 b           114                                                 [[16, 544, 2048], [], [], [], []]  \n",
      "-------------------------------------------------------  ------------  ------------  ------------  ------------  ------------  ------------  ------------  ------------  ------------  ------------  ------------  ------------  ------------  ------------  --------------------------------------------------------------------------------  \n",
      "Self CPU time total: 378.821ms\n",
      "Self CUDA time total: 221.671ms\n",
      "\n"
     ]
    }
   ],
   "source": [
    "print(prof.key_averages(group_by_input_shape=True).table(sort_by=\"cpu_time_total\", row_limit=10))"
   ]
  },
  {
   "cell_type": "code",
   "execution_count": 69,
   "id": "0ed93e1f",
   "metadata": {},
   "outputs": [],
   "source": [
    "prof.export_chrome_trace(\"/home/jovyan/sivtsov/armt/armt_from_checkpoint/llama1b_armt_diag_optimized_seg512_mem128_v2.json\")"
   ]
  },
  {
   "cell_type": "code",
   "execution_count": 64,
   "id": "664753be",
   "metadata": {},
   "outputs": [
    {
     "data": {
      "text/plain": [
       "CausalLMOutputWithPast(loss=None, logits=tensor([[[ 2.6875, -1.5703, -0.6055,  ..., -0.4746, -1.8125, -0.4941],\n",
       "         [ 1.1094,  0.8906, -0.2324,  ..., -0.9141,  0.1299, -0.6289],\n",
       "         [-0.1084,  0.7695, -1.0078,  ..., -0.3359, -0.2227, -0.1016],\n",
       "         ...,\n",
       "         [-1.9922, -0.4980,  0.1348,  ...,  1.0859, -0.7422, -1.3594],\n",
       "         [-1.9688, -0.1816, -0.4180,  ...,  1.6797, -0.1133, -1.6484],\n",
       "         [-2.4062, -0.4180, -0.0869,  ...,  1.1016, -0.4785, -1.7031]]],\n",
       "       device='cuda:0', dtype=torch.float32), past_key_values=None, hidden_states=None, attentions=None)"
      ]
     },
     "execution_count": 64,
     "metadata": {},
     "output_type": "execute_result"
    }
   ],
   "source": [
    "o0"
   ]
  },
  {
   "cell_type": "code",
   "execution_count": 129,
   "id": "34408861",
   "metadata": {},
   "outputs": [
    {
     "name": "stdout",
     "output_type": "stream",
     "text": [
      "|===========================================================================|\n",
      "|                  PyTorch CUDA memory summary, device ID 0                 |\n",
      "|---------------------------------------------------------------------------|\n",
      "|            CUDA OOMs: 0            |        cudaMalloc retries: 0         |\n",
      "|===========================================================================|\n",
      "|        Metric         | Cur Usage  | Peak Usage | Tot Alloc  | Tot Freed  |\n",
      "|---------------------------------------------------------------------------|\n",
      "| Allocated memory      |  26041 MiB |  76051 MiB |  33179 GiB |  33154 GiB |\n",
      "|       from large pool |  25968 MiB |  75955 MiB |  29813 GiB |  29788 GiB |\n",
      "|       from small pool |     72 MiB |   5144 MiB |   3365 GiB |   3365 GiB |\n",
      "|---------------------------------------------------------------------------|\n",
      "| Active memory         |  26041 MiB |  76051 MiB |  33179 GiB |  33154 GiB |\n",
      "|       from large pool |  25968 MiB |  75955 MiB |  29813 GiB |  29788 GiB |\n",
      "|       from small pool |     72 MiB |   5144 MiB |   3365 GiB |   3365 GiB |\n",
      "|---------------------------------------------------------------------------|\n",
      "| Requested memory      |  25864 MiB |  74748 MiB |  32789 GiB |  32764 GiB |\n",
      "|       from large pool |  25791 MiB |  74652 MiB |  29424 GiB |  29399 GiB |\n",
      "|       from small pool |     72 MiB |   5144 MiB |   3365 GiB |   3365 GiB |\n",
      "|---------------------------------------------------------------------------|\n",
      "| GPU reserved memory   |  76490 MiB |  76490 MiB | 151134 MiB |  74644 MiB |\n",
      "|       from large pool |  76336 MiB |  76336 MiB | 144722 MiB |  68386 MiB |\n",
      "|       from small pool |    154 MiB |   5486 MiB |   6412 MiB |   6258 MiB |\n",
      "|---------------------------------------------------------------------------|\n",
      "| Non-releasable memory | 412405 KiB |   2378 MiB |  29558 GiB |  29557 GiB |\n",
      "|       from large pool | 398472 KiB |   2363 MiB |  25882 GiB |  25882 GiB |\n",
      "|       from small pool |  13933 KiB |    347 MiB |   3675 GiB |   3675 GiB |\n",
      "|---------------------------------------------------------------------------|\n",
      "| Allocations           |    1453    |   31350    |   21818 K  |   21817 K  |\n",
      "|       from large pool |    1027    |    3758    |    5153 K  |    5152 K  |\n",
      "|       from small pool |     426    |   27594    |   16665 K  |   16664 K  |\n",
      "|---------------------------------------------------------------------------|\n",
      "| Active allocs         |    1453    |   31350    |   21818 K  |   21817 K  |\n",
      "|       from large pool |    1027    |    3758    |    5153 K  |    5152 K  |\n",
      "|       from small pool |     426    |   27594    |   16665 K  |   16664 K  |\n",
      "|---------------------------------------------------------------------------|\n",
      "| GPU reserved segments |    2225    |    3196    |    7362    |    5137    |\n",
      "|       from large pool |    2148    |    2148    |    4156    |    2008    |\n",
      "|       from small pool |      77    |    2743    |    3206    |    3129    |\n",
      "|---------------------------------------------------------------------------|\n",
      "| Non-releasable allocs |      71    |    2873    |   10721 K  |   10721 K  |\n",
      "|       from large pool |      38    |     153    |    3046 K  |    3046 K  |\n",
      "|       from small pool |      33    |    2733    |    7675 K  |    7675 K  |\n",
      "|---------------------------------------------------------------------------|\n",
      "| Oversize allocations  |       0    |       0    |       0    |       0    |\n",
      "|---------------------------------------------------------------------------|\n",
      "| Oversize GPU segments |       0    |       0    |       0    |       0    |\n",
      "|===========================================================================|\n",
      "\n"
     ]
    }
   ],
   "source": [
    "print(torch.cuda.memory_summary())"
   ]
  },
  {
   "cell_type": "code",
   "execution_count": 141,
   "id": "79a5d4d7",
   "metadata": {},
   "outputs": [],
   "source": [
    "t = torch.rand((16, 48, 2048)).cuda()"
   ]
  },
  {
   "cell_type": "code",
   "execution_count": 142,
   "id": "8ffddb9c",
   "metadata": {},
   "outputs": [
    {
     "data": {
      "text/plain": [
       "140191360614400"
      ]
     },
     "execution_count": 142,
     "metadata": {},
     "output_type": "execute_result"
    }
   ],
   "source": [
    "t.data_ptr()"
   ]
  },
  {
   "cell_type": "code",
   "execution_count": 143,
   "id": "68083ebc",
   "metadata": {},
   "outputs": [
    {
     "data": {
      "text/plain": [
       "140191371440128"
      ]
     },
     "execution_count": 143,
     "metadata": {},
     "output_type": "execute_result"
    }
   ],
   "source": [
    "t.roll(1, 0).data_ptr()"
   ]
  },
  {
   "cell_type": "code",
   "execution_count": 152,
   "id": "553ebe41",
   "metadata": {},
   "outputs": [
    {
     "name": "stdout",
     "output_type": "stream",
     "text": [
      "CPU times: user 577 μs, sys: 23 μs, total: 600 μs\n",
      "Wall time: 395 μs\n"
     ]
    }
   ],
   "source": [
    "%%time\n",
    "t = t.roll(1, 0)"
   ]
  },
  {
   "cell_type": "code",
   "execution_count": 173,
   "id": "994ef53b",
   "metadata": {},
   "outputs": [],
   "source": [
    "def roll_tensor(t):\n",
    "    for i in range(1, t.shape[0]):\n",
    "        t[i] = t[i-1]\n",
    "        \n",
    "roll_tensor_jit = torch.jit.script(roll_tensor)"
   ]
  },
  {
   "cell_type": "code",
   "execution_count": 172,
   "id": "cef445a5",
   "metadata": {},
   "outputs": [
    {
     "name": "stdout",
     "output_type": "stream",
     "text": [
      "CPU times: user 0 ns, sys: 1.47 ms, total: 1.47 ms\n",
      "Wall time: 1.09 ms\n"
     ]
    }
   ],
   "source": [
    "%%time\n",
    "roll_tensor(t)"
   ]
  },
  {
   "cell_type": "code",
   "execution_count": 187,
   "id": "4ae75ca3",
   "metadata": {},
   "outputs": [
    {
     "name": "stdout",
     "output_type": "stream",
     "text": [
      "CPU times: user 1.17 ms, sys: 47 μs, total: 1.22 ms\n",
      "Wall time: 587 μs\n"
     ]
    }
   ],
   "source": [
    "%%time\n",
    "roll_tensor_jit(t)"
   ]
  },
  {
   "cell_type": "code",
   "execution_count": 85,
   "id": "f5524683",
   "metadata": {},
   "outputs": [
    {
     "name": "stdout",
     "output_type": "stream",
     "text": [
      "CPU times: user 694 ms, sys: 0 ns, total: 694 ms\n",
      "Wall time: 32.5 ms\n"
     ]
    }
   ],
   "source": [
    "%%time\n",
    "with torch.no_grad():\n",
    "    armt_model.memory_cell.zero_mem()\n",
    "    o1 = armt_model.forward(input_ids)"
   ]
  },
  {
   "cell_type": "code",
   "execution_count": 92,
   "id": "07c8738a",
   "metadata": {},
   "outputs": [
    {
     "data": {
      "text/plain": [
       "tensor(0, device='cuda:0')"
      ]
     },
     "execution_count": 92,
     "metadata": {},
     "output_type": "execute_result"
    }
   ],
   "source": [
    "(grouped_model_layer._last_input > 0).sum()"
   ]
  },
  {
   "cell_type": "code",
   "execution_count": 87,
   "id": "b883c760",
   "metadata": {},
   "outputs": [
    {
     "data": {
      "text/plain": [
       "tensor([[[ 0.0427,  0.0025, -0.0469,  ..., -0.0239, -0.0137, -0.0090],\n",
       "         [ 0.0089, -0.0105,  0.0267,  ..., -0.0229, -0.0141, -0.0053],\n",
       "         [-0.0281, -0.0194, -0.0206,  ..., -0.0018,  0.0063, -0.0093],\n",
       "         ...,\n",
       "         [-0.0248, -0.0118,  0.0150,  ..., -0.0203,  0.0063, -0.0186],\n",
       "         [ 0.0165, -0.0088, -0.0146,  ..., -0.0044,  0.0312,  0.0032],\n",
       "         [-0.0192,  0.0038,  0.0103,  ..., -0.0203,  0.0359,  0.0061]]],\n",
       "       device='cuda:0')"
      ]
     },
     "execution_count": 87,
     "metadata": {},
     "output_type": "execute_result"
    }
   ],
   "source": [
    "armt_model.memory_cell.model.model.layers[0]._last_input"
   ]
  },
  {
   "cell_type": "code",
   "execution_count": 88,
   "id": "bc912d4d",
   "metadata": {},
   "outputs": [
    {
     "data": {
      "text/plain": [
       "{'attention_mask': None,\n",
       " 'position_ids': tensor([[ 0,  1,  2,  3,  4,  5,  6,  7,  8,  9, 10, 11, 12, 13, 14, 15, 16, 17,\n",
       "          18, 19, 20, 21, 22, 23, 24, 25, 26, 27, 28, 29, 30, 31, 32, 33, 34, 35,\n",
       "          36, 37, 38, 39, 40, 41, 42, 43, 44, 45, 46, 47]], device='cuda:0'),\n",
       " 'past_key_value': None,\n",
       " 'output_attentions': False,\n",
       " 'use_cache': False,\n",
       " 'cache_position': tensor([ 0,  1,  2,  3,  4,  5,  6,  7,  8,  9, 10, 11, 12, 13, 14, 15, 16, 17,\n",
       "         18, 19, 20, 21, 22, 23, 24, 25, 26, 27, 28, 29, 30, 31, 32, 33, 34, 35,\n",
       "         36, 37, 38, 39, 40, 41, 42, 43, 44, 45, 46, 47], device='cuda:0'),\n",
       " 'position_embeddings': (tensor([[[ 1.0000,  1.0000,  1.0000,  ...,  1.0000,  1.0000,  1.0000],\n",
       "           [ 0.5391,  0.7891,  0.9062,  ...,  1.0000,  1.0000,  1.0000],\n",
       "           [-0.4160,  0.2412,  0.6367,  ...,  1.0000,  1.0000,  1.0000],\n",
       "           ...,\n",
       "           [ 0.5234,  0.0170,  0.5664,  ...,  1.0000,  1.0000,  1.0000],\n",
       "           [-0.4316,  0.6289,  0.1631,  ...,  1.0000,  1.0000,  1.0000],\n",
       "           [-0.9922,  0.9727, -0.2734,  ...,  1.0000,  1.0000,  1.0000]]],\n",
       "         device='cuda:0'),\n",
       "  tensor([[[ 0.0000e+00,  0.0000e+00,  0.0000e+00,  ...,  0.0000e+00,\n",
       "             0.0000e+00,  0.0000e+00],\n",
       "           [ 8.3984e-01,  6.1719e-01,  4.2578e-01,  ...,  2.1420e-07,\n",
       "             1.4156e-07,  9.4064e-08],\n",
       "           [ 9.1016e-01,  9.6875e-01,  7.6953e-01,  ...,  4.2841e-07,\n",
       "             2.8312e-07,  1.8813e-07],\n",
       "           ...,\n",
       "           [ 8.5156e-01, -1.0000e+00,  8.2422e-01,  ...,  9.5963e-06,\n",
       "             6.3777e-06,  4.2319e-06],\n",
       "           [ 9.0234e-01, -7.7734e-01,  9.8828e-01,  ...,  9.8348e-06,\n",
       "             6.5267e-06,  4.3213e-06],\n",
       "           [ 1.2354e-01, -2.2461e-01,  9.6094e-01,  ...,  1.0073e-05,\n",
       "             6.6757e-06,  4.4405e-06]]], device='cuda:0'))}"
      ]
     },
     "execution_count": 88,
     "metadata": {},
     "output_type": "execute_result"
    }
   ],
   "source": [
    "armt_model.memory_cell.model.model.layers[1]._last_kwargs"
   ]
  },
  {
   "cell_type": "code",
   "execution_count": 91,
   "id": "2daf4700",
   "metadata": {},
   "outputs": [
    {
     "name": "stderr",
     "output_type": "stream",
     "text": [
      "[W327 13:25:44.920434867 CPUAllocator.cpp:249] Memory block of unknown size was allocated before the profiling started, profiler results will not include the deallocation event\n"
     ]
    }
   ],
   "source": [
    "from torch.profiler import profile, record_function, ProfilerActivity\n",
    "\n",
    "with profile(activities=[ProfilerActivity.CPU, ProfilerActivity.CUDA],\n",
    "        profile_memory=True, record_shapes=True) as prof:\n",
    "            with torch.no_grad():\n",
    "                o1 = armt_model.forward(input_ids)"
   ]
  },
  {
   "cell_type": "code",
   "execution_count": 92,
   "id": "141b2e78",
   "metadata": {},
   "outputs": [
    {
     "name": "stdout",
     "output_type": "stream",
     "text": [
      "-------------------------------------------------------  ------------  ------------  ------------  ------------  ------------  ------------  ------------  ------------  ------------  ------------  ------------  ------------  ------------  ------------  --------------------------------------------------------------------------------  \n",
      "                                                   Name    Self CPU %      Self CPU   CPU total %     CPU total  CPU time avg     Self CUDA   Self CUDA %    CUDA total  CUDA time avg       CPU Mem  Self CPU Mem      CUDA Mem  Self CUDA Mem    # of Calls                                                                      Input Shapes  \n",
      "-------------------------------------------------------  ------------  ------------  ------------  ------------  ------------  ------------  ------------  ------------  ------------  ------------  ------------  ------------  ------------  ------------  --------------------------------------------------------------------------------  \n",
      "ampere_bf16_s16816gemm_bf16_128x64_ldg8_f2f_stages_6...         0.00%       0.000us         0.00%       0.000us       0.000us       5.546ms        17.88%       5.546ms      28.298us           0 b           0 b           0 b           0 b           196                                                                                []  \n",
      "                                           aten::linear         0.16%     411.543us         4.62%      12.251ms      95.711us       0.000us         0.00%       3.681ms      28.755us           0 b           0 b      96.00 Mb           0 b           128                                                 [[1, 48, 2048], [8192, 2048], []]  \n",
      "                                           aten::matmul         0.38%     996.788us         4.06%      10.768ms      84.128us       0.000us         0.00%       3.681ms      28.755us           0 b           0 b      96.00 Mb           0 b           128                                                     [[1, 48, 2048], [2048, 8192]]  \n",
      "                                               aten::mm         1.27%       3.358ms         3.36%       8.899ms      69.524us       3.681ms        11.86%       3.681ms      28.755us           0 b           0 b      96.00 Mb      96.00 Mb           128                                                        [[48, 2048], [2048, 8192]]  \n",
      "                                              aten::cat         2.85%       7.561ms         6.90%      18.304ms      37.355us       2.300ms         7.41%       2.300ms       4.694us           0 b           0 b      34.87 Mb      34.87 Mb           490                                                                          [[], []]  \n",
      "void at::native::elementwise_kernel<128, 4, at::nati...         0.00%       0.000us         0.00%       0.000us       0.000us       2.211ms         7.13%       2.211ms       4.423us           0 b           0 b           0 b           0 b           500                                                                                []  \n",
      "                                           aten::linear         0.07%     180.247us         2.30%       6.109ms      95.451us       0.000us         0.00%       1.960ms      30.620us           0 b           0 b      12.00 Mb           0 b            64                                                 [[1, 48, 8192], [2048, 8192], []]  \n",
      "                                           aten::matmul         0.17%     459.102us         2.06%       5.475ms      85.541us       0.000us         0.00%       1.960ms      30.620us           0 b           0 b      12.00 Mb           0 b            64                                                     [[1, 48, 8192], [8192, 2048]]  \n",
      "                                               aten::mm         0.45%       1.196ms         1.77%       4.685ms      73.202us       1.960ms         6.32%       1.960ms      30.620us           0 b           0 b      12.00 Mb      12.00 Mb            64                                                        [[48, 8192], [8192, 2048]]  \n",
      "                                           aten::einsum         3.19%       8.466ms        13.69%      36.294ms     141.774us       0.000us         0.00%       1.903ms       7.433us           0 b           0 b     122.40 Mb      -4.00 Mb           256                                                                      [[], [], []]  \n",
      "-------------------------------------------------------  ------------  ------------  ------------  ------------  ------------  ------------  ------------  ------------  ------------  ------------  ------------  ------------  ------------  ------------  --------------------------------------------------------------------------------  \n",
      "Self CPU time total: 265.161ms\n",
      "Self CUDA time total: 31.023ms\n",
      "\n"
     ]
    }
   ],
   "source": [
    "print(prof.key_averages(group_by_input_shape=True).table(sort_by=\"cuda_time_total\", row_limit=10))"
   ]
  },
  {
   "cell_type": "code",
   "execution_count": 93,
   "id": "65962648",
   "metadata": {},
   "outputs": [
    {
     "name": "stdout",
     "output_type": "stream",
     "text": [
      "-------------------------------------------------------  ------------  ------------  ------------  ------------  ------------  ------------  ------------  ------------  ------------  ------------  ------------  ------------  ------------  ------------  --------------------------------------------------------------------------------  \n",
      "                                                   Name    Self CPU %      Self CPU   CPU total %     CPU total  CPU time avg     Self CUDA   Self CUDA %    CUDA total  CUDA time avg       CPU Mem  Self CPU Mem      CUDA Mem  Self CUDA Mem    # of Calls                                                                      Input Shapes  \n",
      "-------------------------------------------------------  ------------  ------------  ------------  ------------  ------------  ------------  ------------  ------------  ------------  ------------  ------------  ------------  ------------  ------------  --------------------------------------------------------------------------------  \n",
      "                                       cudaLaunchKernel        39.94%     105.907ms        39.94%     105.907ms      18.054us       0.000us         0.00%       0.000us       0.000us           0 b           0 b           0 b           0 b          5866                                                                                []  \n",
      "                                           aten::einsum         3.19%       8.466ms        13.69%      36.294ms     141.774us       0.000us         0.00%       1.903ms       7.433us           0 b           0 b     122.40 Mb      -4.00 Mb           256                                                                      [[], [], []]  \n",
      "                                              aten::cat         2.85%       7.561ms         6.90%      18.304ms      37.355us       2.300ms         7.41%       2.300ms       4.694us           0 b           0 b      34.87 Mb      34.87 Mb           490                                                                          [[], []]  \n",
      "                                           aten::linear         0.16%     411.543us         4.62%      12.251ms      95.711us       0.000us         0.00%       3.681ms      28.755us           0 b           0 b      96.00 Mb           0 b           128                                                 [[1, 48, 2048], [8192, 2048], []]  \n",
      "                                               aten::to         0.22%     573.512us         4.31%      11.429ms      28.861us       0.000us         0.00%       1.331ms       3.362us           0 b           0 b      74.25 Mb           0 b           396                                                   [[1, 48, 2048], [], [], [], []]  \n",
      "                                         aten::_to_copy         0.67%       1.780ms         4.09%      10.856ms      41.120us       0.000us         0.00%       1.331ms       5.043us           0 b           0 b      74.25 Mb           0 b           264                                           [[1, 48, 2048], [], [], [], [], [], []]  \n",
      "                                           aten::matmul         0.38%     996.788us         4.06%      10.768ms      84.128us       0.000us         0.00%       3.681ms      28.755us           0 b           0 b      96.00 Mb           0 b           128                                                     [[1, 48, 2048], [2048, 8192]]  \n",
      "                                           aten::linear         0.18%     476.531us         3.86%      10.247ms      80.057us       0.000us         0.00%       1.746ms      13.638us           0 b           0 b      24.00 Mb           0 b           128                                                 [[1, 48, 2048], [2048, 2048], []]  \n",
      "                                           aten::linear         0.17%     438.045us         3.73%       9.891ms      77.275us       0.000us         0.00%       1.176ms       9.190us           0 b           0 b       6.00 Mb           0 b           128                                                  [[1, 48, 2048], [512, 2048], []]  \n",
      "                                               aten::mm         1.27%       3.358ms         3.36%       8.899ms      69.524us       3.681ms        11.86%       3.681ms      28.755us           0 b           0 b      96.00 Mb      96.00 Mb           128                                                        [[48, 2048], [2048, 8192]]  \n",
      "-------------------------------------------------------  ------------  ------------  ------------  ------------  ------------  ------------  ------------  ------------  ------------  ------------  ------------  ------------  ------------  ------------  --------------------------------------------------------------------------------  \n",
      "Self CPU time total: 265.161ms\n",
      "Self CUDA time total: 31.023ms\n",
      "\n"
     ]
    }
   ],
   "source": [
    "print(prof.key_averages(group_by_input_shape=True).table(sort_by=\"cpu_time_total\", row_limit=10))"
   ]
  },
  {
   "cell_type": "code",
   "execution_count": 94,
   "id": "4f1bffb6",
   "metadata": {},
   "outputs": [],
   "source": [
    "prof.export_chrome_trace(\"/home/jovyan/sivtsov/armt/armt_from_checkpoint/trace_naive_impl_small.json\")"
   ]
  },
  {
   "cell_type": "code",
   "execution_count": 256,
   "id": "c3f3d546",
   "metadata": {},
   "outputs": [
    {
     "data": {
      "text/plain": [
       "tensor([[ 0.6016, -1.2188, -1.6719,  ...,  0.5117,  1.3594,  0.5234],\n",
       "        [ 1.1016, -2.5625, -0.9609,  ...,  1.1797,  2.2656,  0.2754],\n",
       "        [ 1.2344, -2.1094, -0.3984,  ...,  0.0693,  2.4219, -0.9375],\n",
       "        ...,\n",
       "        [ 1.1484, -1.8984, -1.7578,  ...,  0.5586, -0.6328, -1.1172],\n",
       "        [ 0.6680, -3.3750, -1.1719,  ...,  0.1895, -0.0742,  0.7266],\n",
       "        [ 0.5586, -2.4688, -2.8125,  ..., -0.7422, -0.0320,  1.9297]],\n",
       "       device='cuda:0')"
      ]
     },
     "execution_count": 256,
     "metadata": {},
     "output_type": "execute_result"
    }
   ],
   "source": [
    "o0.logits[0]"
   ]
  },
  {
   "cell_type": "code",
   "execution_count": 257,
   "id": "5e017f92",
   "metadata": {},
   "outputs": [
    {
     "data": {
      "text/plain": [
       "tensor([[ 1.3281e+00, -1.1094e+00, -1.5442e-02,  ...,  9.2969e-01,\n",
       "         -4.3359e-01,  1.0234e+00],\n",
       "        [-4.1260e-02, -3.0781e+00,  6.7871e-02,  ...,  2.7500e+00,\n",
       "         -2.8564e-02,  1.8516e+00],\n",
       "        [-2.4609e-01, -2.7656e+00,  7.5391e-01,  ...,  1.1875e+00,\n",
       "         -7.7344e-01,  4.1602e-01],\n",
       "        ...,\n",
       "        [-1.0010e-01, -2.5391e-01, -1.5820e-01,  ...,  1.1953e+00,\n",
       "         -4.4189e-02,  1.0625e+00],\n",
       "        [-2.7344e-01,  6.0547e-01,  1.4572e-03,  ...,  2.0781e+00,\n",
       "         -5.8350e-02,  1.4062e+00],\n",
       "        [-3.8672e-01, -2.2754e-01, -3.2812e-01,  ...,  1.0156e+00,\n",
       "         -5.0781e-01,  1.9688e+00]], device='cuda:0', dtype=torch.float32)"
      ]
     },
     "execution_count": 257,
     "metadata": {},
     "output_type": "execute_result"
    }
   ],
   "source": [
    "o1.logits[0]"
   ]
  },
  {
   "cell_type": "code",
   "execution_count": 96,
   "id": "4e91a3b2",
   "metadata": {},
   "outputs": [
    {
     "data": {
      "text/plain": [
       "tensor([[ 1.5186, -0.3828,  1.7109,  ...,  0.8096, -0.8047,  2.2812],\n",
       "        [ 4.5156, -2.6260, -4.6094,  ...,  2.8218, -1.1562,  0.6289],\n",
       "        [ 3.1367, -1.8047,  0.3047,  ...,  2.1797,  0.8398,  1.3418],\n",
       "        ...,\n",
       "        [ 1.3999, -0.3672,  0.0215,  ..., -0.6074, -0.1562,  0.9785],\n",
       "        [ 1.4805, -0.2344, -0.1327,  ..., -0.7344, -0.3438,  3.0312],\n",
       "        [ 0.9272,  0.6953,  1.1797,  ...,  1.1797,  0.6055,  3.6250]],\n",
       "       device='cuda:0', dtype=torch.float32)"
      ]
     },
     "execution_count": 96,
     "metadata": {},
     "output_type": "execute_result"
    }
   ],
   "source": [
    "o0.logits[0] - o1.logits[0]"
   ]
  },
  {
   "cell_type": "code",
   "execution_count": 82,
   "id": "027c2f41",
   "metadata": {},
   "outputs": [
    {
     "data": {
      "text/plain": [
       "torch.Size([1, 512, 128256])"
      ]
     },
     "execution_count": 82,
     "metadata": {},
     "output_type": "execute_result"
    }
   ],
   "source": [
    "o1.logits.shape"
   ]
  },
  {
   "cell_type": "code",
   "execution_count": null,
   "id": "95c80687",
   "metadata": {},
   "outputs": [],
   "source": []
  },
  {
   "cell_type": "code",
   "execution_count": null,
   "id": "252d848b",
   "metadata": {},
   "outputs": [],
   "source": []
  },
  {
   "cell_type": "code",
   "execution_count": null,
   "id": "8f65571c",
   "metadata": {},
   "outputs": [],
   "source": []
  },
  {
   "cell_type": "code",
   "execution_count": null,
   "id": "4c53913e",
   "metadata": {},
   "outputs": [],
   "source": []
  },
  {
   "cell_type": "code",
   "execution_count": 279,
   "id": "f6535072",
   "metadata": {},
   "outputs": [],
   "source": [
    "processed_segments = [armt_model.memory_cell.process_input(**s_i) for s_i in segmented_input]"
   ]
  },
  {
   "cell_type": "code",
   "execution_count": 280,
   "id": "2f88c7be",
   "metadata": {},
   "outputs": [
    {
     "data": {
      "text/plain": [
       "torch.Size([1, 48, 2048])"
      ]
     },
     "execution_count": 280,
     "metadata": {},
     "output_type": "execute_result"
    }
   ],
   "source": [
    "processed_segments[0]['inputs_embeds'].shape"
   ]
  },
  {
   "cell_type": "code",
   "execution_count": 281,
   "id": "5fd566a7",
   "metadata": {},
   "outputs": [
    {
     "data": {
      "text/plain": [
       "0"
      ]
     },
     "execution_count": 281,
     "metadata": {},
     "output_type": "execute_result"
    }
   ],
   "source": [
    "batcher.push(processed_segments)"
   ]
  },
  {
   "cell_type": "code",
   "execution_count": 282,
   "id": "29767786",
   "metadata": {},
   "outputs": [],
   "source": [
    "batch, segments_info, batch_position_ids, batch_position_embeddings = batcher.init_batch(\n",
    "    dtype=processed_segments[0]['inputs_embeds'].dtype, device=processed_segments[0]['inputs_embeds'].device\n",
    ")"
   ]
  },
  {
   "cell_type": "code",
   "execution_count": 283,
   "id": "358948c5",
   "metadata": {},
   "outputs": [
    {
     "data": {
      "text/plain": [
       "torch.Size([16, 48, 2048])"
      ]
     },
     "execution_count": 283,
     "metadata": {},
     "output_type": "execute_result"
    }
   ],
   "source": [
    "batch.shape"
   ]
  },
  {
   "cell_type": "markdown",
   "id": "8ff1944f",
   "metadata": {},
   "source": []
  },
  {
   "cell_type": "code",
   "execution_count": 284,
   "id": "c4b4cea9",
   "metadata": {},
   "outputs": [],
   "source": [
    "batch, segments_info, batch_position_ids, batch_position_embeddings = batcher.next(\n",
    "    batch, segments_info, batch_position_ids, batch_position_embeddings\n",
    ")"
   ]
  },
  {
   "cell_type": "code",
   "execution_count": 285,
   "id": "92753d99",
   "metadata": {},
   "outputs": [],
   "source": [
    "out = armt_model.memory_cell.model(inputs_embeds=batch)"
   ]
  },
  {
   "cell_type": "code",
   "execution_count": 290,
   "id": "f23ce912",
   "metadata": {},
   "outputs": [],
   "source": [
    "batcher.push_out(out.logits, segments_info)"
   ]
  },
  {
   "cell_type": "code",
   "execution_count": null,
   "id": "bce5a2f5",
   "metadata": {},
   "outputs": [],
   "source": []
  },
  {
   "cell_type": "code",
   "execution_count": null,
   "id": "72e104fc",
   "metadata": {},
   "outputs": [],
   "source": []
  },
  {
   "cell_type": "code",
   "execution_count": null,
   "id": "2417f6d1",
   "metadata": {},
   "outputs": [],
   "source": []
  },
  {
   "cell_type": "code",
   "execution_count": null,
   "id": "f09521a7",
   "metadata": {},
   "outputs": [],
   "source": []
  },
  {
   "cell_type": "code",
   "execution_count": null,
   "id": "b2311239",
   "metadata": {},
   "outputs": [],
   "source": []
  },
  {
   "cell_type": "code",
   "execution_count": null,
   "id": "b72ea8c0",
   "metadata": {},
   "outputs": [],
   "source": []
  },
  {
   "cell_type": "code",
   "execution_count": null,
   "id": "3186d7df",
   "metadata": {},
   "outputs": [],
   "source": []
  },
  {
   "cell_type": "code",
   "execution_count": null,
   "id": "867365a2",
   "metadata": {},
   "outputs": [],
   "source": []
  },
  {
   "cell_type": "code",
   "execution_count": 180,
   "id": "886f4047",
   "metadata": {},
   "outputs": [],
   "source": [
    "# segmented_input"
   ]
  },
  {
   "cell_type": "code",
   "execution_count": 181,
   "id": "637606de",
   "metadata": {},
   "outputs": [],
   "source": [
    "segment_id = batcher.push(segmented_input[0])"
   ]
  },
  {
   "cell_type": "code",
   "execution_count": 173,
   "id": "8062ec70",
   "metadata": {},
   "outputs": [
    {
     "data": {
      "text/plain": [
       "0"
      ]
     },
     "execution_count": 173,
     "metadata": {},
     "output_type": "execute_result"
    }
   ],
   "source": [
    "segment_id"
   ]
  },
  {
   "cell_type": "code",
   "execution_count": 174,
   "id": "e822d8ed",
   "metadata": {},
   "outputs": [],
   "source": [
    "grouped_batch = batcher.init_batch(dtype=dtype, device=\"cuda\")"
   ]
  },
  {
   "cell_type": "code",
   "execution_count": 175,
   "id": "d737eccf",
   "metadata": {},
   "outputs": [],
   "source": [
    "batch, segments_info, position_ids, positional_embeddings = grouped_batch"
   ]
  },
  {
   "cell_type": "code",
   "execution_count": 183,
   "id": "3a1aee8b",
   "metadata": {},
   "outputs": [],
   "source": [
    "batch, segments_info, position_ids, positional_embeddings = batcher.next(batch, segments_info, position_ids, positional_embeddings)"
   ]
  },
  {
   "cell_type": "code",
   "execution_count": 182,
   "id": "f4348b95",
   "metadata": {},
   "outputs": [
    {
     "data": {
      "text/plain": [
       "[[1,\n",
       "  {'input_ids': tensor([[ 66,  55,  86,  14, 199, 208, 209, 178, 158, 129, 159,  50,  56, 214,\n",
       "             65, 235,  48,   2,  14, 171, 165, 190, 203,  35, 166, 185, 120, 223,\n",
       "            148, 114, 104, 114]], device='cuda:0')}]]"
      ]
     },
     "execution_count": 182,
     "metadata": {},
     "output_type": "execute_result"
    }
   ],
   "source": [
    "batcher.segment_storage"
   ]
  },
  {
   "cell_type": "code",
   "execution_count": 178,
   "id": "37c6834e",
   "metadata": {},
   "outputs": [
    {
     "data": {
      "text/plain": [
       "torch.Size([16, 32])"
      ]
     },
     "execution_count": 178,
     "metadata": {},
     "output_type": "execute_result"
    }
   ],
   "source": [
    "batch.shape"
   ]
  },
  {
   "cell_type": "code",
   "execution_count": 185,
   "id": "b1ee15fa",
   "metadata": {},
   "outputs": [
    {
     "data": {
      "text/plain": [
       "tensor([[ 66.,  55.,  86.,  14., 199., 208., 209., 178., 158., 129., 159.,  50.,\n",
       "          56., 214.,  65., 235.,  48.,   2.,  14., 171., 165., 190., 203.,  35.,\n",
       "         166., 185., 120., 223., 148., 114., 104., 114.],\n",
       "        [ 90., 238., 177., 143., 168., 255.,  19., 101., 106., 195., 205.,  20.,\n",
       "          49.,  98.,  90.,  11.,  97.,  51., 254.,  29., 255., 237.,  83., 204.,\n",
       "          35., 234.,  93., 153., 186., 241., 222.,  18.],\n",
       "        [  0.,   0.,   0.,   0.,   0.,   0.,   0.,   0.,   0.,   0.,   0.,   0.,\n",
       "           0.,   0.,   0.,   0.,   0.,   0.,   0.,   0.,   0.,   0.,   0.,   0.,\n",
       "           0.,   0.,   0.,   0.,   0.,   0.,   0.,   0.],\n",
       "        [  0.,   0.,   0.,   0.,   0.,   0.,   0.,   0.,   0.,   0.,   0.,   0.,\n",
       "           0.,   0.,   0.,   0.,   0.,   0.,   0.,   0.,   0.,   0.,   0.,   0.,\n",
       "           0.,   0.,   0.,   0.,   0.,   0.,   0.,   0.],\n",
       "        [  0.,   0.,   0.,   0.,   0.,   0.,   0.,   0.,   0.,   0.,   0.,   0.,\n",
       "           0.,   0.,   0.,   0.,   0.,   0.,   0.,   0.,   0.,   0.,   0.,   0.,\n",
       "           0.,   0.,   0.,   0.,   0.,   0.,   0.,   0.],\n",
       "        [  0.,   0.,   0.,   0.,   0.,   0.,   0.,   0.,   0.,   0.,   0.,   0.,\n",
       "           0.,   0.,   0.,   0.,   0.,   0.,   0.,   0.,   0.,   0.,   0.,   0.,\n",
       "           0.,   0.,   0.,   0.,   0.,   0.,   0.,   0.],\n",
       "        [  0.,   0.,   0.,   0.,   0.,   0.,   0.,   0.,   0.,   0.,   0.,   0.,\n",
       "           0.,   0.,   0.,   0.,   0.,   0.,   0.,   0.,   0.,   0.,   0.,   0.,\n",
       "           0.,   0.,   0.,   0.,   0.,   0.,   0.,   0.],\n",
       "        [  0.,   0.,   0.,   0.,   0.,   0.,   0.,   0.,   0.,   0.,   0.,   0.,\n",
       "           0.,   0.,   0.,   0.,   0.,   0.,   0.,   0.,   0.,   0.,   0.,   0.,\n",
       "           0.,   0.,   0.,   0.,   0.,   0.,   0.,   0.],\n",
       "        [  0.,   0.,   0.,   0.,   0.,   0.,   0.,   0.,   0.,   0.,   0.,   0.,\n",
       "           0.,   0.,   0.,   0.,   0.,   0.,   0.,   0.,   0.,   0.,   0.,   0.,\n",
       "           0.,   0.,   0.,   0.,   0.,   0.,   0.,   0.],\n",
       "        [  0.,   0.,   0.,   0.,   0.,   0.,   0.,   0.,   0.,   0.,   0.,   0.,\n",
       "           0.,   0.,   0.,   0.,   0.,   0.,   0.,   0.,   0.,   0.,   0.,   0.,\n",
       "           0.,   0.,   0.,   0.,   0.,   0.,   0.,   0.],\n",
       "        [  0.,   0.,   0.,   0.,   0.,   0.,   0.,   0.,   0.,   0.,   0.,   0.,\n",
       "           0.,   0.,   0.,   0.,   0.,   0.,   0.,   0.,   0.,   0.,   0.,   0.,\n",
       "           0.,   0.,   0.,   0.,   0.,   0.,   0.,   0.],\n",
       "        [  0.,   0.,   0.,   0.,   0.,   0.,   0.,   0.,   0.,   0.,   0.,   0.,\n",
       "           0.,   0.,   0.,   0.,   0.,   0.,   0.,   0.,   0.,   0.,   0.,   0.,\n",
       "           0.,   0.,   0.,   0.,   0.,   0.,   0.,   0.],\n",
       "        [  0.,   0.,   0.,   0.,   0.,   0.,   0.,   0.,   0.,   0.,   0.,   0.,\n",
       "           0.,   0.,   0.,   0.,   0.,   0.,   0.,   0.,   0.,   0.,   0.,   0.,\n",
       "           0.,   0.,   0.,   0.,   0.,   0.,   0.,   0.],\n",
       "        [  0.,   0.,   0.,   0.,   0.,   0.,   0.,   0.,   0.,   0.,   0.,   0.,\n",
       "           0.,   0.,   0.,   0.,   0.,   0.,   0.,   0.,   0.,   0.,   0.,   0.,\n",
       "           0.,   0.,   0.,   0.,   0.,   0.,   0.,   0.],\n",
       "        [  0.,   0.,   0.,   0.,   0.,   0.,   0.,   0.,   0.,   0.,   0.,   0.,\n",
       "           0.,   0.,   0.,   0.,   0.,   0.,   0.,   0.,   0.,   0.,   0.,   0.,\n",
       "           0.,   0.,   0.,   0.,   0.,   0.,   0.,   0.],\n",
       "        [  0.,   0.,   0.,   0.,   0.,   0.,   0.,   0.,   0.,   0.,   0.,   0.,\n",
       "           0.,   0.,   0.,   0.,   0.,   0.,   0.,   0.,   0.,   0.,   0.,   0.,\n",
       "           0.,   0.,   0.,   0.,   0.,   0.,   0.,   0.]], device='cuda:0')"
      ]
     },
     "execution_count": 185,
     "metadata": {},
     "output_type": "execute_result"
    }
   ],
   "source": [
    "batch"
   ]
  },
  {
   "cell_type": "markdown",
   "id": "2f5771d8",
   "metadata": {},
   "source": [
    "## Async Dual Pipelining"
   ]
  },
  {
   "cell_type": "code",
   "execution_count": 70,
   "id": "e25e04fd",
   "metadata": {},
   "outputs": [],
   "source": [
    "import asyncio\n",
    "import torch.nn as nn\n",
    "\n",
    "class ArmtGroupedExecutorAsyncPipelining(nn.Module):\n",
    "    def __init__(self, armt_model, grouped_model_layer, batcher):\n",
    "        super().__init__()\n",
    "        self.armt_model = armt_model\n",
    "        self.grouped_model_layer = grouped_model_layer\n",
    "        self.batcher = batcher\n",
    "        \n",
    "    async def forward(self, input_ids, stream, shift_iteration: bool=False):\n",
    "        segmented_input = armt_model.segment(\n",
    "            input_ids=input_ids,\n",
    "        )\n",
    "\n",
    "        # processed_segments = [armt_model.memory_cell.process_input(**s_i) for s_i in segmented_input]\n",
    "        processed_segments = segmented_input\n",
    "        out_seg_id = self.batcher.push(processed_segments)\n",
    "        \n",
    "        batch, segments_info, batch_position_ids, batch_position_embeddings = self.batcher.init_batch(\n",
    "            # dtype=processed_segments[0]['inputs_embeds'].dtype, device=processed_segments[0]['inputs_embeds'].device\n",
    "            dtype=torch.get_default_dtype(), device=\"cuda\"\n",
    "        )\n",
    "        \n",
    "        if shift_iteration:\n",
    "            await asyncio.sleep(0)\n",
    "        \n",
    "        is_first = True\n",
    "\n",
    "        while is_first or (segments_info != -1).any():\n",
    "            assert batch is not None\n",
    "            \n",
    "            if is_first:\n",
    "                is_first = False\n",
    "            \n",
    "            with torch.cuda.stream(stream):\n",
    "                \n",
    "                batch, segments_info, batch_position_ids, batch_position_embeddings, need_to_zero_mem = self.batcher.next(\n",
    "                    batch, segments_info, batch_position_ids, batch_position_embeddings\n",
    "                )\n",
    "                if (segments_info == -1).all():\n",
    "                    break\n",
    "                \n",
    "                # print(\"batch = \", batch)\n",
    "                \n",
    "                self.armt_model._first_seg_mask = need_to_zero_mem\n",
    "\n",
    "                self.grouped_model_layer.first_seg = False\n",
    "                for i in range(self.grouped_model_layer.W_mem.data.shape[0]):\n",
    "                    if need_to_zero_mem[i].item():\n",
    "                        # print(\"ZEROING MEM: \", i)\n",
    "                        self.grouped_model_layer.W_mem.data[i].fill_(0)\n",
    "                        self.grouped_model_layer.z.data[i].fill_(0)\n",
    "                        # layer.zero_mem()\n",
    "                \n",
    "                assoc_batch = self.grouped_model_layer.associate(batch)\n",
    "                for i in range(self.grouped_model_layer.W_mem.data.shape[0]):\n",
    "                    if not need_to_zero_mem[i].item():\n",
    "                        batch[i] += assoc_batch[i]\n",
    "                \n",
    "            await asyncio.sleep(0)\n",
    "            \n",
    "            with torch.cuda.stream(stream):\n",
    "                # out = self.armt_model.memory_cell.model(inputs_embeds=batch)\n",
    "                out = self.armt_model.memory_cell.model.model(inputs_embeds=batch, use_cache=False)\n",
    "            \n",
    "            await asyncio.sleep(0)\n",
    "            \n",
    "            with torch.cuda.stream(stream):\n",
    "            \n",
    "                # print(\"LAYER LAST: \", self.armt_model.memory_cell.model.model.layers[0]._last_input)\n",
    "                # print(\"LAYER LAST: \", out[0])\n",
    "                if segments_info[-1].item() != -1:\n",
    "                    out_normed = self.armt_model.out_norm(out[0][-1:])\n",
    "                    lmhead_out = self.armt_model.memory_cell.model.lm_head(out_normed)\n",
    "                    # print(\"LMHEAD: \",lmhead_out)\n",
    "                    out_logits = transformers.modeling_outputs.CausalLMOutputWithPast(\n",
    "                        logits=lmhead_out,\n",
    "                    )\n",
    "                else:\n",
    "                    out_logits = None\n",
    "                # print(\"CMP: \",batch.shape, out[0].shape, batch.dtype, out[0].dtype, batch, out[0])\n",
    "                batch = out[0]\n",
    "                # self.batcher.push_out(out.logits[-1:], segments_info)\n",
    "                self.batcher.push_out(out_logits, segments_info)\n",
    "            \n",
    "        segm_out_logits = self.batcher.get_context_output(out_seg_id)\n",
    "        # segm_outs = [transformers.modeling_outputs.CausalLMOutputWithPast(\n",
    "        #     logits=sol\n",
    "        # ) for sol in segm_out_logits]\n",
    "        # segm_outs = segm_out_logits\n",
    "        \n",
    "        # out = []\n",
    "        # for sol in segm_outs:\n",
    "        #     # out.append(self.armt_model.memory_cell.process_output(sol, None, None))\n",
    "        #     out.append(sol)\n",
    "        # out = self.armt_model.process_outputs(out)\n",
    "        \n",
    "        out = transformers.modeling_outputs.CausalLMOutputWithPast(\n",
    "            logits=torch.cat([sol.logits for sol in segm_out_logits], dim=1),\n",
    "        )\n",
    "            \n",
    "        return out.logits"
   ]
  },
  {
   "cell_type": "code",
   "execution_count": 71,
   "id": "2d2588e6",
   "metadata": {},
   "outputs": [],
   "source": [
    "source_model_dualed = AutoModelForCausalLM.from_pretrained(\"meta-llama/Llama-3.2-1B\"\n",
    "                                             , attn_implementation=\"sdpa\"\n",
    "                                             ,torch_dtype=dtype)\n"
   ]
  },
  {
   "cell_type": "code",
   "execution_count": 72,
   "id": "0d084873",
   "metadata": {},
   "outputs": [
    {
     "data": {
      "text/plain": [
       "AssociativeRecurrentWrapper(\n",
       "  (memory_cell): AssociativeMemoryCell(\n",
       "    (model): LlamaForCausalLM(\n",
       "      (model): LlamaModel(\n",
       "        (embed_tokens): Embedding(128256, 2048)\n",
       "        (layers): ModuleList(\n",
       "          (0-15): 16 x AssociativeLayerWrapper(\n",
       "            (W_mq): Linear(in_features=2048, out_features=64, bias=False)\n",
       "            (W_mk): Linear(in_features=2048, out_features=64, bias=False)\n",
       "            (W_mv): Linear(in_features=2048, out_features=2048, bias=False)\n",
       "            (W_mb): Linear(in_features=2048, out_features=1, bias=True)\n",
       "            (layer): LlamaDecoderLayer(\n",
       "              (self_attn): LlamaSdpaAttention(\n",
       "                (q_proj): Linear(in_features=2048, out_features=2048, bias=False)\n",
       "                (k_proj): Linear(in_features=2048, out_features=512, bias=False)\n",
       "                (v_proj): Linear(in_features=2048, out_features=512, bias=False)\n",
       "                (o_proj): Linear(in_features=2048, out_features=2048, bias=False)\n",
       "                (rotary_emb): LlamaRotaryEmbedding()\n",
       "              )\n",
       "              (mlp): LlamaMLP(\n",
       "                (gate_proj): Linear(in_features=2048, out_features=8192, bias=False)\n",
       "                (up_proj): Linear(in_features=2048, out_features=8192, bias=False)\n",
       "                (down_proj): Linear(in_features=8192, out_features=2048, bias=False)\n",
       "                (act_fn): SiLU()\n",
       "              )\n",
       "              (input_layernorm): LlamaRMSNorm((2048,), eps=1e-05)\n",
       "              (post_attention_layernorm): LlamaRMSNorm((2048,), eps=1e-05)\n",
       "            )\n",
       "          )\n",
       "        )\n",
       "        (norm): LlamaRMSNorm((2048,), eps=1e-05)\n",
       "        (rotary_emb): LlamaRotaryEmbedding()\n",
       "      )\n",
       "      (lm_head): Linear(in_features=2048, out_features=128256, bias=False)\n",
       "    )\n",
       "    (W_mq): ModuleList()\n",
       "    (layers): ModuleList(\n",
       "      (0-15): 16 x AssociativeLayerWrapper(\n",
       "        (W_mq): Linear(in_features=2048, out_features=64, bias=False)\n",
       "        (W_mk): Linear(in_features=2048, out_features=64, bias=False)\n",
       "        (W_mv): Linear(in_features=2048, out_features=2048, bias=False)\n",
       "        (W_mb): Linear(in_features=2048, out_features=1, bias=True)\n",
       "        (layer): LlamaDecoderLayer(\n",
       "          (self_attn): LlamaSdpaAttention(\n",
       "            (q_proj): Linear(in_features=2048, out_features=2048, bias=False)\n",
       "            (k_proj): Linear(in_features=2048, out_features=512, bias=False)\n",
       "            (v_proj): Linear(in_features=2048, out_features=512, bias=False)\n",
       "            (o_proj): Linear(in_features=2048, out_features=2048, bias=False)\n",
       "            (rotary_emb): LlamaRotaryEmbedding()\n",
       "          )\n",
       "          (mlp): LlamaMLP(\n",
       "            (gate_proj): Linear(in_features=2048, out_features=8192, bias=False)\n",
       "            (up_proj): Linear(in_features=2048, out_features=8192, bias=False)\n",
       "            (down_proj): Linear(in_features=8192, out_features=2048, bias=False)\n",
       "            (act_fn): SiLU()\n",
       "          )\n",
       "          (input_layernorm): LlamaRMSNorm((2048,), eps=1e-05)\n",
       "          (post_attention_layernorm): LlamaRMSNorm((2048,), eps=1e-05)\n",
       "        )\n",
       "      )\n",
       "    )\n",
       "  )\n",
       ")"
      ]
     },
     "execution_count": 72,
     "metadata": {},
     "output_type": "execute_result"
    }
   ],
   "source": [
    "\n",
    "mem_cell_cls = AssociativeMemoryCell\n",
    "rec_wrap_cls = AssociativeRecurrentWrapper\n",
    "\n",
    "mem_cell_args = dict(\n",
    "        base_model=source_model_dualed,\n",
    "        num_mem_tokens=num_mem_tokens,\n",
    ")\n",
    "if d_mem is not None:\n",
    "    mem_cell_args['d_mem'] = d_mem\n",
    "\n",
    "\n",
    "cell = mem_cell_cls(**mem_cell_args, wrap_pos=False, layers_attr=\"model.layers\")\n",
    "armt_model_dualed = rec_wrap_cls(cell, segment_size=block_size, k2=-1)\n",
    "\n",
    "# model_cpt = os.path.join(model_path, \"/home/jovyan/.cache/huggingface/hub/models--irodkin--ARMT-llama3.2-1B/snapshots/746e74bba3edc4cb3eaa11e13df5d900495e2300/armt_llama3.2-1B_step19500.bin\")\n",
    "# cpt = torch.load(model_cpt, map_location='cuda')\n",
    "# armt_model.load_state_dict(cpt, strict=False)\n",
    "armt_model_dualed.eval().to('cuda')\n",
    "\n"
   ]
  },
  {
   "cell_type": "code",
   "execution_count": 73,
   "id": "d6dc86f5",
   "metadata": {},
   "outputs": [],
   "source": [
    "W_mq_group = [l.W_mq.weight.data.T.contiguous() for l in armt_model_dualed.memory_cell.model.model.layers]\n",
    "W_mk_group = [l.W_mk.weight.data.T.contiguous() for l in armt_model_dualed.memory_cell.model.model.layers]\n",
    "W_mv_group = [l.W_mv.weight.data.T.contiguous() for l in armt_model_dualed.memory_cell.model.model.layers]\n",
    "W_mb_group = [l.W_mb.weight.data.T.contiguous() for l in armt_model_dualed.memory_cell.model.model.layers]\n",
    "\n",
    "W_mem_group = [l.W_mem.data.contiguous() for l in armt_model_dualed.memory_cell.model.model.layers]\n",
    "z_group = [l.z.data.contiguous() for l in armt_model_dualed.memory_cell.model.model.layers]\n",
    "\n",
    "q_proj_group = [l.layer.self_attn.q_proj.weight.data.T.contiguous() for l in armt_model_dualed.memory_cell.model.model.layers]\n",
    "k_proj_group = [l.layer.self_attn.k_proj.weight.data.T.contiguous() for l in armt_model_dualed.memory_cell.model.model.layers]\n",
    "v_proj_group = [l.layer.self_attn.v_proj.weight.data.T.contiguous() for l in armt_model_dualed.memory_cell.model.model.layers]\n",
    "o_proj_group = [l.layer.self_attn.o_proj.weight.data.T.contiguous() for l in armt_model_dualed.memory_cell.model.model.layers]\n",
    "\n",
    "gate_proj_group = [l.layer.mlp.gate_proj.weight.data.T.contiguous() for l in armt_model_dualed.memory_cell.model.model.layers]\n",
    "up_proj_group = [l.layer.mlp.up_proj.weight.data.T.contiguous() for l in armt_model_dualed.memory_cell.model.model.layers]\n",
    "down_proj_group = [l.layer.mlp.down_proj.weight.data.T.contiguous() for l in armt_model_dualed.memory_cell.model.model.layers]\n",
    "\n",
    "input_layernorm_group = [l.layer.input_layernorm.weight.data for l in armt_model_dualed.memory_cell.model.model.layers]\n",
    "post_attention_layernorm_group = [l.layer.post_attention_layernorm.weight.data for l in armt_model_dualed.memory_cell.model.model.layers]\n",
    "\n",
    "input_layernorm_group = torch.stack(input_layernorm_group).contiguous()\n",
    "post_attention_layernorm_group = torch.stack(post_attention_layernorm_group).contiguous()\n",
    "\n",
    "\n"
   ]
  },
  {
   "cell_type": "code",
   "execution_count": 74,
   "id": "86c3e0a4",
   "metadata": {},
   "outputs": [],
   "source": [
    "grouped_model_layer_dualed = armt_model_dualed.memory_cell.model.model.layers[0]\n"
   ]
  },
  {
   "cell_type": "code",
   "execution_count": 75,
   "id": "04ff8db3",
   "metadata": {},
   "outputs": [],
   "source": [
    "\n",
    "\n",
    "grouped_model_layer_dualed.W_mq.forward = get_grouped_gemm_forward(W_mq_group)\n",
    "grouped_model_layer_dualed.W_mk.forward = get_grouped_gemm_forward(W_mk_group)\n",
    "grouped_model_layer_dualed.W_mv.forward = get_grouped_gemm_forward(W_mv_group)\n",
    "grouped_model_layer_dualed.W_mb.forward = get_naive_grouped_forward(W_mb_group)\n",
    "\n",
    "grouped_model_layer_dualed.W_mem.data = torch.concat(W_mem_group, dim=0)\n",
    "grouped_model_layer_dualed.z.data = torch.concat(z_group, dim=0)\n",
    "\n",
    "grouped_model_layer_dualed.layer.self_attn.q_proj.forward = get_grouped_gemm_forward(q_proj_group)\n",
    "grouped_model_layer_dualed.layer.self_attn.k_proj.forward = get_grouped_gemm_forward(k_proj_group)\n",
    "grouped_model_layer_dualed.layer.self_attn.v_proj.forward = get_grouped_gemm_forward(v_proj_group)\n",
    "grouped_model_layer_dualed.layer.self_attn.o_proj.forward = get_grouped_gemm_forward(o_proj_group)\n",
    "\n",
    "\n",
    "grouped_model_layer_dualed.layer.mlp.gate_proj.forward = get_grouped_gemm_forward(gate_proj_group)\n",
    "grouped_model_layer_dualed.layer.mlp.up_proj.forward = get_grouped_gemm_forward(up_proj_group)\n",
    "grouped_model_layer_dualed.layer.mlp.down_proj.forward = get_grouped_gemm_forward(down_proj_group)\n",
    "\n",
    "\n",
    "grouped_model_layer_dualed.layer.input_layernorm.weight.data = input_layernorm_group[:, None, :]\n",
    "grouped_model_layer_dualed.layer.post_attention_layernorm.weight.data = post_attention_layernorm_group[:, None, :]\n",
    "\n",
    "armt_grouped_model_layers = armt_model_dualed.memory_cell.model.model.layers\n",
    "armt_model_dualed.out_norm = armt_model_dualed.memory_cell.model.model.norm\n",
    "armt_model_dualed.memory_cell.model.model.norm = torch.nn.Identity()\n",
    "\n",
    "armt_model_dualed.memory_cell.model.model.layers = torch.nn.ModuleList(\n",
    "    [grouped_model_layer_dualed]\n",
    ")\n",
    "\n",
    "\n"
   ]
  },
  {
   "cell_type": "code",
   "execution_count": 76,
   "id": "301ef63c",
   "metadata": {},
   "outputs": [],
   "source": [
    "batcher1 = GroupedBatcher(\n",
    "    armt_model=armt_grouped_model,\n",
    "    n_layers=16, seg_size=segment_size+num_mem_tokens, hid_dim=2048, pos_embed_dim=2048\n",
    ")\n",
    "ge1 = ArmtGroupedExecutorAsyncPipelining(armt_grouped_model, grouped_model_layer, batcher1)\n",
    "\n",
    "batcher2 = GroupedBatcher(\n",
    "    armt_model=armt_model_dualed,\n",
    "    n_layers=16, seg_size=segment_size+num_mem_tokens, hid_dim=2048, pos_embed_dim=2048\n",
    ")\n",
    "ge2 = ArmtGroupedExecutorAsyncPipelining(armt_model_dualed, grouped_model_layer_dualed, batcher2)\n"
   ]
  },
  {
   "cell_type": "code",
   "execution_count": 77,
   "id": "20509414",
   "metadata": {},
   "outputs": [],
   "source": [
    "# seq_len = 32*1024*4//1\n",
    "seq_len = 512*2\n",
    "\n",
    "input_ids=torch.randint(0, 10000, (1, seq_len), dtype=torch.long, device=\"cuda\")\n",
    "# input_ids = input_ids[:, :seq_len]\n",
    "\n",
    "input_ids1 = input_ids.clone()"
   ]
  },
  {
   "cell_type": "code",
   "execution_count": 78,
   "id": "ac632d45",
   "metadata": {},
   "outputs": [],
   "source": [
    "import time"
   ]
  },
  {
   "cell_type": "code",
   "execution_count": 79,
   "id": "30e31dba",
   "metadata": {},
   "outputs": [],
   "source": [
    "default_stream = torch.cuda.current_stream()"
   ]
  },
  {
   "cell_type": "code",
   "execution_count": 91,
   "id": "9bddfe5a",
   "metadata": {},
   "outputs": [
    {
     "name": "stdout",
     "output_type": "stream",
     "text": [
      "Time taken: 0.32744598388671875 seconds\n"
     ]
    }
   ],
   "source": [
    "# %%time\n",
    "start = time.time()\n",
    "\n",
    "armt_model.eval()\n",
    "with torch.no_grad():\n",
    "    o0 = await ge1.forward(input_ids, default_stream)\n",
    "    \n",
    "torch.cuda.synchronize()\n",
    "end = time.time()\n",
    "print(f\"Time taken: {end - start} seconds\")\n"
   ]
  },
  {
   "cell_type": "code",
   "execution_count": 92,
   "id": "224089aa",
   "metadata": {},
   "outputs": [
    {
     "name": "stdout",
     "output_type": "stream",
     "text": [
      "Time taken: 0.6473305225372314 seconds\n"
     ]
    }
   ],
   "source": [
    "start = time.time()\n",
    "\n",
    "armt_model.eval()\n",
    "with torch.no_grad():\n",
    "    o0 = await ge1.forward(input_ids, default_stream)\n",
    "    o1 = await ge1.forward(input_ids, shift_iteration=True, stream=default_stream)\n",
    "    \n",
    "torch.cuda.synchronize()\n",
    "end = time.time()\n",
    "print(f\"Time taken: {end - start} seconds\")"
   ]
  },
  {
   "cell_type": "code",
   "execution_count": 93,
   "id": "a018c1a6",
   "metadata": {},
   "outputs": [
    {
     "name": "stdout",
     "output_type": "stream",
     "text": [
      "Time taken: 0.6492898464202881 seconds\n"
     ]
    }
   ],
   "source": [
    "start = time.time()\n",
    "\n",
    "armt_model.eval()\n",
    "with torch.no_grad():\n",
    "    t0 = ge1.forward(input_ids, default_stream)\n",
    "    t1 = ge2.forward(input_ids1, shift_iteration=True, stream=default_stream)\n",
    "    \n",
    "    o = await asyncio.gather(t0, t1)\n",
    "    \n",
    "torch.cuda.synchronize()\n",
    "end = time.time()\n",
    "print(f\"Time taken: {end - start} seconds\")"
   ]
  },
  {
   "cell_type": "code",
   "execution_count": 94,
   "id": "65e85df5",
   "metadata": {},
   "outputs": [],
   "source": [
    "s1 = torch.cuda.Stream()\n",
    "s2 = torch.cuda.Stream()"
   ]
  },
  {
   "cell_type": "code",
   "execution_count": 95,
   "id": "6e7d60ce",
   "metadata": {},
   "outputs": [
    {
     "data": {
      "text/plain": [
       "94054799614720"
      ]
     },
     "execution_count": 95,
     "metadata": {},
     "output_type": "execute_result"
    }
   ],
   "source": [
    "s1.cuda_stream"
   ]
  },
  {
   "cell_type": "code",
   "execution_count": 99,
   "id": "0cf73fda",
   "metadata": {},
   "outputs": [
    {
     "name": "stdout",
     "output_type": "stream",
     "text": [
      "Time taken: 0.6505050659179688 seconds\n"
     ]
    }
   ],
   "source": [
    "start = time.time()\n",
    "\n",
    "with torch.no_grad():\n",
    "    with torch.cuda.stream(s1):\n",
    "        t0 = ge1.forward(input_ids, s1)\n",
    "    with torch.cuda.stream(s2):\n",
    "        t1 = ge2.forward(input_ids1, shift_iteration=True, stream=s2)\n",
    "    \n",
    "    o = await asyncio.gather(t0, t1)\n",
    "    \n",
    "torch.cuda.synchronize()\n",
    "end = time.time()\n",
    "print(f\"Time taken: {end - start} seconds\")"
   ]
  },
  {
   "cell_type": "code",
   "execution_count": null,
   "id": "e6da5bca",
   "metadata": {},
   "outputs": [],
   "source": []
  },
  {
   "cell_type": "code",
   "execution_count": 100,
   "id": "e5427560",
   "metadata": {},
   "outputs": [],
   "source": [
    "from torch.profiler import profile, record_function, ProfilerActivity\n",
    "\n",
    "with profile(activities=[ProfilerActivity.CPU, ProfilerActivity.CUDA],\n",
    "        profile_memory=True, record_shapes=True) as prof:\n",
    "                with torch.no_grad():\n",
    "                        with torch.cuda.stream(s1):\n",
    "                                t0 = ge1.forward(input_ids, s1)\n",
    "                        with torch.cuda.stream(s2):\n",
    "                                t1 = ge2.forward(input_ids1, shift_iteration=True, stream=s2)\n",
    "                        o = await asyncio.gather(t0, t1)\n",
    "\n",
    "\n"
   ]
  },
  {
   "cell_type": "code",
   "execution_count": 101,
   "id": "0f522807",
   "metadata": {},
   "outputs": [
    {
     "name": "stdout",
     "output_type": "stream",
     "text": [
      "-------------------------------------------------------  ------------  ------------  ------------  ------------  ------------  ------------  ------------  ------------  ------------  ------------  ------------  ------------  ------------  ------------  --------------------------------------------------------------------------------  \n",
      "                                                   Name    Self CPU %      Self CPU   CPU total %     CPU total  CPU time avg     Self CUDA   Self CUDA %    CUDA total  CUDA time avg       CPU Mem  Self CPU Mem      CUDA Mem  Self CUDA Mem    # of Calls                                                                      Input Shapes  \n",
      "-------------------------------------------------------  ------------  ------------  ------------  ------------  ------------  ------------  ------------  ------------  ------------  ------------  ------------  ------------  ------------  ------------  --------------------------------------------------------------------------------  \n",
      "_ZN7cutlass6KernelINS_4gemm6kernel11GemmGroupedINS1_...         0.00%       0.000us         0.00%       0.000us       0.000us     235.096ms        60.59%     235.096ms     628.600us           0 b           0 b           0 b           0 b           374                                                                                []  \n",
      "                                            aten::copy_         0.24%       1.620ms         3.16%      21.481ms     105.298us      16.734ms         4.31%      16.734ms      82.030us           0 b           0 b           0 b           0 b           204                                            [[16, 544, 2048], [16, 544, 2048], []]  \n",
      "void at::native::elementwise_kernel<128, 4, at::nati...         0.00%       0.000us         0.00%       0.000us       0.000us      14.556ms         3.75%      14.556ms      52.741us           0 b           0 b           0 b           0 b           276                                                                                []  \n",
      "                                               aten::to         0.04%     297.131us         2.74%      18.642ms      91.382us       0.000us         0.00%      13.617ms      66.751us           0 b           0 b       6.77 Gb           0 b           204                                                 [[16, 544, 2048], [], [], [], []]  \n",
      "                                         aten::_to_copy         0.13%     858.403us         2.70%      18.345ms     134.889us       0.000us         0.00%      13.617ms     100.126us           0 b           0 b       6.77 Gb           0 b           136                                         [[16, 544, 2048], [], [], [], [], [], []]  \n",
      "                     aten::scaled_dot_product_attention         0.07%     471.263us         2.31%      15.695ms     461.613us       0.000us         0.00%      12.127ms     356.683us           0 b        -544 b       1.13 Gb     -36.12 Mb            34     [[16, 32, 544, 64], [16, 32, 544, 64], [16, 32, 544, 64], [], [], [], [], []]  \n",
      "              aten::_scaled_dot_product_flash_attention         0.06%     413.740us         2.24%      15.224ms     447.752us       0.000us         0.00%      12.127ms     356.683us         544 b           0 b       1.16 Gb           0 b            34         [[16, 32, 544, 64], [16, 32, 544, 64], [16, 32, 544, 64], [], [], [], []]  \n",
      "                         aten::_flash_attention_forward         0.12%     808.740us         2.12%      14.389ms     423.196us      12.127ms         3.13%      12.127ms     356.683us         544 b           0 b       1.16 Gb           0 b            34  [[16, 544, 32, 64], [16, 544, 32, 64], [16, 544, 32, 64], [], [], [], [], [], []  \n",
      "void pytorch_flash::flash_fwd_kernel<pytorch_flash::...         0.00%       0.000us         0.00%       0.000us       0.000us      12.127ms         3.13%      12.127ms     356.683us           0 b           0 b           0 b           0 b            34                                                                                []  \n",
      "void at::native::vectorized_elementwise_kernel<4, at...         0.00%       0.000us         0.00%       0.000us       0.000us      10.852ms         2.80%      10.852ms      15.819us           0 b           0 b           0 b           0 b           686                                                                                []  \n",
      "-------------------------------------------------------  ------------  ------------  ------------  ------------  ------------  ------------  ------------  ------------  ------------  ------------  ------------  ------------  ------------  ------------  --------------------------------------------------------------------------------  \n",
      "Self CPU time total: 679.331ms\n",
      "Self CUDA time total: 387.986ms\n",
      "\n"
     ]
    }
   ],
   "source": [
    "print(prof.key_averages(group_by_input_shape=True).table(sort_by=\"cuda_time_total\", row_limit=10))"
   ]
  },
  {
   "cell_type": "code",
   "execution_count": 104,
   "id": "ef557ea9",
   "metadata": {},
   "outputs": [
    {
     "ename": "RuntimeError",
     "evalue": "Trace is already saved.",
     "output_type": "error",
     "traceback": [
      "\u001b[0;31m---------------------------------------------------------------------------\u001b[0m",
      "\u001b[0;31mRuntimeError\u001b[0m                              Traceback (most recent call last)",
      "Cell \u001b[0;32mIn[104], line 1\u001b[0m\n\u001b[0;32m----> 1\u001b[0m \u001b[43mprof\u001b[49m\u001b[38;5;241;43m.\u001b[39;49m\u001b[43mexport_chrome_trace\u001b[49m\u001b[43m(\u001b[49m\u001b[38;5;124;43m\"\u001b[39;49m\u001b[38;5;124;43m/home/jovyan/sivtsov/armt/armt_from_checkpoint/llama1b_armt_diag_optimized_seg512_mem128_dualpipelining_v3.json\u001b[39;49m\u001b[38;5;124;43m\"\u001b[39;49m\u001b[43m)\u001b[49m\n",
      "File \u001b[0;32m~/.mlspace/envs/svtdanny/lib/python3.11/site-packages/torch/profiler/profiler.py:230\u001b[0m, in \u001b[0;36m_KinetoProfile.export_chrome_trace\u001b[0;34m(self, path)\u001b[0m\n\u001b[1;32m    228\u001b[0m     \u001b[38;5;28;01mreturn\u001b[39;00m retvalue\n\u001b[1;32m    229\u001b[0m \u001b[38;5;28;01melse\u001b[39;00m:\n\u001b[0;32m--> 230\u001b[0m     \u001b[38;5;28;01mreturn\u001b[39;00m \u001b[38;5;28;43mself\u001b[39;49m\u001b[38;5;241;43m.\u001b[39;49m\u001b[43mprofiler\u001b[49m\u001b[38;5;241;43m.\u001b[39;49m\u001b[43mexport_chrome_trace\u001b[49m\u001b[43m(\u001b[49m\u001b[43mpath\u001b[49m\u001b[43m)\u001b[49m\n",
      "File \u001b[0;32m~/.mlspace/envs/svtdanny/lib/python3.11/site-packages/torch/autograd/profiler.py:459\u001b[0m, in \u001b[0;36mprofile.export_chrome_trace\u001b[0;34m(self, path)\u001b[0m\n\u001b[1;32m    454\u001b[0m \u001b[38;5;250m\u001b[39m\u001b[38;5;124;03m\"\"\"\u001b[39;00m\n\u001b[1;32m    455\u001b[0m \u001b[38;5;124;03mExports the collected trace in Chrome JSON format. If kineto is enabled, only\u001b[39;00m\n\u001b[1;32m    456\u001b[0m \u001b[38;5;124;03mlast cycle in schedule is exported.\u001b[39;00m\n\u001b[1;32m    457\u001b[0m \u001b[38;5;124;03m\"\"\"\u001b[39;00m\n\u001b[1;32m    458\u001b[0m \u001b[38;5;28;01mif\u001b[39;00m kineto_available():\n\u001b[0;32m--> 459\u001b[0m     \u001b[38;5;28;43mself\u001b[39;49m\u001b[38;5;241;43m.\u001b[39;49m\u001b[43mkineto_results\u001b[49m\u001b[38;5;241;43m.\u001b[39;49m\u001b[43msave\u001b[49m\u001b[43m(\u001b[49m\u001b[43mpath\u001b[49m\u001b[43m)\u001b[49m  \u001b[38;5;66;03m# type: ignore[union-attr]\u001b[39;00m\n\u001b[1;32m    460\u001b[0m \u001b[38;5;28;01melse\u001b[39;00m:\n\u001b[1;32m    461\u001b[0m     \u001b[38;5;28mself\u001b[39m\u001b[38;5;241m.\u001b[39m_ensure_function_events()\n",
      "\u001b[0;31mRuntimeError\u001b[0m: Trace is already saved."
     ]
    }
   ],
   "source": [
    "prof.export_chrome_trace(\"/home/jovyan/sivtsov/armt/armt_from_checkpoint/llama1b_armt_diag_optimized_seg512_mem128_dualpipelining_v3.json\")"
   ]
  },
  {
   "cell_type": "markdown",
   "id": "b0ded22e",
   "metadata": {},
   "source": [
    "## Plotting results"
   ]
  },
  {
   "cell_type": "code",
   "execution_count": null,
   "id": "9648ef88",
   "metadata": {},
   "outputs": [],
   "source": []
  },
  {
   "cell_type": "code",
   "execution_count": 106,
   "id": "56025568",
   "metadata": {},
   "outputs": [],
   "source": [
    "# Parse the table data\n",
    "data = {\n",
    "    'seq_size': [32, 128, 256, 1024, 2048, 4096, 8192, 16384, 32768, 65536, 131072],\n",
    "    # 'naive_seg_32_mem_16': [0.0489, 0.212, 0.424, 1.68, 3.4, 6.81, 13.6, 27, 55.3, 111, 223],\n",
    "    # 'diagonal_seg_32_mem_16': [0.183, 0.216, 0.266, 0.536, 0.9, 1.64, 3.16, 6.13, 12.1, 24, 48],\n",
    "    'speedup': [0.2672131148, 0.9814814815, 1.593984962, 3.134328358, 3.777777778, 4.152439024, 4.303797468, 4.4045677, 4.570247934, 4.625, 4.645833333],\n",
    "    'torch_no_armt': [None, None, None, None, None, 0.024, 0.026, 0.376, 0.926, 2.46, 8.16]\n",
    "}\n",
    "\n",
    "# Add new table data\n",
    "segment_size_256_data = {\n",
    "    'naive_seg_256_mem_64': [None, None, None, None, None, 0.869, 1.77, 3.52, 6.98, 14.1, 28],\n",
    "    'diagonal_seg_256_mem_64': [None, None, None, None, None, 0.474, 0.717, 1.24, 2.23, 4.22, 8.19]\n",
    "}\n",
    "\n",
    "# Add segment size 512 data\n",
    "segment_size_512_data = {\n",
    "    'naive_seg_512_mem_128': [None, None, None, None, None, 0.467, 0.962, 1.88, 3.8, 7.71, 15.2],\n",
    "    'diagonal_seg_512_mem_128': [None, None, None, None, None, 0.462, 0.62, 0.951, 1.58, 2.88, 5.45],\n",
    "    'diagonal_optimized_seg_512_mem_128': [None, None, None, None, None, 0.436, 0.567, 0.861, 1.46, 2.62, 4.98]\n",
    "}\n",
    "\n",
    "segment_size_1024_data = {\n",
    "    'naive_seg_1024_mem_128': [None, None, None, None, None, 0.258, 0.519, 1.12, 2.15, 4.22, 8.52],\n",
    "    'optimized_diagonal_seg_1024_mem_128': [None, None, None, None, None, 0.492, 0.595, 0.806, 1.22, 2.06, 3.72]\n",
    "}\n",
    "\n",
    "segment_size_2048_data = {\n",
    "    'naive_seg_2048_mem_128': [None, None, None, None, None, 0.165, 0.329, 0.681, 1.33, 2.67, 5.33],\n",
    "    'optimized_diagonal_seg_2048_mem_128': [None, None, None, None, None, 0.728, 0.811, 0.989, 1.33, 2.01, 3.37]\n",
    "}\n",
    "\n",
    "segment_size_4096_data = {  \n",
    "    'naive_seg_4096_mem_128': [None, None, None, None, None, 0.108, 0.227, 0.475, 0.928, 1.84, 3.73],\n",
    "    'optimized_diagonal_seg_4096_mem_128': [None, None, None, None, None, 1.25, 1.32, 1.48, 1.8, 2.42, 3.68]\n",
    "}\n",
    "\n",
    "data.update(**segment_size_256_data)\n",
    "data.update(**segment_size_512_data)\n",
    "data.update(**segment_size_1024_data)\n",
    "data.update(**segment_size_2048_data)\n",
    "data.update(**segment_size_4096_data)\n"
   ]
  },
  {
   "cell_type": "code",
   "execution_count": 107,
   "id": "d50d09cc",
   "metadata": {},
   "outputs": [
    {
     "data": {
      "image/png": "[encoded data removed]",
      "text/plain": [
       "<Figure size 1200x800 with 1 Axes>"
      ]
     },
     "metadata": {},
     "output_type": "display_data"
    }
   ],
   "source": [
    "# Visualize the data\n",
    "import matplotlib.pyplot as plt\n",
    "import numpy as np\n",
    "\n",
    "plt.figure(figsize=(12, 8))\n",
    "\n",
    "# Plot all data columns except seq_size\n",
    "for column in data.keys():\n",
    "    if column != 'seq_size' and column != 'speedup':\n",
    "        # Skip plotting columns with all None values\n",
    "        if all(v is None for v in data[column]):\n",
    "            continue\n",
    "        plt.plot(data['seq_size'], data[column], marker='o', linewidth=2, label=column)\n",
    "\n",
    "plt.xscale('log')  # Log scale for sequence size\n",
    "plt.yscale('log')  # Log scale for time values\n",
    "\n",
    "plt.xlabel('Sequence Size')\n",
    "plt.ylabel('Time (s)')\n",
    "plt.title('Performance Comparison Across Different Sequence Sizes')\n",
    "plt.grid(True, which=\"both\", ls=\"-\", alpha=0.2)\n",
    "plt.legend(loc='best')\n",
    "plt.tight_layout()\n",
    "\n",
    "plt.savefig('/home/jovyan/sivtsov/armt/graphs/llama1b_perf_comparison.pdf', bbox_inches='tight')\n",
    "plt.show()"
   ]
  },
  {
   "cell_type": "code",
   "execution_count": 111,
   "id": "15da4f67",
   "metadata": {},
   "outputs": [
    {
     "data": {
      "image/png": "[encoded data removed]",
      "text/plain": [
       "<Figure size 1200x800 with 1 Axes>"
      ]
     },
     "metadata": {},
     "output_type": "display_data"
    }
   ],
   "source": [
    "# Visualize the data\n",
    "import matplotlib.pyplot as plt\n",
    "import numpy as np\n",
    "\n",
    "plt.figure(figsize=(12, 8))\n",
    "\n",
    "# Define a colorful palette with more colors\n",
    "colors = ['#1f77b4', '#ff7f0e', '#2ca02c', '#d62728', '#9467bd', \n",
    "          '#8c564b', '#e377c2', '#7f7f7f', '#bcbd22', '#17becf',\n",
    "          '#aec7e8', '#ffbb78', '#98df8a', '#ff9896', '#c5b0d5',\n",
    "          '#c49c94', '#f7b6d2', '#c7c7c7', '#dbdb8d', '#9edae5',\n",
    "          '#393b79', '#637939', '#8c6d31', '#843c39', '#7b4173',\n",
    "          '#5254a3', '#bd9e39', '#ad494a', '#d6616b', '#7a0177']\n",
    "\n",
    "# Filter data for sequence lengths >= 4096\n",
    "min_seq_len = 4096\n",
    "seq_indices = [i for i, size in enumerate(data['seq_size']) if size >= min_seq_len]\n",
    "filtered_seq_size = [data['seq_size'][i] for i in seq_indices]\n",
    "\n",
    "# Plot all data columns except seq_size\n",
    "for i, column in enumerate(data.keys()):\n",
    "    if column != 'seq_size' and column != 'speedup':\n",
    "        # Skip plotting columns with all None values\n",
    "        if all(v is None for v in data[column]):\n",
    "            continue\n",
    "        filtered_values = [data[column][i] for i in seq_indices]\n",
    "        plt.plot(filtered_seq_size, filtered_values, marker='o', linewidth=2, \n",
    "                 label=column, color=colors[i % len(colors)])\n",
    "\n",
    "plt.xscale('log')  # Log scale for sequence size\n",
    "plt.yscale('log')  # Log scale for time values\n",
    "\n",
    "plt.xlabel('Sequence Size')\n",
    "plt.ylabel('Time (s)')\n",
    "plt.title('Performance Comparison for Sequence Sizes ≥ 4096')\n",
    "plt.grid(True, which=\"both\", ls=\"-\", alpha=0.2)\n",
    "plt.legend(loc='best')\n",
    "plt.tight_layout()\n",
    "plt.savefig('/home/jovyan/sivtsov/armt/graphs/llama1b_perf_comparison_4096plus.pdf', bbox_inches='tight')\n",
    "plt.show()\n"
   ]
  },
  {
   "cell_type": "code",
   "execution_count": null,
   "id": "2773ea4a",
   "metadata": {},
   "outputs": [],
   "source": []
  },
  {
   "cell_type": "code",
   "execution_count": null,
   "id": "49630f31",
   "metadata": {},
   "outputs": [],
   "source": []
  },
  {
   "cell_type": "code",
   "execution_count": null,
   "id": "f806f769",
   "metadata": {},
   "outputs": [],
   "source": []
  },
  {
   "cell_type": "code",
   "execution_count": null,
   "id": "85cd445d",
   "metadata": {},
   "outputs": [],
   "source": [
    "\n",
    "# Create DataFrame\n",
    "df = pd.DataFrame(data)\n",
    "\n",
    "# Display the table\n",
    "print(\"Parsed table:\")\n",
    "print(df)\n",
    "\n",
    "# Plot the results\n",
    "plt.figure(figsize=(12, 8))\n",
    "plt.loglog(df['seq_size'], df['torch_naive'], 'o-', label='Torch Naive')\n",
    "plt.loglog(df['seq_size'], df['diagonal'], 'o-', label='Diagonal')\n",
    "plt.loglog(df['seq_size'][5:], df['torch_no_armt'][5:], 'o-', label='Torch No ARMT')\n",
    "plt.xlabel('Sequence Size')\n",
    "plt.ylabel('Time (s)')\n",
    "plt.title('Performance Comparison')\n",
    "plt.grid(True, which=\"both\", ls=\"--\")\n",
    "plt.legend()\n",
    "plt.show()\n",
    "\n",
    "# Plot speedup\n",
    "plt.figure(figsize=(12, 6))\n",
    "plt.semilogx(df['seq_size'], df['speedup'], 'o-', label='Speedup (Torch Naive / Diagonal)')\n",
    "plt.xlabel('Sequence Size')\n",
    "plt.ylabel('Speedup Factor')\n",
    "plt.title('Speedup of Diagonal Implementation vs Torch Naive')\n",
    "plt.grid(True, which=\"both\", ls=\"--\")\n",
    "plt.legend()\n",
    "plt.show()"
   ]
  },
  {
   "cell_type": "markdown",
   "id": "4d3d158b",
   "metadata": {},
   "source": []
  }
 ],
 "metadata": {
  "kernelspec": {
   "display_name": "svtdanny",
   "language": "python",
   "name": "python3"
  },
  "language_info": {
   "codemirror_mode": {
    "name": "ipython",
    "version": 3
   },
   "file_extension": ".py",
   "mimetype": "text/x-python",
   "name": "python",
   "nbconvert_exporter": "python",
   "pygments_lexer": "ipython3",
   "version": "3.11.9"
  }
 },
 "nbformat": 4,
 "nbformat_minor": 5
}
